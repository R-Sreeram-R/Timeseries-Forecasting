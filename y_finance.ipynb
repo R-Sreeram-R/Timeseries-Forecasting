{
 "cells": [
  {
   "cell_type": "code",
   "execution_count": 44,
   "metadata": {},
   "outputs": [],
   "source": [
    "import yfinance as yf\n",
    "import pandas as pd"
   ]
  },
  {
   "cell_type": "code",
   "execution_count": 45,
   "metadata": {},
   "outputs": [],
   "source": [
    "# # ticker symbols\n",
    "# ticker_symbols = [\n",
    "#     'EUR=X'\n",
    "# ]\n",
    "\n",
    "# #\n",
    "\n",
    "\n",
    "\n",
    "\n",
    "\n",
    "\n",
    "# historical_data = yf.download(ticker_symbols, start=\"2013-01-01\", end=\"2023-11-10\")\n",
    "\n",
    "\n"
   ]
  },
  {
   "cell_type": "code",
   "execution_count": 46,
   "metadata": {},
   "outputs": [],
   "source": [
    "# def_list = ['IGRA', 'BOVESPA', 'BKMI', 'GSPTSE', 'AXJO', 'FTMC', 'FTSE', 'SUKU', 'SSEC',\n",
    "#              'NI225', 'JALSH', 'COLCAP', 'TASI', 'GSPC', 'TWII', 'IPSA', 'KOSPI', 'FCHI', 'IXIC']"
   ]
  },
  {
   "cell_type": "code",
   "execution_count": 47,
   "metadata": {},
   "outputs": [],
   "source": [
    "# for x in range(len(tickers)):\n",
    "#     if tickers[x] in def_list:\n",
    "#         tickers[x] = '^' + tickers[x]"
   ]
  },
  {
   "cell_type": "code",
   "execution_count": 48,
   "metadata": {},
   "outputs": [],
   "source": [
    "# tickers"
   ]
  },
  {
   "cell_type": "code",
   "execution_count": null,
   "metadata": {},
   "outputs": [],
   "source": []
  },
  {
   "cell_type": "code",
   "execution_count": 49,
   "metadata": {},
   "outputs": [],
   "source": [
    "#####################################################"
   ]
  },
  {
   "cell_type": "code",
   "execution_count": 50,
   "metadata": {},
   "outputs": [],
   "source": [
    "currency_codes = [\n",
    "    'USD', 'EUR', 'JPY', 'GBP', 'AUD', 'CAD', 'CHF', 'CNY', 'SEK', 'NZD',\n",
    "    'NOK',  # Norwegian Krone (Norway)\n",
    "    'DKK',  # Danish Krone (Denmark)\n",
    "    'PLN',  # Polish Zloty (Poland)\n",
    "    'HUF',  # Hungarian Forint (Hungary)\n",
    "    'CZK',  # Czech Koruna (Czech Republic)\n",
    "    'RON',  # Romanian Leu (Romania)\n",
    "    'TRY',  # Turkish Lira (Turkey)\n",
    "    'AED',  # United Arab Emirates Dirham (UAE)\n",
    "    'SAR',  # Saudi Riyal (Saudi Arabia)\n",
    "    'ZAR',  # South African Rand (South Africa)\n",
    "    'NGN',  # Nigerian Naira (Nigeria)\n",
    "    'KES',  # Kenyan Shilling (Kenya)\n",
    "    'EGP',  # Egyptian Pound (Egypt)\n",
    "    'MXN',  # Mexican Peso (Mexico)\n",
    "    'BRL',  # Brazilian Real (Brazil)\n",
    "    'ARS',  # Argentine Peso (Argentina)\n",
    "    'CLP'   # Chilean Peso (Chile)\n",
    "]\n",
    "\n"
   ]
  },
  {
   "cell_type": "code",
   "execution_count": 51,
   "metadata": {},
   "outputs": [
    {
     "data": {
      "text/plain": [
       "['EUR=X',\n",
       " 'JPY=X',\n",
       " 'GBP=X',\n",
       " 'AUD=X',\n",
       " 'CAD=X',\n",
       " 'CHF=X',\n",
       " 'CNY=X',\n",
       " 'SEK=X',\n",
       " 'NZD=X',\n",
       " 'NOK=X',\n",
       " 'DKK=X',\n",
       " 'PLN=X',\n",
       " 'HUF=X',\n",
       " 'CZK=X',\n",
       " 'RON=X',\n",
       " 'TRY=X',\n",
       " 'AED=X',\n",
       " 'SAR=X',\n",
       " 'ZAR=X',\n",
       " 'NGN=X',\n",
       " 'KES=X',\n",
       " 'EGP=X',\n",
       " 'MXN=X',\n",
       " 'BRL=X',\n",
       " 'ARS=X',\n",
       " 'CLP=X']"
      ]
     },
     "execution_count": 51,
     "metadata": {},
     "output_type": "execute_result"
    }
   ],
   "source": [
    "exch = []\n",
    "for x in currency_codes:\n",
    "    if not x == \"USD\":\n",
    "        var = x + '=X'\n",
    "        exch.append(var)\n",
    "\n",
    "exch"
   ]
  },
  {
   "cell_type": "code",
   "execution_count": 52,
   "metadata": {},
   "outputs": [
    {
     "name": "stdout",
     "output_type": "stream",
     "text": [
      "[*********************100%%**********************]  26 of 26 completed\n"
     ]
    }
   ],
   "source": [
    "historical_data = yf.download(exch, start=\"2013-01-01\", end=\"2023-11-10\")"
   ]
  },
  {
   "cell_type": "code",
   "execution_count": 53,
   "metadata": {},
   "outputs": [
    {
     "data": {
      "text/html": [
       "<div>\n",
       "<style scoped>\n",
       "    .dataframe tbody tr th:only-of-type {\n",
       "        vertical-align: middle;\n",
       "    }\n",
       "\n",
       "    .dataframe tbody tr th {\n",
       "        vertical-align: top;\n",
       "    }\n",
       "\n",
       "    .dataframe thead tr th {\n",
       "        text-align: left;\n",
       "    }\n",
       "\n",
       "    .dataframe thead tr:last-of-type th {\n",
       "        text-align: right;\n",
       "    }\n",
       "</style>\n",
       "<table border=\"1\" class=\"dataframe\">\n",
       "  <thead>\n",
       "    <tr>\n",
       "      <th></th>\n",
       "      <th colspan=\"10\" halign=\"left\">Adj Close</th>\n",
       "      <th>...</th>\n",
       "      <th colspan=\"10\" halign=\"left\">Volume</th>\n",
       "    </tr>\n",
       "    <tr>\n",
       "      <th></th>\n",
       "      <th>AED=X</th>\n",
       "      <th>ARS=X</th>\n",
       "      <th>AUD=X</th>\n",
       "      <th>BRL=X</th>\n",
       "      <th>CAD=X</th>\n",
       "      <th>CHF=X</th>\n",
       "      <th>CLP=X</th>\n",
       "      <th>CNY=X</th>\n",
       "      <th>CZK=X</th>\n",
       "      <th>DKK=X</th>\n",
       "      <th>...</th>\n",
       "      <th>MXN=X</th>\n",
       "      <th>NGN=X</th>\n",
       "      <th>NOK=X</th>\n",
       "      <th>NZD=X</th>\n",
       "      <th>PLN=X</th>\n",
       "      <th>RON=X</th>\n",
       "      <th>SAR=X</th>\n",
       "      <th>SEK=X</th>\n",
       "      <th>TRY=X</th>\n",
       "      <th>ZAR=X</th>\n",
       "    </tr>\n",
       "    <tr>\n",
       "      <th>Date</th>\n",
       "      <th></th>\n",
       "      <th></th>\n",
       "      <th></th>\n",
       "      <th></th>\n",
       "      <th></th>\n",
       "      <th></th>\n",
       "      <th></th>\n",
       "      <th></th>\n",
       "      <th></th>\n",
       "      <th></th>\n",
       "      <th></th>\n",
       "      <th></th>\n",
       "      <th></th>\n",
       "      <th></th>\n",
       "      <th></th>\n",
       "      <th></th>\n",
       "      <th></th>\n",
       "      <th></th>\n",
       "      <th></th>\n",
       "      <th></th>\n",
       "      <th></th>\n",
       "    </tr>\n",
       "  </thead>\n",
       "  <tbody>\n",
       "    <tr>\n",
       "      <th>2013-01-01</th>\n",
       "      <td>3.67210</td>\n",
       "      <td>4.912200</td>\n",
       "      <td>0.961630</td>\n",
       "      <td>2.0507</td>\n",
       "      <td>0.99200</td>\n",
       "      <td>0.91460</td>\n",
       "      <td>479.200012</td>\n",
       "      <td>6.2306</td>\n",
       "      <td>18.971001</td>\n",
       "      <td>5.65450</td>\n",
       "      <td>...</td>\n",
       "      <td>0</td>\n",
       "      <td>0.0</td>\n",
       "      <td>0.0</td>\n",
       "      <td>0.0</td>\n",
       "      <td>0.0</td>\n",
       "      <td>0.0</td>\n",
       "      <td>0.0</td>\n",
       "      <td>0.0</td>\n",
       "      <td>0.0</td>\n",
       "      <td>0.0</td>\n",
       "    </tr>\n",
       "    <tr>\n",
       "      <th>2013-01-02</th>\n",
       "      <td>3.67200</td>\n",
       "      <td>4.912900</td>\n",
       "      <td>0.962310</td>\n",
       "      <td>2.0456</td>\n",
       "      <td>0.99390</td>\n",
       "      <td>0.91550</td>\n",
       "      <td>479.200012</td>\n",
       "      <td>6.2376</td>\n",
       "      <td>18.983000</td>\n",
       "      <td>5.65220</td>\n",
       "      <td>...</td>\n",
       "      <td>0</td>\n",
       "      <td>0.0</td>\n",
       "      <td>0.0</td>\n",
       "      <td>0.0</td>\n",
       "      <td>0.0</td>\n",
       "      <td>0.0</td>\n",
       "      <td>0.0</td>\n",
       "      <td>0.0</td>\n",
       "      <td>0.0</td>\n",
       "      <td>0.0</td>\n",
       "    </tr>\n",
       "    <tr>\n",
       "      <th>2013-01-03</th>\n",
       "      <td>3.67200</td>\n",
       "      <td>4.920800</td>\n",
       "      <td>0.953020</td>\n",
       "      <td>2.0456</td>\n",
       "      <td>0.98560</td>\n",
       "      <td>0.91778</td>\n",
       "      <td>474.149994</td>\n",
       "      <td>6.2332</td>\n",
       "      <td>19.091600</td>\n",
       "      <td>5.65863</td>\n",
       "      <td>...</td>\n",
       "      <td>0</td>\n",
       "      <td>0.0</td>\n",
       "      <td>0.0</td>\n",
       "      <td>0.0</td>\n",
       "      <td>0.0</td>\n",
       "      <td>0.0</td>\n",
       "      <td>0.0</td>\n",
       "      <td>0.0</td>\n",
       "      <td>0.0</td>\n",
       "      <td>0.0</td>\n",
       "    </tr>\n",
       "    <tr>\n",
       "      <th>2013-01-04</th>\n",
       "      <td>3.67200</td>\n",
       "      <td>4.920000</td>\n",
       "      <td>0.956660</td>\n",
       "      <td>2.0487</td>\n",
       "      <td>0.98840</td>\n",
       "      <td>0.92800</td>\n",
       "      <td>472.549988</td>\n",
       "      <td>6.2325</td>\n",
       "      <td>19.368999</td>\n",
       "      <td>5.72710</td>\n",
       "      <td>...</td>\n",
       "      <td>0</td>\n",
       "      <td>0.0</td>\n",
       "      <td>0.0</td>\n",
       "      <td>0.0</td>\n",
       "      <td>0.0</td>\n",
       "      <td>0.0</td>\n",
       "      <td>0.0</td>\n",
       "      <td>0.0</td>\n",
       "      <td>0.0</td>\n",
       "      <td>0.0</td>\n",
       "    </tr>\n",
       "    <tr>\n",
       "      <th>2013-01-07</th>\n",
       "      <td>3.67210</td>\n",
       "      <td>4.924200</td>\n",
       "      <td>0.952800</td>\n",
       "      <td>2.0324</td>\n",
       "      <td>0.98599</td>\n",
       "      <td>0.92453</td>\n",
       "      <td>472.450012</td>\n",
       "      <td>6.2305</td>\n",
       "      <td>19.403601</td>\n",
       "      <td>5.70730</td>\n",
       "      <td>...</td>\n",
       "      <td>0</td>\n",
       "      <td>0.0</td>\n",
       "      <td>0.0</td>\n",
       "      <td>0.0</td>\n",
       "      <td>0.0</td>\n",
       "      <td>0.0</td>\n",
       "      <td>0.0</td>\n",
       "      <td>0.0</td>\n",
       "      <td>0.0</td>\n",
       "      <td>0.0</td>\n",
       "    </tr>\n",
       "    <tr>\n",
       "      <th>...</th>\n",
       "      <td>...</td>\n",
       "      <td>...</td>\n",
       "      <td>...</td>\n",
       "      <td>...</td>\n",
       "      <td>...</td>\n",
       "      <td>...</td>\n",
       "      <td>...</td>\n",
       "      <td>...</td>\n",
       "      <td>...</td>\n",
       "      <td>...</td>\n",
       "      <td>...</td>\n",
       "      <td>...</td>\n",
       "      <td>...</td>\n",
       "      <td>...</td>\n",
       "      <td>...</td>\n",
       "      <td>...</td>\n",
       "      <td>...</td>\n",
       "      <td>...</td>\n",
       "      <td>...</td>\n",
       "      <td>...</td>\n",
       "      <td>...</td>\n",
       "    </tr>\n",
       "    <tr>\n",
       "      <th>2023-11-03</th>\n",
       "      <td>3.67200</td>\n",
       "      <td>350.043396</td>\n",
       "      <td>1.555718</td>\n",
       "      <td>4.9529</td>\n",
       "      <td>1.37470</td>\n",
       "      <td>0.90610</td>\n",
       "      <td>886.659973</td>\n",
       "      <td>7.3141</td>\n",
       "      <td>23.019899</td>\n",
       "      <td>7.03012</td>\n",
       "      <td>...</td>\n",
       "      <td>0</td>\n",
       "      <td>0.0</td>\n",
       "      <td>0.0</td>\n",
       "      <td>0.0</td>\n",
       "      <td>0.0</td>\n",
       "      <td>0.0</td>\n",
       "      <td>0.0</td>\n",
       "      <td>0.0</td>\n",
       "      <td>0.0</td>\n",
       "      <td>0.0</td>\n",
       "    </tr>\n",
       "    <tr>\n",
       "      <th>2023-11-06</th>\n",
       "      <td>3.67257</td>\n",
       "      <td>347.234161</td>\n",
       "      <td>1.534480</td>\n",
       "      <td>4.8992</td>\n",
       "      <td>1.36606</td>\n",
       "      <td>0.89921</td>\n",
       "      <td>869.613403</td>\n",
       "      <td>7.2985</td>\n",
       "      <td>22.673201</td>\n",
       "      <td>6.95236</td>\n",
       "      <td>...</td>\n",
       "      <td>0</td>\n",
       "      <td>0.0</td>\n",
       "      <td>0.0</td>\n",
       "      <td>0.0</td>\n",
       "      <td>0.0</td>\n",
       "      <td>0.0</td>\n",
       "      <td>0.0</td>\n",
       "      <td>0.0</td>\n",
       "      <td>0.0</td>\n",
       "      <td>0.0</td>\n",
       "    </tr>\n",
       "    <tr>\n",
       "      <th>2023-11-07</th>\n",
       "      <td>3.67200</td>\n",
       "      <td>350.019135</td>\n",
       "      <td>1.540970</td>\n",
       "      <td>4.8841</td>\n",
       "      <td>1.36973</td>\n",
       "      <td>0.89920</td>\n",
       "      <td>881.299988</td>\n",
       "      <td>7.2686</td>\n",
       "      <td>22.877899</td>\n",
       "      <td>6.95824</td>\n",
       "      <td>...</td>\n",
       "      <td>0</td>\n",
       "      <td>0.0</td>\n",
       "      <td>0.0</td>\n",
       "      <td>0.0</td>\n",
       "      <td>0.0</td>\n",
       "      <td>0.0</td>\n",
       "      <td>0.0</td>\n",
       "      <td>0.0</td>\n",
       "      <td>0.0</td>\n",
       "      <td>0.0</td>\n",
       "    </tr>\n",
       "    <tr>\n",
       "      <th>2023-11-08</th>\n",
       "      <td>3.67290</td>\n",
       "      <td>349.890411</td>\n",
       "      <td>1.555186</td>\n",
       "      <td>4.8715</td>\n",
       "      <td>1.37685</td>\n",
       "      <td>0.89997</td>\n",
       "      <td>885.820007</td>\n",
       "      <td>7.2781</td>\n",
       "      <td>22.997700</td>\n",
       "      <td>6.97288</td>\n",
       "      <td>...</td>\n",
       "      <td>0</td>\n",
       "      <td>0.0</td>\n",
       "      <td>0.0</td>\n",
       "      <td>0.0</td>\n",
       "      <td>0.0</td>\n",
       "      <td>0.0</td>\n",
       "      <td>0.0</td>\n",
       "      <td>0.0</td>\n",
       "      <td>0.0</td>\n",
       "      <td>0.0</td>\n",
       "    </tr>\n",
       "    <tr>\n",
       "      <th>2023-11-09</th>\n",
       "      <td>3.67200</td>\n",
       "      <td>349.970001</td>\n",
       "      <td>1.561110</td>\n",
       "      <td>4.9093</td>\n",
       "      <td>1.37932</td>\n",
       "      <td>0.89908</td>\n",
       "      <td>898.369995</td>\n",
       "      <td>7.2793</td>\n",
       "      <td>22.966700</td>\n",
       "      <td>6.96350</td>\n",
       "      <td>...</td>\n",
       "      <td>0</td>\n",
       "      <td>0.0</td>\n",
       "      <td>0.0</td>\n",
       "      <td>0.0</td>\n",
       "      <td>0.0</td>\n",
       "      <td>0.0</td>\n",
       "      <td>0.0</td>\n",
       "      <td>0.0</td>\n",
       "      <td>0.0</td>\n",
       "      <td>0.0</td>\n",
       "    </tr>\n",
       "  </tbody>\n",
       "</table>\n",
       "<p>2832 rows × 156 columns</p>\n",
       "</div>"
      ],
      "text/plain": [
       "           Adj Close                                                  \\\n",
       "               AED=X       ARS=X     AUD=X   BRL=X    CAD=X    CHF=X   \n",
       "Date                                                                   \n",
       "2013-01-01   3.67210    4.912200  0.961630  2.0507  0.99200  0.91460   \n",
       "2013-01-02   3.67200    4.912900  0.962310  2.0456  0.99390  0.91550   \n",
       "2013-01-03   3.67200    4.920800  0.953020  2.0456  0.98560  0.91778   \n",
       "2013-01-04   3.67200    4.920000  0.956660  2.0487  0.98840  0.92800   \n",
       "2013-01-07   3.67210    4.924200  0.952800  2.0324  0.98599  0.92453   \n",
       "...              ...         ...       ...     ...      ...      ...   \n",
       "2023-11-03   3.67200  350.043396  1.555718  4.9529  1.37470  0.90610   \n",
       "2023-11-06   3.67257  347.234161  1.534480  4.8992  1.36606  0.89921   \n",
       "2023-11-07   3.67200  350.019135  1.540970  4.8841  1.36973  0.89920   \n",
       "2023-11-08   3.67290  349.890411  1.555186  4.8715  1.37685  0.89997   \n",
       "2023-11-09   3.67200  349.970001  1.561110  4.9093  1.37932  0.89908   \n",
       "\n",
       "                                                    ... Volume              \\\n",
       "                 CLP=X   CNY=X      CZK=X    DKK=X  ...  MXN=X NGN=X NOK=X   \n",
       "Date                                                ...                      \n",
       "2013-01-01  479.200012  6.2306  18.971001  5.65450  ...      0   0.0   0.0   \n",
       "2013-01-02  479.200012  6.2376  18.983000  5.65220  ...      0   0.0   0.0   \n",
       "2013-01-03  474.149994  6.2332  19.091600  5.65863  ...      0   0.0   0.0   \n",
       "2013-01-04  472.549988  6.2325  19.368999  5.72710  ...      0   0.0   0.0   \n",
       "2013-01-07  472.450012  6.2305  19.403601  5.70730  ...      0   0.0   0.0   \n",
       "...                ...     ...        ...      ...  ...    ...   ...   ...   \n",
       "2023-11-03  886.659973  7.3141  23.019899  7.03012  ...      0   0.0   0.0   \n",
       "2023-11-06  869.613403  7.2985  22.673201  6.95236  ...      0   0.0   0.0   \n",
       "2023-11-07  881.299988  7.2686  22.877899  6.95824  ...      0   0.0   0.0   \n",
       "2023-11-08  885.820007  7.2781  22.997700  6.97288  ...      0   0.0   0.0   \n",
       "2023-11-09  898.369995  7.2793  22.966700  6.96350  ...      0   0.0   0.0   \n",
       "\n",
       "                                                      \n",
       "           NZD=X PLN=X RON=X SAR=X SEK=X TRY=X ZAR=X  \n",
       "Date                                                  \n",
       "2013-01-01   0.0   0.0   0.0   0.0   0.0   0.0   0.0  \n",
       "2013-01-02   0.0   0.0   0.0   0.0   0.0   0.0   0.0  \n",
       "2013-01-03   0.0   0.0   0.0   0.0   0.0   0.0   0.0  \n",
       "2013-01-04   0.0   0.0   0.0   0.0   0.0   0.0   0.0  \n",
       "2013-01-07   0.0   0.0   0.0   0.0   0.0   0.0   0.0  \n",
       "...          ...   ...   ...   ...   ...   ...   ...  \n",
       "2023-11-03   0.0   0.0   0.0   0.0   0.0   0.0   0.0  \n",
       "2023-11-06   0.0   0.0   0.0   0.0   0.0   0.0   0.0  \n",
       "2023-11-07   0.0   0.0   0.0   0.0   0.0   0.0   0.0  \n",
       "2023-11-08   0.0   0.0   0.0   0.0   0.0   0.0   0.0  \n",
       "2023-11-09   0.0   0.0   0.0   0.0   0.0   0.0   0.0  \n",
       "\n",
       "[2832 rows x 156 columns]"
      ]
     },
     "execution_count": 53,
     "metadata": {},
     "output_type": "execute_result"
    }
   ],
   "source": [
    "historical_data"
   ]
  },
  {
   "cell_type": "code",
   "execution_count": 54,
   "metadata": {},
   "outputs": [],
   "source": [
    "closing_prices = historical_data['Close']"
   ]
  },
  {
   "cell_type": "code",
   "execution_count": 55,
   "metadata": {},
   "outputs": [
    {
     "data": {
      "text/plain": [
       "<Axes: xlabel='Date'>"
      ]
     },
     "execution_count": 55,
     "metadata": {},
     "output_type": "execute_result"
    },
    {
     "data": {
      "image/png": "[encoded data removed]",
      "text/plain": [
       "<Figure size 640x480 with 1 Axes>"
      ]
     },
     "metadata": {},
     "output_type": "display_data"
    }
   ],
   "source": [
    "closing_prices.plot()"
   ]
  },
  {
   "cell_type": "code",
   "execution_count": 56,
   "metadata": {},
   "outputs": [
    {
     "data": {
      "text/html": [
       "<div>\n",
       "<style scoped>\n",
       "    .dataframe tbody tr th:only-of-type {\n",
       "        vertical-align: middle;\n",
       "    }\n",
       "\n",
       "    .dataframe tbody tr th {\n",
       "        vertical-align: top;\n",
       "    }\n",
       "\n",
       "    .dataframe thead th {\n",
       "        text-align: right;\n",
       "    }\n",
       "</style>\n",
       "<table border=\"1\" class=\"dataframe\">\n",
       "  <thead>\n",
       "    <tr style=\"text-align: right;\">\n",
       "      <th></th>\n",
       "      <th>AED=X</th>\n",
       "      <th>ARS=X</th>\n",
       "      <th>AUD=X</th>\n",
       "      <th>BRL=X</th>\n",
       "      <th>CAD=X</th>\n",
       "      <th>CHF=X</th>\n",
       "      <th>CLP=X</th>\n",
       "      <th>CNY=X</th>\n",
       "      <th>CZK=X</th>\n",
       "      <th>DKK=X</th>\n",
       "      <th>...</th>\n",
       "      <th>MXN=X</th>\n",
       "      <th>NGN=X</th>\n",
       "      <th>NOK=X</th>\n",
       "      <th>NZD=X</th>\n",
       "      <th>PLN=X</th>\n",
       "      <th>RON=X</th>\n",
       "      <th>SAR=X</th>\n",
       "      <th>SEK=X</th>\n",
       "      <th>TRY=X</th>\n",
       "      <th>ZAR=X</th>\n",
       "    </tr>\n",
       "    <tr>\n",
       "      <th>Date</th>\n",
       "      <th></th>\n",
       "      <th></th>\n",
       "      <th></th>\n",
       "      <th></th>\n",
       "      <th></th>\n",
       "      <th></th>\n",
       "      <th></th>\n",
       "      <th></th>\n",
       "      <th></th>\n",
       "      <th></th>\n",
       "      <th></th>\n",
       "      <th></th>\n",
       "      <th></th>\n",
       "      <th></th>\n",
       "      <th></th>\n",
       "      <th></th>\n",
       "      <th></th>\n",
       "      <th></th>\n",
       "      <th></th>\n",
       "      <th></th>\n",
       "      <th></th>\n",
       "    </tr>\n",
       "  </thead>\n",
       "  <tbody>\n",
       "    <tr>\n",
       "      <th>2013-01-01</th>\n",
       "      <td>3.6721</td>\n",
       "      <td>4.9122</td>\n",
       "      <td>0.96163</td>\n",
       "      <td>2.0507</td>\n",
       "      <td>0.99200</td>\n",
       "      <td>0.91460</td>\n",
       "      <td>479.200012</td>\n",
       "      <td>6.2306</td>\n",
       "      <td>18.971001</td>\n",
       "      <td>5.65450</td>\n",
       "      <td>...</td>\n",
       "      <td>12.8898</td>\n",
       "      <td>153.759995</td>\n",
       "      <td>5.54500</td>\n",
       "      <td>1.2061</td>\n",
       "      <td>3.08550</td>\n",
       "      <td>3.3632</td>\n",
       "      <td>3.7468</td>\n",
       "      <td>6.47760</td>\n",
       "      <td>1.78180</td>\n",
       "      <td>8.3978</td>\n",
       "    </tr>\n",
       "    <tr>\n",
       "      <th>2013-01-02</th>\n",
       "      <td>3.6720</td>\n",
       "      <td>4.9129</td>\n",
       "      <td>0.96231</td>\n",
       "      <td>2.0456</td>\n",
       "      <td>0.99390</td>\n",
       "      <td>0.91550</td>\n",
       "      <td>479.200012</td>\n",
       "      <td>6.2376</td>\n",
       "      <td>18.983000</td>\n",
       "      <td>5.65220</td>\n",
       "      <td>...</td>\n",
       "      <td>12.7534</td>\n",
       "      <td>153.619995</td>\n",
       "      <td>5.55730</td>\n",
       "      <td>1.2090</td>\n",
       "      <td>3.08270</td>\n",
       "      <td>3.3658</td>\n",
       "      <td>3.7466</td>\n",
       "      <td>6.49190</td>\n",
       "      <td>1.78140</td>\n",
       "      <td>8.4497</td>\n",
       "    </tr>\n",
       "    <tr>\n",
       "      <th>2013-01-03</th>\n",
       "      <td>3.6720</td>\n",
       "      <td>4.9208</td>\n",
       "      <td>0.95302</td>\n",
       "      <td>2.0456</td>\n",
       "      <td>0.98560</td>\n",
       "      <td>0.91778</td>\n",
       "      <td>474.149994</td>\n",
       "      <td>6.2332</td>\n",
       "      <td>19.091600</td>\n",
       "      <td>5.65863</td>\n",
       "      <td>...</td>\n",
       "      <td>12.7852</td>\n",
       "      <td>155.080002</td>\n",
       "      <td>5.54453</td>\n",
       "      <td>1.1999</td>\n",
       "      <td>3.08330</td>\n",
       "      <td>3.3472</td>\n",
       "      <td>3.7469</td>\n",
       "      <td>6.49061</td>\n",
       "      <td>1.77778</td>\n",
       "      <td>8.4781</td>\n",
       "    </tr>\n",
       "    <tr>\n",
       "      <th>2013-01-04</th>\n",
       "      <td>3.6720</td>\n",
       "      <td>4.9200</td>\n",
       "      <td>0.95666</td>\n",
       "      <td>2.0487</td>\n",
       "      <td>0.98840</td>\n",
       "      <td>0.92800</td>\n",
       "      <td>472.549988</td>\n",
       "      <td>6.2325</td>\n",
       "      <td>19.368999</td>\n",
       "      <td>5.72710</td>\n",
       "      <td>...</td>\n",
       "      <td>12.7358</td>\n",
       "      <td>157.699997</td>\n",
       "      <td>5.58970</td>\n",
       "      <td>1.2100</td>\n",
       "      <td>3.13300</td>\n",
       "      <td>3.3858</td>\n",
       "      <td>3.7464</td>\n",
       "      <td>6.54700</td>\n",
       "      <td>1.78420</td>\n",
       "      <td>8.5877</td>\n",
       "    </tr>\n",
       "    <tr>\n",
       "      <th>2013-01-07</th>\n",
       "      <td>3.6721</td>\n",
       "      <td>4.9242</td>\n",
       "      <td>0.95280</td>\n",
       "      <td>2.0324</td>\n",
       "      <td>0.98599</td>\n",
       "      <td>0.92453</td>\n",
       "      <td>472.450012</td>\n",
       "      <td>6.2305</td>\n",
       "      <td>19.403601</td>\n",
       "      <td>5.70730</td>\n",
       "      <td>...</td>\n",
       "      <td>12.7600</td>\n",
       "      <td>156.500000</td>\n",
       "      <td>5.60855</td>\n",
       "      <td>1.2024</td>\n",
       "      <td>3.14475</td>\n",
       "      <td>3.3890</td>\n",
       "      <td>3.7476</td>\n",
       "      <td>6.54004</td>\n",
       "      <td>1.78048</td>\n",
       "      <td>8.5554</td>\n",
       "    </tr>\n",
       "  </tbody>\n",
       "</table>\n",
       "<p>5 rows × 26 columns</p>\n",
       "</div>"
      ],
      "text/plain": [
       "             AED=X   ARS=X    AUD=X   BRL=X    CAD=X    CHF=X       CLP=X  \\\n",
       "Date                                                                        \n",
       "2013-01-01  3.6721  4.9122  0.96163  2.0507  0.99200  0.91460  479.200012   \n",
       "2013-01-02  3.6720  4.9129  0.96231  2.0456  0.99390  0.91550  479.200012   \n",
       "2013-01-03  3.6720  4.9208  0.95302  2.0456  0.98560  0.91778  474.149994   \n",
       "2013-01-04  3.6720  4.9200  0.95666  2.0487  0.98840  0.92800  472.549988   \n",
       "2013-01-07  3.6721  4.9242  0.95280  2.0324  0.98599  0.92453  472.450012   \n",
       "\n",
       "             CNY=X      CZK=X    DKK=X  ...    MXN=X       NGN=X    NOK=X  \\\n",
       "Date                                    ...                                 \n",
       "2013-01-01  6.2306  18.971001  5.65450  ...  12.8898  153.759995  5.54500   \n",
       "2013-01-02  6.2376  18.983000  5.65220  ...  12.7534  153.619995  5.55730   \n",
       "2013-01-03  6.2332  19.091600  5.65863  ...  12.7852  155.080002  5.54453   \n",
       "2013-01-04  6.2325  19.368999  5.72710  ...  12.7358  157.699997  5.58970   \n",
       "2013-01-07  6.2305  19.403601  5.70730  ...  12.7600  156.500000  5.60855   \n",
       "\n",
       "             NZD=X    PLN=X   RON=X   SAR=X    SEK=X    TRY=X   ZAR=X  \n",
       "Date                                                                   \n",
       "2013-01-01  1.2061  3.08550  3.3632  3.7468  6.47760  1.78180  8.3978  \n",
       "2013-01-02  1.2090  3.08270  3.3658  3.7466  6.49190  1.78140  8.4497  \n",
       "2013-01-03  1.1999  3.08330  3.3472  3.7469  6.49061  1.77778  8.4781  \n",
       "2013-01-04  1.2100  3.13300  3.3858  3.7464  6.54700  1.78420  8.5877  \n",
       "2013-01-07  1.2024  3.14475  3.3890  3.7476  6.54004  1.78048  8.5554  \n",
       "\n",
       "[5 rows x 26 columns]"
      ]
     },
     "execution_count": 56,
     "metadata": {},
     "output_type": "execute_result"
    }
   ],
   "source": [
    "closing_prices.head()"
   ]
  },
  {
   "cell_type": "code",
   "execution_count": 57,
   "metadata": {},
   "outputs": [],
   "source": [
    "sust_targets = ['SAR', 'DE', 'IBDRY' ]"
   ]
  },
  {
   "cell_type": "code",
   "execution_count": 58,
   "metadata": {},
   "outputs": [
    {
     "name": "stdout",
     "output_type": "stream",
     "text": [
      "[*********************100%%**********************]  3 of 3 completed\n"
     ]
    }
   ],
   "source": [
    "sust_data = yf.download(sust_targets, start=\"2013-01-01\", end=\"2023-11-10\")"
   ]
  },
  {
   "cell_type": "code",
   "execution_count": 59,
   "metadata": {},
   "outputs": [],
   "source": [
    "sust_data = sust_data['Close']\n"
   ]
  },
  {
   "cell_type": "code",
   "execution_count": 60,
   "metadata": {},
   "outputs": [
    {
     "data": {
      "text/html": [
       "<div>\n",
       "<style scoped>\n",
       "    .dataframe tbody tr th:only-of-type {\n",
       "        vertical-align: middle;\n",
       "    }\n",
       "\n",
       "    .dataframe tbody tr th {\n",
       "        vertical-align: top;\n",
       "    }\n",
       "\n",
       "    .dataframe thead th {\n",
       "        text-align: right;\n",
       "    }\n",
       "</style>\n",
       "<table border=\"1\" class=\"dataframe\">\n",
       "  <thead>\n",
       "    <tr style=\"text-align: right;\">\n",
       "      <th></th>\n",
       "      <th>DE</th>\n",
       "      <th>IBDRY</th>\n",
       "      <th>SAR</th>\n",
       "    </tr>\n",
       "    <tr>\n",
       "      <th>Date</th>\n",
       "      <th></th>\n",
       "      <th></th>\n",
       "      <th></th>\n",
       "    </tr>\n",
       "  </thead>\n",
       "  <tbody>\n",
       "    <tr>\n",
       "      <th>2013-01-02</th>\n",
       "      <td>87.989998</td>\n",
       "      <td>21.660000</td>\n",
       "      <td>15.500000</td>\n",
       "    </tr>\n",
       "    <tr>\n",
       "      <th>2013-01-03</th>\n",
       "      <td>87.769997</td>\n",
       "      <td>21.420000</td>\n",
       "      <td>15.450000</td>\n",
       "    </tr>\n",
       "    <tr>\n",
       "      <th>2013-01-04</th>\n",
       "      <td>88.669998</td>\n",
       "      <td>21.620001</td>\n",
       "      <td>15.300000</td>\n",
       "    </tr>\n",
       "    <tr>\n",
       "      <th>2013-01-07</th>\n",
       "      <td>88.599998</td>\n",
       "      <td>21.540001</td>\n",
       "      <td>15.200000</td>\n",
       "    </tr>\n",
       "    <tr>\n",
       "      <th>2013-01-08</th>\n",
       "      <td>87.680000</td>\n",
       "      <td>21.299999</td>\n",
       "      <td>15.390000</td>\n",
       "    </tr>\n",
       "    <tr>\n",
       "      <th>...</th>\n",
       "      <td>...</td>\n",
       "      <td>...</td>\n",
       "      <td>...</td>\n",
       "    </tr>\n",
       "    <tr>\n",
       "      <th>2023-11-03</th>\n",
       "      <td>382.200012</td>\n",
       "      <td>45.680000</td>\n",
       "      <td>24.840000</td>\n",
       "    </tr>\n",
       "    <tr>\n",
       "      <th>2023-11-06</th>\n",
       "      <td>378.250000</td>\n",
       "      <td>45.299999</td>\n",
       "      <td>24.770000</td>\n",
       "    </tr>\n",
       "    <tr>\n",
       "      <th>2023-11-07</th>\n",
       "      <td>369.239990</td>\n",
       "      <td>44.770000</td>\n",
       "      <td>24.430000</td>\n",
       "    </tr>\n",
       "    <tr>\n",
       "      <th>2023-11-08</th>\n",
       "      <td>369.369995</td>\n",
       "      <td>44.980000</td>\n",
       "      <td>24.530001</td>\n",
       "    </tr>\n",
       "    <tr>\n",
       "      <th>2023-11-09</th>\n",
       "      <td>369.619995</td>\n",
       "      <td>45.250000</td>\n",
       "      <td>24.340000</td>\n",
       "    </tr>\n",
       "  </tbody>\n",
       "</table>\n",
       "<p>2734 rows × 3 columns</p>\n",
       "</div>"
      ],
      "text/plain": [
       "                    DE      IBDRY        SAR\n",
       "Date                                        \n",
       "2013-01-02   87.989998  21.660000  15.500000\n",
       "2013-01-03   87.769997  21.420000  15.450000\n",
       "2013-01-04   88.669998  21.620001  15.300000\n",
       "2013-01-07   88.599998  21.540001  15.200000\n",
       "2013-01-08   87.680000  21.299999  15.390000\n",
       "...                ...        ...        ...\n",
       "2023-11-03  382.200012  45.680000  24.840000\n",
       "2023-11-06  378.250000  45.299999  24.770000\n",
       "2023-11-07  369.239990  44.770000  24.430000\n",
       "2023-11-08  369.369995  44.980000  24.530001\n",
       "2023-11-09  369.619995  45.250000  24.340000\n",
       "\n",
       "[2734 rows x 3 columns]"
      ]
     },
     "execution_count": 60,
     "metadata": {},
     "output_type": "execute_result"
    }
   ],
   "source": [
    "sust_data"
   ]
  },
  {
   "cell_type": "code",
   "execution_count": 61,
   "metadata": {},
   "outputs": [],
   "source": [
    "# provided data - dow jones, Crude oil, Gold, s&p, bitcoin"
   ]
  },
  {
   "cell_type": "code",
   "execution_count": 62,
   "metadata": {},
   "outputs": [],
   "source": [
    "data_prov =['^GSPC', '^DJI', 'GC=F', 'WTI', 'BTC-USD']"
   ]
  },
  {
   "cell_type": "code",
   "execution_count": 63,
   "metadata": {},
   "outputs": [
    {
     "name": "stdout",
     "output_type": "stream",
     "text": [
      "[*********************100%%**********************]  5 of 5 completed\n"
     ]
    }
   ],
   "source": [
    "more_data = yf.download(data_prov, start=\"2013-01-01\", end=\"2023-11-10\")"
   ]
  },
  {
   "cell_type": "code",
   "execution_count": 64,
   "metadata": {},
   "outputs": [
    {
     "data": {
      "text/html": [
       "<div>\n",
       "<style scoped>\n",
       "    .dataframe tbody tr th:only-of-type {\n",
       "        vertical-align: middle;\n",
       "    }\n",
       "\n",
       "    .dataframe tbody tr th {\n",
       "        vertical-align: top;\n",
       "    }\n",
       "\n",
       "    .dataframe thead tr th {\n",
       "        text-align: left;\n",
       "    }\n",
       "\n",
       "    .dataframe thead tr:last-of-type th {\n",
       "        text-align: right;\n",
       "    }\n",
       "</style>\n",
       "<table border=\"1\" class=\"dataframe\">\n",
       "  <thead>\n",
       "    <tr>\n",
       "      <th></th>\n",
       "      <th colspan=\"5\" halign=\"left\">Adj Close</th>\n",
       "      <th colspan=\"5\" halign=\"left\">Close</th>\n",
       "      <th>...</th>\n",
       "      <th colspan=\"5\" halign=\"left\">Open</th>\n",
       "      <th colspan=\"5\" halign=\"left\">Volume</th>\n",
       "    </tr>\n",
       "    <tr>\n",
       "      <th></th>\n",
       "      <th>BTC-USD</th>\n",
       "      <th>GC=F</th>\n",
       "      <th>WTI</th>\n",
       "      <th>^DJI</th>\n",
       "      <th>^GSPC</th>\n",
       "      <th>BTC-USD</th>\n",
       "      <th>GC=F</th>\n",
       "      <th>WTI</th>\n",
       "      <th>^DJI</th>\n",
       "      <th>^GSPC</th>\n",
       "      <th>...</th>\n",
       "      <th>BTC-USD</th>\n",
       "      <th>GC=F</th>\n",
       "      <th>WTI</th>\n",
       "      <th>^DJI</th>\n",
       "      <th>^GSPC</th>\n",
       "      <th>BTC-USD</th>\n",
       "      <th>GC=F</th>\n",
       "      <th>WTI</th>\n",
       "      <th>^DJI</th>\n",
       "      <th>^GSPC</th>\n",
       "    </tr>\n",
       "    <tr>\n",
       "      <th>Date</th>\n",
       "      <th></th>\n",
       "      <th></th>\n",
       "      <th></th>\n",
       "      <th></th>\n",
       "      <th></th>\n",
       "      <th></th>\n",
       "      <th></th>\n",
       "      <th></th>\n",
       "      <th></th>\n",
       "      <th></th>\n",
       "      <th></th>\n",
       "      <th></th>\n",
       "      <th></th>\n",
       "      <th></th>\n",
       "      <th></th>\n",
       "      <th></th>\n",
       "      <th></th>\n",
       "      <th></th>\n",
       "      <th></th>\n",
       "      <th></th>\n",
       "      <th></th>\n",
       "    </tr>\n",
       "  </thead>\n",
       "  <tbody>\n",
       "    <tr>\n",
       "      <th>2013-01-02</th>\n",
       "      <td>NaN</td>\n",
       "      <td>1687.900024</td>\n",
       "      <td>15.649912</td>\n",
       "      <td>13412.549805</td>\n",
       "      <td>1462.420044</td>\n",
       "      <td>NaN</td>\n",
       "      <td>1687.900024</td>\n",
       "      <td>16.980000</td>\n",
       "      <td>13412.549805</td>\n",
       "      <td>1462.420044</td>\n",
       "      <td>...</td>\n",
       "      <td>NaN</td>\n",
       "      <td>1672.800049</td>\n",
       "      <td>16.620001</td>\n",
       "      <td>13104.299805</td>\n",
       "      <td>1426.189941</td>\n",
       "      <td>NaN</td>\n",
       "      <td>35.0</td>\n",
       "      <td>676400.0</td>\n",
       "      <td>161430000.0</td>\n",
       "      <td>4.202600e+09</td>\n",
       "    </tr>\n",
       "    <tr>\n",
       "      <th>2013-01-03</th>\n",
       "      <td>NaN</td>\n",
       "      <td>1673.699951</td>\n",
       "      <td>15.760513</td>\n",
       "      <td>13391.360352</td>\n",
       "      <td>1459.369995</td>\n",
       "      <td>NaN</td>\n",
       "      <td>1673.699951</td>\n",
       "      <td>17.100000</td>\n",
       "      <td>13391.360352</td>\n",
       "      <td>1459.369995</td>\n",
       "      <td>...</td>\n",
       "      <td>NaN</td>\n",
       "      <td>1686.099976</td>\n",
       "      <td>16.969999</td>\n",
       "      <td>13413.009766</td>\n",
       "      <td>1462.420044</td>\n",
       "      <td>NaN</td>\n",
       "      <td>140.0</td>\n",
       "      <td>364500.0</td>\n",
       "      <td>129630000.0</td>\n",
       "      <td>3.829730e+09</td>\n",
       "    </tr>\n",
       "    <tr>\n",
       "      <th>2013-01-04</th>\n",
       "      <td>NaN</td>\n",
       "      <td>1648.099976</td>\n",
       "      <td>15.972496</td>\n",
       "      <td>13435.209961</td>\n",
       "      <td>1466.469971</td>\n",
       "      <td>NaN</td>\n",
       "      <td>1648.099976</td>\n",
       "      <td>17.330000</td>\n",
       "      <td>13435.209961</td>\n",
       "      <td>1466.469971</td>\n",
       "      <td>...</td>\n",
       "      <td>NaN</td>\n",
       "      <td>1647.000000</td>\n",
       "      <td>17.110001</td>\n",
       "      <td>13391.049805</td>\n",
       "      <td>1459.369995</td>\n",
       "      <td>NaN</td>\n",
       "      <td>199.0</td>\n",
       "      <td>320400.0</td>\n",
       "      <td>107590000.0</td>\n",
       "      <td>3.424290e+09</td>\n",
       "    </tr>\n",
       "    <tr>\n",
       "      <th>2013-01-07</th>\n",
       "      <td>NaN</td>\n",
       "      <td>1645.500000</td>\n",
       "      <td>15.926413</td>\n",
       "      <td>13384.290039</td>\n",
       "      <td>1461.890015</td>\n",
       "      <td>NaN</td>\n",
       "      <td>1645.500000</td>\n",
       "      <td>17.280001</td>\n",
       "      <td>13384.290039</td>\n",
       "      <td>1461.890015</td>\n",
       "      <td>...</td>\n",
       "      <td>NaN</td>\n",
       "      <td>1656.500000</td>\n",
       "      <td>17.290001</td>\n",
       "      <td>13436.129883</td>\n",
       "      <td>1466.469971</td>\n",
       "      <td>NaN</td>\n",
       "      <td>49.0</td>\n",
       "      <td>551200.0</td>\n",
       "      <td>113120000.0</td>\n",
       "      <td>3.304970e+09</td>\n",
       "    </tr>\n",
       "    <tr>\n",
       "      <th>2013-01-08</th>\n",
       "      <td>NaN</td>\n",
       "      <td>1661.500000</td>\n",
       "      <td>15.788163</td>\n",
       "      <td>13328.849609</td>\n",
       "      <td>1457.150024</td>\n",
       "      <td>NaN</td>\n",
       "      <td>1661.500000</td>\n",
       "      <td>17.129999</td>\n",
       "      <td>13328.849609</td>\n",
       "      <td>1457.150024</td>\n",
       "      <td>...</td>\n",
       "      <td>NaN</td>\n",
       "      <td>1647.699951</td>\n",
       "      <td>17.230000</td>\n",
       "      <td>13377.419922</td>\n",
       "      <td>1461.890015</td>\n",
       "      <td>NaN</td>\n",
       "      <td>17.0</td>\n",
       "      <td>487700.0</td>\n",
       "      <td>129570000.0</td>\n",
       "      <td>3.601600e+09</td>\n",
       "    </tr>\n",
       "  </tbody>\n",
       "</table>\n",
       "<p>5 rows × 30 columns</p>\n",
       "</div>"
      ],
      "text/plain": [
       "           Adj Close                                                     \\\n",
       "             BTC-USD         GC=F        WTI          ^DJI        ^GSPC   \n",
       "Date                                                                      \n",
       "2013-01-02       NaN  1687.900024  15.649912  13412.549805  1462.420044   \n",
       "2013-01-03       NaN  1673.699951  15.760513  13391.360352  1459.369995   \n",
       "2013-01-04       NaN  1648.099976  15.972496  13435.209961  1466.469971   \n",
       "2013-01-07       NaN  1645.500000  15.926413  13384.290039  1461.890015   \n",
       "2013-01-08       NaN  1661.500000  15.788163  13328.849609  1457.150024   \n",
       "\n",
       "             Close                                                     ...  \\\n",
       "           BTC-USD         GC=F        WTI          ^DJI        ^GSPC  ...   \n",
       "Date                                                                   ...   \n",
       "2013-01-02     NaN  1687.900024  16.980000  13412.549805  1462.420044  ...   \n",
       "2013-01-03     NaN  1673.699951  17.100000  13391.360352  1459.369995  ...   \n",
       "2013-01-04     NaN  1648.099976  17.330000  13435.209961  1466.469971  ...   \n",
       "2013-01-07     NaN  1645.500000  17.280001  13384.290039  1461.890015  ...   \n",
       "2013-01-08     NaN  1661.500000  17.129999  13328.849609  1457.150024  ...   \n",
       "\n",
       "              Open                                                     Volume  \\\n",
       "           BTC-USD         GC=F        WTI          ^DJI        ^GSPC BTC-USD   \n",
       "Date                                                                            \n",
       "2013-01-02     NaN  1672.800049  16.620001  13104.299805  1426.189941     NaN   \n",
       "2013-01-03     NaN  1686.099976  16.969999  13413.009766  1462.420044     NaN   \n",
       "2013-01-04     NaN  1647.000000  17.110001  13391.049805  1459.369995     NaN   \n",
       "2013-01-07     NaN  1656.500000  17.290001  13436.129883  1466.469971     NaN   \n",
       "2013-01-08     NaN  1647.699951  17.230000  13377.419922  1461.890015     NaN   \n",
       "\n",
       "                                                        \n",
       "             GC=F       WTI         ^DJI         ^GSPC  \n",
       "Date                                                    \n",
       "2013-01-02   35.0  676400.0  161430000.0  4.202600e+09  \n",
       "2013-01-03  140.0  364500.0  129630000.0  3.829730e+09  \n",
       "2013-01-04  199.0  320400.0  107590000.0  3.424290e+09  \n",
       "2013-01-07   49.0  551200.0  113120000.0  3.304970e+09  \n",
       "2013-01-08   17.0  487700.0  129570000.0  3.601600e+09  \n",
       "\n",
       "[5 rows x 30 columns]"
      ]
     },
     "execution_count": 64,
     "metadata": {},
     "output_type": "execute_result"
    }
   ],
   "source": [
    "more_data.head()"
   ]
  },
  {
   "cell_type": "code",
   "execution_count": 65,
   "metadata": {},
   "outputs": [],
   "source": [
    "more_data = more_data['Close']"
   ]
  },
  {
   "cell_type": "code",
   "execution_count": 66,
   "metadata": {},
   "outputs": [
    {
     "data": {
      "text/html": [
       "<div>\n",
       "<style scoped>\n",
       "    .dataframe tbody tr th:only-of-type {\n",
       "        vertical-align: middle;\n",
       "    }\n",
       "\n",
       "    .dataframe tbody tr th {\n",
       "        vertical-align: top;\n",
       "    }\n",
       "\n",
       "    .dataframe thead th {\n",
       "        text-align: right;\n",
       "    }\n",
       "</style>\n",
       "<table border=\"1\" class=\"dataframe\">\n",
       "  <thead>\n",
       "    <tr style=\"text-align: right;\">\n",
       "      <th></th>\n",
       "      <th>BTC-USD</th>\n",
       "      <th>GC=F</th>\n",
       "      <th>WTI</th>\n",
       "      <th>^DJI</th>\n",
       "      <th>^GSPC</th>\n",
       "    </tr>\n",
       "    <tr>\n",
       "      <th>Date</th>\n",
       "      <th></th>\n",
       "      <th></th>\n",
       "      <th></th>\n",
       "      <th></th>\n",
       "      <th></th>\n",
       "    </tr>\n",
       "  </thead>\n",
       "  <tbody>\n",
       "    <tr>\n",
       "      <th>2013-01-02</th>\n",
       "      <td>NaN</td>\n",
       "      <td>1687.900024</td>\n",
       "      <td>16.980000</td>\n",
       "      <td>13412.549805</td>\n",
       "      <td>1462.420044</td>\n",
       "    </tr>\n",
       "    <tr>\n",
       "      <th>2013-01-03</th>\n",
       "      <td>NaN</td>\n",
       "      <td>1673.699951</td>\n",
       "      <td>17.100000</td>\n",
       "      <td>13391.360352</td>\n",
       "      <td>1459.369995</td>\n",
       "    </tr>\n",
       "    <tr>\n",
       "      <th>2013-01-04</th>\n",
       "      <td>NaN</td>\n",
       "      <td>1648.099976</td>\n",
       "      <td>17.330000</td>\n",
       "      <td>13435.209961</td>\n",
       "      <td>1466.469971</td>\n",
       "    </tr>\n",
       "    <tr>\n",
       "      <th>2013-01-07</th>\n",
       "      <td>NaN</td>\n",
       "      <td>1645.500000</td>\n",
       "      <td>17.280001</td>\n",
       "      <td>13384.290039</td>\n",
       "      <td>1461.890015</td>\n",
       "    </tr>\n",
       "    <tr>\n",
       "      <th>2013-01-08</th>\n",
       "      <td>NaN</td>\n",
       "      <td>1661.500000</td>\n",
       "      <td>17.129999</td>\n",
       "      <td>13328.849609</td>\n",
       "      <td>1457.150024</td>\n",
       "    </tr>\n",
       "    <tr>\n",
       "      <th>...</th>\n",
       "      <td>...</td>\n",
       "      <td>...</td>\n",
       "      <td>...</td>\n",
       "      <td>...</td>\n",
       "      <td>...</td>\n",
       "    </tr>\n",
       "    <tr>\n",
       "      <th>2023-11-05</th>\n",
       "      <td>35049.355469</td>\n",
       "      <td>NaN</td>\n",
       "      <td>NaN</td>\n",
       "      <td>NaN</td>\n",
       "      <td>NaN</td>\n",
       "    </tr>\n",
       "    <tr>\n",
       "      <th>2023-11-06</th>\n",
       "      <td>35037.371094</td>\n",
       "      <td>1981.599976</td>\n",
       "      <td>4.010000</td>\n",
       "      <td>34095.859375</td>\n",
       "      <td>4365.979980</td>\n",
       "    </tr>\n",
       "    <tr>\n",
       "      <th>2023-11-07</th>\n",
       "      <td>35443.562500</td>\n",
       "      <td>1966.800049</td>\n",
       "      <td>3.810000</td>\n",
       "      <td>34152.601562</td>\n",
       "      <td>4378.379883</td>\n",
       "    </tr>\n",
       "    <tr>\n",
       "      <th>2023-11-08</th>\n",
       "      <td>35655.277344</td>\n",
       "      <td>1951.500000</td>\n",
       "      <td>3.750000</td>\n",
       "      <td>34112.269531</td>\n",
       "      <td>4382.779785</td>\n",
       "    </tr>\n",
       "    <tr>\n",
       "      <th>2023-11-09</th>\n",
       "      <td>36693.125000</td>\n",
       "      <td>1964.199951</td>\n",
       "      <td>3.730000</td>\n",
       "      <td>33891.941406</td>\n",
       "      <td>4347.350098</td>\n",
       "    </tr>\n",
       "  </tbody>\n",
       "</table>\n",
       "<p>3771 rows × 5 columns</p>\n",
       "</div>"
      ],
      "text/plain": [
       "                 BTC-USD         GC=F        WTI          ^DJI        ^GSPC\n",
       "Date                                                                       \n",
       "2013-01-02           NaN  1687.900024  16.980000  13412.549805  1462.420044\n",
       "2013-01-03           NaN  1673.699951  17.100000  13391.360352  1459.369995\n",
       "2013-01-04           NaN  1648.099976  17.330000  13435.209961  1466.469971\n",
       "2013-01-07           NaN  1645.500000  17.280001  13384.290039  1461.890015\n",
       "2013-01-08           NaN  1661.500000  17.129999  13328.849609  1457.150024\n",
       "...                  ...          ...        ...           ...          ...\n",
       "2023-11-05  35049.355469          NaN        NaN           NaN          NaN\n",
       "2023-11-06  35037.371094  1981.599976   4.010000  34095.859375  4365.979980\n",
       "2023-11-07  35443.562500  1966.800049   3.810000  34152.601562  4378.379883\n",
       "2023-11-08  35655.277344  1951.500000   3.750000  34112.269531  4382.779785\n",
       "2023-11-09  36693.125000  1964.199951   3.730000  33891.941406  4347.350098\n",
       "\n",
       "[3771 rows x 5 columns]"
      ]
     },
     "execution_count": 66,
     "metadata": {},
     "output_type": "execute_result"
    }
   ],
   "source": [
    "more_data"
   ]
  },
  {
   "cell_type": "code",
   "execution_count": 67,
   "metadata": {},
   "outputs": [
    {
     "data": {
      "text/plain": [
       "<Axes: xlabel='Date'>"
      ]
     },
     "execution_count": 67,
     "metadata": {},
     "output_type": "execute_result"
    },
    {
     "data": {
      "image/png": "[encoded data removed]",
      "text/plain": [
       "<Figure size 640x480 with 1 Axes>"
      ]
     },
     "metadata": {},
     "output_type": "display_data"
    }
   ],
   "source": [
    "more_data.plot()"
   ]
  },
  {
   "cell_type": "code",
   "execution_count": 68,
   "metadata": {},
   "outputs": [
    {
     "data": {
      "text/html": [
       "<div>\n",
       "<style scoped>\n",
       "    .dataframe tbody tr th:only-of-type {\n",
       "        vertical-align: middle;\n",
       "    }\n",
       "\n",
       "    .dataframe tbody tr th {\n",
       "        vertical-align: top;\n",
       "    }\n",
       "\n",
       "    .dataframe thead th {\n",
       "        text-align: right;\n",
       "    }\n",
       "</style>\n",
       "<table border=\"1\" class=\"dataframe\">\n",
       "  <thead>\n",
       "    <tr style=\"text-align: right;\">\n",
       "      <th></th>\n",
       "      <th>BTC-USD</th>\n",
       "      <th>GC=F</th>\n",
       "      <th>WTI</th>\n",
       "      <th>^DJI</th>\n",
       "      <th>^GSPC</th>\n",
       "    </tr>\n",
       "  </thead>\n",
       "  <tbody>\n",
       "    <tr>\n",
       "      <th>BTC-USD</th>\n",
       "      <td>1.000000</td>\n",
       "      <td>0.771861</td>\n",
       "      <td>0.005703</td>\n",
       "      <td>0.858324</td>\n",
       "      <td>0.894397</td>\n",
       "    </tr>\n",
       "    <tr>\n",
       "      <th>GC=F</th>\n",
       "      <td>0.771861</td>\n",
       "      <td>1.000000</td>\n",
       "      <td>-0.191867</td>\n",
       "      <td>0.796518</td>\n",
       "      <td>0.831419</td>\n",
       "    </tr>\n",
       "    <tr>\n",
       "      <th>WTI</th>\n",
       "      <td>0.005703</td>\n",
       "      <td>-0.191867</td>\n",
       "      <td>1.000000</td>\n",
       "      <td>-0.451250</td>\n",
       "      <td>-0.442965</td>\n",
       "    </tr>\n",
       "    <tr>\n",
       "      <th>^DJI</th>\n",
       "      <td>0.858324</td>\n",
       "      <td>0.796518</td>\n",
       "      <td>-0.451250</td>\n",
       "      <td>1.000000</td>\n",
       "      <td>0.988509</td>\n",
       "    </tr>\n",
       "    <tr>\n",
       "      <th>^GSPC</th>\n",
       "      <td>0.894397</td>\n",
       "      <td>0.831419</td>\n",
       "      <td>-0.442965</td>\n",
       "      <td>0.988509</td>\n",
       "      <td>1.000000</td>\n",
       "    </tr>\n",
       "  </tbody>\n",
       "</table>\n",
       "</div>"
      ],
      "text/plain": [
       "          BTC-USD      GC=F       WTI      ^DJI     ^GSPC\n",
       "BTC-USD  1.000000  0.771861  0.005703  0.858324  0.894397\n",
       "GC=F     0.771861  1.000000 -0.191867  0.796518  0.831419\n",
       "WTI      0.005703 -0.191867  1.000000 -0.451250 -0.442965\n",
       "^DJI     0.858324  0.796518 -0.451250  1.000000  0.988509\n",
       "^GSPC    0.894397  0.831419 -0.442965  0.988509  1.000000"
      ]
     },
     "execution_count": 68,
     "metadata": {},
     "output_type": "execute_result"
    }
   ],
   "source": [
    "corr = more_data.corr()\n",
    "corr"
   ]
  },
  {
   "cell_type": "code",
   "execution_count": 69,
   "metadata": {},
   "outputs": [
    {
     "data": {
      "text/plain": [
       "DatetimeIndex(['2013-01-02', '2013-01-03', '2013-01-04', '2013-01-07',\n",
       "               '2013-01-08', '2013-01-09', '2013-01-10', '2013-01-11',\n",
       "               '2013-01-14', '2013-01-15',\n",
       "               ...\n",
       "               '2023-10-31', '2023-11-01', '2023-11-02', '2023-11-03',\n",
       "               '2023-11-04', '2023-11-05', '2023-11-06', '2023-11-07',\n",
       "               '2023-11-08', '2023-11-09'],\n",
       "              dtype='datetime64[ns]', name='Date', length=3771, freq=None)"
      ]
     },
     "execution_count": 69,
     "metadata": {},
     "output_type": "execute_result"
    }
   ],
   "source": [
    "more_data.index"
   ]
  },
  {
   "cell_type": "code",
   "execution_count": 70,
   "metadata": {},
   "outputs": [],
   "source": [
    "merged_df = pd.merge(closing_prices, more_data, left_index=True, right_index=True)"
   ]
  },
  {
   "cell_type": "code",
   "execution_count": 71,
   "metadata": {},
   "outputs": [],
   "source": [
    "merged_df = pd.merge(merged_df, sust_data, left_index=True, right_index=True)"
   ]
  },
  {
   "cell_type": "code",
   "execution_count": 72,
   "metadata": {},
   "outputs": [
    {
     "data": {
      "text/html": [
       "<div>\n",
       "<style scoped>\n",
       "    .dataframe tbody tr th:only-of-type {\n",
       "        vertical-align: middle;\n",
       "    }\n",
       "\n",
       "    .dataframe tbody tr th {\n",
       "        vertical-align: top;\n",
       "    }\n",
       "\n",
       "    .dataframe thead th {\n",
       "        text-align: right;\n",
       "    }\n",
       "</style>\n",
       "<table border=\"1\" class=\"dataframe\">\n",
       "  <thead>\n",
       "    <tr style=\"text-align: right;\">\n",
       "      <th></th>\n",
       "      <th>AED=X</th>\n",
       "      <th>ARS=X</th>\n",
       "      <th>AUD=X</th>\n",
       "      <th>BRL=X</th>\n",
       "      <th>CAD=X</th>\n",
       "      <th>CHF=X</th>\n",
       "      <th>CLP=X</th>\n",
       "      <th>CNY=X</th>\n",
       "      <th>CZK=X</th>\n",
       "      <th>DKK=X</th>\n",
       "      <th>...</th>\n",
       "      <th>TRY=X</th>\n",
       "      <th>ZAR=X</th>\n",
       "      <th>BTC-USD</th>\n",
       "      <th>GC=F</th>\n",
       "      <th>WTI</th>\n",
       "      <th>^DJI</th>\n",
       "      <th>^GSPC</th>\n",
       "      <th>DE</th>\n",
       "      <th>IBDRY</th>\n",
       "      <th>SAR</th>\n",
       "    </tr>\n",
       "    <tr>\n",
       "      <th>Date</th>\n",
       "      <th></th>\n",
       "      <th></th>\n",
       "      <th></th>\n",
       "      <th></th>\n",
       "      <th></th>\n",
       "      <th></th>\n",
       "      <th></th>\n",
       "      <th></th>\n",
       "      <th></th>\n",
       "      <th></th>\n",
       "      <th></th>\n",
       "      <th></th>\n",
       "      <th></th>\n",
       "      <th></th>\n",
       "      <th></th>\n",
       "      <th></th>\n",
       "      <th></th>\n",
       "      <th></th>\n",
       "      <th></th>\n",
       "      <th></th>\n",
       "      <th></th>\n",
       "    </tr>\n",
       "  </thead>\n",
       "  <tbody>\n",
       "    <tr>\n",
       "      <th>2013-01-02</th>\n",
       "      <td>3.67200</td>\n",
       "      <td>4.912900</td>\n",
       "      <td>0.962310</td>\n",
       "      <td>2.0456</td>\n",
       "      <td>0.99390</td>\n",
       "      <td>0.91550</td>\n",
       "      <td>479.200012</td>\n",
       "      <td>6.2376</td>\n",
       "      <td>18.983000</td>\n",
       "      <td>5.65220</td>\n",
       "      <td>...</td>\n",
       "      <td>1.781400</td>\n",
       "      <td>8.449700</td>\n",
       "      <td>NaN</td>\n",
       "      <td>1687.900024</td>\n",
       "      <td>16.980000</td>\n",
       "      <td>13412.549805</td>\n",
       "      <td>1462.420044</td>\n",
       "      <td>87.989998</td>\n",
       "      <td>21.660000</td>\n",
       "      <td>15.500000</td>\n",
       "    </tr>\n",
       "    <tr>\n",
       "      <th>2013-01-03</th>\n",
       "      <td>3.67200</td>\n",
       "      <td>4.920800</td>\n",
       "      <td>0.953020</td>\n",
       "      <td>2.0456</td>\n",
       "      <td>0.98560</td>\n",
       "      <td>0.91778</td>\n",
       "      <td>474.149994</td>\n",
       "      <td>6.2332</td>\n",
       "      <td>19.091600</td>\n",
       "      <td>5.65863</td>\n",
       "      <td>...</td>\n",
       "      <td>1.777780</td>\n",
       "      <td>8.478100</td>\n",
       "      <td>NaN</td>\n",
       "      <td>1673.699951</td>\n",
       "      <td>17.100000</td>\n",
       "      <td>13391.360352</td>\n",
       "      <td>1459.369995</td>\n",
       "      <td>87.769997</td>\n",
       "      <td>21.420000</td>\n",
       "      <td>15.450000</td>\n",
       "    </tr>\n",
       "    <tr>\n",
       "      <th>2013-01-04</th>\n",
       "      <td>3.67200</td>\n",
       "      <td>4.920000</td>\n",
       "      <td>0.956660</td>\n",
       "      <td>2.0487</td>\n",
       "      <td>0.98840</td>\n",
       "      <td>0.92800</td>\n",
       "      <td>472.549988</td>\n",
       "      <td>6.2325</td>\n",
       "      <td>19.368999</td>\n",
       "      <td>5.72710</td>\n",
       "      <td>...</td>\n",
       "      <td>1.784200</td>\n",
       "      <td>8.587700</td>\n",
       "      <td>NaN</td>\n",
       "      <td>1648.099976</td>\n",
       "      <td>17.330000</td>\n",
       "      <td>13435.209961</td>\n",
       "      <td>1466.469971</td>\n",
       "      <td>88.669998</td>\n",
       "      <td>21.620001</td>\n",
       "      <td>15.300000</td>\n",
       "    </tr>\n",
       "    <tr>\n",
       "      <th>2013-01-07</th>\n",
       "      <td>3.67210</td>\n",
       "      <td>4.924200</td>\n",
       "      <td>0.952800</td>\n",
       "      <td>2.0324</td>\n",
       "      <td>0.98599</td>\n",
       "      <td>0.92453</td>\n",
       "      <td>472.450012</td>\n",
       "      <td>6.2305</td>\n",
       "      <td>19.403601</td>\n",
       "      <td>5.70730</td>\n",
       "      <td>...</td>\n",
       "      <td>1.780480</td>\n",
       "      <td>8.555400</td>\n",
       "      <td>NaN</td>\n",
       "      <td>1645.500000</td>\n",
       "      <td>17.280001</td>\n",
       "      <td>13384.290039</td>\n",
       "      <td>1461.890015</td>\n",
       "      <td>88.599998</td>\n",
       "      <td>21.540001</td>\n",
       "      <td>15.200000</td>\n",
       "    </tr>\n",
       "    <tr>\n",
       "      <th>2013-01-08</th>\n",
       "      <td>3.67210</td>\n",
       "      <td>4.926400</td>\n",
       "      <td>0.951320</td>\n",
       "      <td>2.0264</td>\n",
       "      <td>0.98560</td>\n",
       "      <td>0.92090</td>\n",
       "      <td>470.950012</td>\n",
       "      <td>6.2298</td>\n",
       "      <td>19.446699</td>\n",
       "      <td>5.68370</td>\n",
       "      <td>...</td>\n",
       "      <td>1.779180</td>\n",
       "      <td>8.560500</td>\n",
       "      <td>NaN</td>\n",
       "      <td>1661.500000</td>\n",
       "      <td>17.129999</td>\n",
       "      <td>13328.849609</td>\n",
       "      <td>1457.150024</td>\n",
       "      <td>87.680000</td>\n",
       "      <td>21.299999</td>\n",
       "      <td>15.390000</td>\n",
       "    </tr>\n",
       "    <tr>\n",
       "      <th>...</th>\n",
       "      <td>...</td>\n",
       "      <td>...</td>\n",
       "      <td>...</td>\n",
       "      <td>...</td>\n",
       "      <td>...</td>\n",
       "      <td>...</td>\n",
       "      <td>...</td>\n",
       "      <td>...</td>\n",
       "      <td>...</td>\n",
       "      <td>...</td>\n",
       "      <td>...</td>\n",
       "      <td>...</td>\n",
       "      <td>...</td>\n",
       "      <td>...</td>\n",
       "      <td>...</td>\n",
       "      <td>...</td>\n",
       "      <td>...</td>\n",
       "      <td>...</td>\n",
       "      <td>...</td>\n",
       "      <td>...</td>\n",
       "      <td>...</td>\n",
       "    </tr>\n",
       "    <tr>\n",
       "      <th>2023-11-03</th>\n",
       "      <td>3.67200</td>\n",
       "      <td>350.043396</td>\n",
       "      <td>1.555718</td>\n",
       "      <td>4.9529</td>\n",
       "      <td>1.37470</td>\n",
       "      <td>0.90610</td>\n",
       "      <td>886.659973</td>\n",
       "      <td>7.3141</td>\n",
       "      <td>23.019899</td>\n",
       "      <td>7.03012</td>\n",
       "      <td>...</td>\n",
       "      <td>28.358900</td>\n",
       "      <td>18.402100</td>\n",
       "      <td>34732.324219</td>\n",
       "      <td>1991.500000</td>\n",
       "      <td>4.220000</td>\n",
       "      <td>34061.320312</td>\n",
       "      <td>4358.339844</td>\n",
       "      <td>382.200012</td>\n",
       "      <td>45.680000</td>\n",
       "      <td>24.840000</td>\n",
       "    </tr>\n",
       "    <tr>\n",
       "      <th>2023-11-06</th>\n",
       "      <td>3.67257</td>\n",
       "      <td>347.234161</td>\n",
       "      <td>1.534480</td>\n",
       "      <td>4.8992</td>\n",
       "      <td>1.36606</td>\n",
       "      <td>0.89921</td>\n",
       "      <td>869.613403</td>\n",
       "      <td>7.2985</td>\n",
       "      <td>22.673201</td>\n",
       "      <td>6.95236</td>\n",
       "      <td>...</td>\n",
       "      <td>28.383150</td>\n",
       "      <td>18.262899</td>\n",
       "      <td>35037.371094</td>\n",
       "      <td>1981.599976</td>\n",
       "      <td>4.010000</td>\n",
       "      <td>34095.859375</td>\n",
       "      <td>4365.979980</td>\n",
       "      <td>378.250000</td>\n",
       "      <td>45.299999</td>\n",
       "      <td>24.770000</td>\n",
       "    </tr>\n",
       "    <tr>\n",
       "      <th>2023-11-07</th>\n",
       "      <td>3.67200</td>\n",
       "      <td>350.019135</td>\n",
       "      <td>1.540970</td>\n",
       "      <td>4.8841</td>\n",
       "      <td>1.36973</td>\n",
       "      <td>0.89920</td>\n",
       "      <td>881.299988</td>\n",
       "      <td>7.2686</td>\n",
       "      <td>22.877899</td>\n",
       "      <td>6.95824</td>\n",
       "      <td>...</td>\n",
       "      <td>28.447599</td>\n",
       "      <td>18.290100</td>\n",
       "      <td>35443.562500</td>\n",
       "      <td>1966.800049</td>\n",
       "      <td>3.810000</td>\n",
       "      <td>34152.601562</td>\n",
       "      <td>4378.379883</td>\n",
       "      <td>369.239990</td>\n",
       "      <td>44.770000</td>\n",
       "      <td>24.430000</td>\n",
       "    </tr>\n",
       "    <tr>\n",
       "      <th>2023-11-08</th>\n",
       "      <td>3.67290</td>\n",
       "      <td>349.890411</td>\n",
       "      <td>1.555186</td>\n",
       "      <td>4.8715</td>\n",
       "      <td>1.37685</td>\n",
       "      <td>0.89997</td>\n",
       "      <td>885.820007</td>\n",
       "      <td>7.2781</td>\n",
       "      <td>22.997700</td>\n",
       "      <td>6.97288</td>\n",
       "      <td>...</td>\n",
       "      <td>28.495199</td>\n",
       "      <td>18.333500</td>\n",
       "      <td>35655.277344</td>\n",
       "      <td>1951.500000</td>\n",
       "      <td>3.750000</td>\n",
       "      <td>34112.269531</td>\n",
       "      <td>4382.779785</td>\n",
       "      <td>369.369995</td>\n",
       "      <td>44.980000</td>\n",
       "      <td>24.530001</td>\n",
       "    </tr>\n",
       "    <tr>\n",
       "      <th>2023-11-09</th>\n",
       "      <td>3.67200</td>\n",
       "      <td>349.970001</td>\n",
       "      <td>1.561110</td>\n",
       "      <td>4.9093</td>\n",
       "      <td>1.37932</td>\n",
       "      <td>0.89908</td>\n",
       "      <td>898.369995</td>\n",
       "      <td>7.2793</td>\n",
       "      <td>22.966700</td>\n",
       "      <td>6.96350</td>\n",
       "      <td>...</td>\n",
       "      <td>28.517309</td>\n",
       "      <td>18.481899</td>\n",
       "      <td>36693.125000</td>\n",
       "      <td>1964.199951</td>\n",
       "      <td>3.730000</td>\n",
       "      <td>33891.941406</td>\n",
       "      <td>4347.350098</td>\n",
       "      <td>369.619995</td>\n",
       "      <td>45.250000</td>\n",
       "      <td>24.340000</td>\n",
       "    </tr>\n",
       "  </tbody>\n",
       "</table>\n",
       "<p>2733 rows × 34 columns</p>\n",
       "</div>"
      ],
      "text/plain": [
       "              AED=X       ARS=X     AUD=X   BRL=X    CAD=X    CHF=X  \\\n",
       "Date                                                                  \n",
       "2013-01-02  3.67200    4.912900  0.962310  2.0456  0.99390  0.91550   \n",
       "2013-01-03  3.67200    4.920800  0.953020  2.0456  0.98560  0.91778   \n",
       "2013-01-04  3.67200    4.920000  0.956660  2.0487  0.98840  0.92800   \n",
       "2013-01-07  3.67210    4.924200  0.952800  2.0324  0.98599  0.92453   \n",
       "2013-01-08  3.67210    4.926400  0.951320  2.0264  0.98560  0.92090   \n",
       "...             ...         ...       ...     ...      ...      ...   \n",
       "2023-11-03  3.67200  350.043396  1.555718  4.9529  1.37470  0.90610   \n",
       "2023-11-06  3.67257  347.234161  1.534480  4.8992  1.36606  0.89921   \n",
       "2023-11-07  3.67200  350.019135  1.540970  4.8841  1.36973  0.89920   \n",
       "2023-11-08  3.67290  349.890411  1.555186  4.8715  1.37685  0.89997   \n",
       "2023-11-09  3.67200  349.970001  1.561110  4.9093  1.37932  0.89908   \n",
       "\n",
       "                 CLP=X   CNY=X      CZK=X    DKK=X  ...      TRY=X      ZAR=X  \\\n",
       "Date                                                ...                         \n",
       "2013-01-02  479.200012  6.2376  18.983000  5.65220  ...   1.781400   8.449700   \n",
       "2013-01-03  474.149994  6.2332  19.091600  5.65863  ...   1.777780   8.478100   \n",
       "2013-01-04  472.549988  6.2325  19.368999  5.72710  ...   1.784200   8.587700   \n",
       "2013-01-07  472.450012  6.2305  19.403601  5.70730  ...   1.780480   8.555400   \n",
       "2013-01-08  470.950012  6.2298  19.446699  5.68370  ...   1.779180   8.560500   \n",
       "...                ...     ...        ...      ...  ...        ...        ...   \n",
       "2023-11-03  886.659973  7.3141  23.019899  7.03012  ...  28.358900  18.402100   \n",
       "2023-11-06  869.613403  7.2985  22.673201  6.95236  ...  28.383150  18.262899   \n",
       "2023-11-07  881.299988  7.2686  22.877899  6.95824  ...  28.447599  18.290100   \n",
       "2023-11-08  885.820007  7.2781  22.997700  6.97288  ...  28.495199  18.333500   \n",
       "2023-11-09  898.369995  7.2793  22.966700  6.96350  ...  28.517309  18.481899   \n",
       "\n",
       "                 BTC-USD         GC=F        WTI          ^DJI        ^GSPC  \\\n",
       "Date                                                                          \n",
       "2013-01-02           NaN  1687.900024  16.980000  13412.549805  1462.420044   \n",
       "2013-01-03           NaN  1673.699951  17.100000  13391.360352  1459.369995   \n",
       "2013-01-04           NaN  1648.099976  17.330000  13435.209961  1466.469971   \n",
       "2013-01-07           NaN  1645.500000  17.280001  13384.290039  1461.890015   \n",
       "2013-01-08           NaN  1661.500000  17.129999  13328.849609  1457.150024   \n",
       "...                  ...          ...        ...           ...          ...   \n",
       "2023-11-03  34732.324219  1991.500000   4.220000  34061.320312  4358.339844   \n",
       "2023-11-06  35037.371094  1981.599976   4.010000  34095.859375  4365.979980   \n",
       "2023-11-07  35443.562500  1966.800049   3.810000  34152.601562  4378.379883   \n",
       "2023-11-08  35655.277344  1951.500000   3.750000  34112.269531  4382.779785   \n",
       "2023-11-09  36693.125000  1964.199951   3.730000  33891.941406  4347.350098   \n",
       "\n",
       "                    DE      IBDRY        SAR  \n",
       "Date                                          \n",
       "2013-01-02   87.989998  21.660000  15.500000  \n",
       "2013-01-03   87.769997  21.420000  15.450000  \n",
       "2013-01-04   88.669998  21.620001  15.300000  \n",
       "2013-01-07   88.599998  21.540001  15.200000  \n",
       "2013-01-08   87.680000  21.299999  15.390000  \n",
       "...                ...        ...        ...  \n",
       "2023-11-03  382.200012  45.680000  24.840000  \n",
       "2023-11-06  378.250000  45.299999  24.770000  \n",
       "2023-11-07  369.239990  44.770000  24.430000  \n",
       "2023-11-08  369.369995  44.980000  24.530001  \n",
       "2023-11-09  369.619995  45.250000  24.340000  \n",
       "\n",
       "[2733 rows x 34 columns]"
      ]
     },
     "execution_count": 72,
     "metadata": {},
     "output_type": "execute_result"
    }
   ],
   "source": [
    "merged_df"
   ]
  },
  {
   "cell_type": "code",
   "execution_count": 73,
   "metadata": {},
   "outputs": [
    {
     "data": {
      "text/html": [
       "<div>\n",
       "<style scoped>\n",
       "    .dataframe tbody tr th:only-of-type {\n",
       "        vertical-align: middle;\n",
       "    }\n",
       "\n",
       "    .dataframe tbody tr th {\n",
       "        vertical-align: top;\n",
       "    }\n",
       "\n",
       "    .dataframe thead th {\n",
       "        text-align: right;\n",
       "    }\n",
       "</style>\n",
       "<table border=\"1\" class=\"dataframe\">\n",
       "  <thead>\n",
       "    <tr style=\"text-align: right;\">\n",
       "      <th></th>\n",
       "      <th>AED=X</th>\n",
       "      <th>ARS=X</th>\n",
       "      <th>AUD=X</th>\n",
       "      <th>BRL=X</th>\n",
       "      <th>CAD=X</th>\n",
       "      <th>CHF=X</th>\n",
       "      <th>CLP=X</th>\n",
       "      <th>CNY=X</th>\n",
       "      <th>CZK=X</th>\n",
       "      <th>DKK=X</th>\n",
       "      <th>...</th>\n",
       "      <th>TRY=X</th>\n",
       "      <th>ZAR=X</th>\n",
       "      <th>BTC-USD</th>\n",
       "      <th>GC=F</th>\n",
       "      <th>WTI</th>\n",
       "      <th>^DJI</th>\n",
       "      <th>^GSPC</th>\n",
       "      <th>DE</th>\n",
       "      <th>IBDRY</th>\n",
       "      <th>SAR</th>\n",
       "    </tr>\n",
       "  </thead>\n",
       "  <tbody>\n",
       "    <tr>\n",
       "      <th>AED=X</th>\n",
       "      <td>1.000000</td>\n",
       "      <td>0.009005</td>\n",
       "      <td>0.087658</td>\n",
       "      <td>0.162960</td>\n",
       "      <td>0.059774</td>\n",
       "      <td>0.032941</td>\n",
       "      <td>0.106408</td>\n",
       "      <td>0.045261</td>\n",
       "      <td>0.004451</td>\n",
       "      <td>0.017404</td>\n",
       "      <td>...</td>\n",
       "      <td>0.014443</td>\n",
       "      <td>0.045746</td>\n",
       "      <td>0.111093</td>\n",
       "      <td>0.076672</td>\n",
       "      <td>-0.052517</td>\n",
       "      <td>0.168500</td>\n",
       "      <td>0.151408</td>\n",
       "      <td>0.099085</td>\n",
       "      <td>0.150931</td>\n",
       "      <td>0.148049</td>\n",
       "    </tr>\n",
       "    <tr>\n",
       "      <th>ARS=X</th>\n",
       "      <td>0.009005</td>\n",
       "      <td>1.000000</td>\n",
       "      <td>0.595236</td>\n",
       "      <td>0.683130</td>\n",
       "      <td>0.402956</td>\n",
       "      <td>-0.381245</td>\n",
       "      <td>0.740398</td>\n",
       "      <td>0.578869</td>\n",
       "      <td>0.040082</td>\n",
       "      <td>0.458637</td>\n",
       "      <td>...</td>\n",
       "      <td>0.971288</td>\n",
       "      <td>0.758360</td>\n",
       "      <td>0.591517</td>\n",
       "      <td>0.779418</td>\n",
       "      <td>-0.253785</td>\n",
       "      <td>0.774827</td>\n",
       "      <td>0.803899</td>\n",
       "      <td>0.854483</td>\n",
       "      <td>0.710292</td>\n",
       "      <td>0.589094</td>\n",
       "    </tr>\n",
       "    <tr>\n",
       "      <th>AUD=X</th>\n",
       "      <td>0.087658</td>\n",
       "      <td>0.595236</td>\n",
       "      <td>1.000000</td>\n",
       "      <td>0.780990</td>\n",
       "      <td>0.927040</td>\n",
       "      <td>0.286380</td>\n",
       "      <td>0.860941</td>\n",
       "      <td>0.810823</td>\n",
       "      <td>0.635887</td>\n",
       "      <td>0.851934</td>\n",
       "      <td>...</td>\n",
       "      <td>0.614639</td>\n",
       "      <td>0.907041</td>\n",
       "      <td>0.171520</td>\n",
       "      <td>0.382720</td>\n",
       "      <td>-0.746304</td>\n",
       "      <td>0.651082</td>\n",
       "      <td>0.629812</td>\n",
       "      <td>0.515370</td>\n",
       "      <td>0.589678</td>\n",
       "      <td>0.466683</td>\n",
       "    </tr>\n",
       "    <tr>\n",
       "      <th>BRL=X</th>\n",
       "      <td>0.162960</td>\n",
       "      <td>0.683130</td>\n",
       "      <td>0.780990</td>\n",
       "      <td>1.000000</td>\n",
       "      <td>0.674622</td>\n",
       "      <td>-0.112272</td>\n",
       "      <td>0.893008</td>\n",
       "      <td>0.575875</td>\n",
       "      <td>0.307423</td>\n",
       "      <td>0.589845</td>\n",
       "      <td>...</td>\n",
       "      <td>0.696575</td>\n",
       "      <td>0.870083</td>\n",
       "      <td>0.760133</td>\n",
       "      <td>0.758082</td>\n",
       "      <td>-0.620814</td>\n",
       "      <td>0.876309</td>\n",
       "      <td>0.887175</td>\n",
       "      <td>0.806062</td>\n",
       "      <td>0.884635</td>\n",
       "      <td>0.593013</td>\n",
       "    </tr>\n",
       "    <tr>\n",
       "      <th>CAD=X</th>\n",
       "      <td>0.059774</td>\n",
       "      <td>0.402956</td>\n",
       "      <td>0.927040</td>\n",
       "      <td>0.674622</td>\n",
       "      <td>1.000000</td>\n",
       "      <td>0.424941</td>\n",
       "      <td>0.726066</td>\n",
       "      <td>0.772539</td>\n",
       "      <td>0.739068</td>\n",
       "      <td>0.846193</td>\n",
       "      <td>...</td>\n",
       "      <td>0.420818</td>\n",
       "      <td>0.822245</td>\n",
       "      <td>-0.146363</td>\n",
       "      <td>0.196982</td>\n",
       "      <td>-0.859413</td>\n",
       "      <td>0.502346</td>\n",
       "      <td>0.473123</td>\n",
       "      <td>0.340328</td>\n",
       "      <td>0.455395</td>\n",
       "      <td>0.347251</td>\n",
       "    </tr>\n",
       "    <tr>\n",
       "      <th>CHF=X</th>\n",
       "      <td>0.032941</td>\n",
       "      <td>-0.381245</td>\n",
       "      <td>0.286380</td>\n",
       "      <td>-0.112272</td>\n",
       "      <td>0.424941</td>\n",
       "      <td>1.000000</td>\n",
       "      <td>0.001628</td>\n",
       "      <td>0.285775</td>\n",
       "      <td>0.602505</td>\n",
       "      <td>0.483101</td>\n",
       "      <td>...</td>\n",
       "      <td>-0.307110</td>\n",
       "      <td>0.032127</td>\n",
       "      <td>-0.630450</td>\n",
       "      <td>-0.531854</td>\n",
       "      <td>-0.358310</td>\n",
       "      <td>-0.211686</td>\n",
       "      <td>-0.281764</td>\n",
       "      <td>-0.376651</td>\n",
       "      <td>-0.365697</td>\n",
       "      <td>-0.044989</td>\n",
       "    </tr>\n",
       "    <tr>\n",
       "      <th>CLP=X</th>\n",
       "      <td>0.106408</td>\n",
       "      <td>0.740398</td>\n",
       "      <td>0.860941</td>\n",
       "      <td>0.893008</td>\n",
       "      <td>0.726066</td>\n",
       "      <td>0.001628</td>\n",
       "      <td>1.000000</td>\n",
       "      <td>0.683646</td>\n",
       "      <td>0.468229</td>\n",
       "      <td>0.754855</td>\n",
       "      <td>...</td>\n",
       "      <td>0.784087</td>\n",
       "      <td>0.908774</td>\n",
       "      <td>0.548456</td>\n",
       "      <td>0.656198</td>\n",
       "      <td>-0.600594</td>\n",
       "      <td>0.796287</td>\n",
       "      <td>0.814462</td>\n",
       "      <td>0.751512</td>\n",
       "      <td>0.750418</td>\n",
       "      <td>0.541469</td>\n",
       "    </tr>\n",
       "    <tr>\n",
       "      <th>CNY=X</th>\n",
       "      <td>0.045261</td>\n",
       "      <td>0.578869</td>\n",
       "      <td>0.810823</td>\n",
       "      <td>0.575875</td>\n",
       "      <td>0.772539</td>\n",
       "      <td>0.285775</td>\n",
       "      <td>0.683646</td>\n",
       "      <td>1.000000</td>\n",
       "      <td>0.477844</td>\n",
       "      <td>0.713106</td>\n",
       "      <td>...</td>\n",
       "      <td>0.571575</td>\n",
       "      <td>0.792396</td>\n",
       "      <td>-0.009097</td>\n",
       "      <td>0.375404</td>\n",
       "      <td>-0.562439</td>\n",
       "      <td>0.531999</td>\n",
       "      <td>0.486287</td>\n",
       "      <td>0.403949</td>\n",
       "      <td>0.483638</td>\n",
       "      <td>0.438340</td>\n",
       "    </tr>\n",
       "    <tr>\n",
       "      <th>CZK=X</th>\n",
       "      <td>0.004451</td>\n",
       "      <td>0.040082</td>\n",
       "      <td>0.635887</td>\n",
       "      <td>0.307423</td>\n",
       "      <td>0.739068</td>\n",
       "      <td>0.602505</td>\n",
       "      <td>0.468229</td>\n",
       "      <td>0.477844</td>\n",
       "      <td>1.000000</td>\n",
       "      <td>0.838050</td>\n",
       "      <td>...</td>\n",
       "      <td>0.089168</td>\n",
       "      <td>0.485280</td>\n",
       "      <td>-0.501505</td>\n",
       "      <td>-0.161064</td>\n",
       "      <td>-0.696106</td>\n",
       "      <td>0.046418</td>\n",
       "      <td>0.058017</td>\n",
       "      <td>-0.041828</td>\n",
       "      <td>0.026002</td>\n",
       "      <td>-0.062137</td>\n",
       "    </tr>\n",
       "    <tr>\n",
       "      <th>DKK=X</th>\n",
       "      <td>0.017404</td>\n",
       "      <td>0.458637</td>\n",
       "      <td>0.851934</td>\n",
       "      <td>0.589845</td>\n",
       "      <td>0.846193</td>\n",
       "      <td>0.483101</td>\n",
       "      <td>0.754855</td>\n",
       "      <td>0.713106</td>\n",
       "      <td>0.838050</td>\n",
       "      <td>1.000000</td>\n",
       "      <td>...</td>\n",
       "      <td>0.531845</td>\n",
       "      <td>0.755835</td>\n",
       "      <td>-0.070322</td>\n",
       "      <td>0.216701</td>\n",
       "      <td>-0.717922</td>\n",
       "      <td>0.464784</td>\n",
       "      <td>0.460303</td>\n",
       "      <td>0.401128</td>\n",
       "      <td>0.337941</td>\n",
       "      <td>0.377505</td>\n",
       "    </tr>\n",
       "    <tr>\n",
       "      <th>EGP=X</th>\n",
       "      <td>0.011520</td>\n",
       "      <td>0.819466</td>\n",
       "      <td>0.690985</td>\n",
       "      <td>0.645040</td>\n",
       "      <td>0.610220</td>\n",
       "      <td>-0.051872</td>\n",
       "      <td>0.672422</td>\n",
       "      <td>0.758838</td>\n",
       "      <td>0.128544</td>\n",
       "      <td>0.556826</td>\n",
       "      <td>...</td>\n",
       "      <td>0.823445</td>\n",
       "      <td>0.752277</td>\n",
       "      <td>0.412462</td>\n",
       "      <td>0.596892</td>\n",
       "      <td>-0.438605</td>\n",
       "      <td>0.786994</td>\n",
       "      <td>0.750278</td>\n",
       "      <td>0.743938</td>\n",
       "      <td>0.647680</td>\n",
       "      <td>0.712220</td>\n",
       "    </tr>\n",
       "    <tr>\n",
       "      <th>EUR=X</th>\n",
       "      <td>0.016929</td>\n",
       "      <td>0.460478</td>\n",
       "      <td>0.849187</td>\n",
       "      <td>0.593436</td>\n",
       "      <td>0.844896</td>\n",
       "      <td>0.479558</td>\n",
       "      <td>0.756872</td>\n",
       "      <td>0.710841</td>\n",
       "      <td>0.837147</td>\n",
       "      <td>0.999808</td>\n",
       "      <td>...</td>\n",
       "      <td>0.534742</td>\n",
       "      <td>0.756835</td>\n",
       "      <td>-0.059309</td>\n",
       "      <td>0.221996</td>\n",
       "      <td>-0.721356</td>\n",
       "      <td>0.469666</td>\n",
       "      <td>0.465983</td>\n",
       "      <td>0.407791</td>\n",
       "      <td>0.341925</td>\n",
       "      <td>0.381401</td>\n",
       "    </tr>\n",
       "    <tr>\n",
       "      <th>GBP=X</th>\n",
       "      <td>0.084089</td>\n",
       "      <td>0.547561</td>\n",
       "      <td>0.800436</td>\n",
       "      <td>0.670784</td>\n",
       "      <td>0.774951</td>\n",
       "      <td>0.350008</td>\n",
       "      <td>0.736189</td>\n",
       "      <td>0.881960</td>\n",
       "      <td>0.489711</td>\n",
       "      <td>0.783188</td>\n",
       "      <td>...</td>\n",
       "      <td>0.599863</td>\n",
       "      <td>0.779949</td>\n",
       "      <td>0.178787</td>\n",
       "      <td>0.453284</td>\n",
       "      <td>-0.632733</td>\n",
       "      <td>0.654095</td>\n",
       "      <td>0.608109</td>\n",
       "      <td>0.535978</td>\n",
       "      <td>0.525654</td>\n",
       "      <td>0.584185</td>\n",
       "    </tr>\n",
       "    <tr>\n",
       "      <th>HUF=X</th>\n",
       "      <td>0.067531</td>\n",
       "      <td>0.765322</td>\n",
       "      <td>0.821792</td>\n",
       "      <td>0.826636</td>\n",
       "      <td>0.696773</td>\n",
       "      <td>0.068125</td>\n",
       "      <td>0.932998</td>\n",
       "      <td>0.688453</td>\n",
       "      <td>0.509468</td>\n",
       "      <td>0.837203</td>\n",
       "      <td>...</td>\n",
       "      <td>0.838308</td>\n",
       "      <td>0.875809</td>\n",
       "      <td>0.475976</td>\n",
       "      <td>0.634705</td>\n",
       "      <td>-0.538774</td>\n",
       "      <td>0.767291</td>\n",
       "      <td>0.780192</td>\n",
       "      <td>0.780148</td>\n",
       "      <td>0.672015</td>\n",
       "      <td>0.560787</td>\n",
       "    </tr>\n",
       "    <tr>\n",
       "      <th>JPY=X</th>\n",
       "      <td>-0.063889</td>\n",
       "      <td>0.755679</td>\n",
       "      <td>0.642729</td>\n",
       "      <td>0.496113</td>\n",
       "      <td>0.520844</td>\n",
       "      <td>0.007073</td>\n",
       "      <td>0.698338</td>\n",
       "      <td>0.483924</td>\n",
       "      <td>0.421399</td>\n",
       "      <td>0.712554</td>\n",
       "      <td>...</td>\n",
       "      <td>0.813245</td>\n",
       "      <td>0.669958</td>\n",
       "      <td>0.225527</td>\n",
       "      <td>0.349770</td>\n",
       "      <td>-0.341175</td>\n",
       "      <td>0.529190</td>\n",
       "      <td>0.555665</td>\n",
       "      <td>0.620015</td>\n",
       "      <td>0.385634</td>\n",
       "      <td>0.388082</td>\n",
       "    </tr>\n",
       "    <tr>\n",
       "      <th>KES=X</th>\n",
       "      <td>-0.012896</td>\n",
       "      <td>0.933184</td>\n",
       "      <td>0.757528</td>\n",
       "      <td>0.773255</td>\n",
       "      <td>0.642021</td>\n",
       "      <td>-0.179092</td>\n",
       "      <td>0.827678</td>\n",
       "      <td>0.682701</td>\n",
       "      <td>0.268157</td>\n",
       "      <td>0.655732</td>\n",
       "      <td>...</td>\n",
       "      <td>0.933606</td>\n",
       "      <td>0.873970</td>\n",
       "      <td>0.561166</td>\n",
       "      <td>0.699724</td>\n",
       "      <td>-0.528411</td>\n",
       "      <td>0.802398</td>\n",
       "      <td>0.823537</td>\n",
       "      <td>0.827761</td>\n",
       "      <td>0.719540</td>\n",
       "      <td>0.615873</td>\n",
       "    </tr>\n",
       "    <tr>\n",
       "      <th>MXN=X</th>\n",
       "      <td>0.172092</td>\n",
       "      <td>0.321439</td>\n",
       "      <td>0.781479</td>\n",
       "      <td>0.804640</td>\n",
       "      <td>0.813600</td>\n",
       "      <td>0.309177</td>\n",
       "      <td>0.718891</td>\n",
       "      <td>0.667154</td>\n",
       "      <td>0.515120</td>\n",
       "      <td>0.648245</td>\n",
       "      <td>...</td>\n",
       "      <td>0.355670</td>\n",
       "      <td>0.743558</td>\n",
       "      <td>0.360131</td>\n",
       "      <td>0.420277</td>\n",
       "      <td>-0.790456</td>\n",
       "      <td>0.658702</td>\n",
       "      <td>0.626093</td>\n",
       "      <td>0.462061</td>\n",
       "      <td>0.615205</td>\n",
       "      <td>0.476102</td>\n",
       "    </tr>\n",
       "    <tr>\n",
       "      <th>NGN=X</th>\n",
       "      <td>0.103923</td>\n",
       "      <td>0.869046</td>\n",
       "      <td>0.713296</td>\n",
       "      <td>0.728218</td>\n",
       "      <td>0.596622</td>\n",
       "      <td>-0.142513</td>\n",
       "      <td>0.747260</td>\n",
       "      <td>0.731724</td>\n",
       "      <td>0.147508</td>\n",
       "      <td>0.536286</td>\n",
       "      <td>...</td>\n",
       "      <td>0.854329</td>\n",
       "      <td>0.780688</td>\n",
       "      <td>0.556743</td>\n",
       "      <td>0.677728</td>\n",
       "      <td>-0.494059</td>\n",
       "      <td>0.837674</td>\n",
       "      <td>0.828496</td>\n",
       "      <td>0.780762</td>\n",
       "      <td>0.721170</td>\n",
       "      <td>0.701581</td>\n",
       "    </tr>\n",
       "    <tr>\n",
       "      <th>NOK=X</th>\n",
       "      <td>0.049099</td>\n",
       "      <td>0.731447</td>\n",
       "      <td>0.953218</td>\n",
       "      <td>0.840217</td>\n",
       "      <td>0.882113</td>\n",
       "      <td>0.153155</td>\n",
       "      <td>0.905870</td>\n",
       "      <td>0.818407</td>\n",
       "      <td>0.575034</td>\n",
       "      <td>0.852996</td>\n",
       "      <td>...</td>\n",
       "      <td>0.750448</td>\n",
       "      <td>0.956049</td>\n",
       "      <td>0.363579</td>\n",
       "      <td>0.551548</td>\n",
       "      <td>-0.738446</td>\n",
       "      <td>0.739647</td>\n",
       "      <td>0.733969</td>\n",
       "      <td>0.659179</td>\n",
       "      <td>0.687869</td>\n",
       "      <td>0.521160</td>\n",
       "    </tr>\n",
       "    <tr>\n",
       "      <th>NZD=X</th>\n",
       "      <td>0.056628</td>\n",
       "      <td>0.646008</td>\n",
       "      <td>0.958970</td>\n",
       "      <td>0.767162</td>\n",
       "      <td>0.861797</td>\n",
       "      <td>0.275733</td>\n",
       "      <td>0.859301</td>\n",
       "      <td>0.811193</td>\n",
       "      <td>0.579899</td>\n",
       "      <td>0.852154</td>\n",
       "      <td>...</td>\n",
       "      <td>0.679186</td>\n",
       "      <td>0.905084</td>\n",
       "      <td>0.166692</td>\n",
       "      <td>0.430118</td>\n",
       "      <td>-0.665525</td>\n",
       "      <td>0.635995</td>\n",
       "      <td>0.618519</td>\n",
       "      <td>0.545650</td>\n",
       "      <td>0.561131</td>\n",
       "      <td>0.459119</td>\n",
       "    </tr>\n",
       "    <tr>\n",
       "      <th>PLN=X</th>\n",
       "      <td>0.045797</td>\n",
       "      <td>0.617763</td>\n",
       "      <td>0.848317</td>\n",
       "      <td>0.762068</td>\n",
       "      <td>0.787829</td>\n",
       "      <td>0.285259</td>\n",
       "      <td>0.877013</td>\n",
       "      <td>0.700502</td>\n",
       "      <td>0.685353</td>\n",
       "      <td>0.935403</td>\n",
       "      <td>...</td>\n",
       "      <td>0.696965</td>\n",
       "      <td>0.853382</td>\n",
       "      <td>0.321070</td>\n",
       "      <td>0.467262</td>\n",
       "      <td>-0.658655</td>\n",
       "      <td>0.649595</td>\n",
       "      <td>0.659853</td>\n",
       "      <td>0.633250</td>\n",
       "      <td>0.531203</td>\n",
       "      <td>0.493802</td>\n",
       "    </tr>\n",
       "    <tr>\n",
       "      <th>RON=X</th>\n",
       "      <td>0.079692</td>\n",
       "      <td>0.674157</td>\n",
       "      <td>0.909394</td>\n",
       "      <td>0.813500</td>\n",
       "      <td>0.831173</td>\n",
       "      <td>0.252397</td>\n",
       "      <td>0.908140</td>\n",
       "      <td>0.765400</td>\n",
       "      <td>0.632505</td>\n",
       "      <td>0.926011</td>\n",
       "      <td>...</td>\n",
       "      <td>0.736580</td>\n",
       "      <td>0.885736</td>\n",
       "      <td>0.409145</td>\n",
       "      <td>0.521082</td>\n",
       "      <td>-0.695824</td>\n",
       "      <td>0.746421</td>\n",
       "      <td>0.741308</td>\n",
       "      <td>0.681260</td>\n",
       "      <td>0.628676</td>\n",
       "      <td>0.594400</td>\n",
       "    </tr>\n",
       "    <tr>\n",
       "      <th>SAR=X</th>\n",
       "      <td>0.023940</td>\n",
       "      <td>0.078645</td>\n",
       "      <td>0.066041</td>\n",
       "      <td>0.088747</td>\n",
       "      <td>0.030248</td>\n",
       "      <td>-0.046063</td>\n",
       "      <td>0.105969</td>\n",
       "      <td>0.031590</td>\n",
       "      <td>0.006780</td>\n",
       "      <td>0.050630</td>\n",
       "      <td>...</td>\n",
       "      <td>0.096234</td>\n",
       "      <td>0.078553</td>\n",
       "      <td>0.048204</td>\n",
       "      <td>0.089868</td>\n",
       "      <td>0.013070</td>\n",
       "      <td>0.079041</td>\n",
       "      <td>0.079039</td>\n",
       "      <td>0.097121</td>\n",
       "      <td>0.078850</td>\n",
       "      <td>0.027080</td>\n",
       "    </tr>\n",
       "    <tr>\n",
       "      <th>SEK=X</th>\n",
       "      <td>0.074719</td>\n",
       "      <td>0.723361</td>\n",
       "      <td>0.937800</td>\n",
       "      <td>0.762653</td>\n",
       "      <td>0.850657</td>\n",
       "      <td>0.239255</td>\n",
       "      <td>0.875375</td>\n",
       "      <td>0.836822</td>\n",
       "      <td>0.582631</td>\n",
       "      <td>0.893210</td>\n",
       "      <td>...</td>\n",
       "      <td>0.765746</td>\n",
       "      <td>0.895369</td>\n",
       "      <td>0.282776</td>\n",
       "      <td>0.489270</td>\n",
       "      <td>-0.658674</td>\n",
       "      <td>0.729925</td>\n",
       "      <td>0.710467</td>\n",
       "      <td>0.649235</td>\n",
       "      <td>0.610963</td>\n",
       "      <td>0.587166</td>\n",
       "    </tr>\n",
       "    <tr>\n",
       "      <th>TRY=X</th>\n",
       "      <td>0.014443</td>\n",
       "      <td>0.971288</td>\n",
       "      <td>0.614639</td>\n",
       "      <td>0.696575</td>\n",
       "      <td>0.420818</td>\n",
       "      <td>-0.307110</td>\n",
       "      <td>0.784087</td>\n",
       "      <td>0.571575</td>\n",
       "      <td>0.089168</td>\n",
       "      <td>0.531845</td>\n",
       "      <td>...</td>\n",
       "      <td>1.000000</td>\n",
       "      <td>0.767424</td>\n",
       "      <td>0.584697</td>\n",
       "      <td>0.763979</td>\n",
       "      <td>-0.252778</td>\n",
       "      <td>0.793446</td>\n",
       "      <td>0.821719</td>\n",
       "      <td>0.882228</td>\n",
       "      <td>0.683584</td>\n",
       "      <td>0.621840</td>\n",
       "    </tr>\n",
       "    <tr>\n",
       "      <th>ZAR=X</th>\n",
       "      <td>0.045746</td>\n",
       "      <td>0.758360</td>\n",
       "      <td>0.907041</td>\n",
       "      <td>0.870083</td>\n",
       "      <td>0.822245</td>\n",
       "      <td>0.032127</td>\n",
       "      <td>0.908774</td>\n",
       "      <td>0.792396</td>\n",
       "      <td>0.485280</td>\n",
       "      <td>0.755835</td>\n",
       "      <td>...</td>\n",
       "      <td>0.767424</td>\n",
       "      <td>1.000000</td>\n",
       "      <td>0.404736</td>\n",
       "      <td>0.613470</td>\n",
       "      <td>-0.669663</td>\n",
       "      <td>0.731484</td>\n",
       "      <td>0.740533</td>\n",
       "      <td>0.674775</td>\n",
       "      <td>0.722461</td>\n",
       "      <td>0.463271</td>\n",
       "    </tr>\n",
       "    <tr>\n",
       "      <th>BTC-USD</th>\n",
       "      <td>0.111093</td>\n",
       "      <td>0.591517</td>\n",
       "      <td>0.171520</td>\n",
       "      <td>0.760133</td>\n",
       "      <td>-0.146363</td>\n",
       "      <td>-0.630450</td>\n",
       "      <td>0.548456</td>\n",
       "      <td>-0.009097</td>\n",
       "      <td>-0.501505</td>\n",
       "      <td>-0.070322</td>\n",
       "      <td>...</td>\n",
       "      <td>0.584697</td>\n",
       "      <td>0.404736</td>\n",
       "      <td>1.000000</td>\n",
       "      <td>0.771852</td>\n",
       "      <td>0.005739</td>\n",
       "      <td>0.858353</td>\n",
       "      <td>0.894397</td>\n",
       "      <td>0.855987</td>\n",
       "      <td>0.771973</td>\n",
       "      <td>0.686009</td>\n",
       "    </tr>\n",
       "    <tr>\n",
       "      <th>GC=F</th>\n",
       "      <td>0.076672</td>\n",
       "      <td>0.779418</td>\n",
       "      <td>0.382720</td>\n",
       "      <td>0.758082</td>\n",
       "      <td>0.196982</td>\n",
       "      <td>-0.531854</td>\n",
       "      <td>0.656198</td>\n",
       "      <td>0.375404</td>\n",
       "      <td>-0.161064</td>\n",
       "      <td>0.216701</td>\n",
       "      <td>...</td>\n",
       "      <td>0.763979</td>\n",
       "      <td>0.613470</td>\n",
       "      <td>0.771852</td>\n",
       "      <td>1.000000</td>\n",
       "      <td>-0.191971</td>\n",
       "      <td>0.796661</td>\n",
       "      <td>0.831497</td>\n",
       "      <td>0.855739</td>\n",
       "      <td>0.851359</td>\n",
       "      <td>0.554893</td>\n",
       "    </tr>\n",
       "    <tr>\n",
       "      <th>WTI</th>\n",
       "      <td>-0.052517</td>\n",
       "      <td>-0.253785</td>\n",
       "      <td>-0.746304</td>\n",
       "      <td>-0.620814</td>\n",
       "      <td>-0.859413</td>\n",
       "      <td>-0.358310</td>\n",
       "      <td>-0.600594</td>\n",
       "      <td>-0.562439</td>\n",
       "      <td>-0.696106</td>\n",
       "      <td>-0.717922</td>\n",
       "      <td>...</td>\n",
       "      <td>-0.252778</td>\n",
       "      <td>-0.669663</td>\n",
       "      <td>0.005739</td>\n",
       "      <td>-0.191971</td>\n",
       "      <td>1.000000</td>\n",
       "      <td>-0.451237</td>\n",
       "      <td>-0.442974</td>\n",
       "      <td>-0.281221</td>\n",
       "      <td>-0.452061</td>\n",
       "      <td>-0.300178</td>\n",
       "    </tr>\n",
       "    <tr>\n",
       "      <th>^DJI</th>\n",
       "      <td>0.168500</td>\n",
       "      <td>0.774827</td>\n",
       "      <td>0.651082</td>\n",
       "      <td>0.876309</td>\n",
       "      <td>0.502346</td>\n",
       "      <td>-0.211686</td>\n",
       "      <td>0.796287</td>\n",
       "      <td>0.531999</td>\n",
       "      <td>0.046418</td>\n",
       "      <td>0.464784</td>\n",
       "      <td>...</td>\n",
       "      <td>0.793446</td>\n",
       "      <td>0.731484</td>\n",
       "      <td>0.858353</td>\n",
       "      <td>0.796661</td>\n",
       "      <td>-0.451237</td>\n",
       "      <td>1.000000</td>\n",
       "      <td>0.988518</td>\n",
       "      <td>0.931694</td>\n",
       "      <td>0.895538</td>\n",
       "      <td>0.852818</td>\n",
       "    </tr>\n",
       "    <tr>\n",
       "      <th>^GSPC</th>\n",
       "      <td>0.151408</td>\n",
       "      <td>0.803899</td>\n",
       "      <td>0.629812</td>\n",
       "      <td>0.887175</td>\n",
       "      <td>0.473123</td>\n",
       "      <td>-0.281764</td>\n",
       "      <td>0.814462</td>\n",
       "      <td>0.486287</td>\n",
       "      <td>0.058017</td>\n",
       "      <td>0.460303</td>\n",
       "      <td>...</td>\n",
       "      <td>0.821719</td>\n",
       "      <td>0.740533</td>\n",
       "      <td>0.894397</td>\n",
       "      <td>0.831497</td>\n",
       "      <td>-0.442974</td>\n",
       "      <td>0.988518</td>\n",
       "      <td>1.000000</td>\n",
       "      <td>0.951058</td>\n",
       "      <td>0.901005</td>\n",
       "      <td>0.816485</td>\n",
       "    </tr>\n",
       "    <tr>\n",
       "      <th>DE</th>\n",
       "      <td>0.099085</td>\n",
       "      <td>0.854483</td>\n",
       "      <td>0.515370</td>\n",
       "      <td>0.806062</td>\n",
       "      <td>0.340328</td>\n",
       "      <td>-0.376651</td>\n",
       "      <td>0.751512</td>\n",
       "      <td>0.403949</td>\n",
       "      <td>-0.041828</td>\n",
       "      <td>0.401128</td>\n",
       "      <td>...</td>\n",
       "      <td>0.882228</td>\n",
       "      <td>0.674775</td>\n",
       "      <td>0.855987</td>\n",
       "      <td>0.855739</td>\n",
       "      <td>-0.281221</td>\n",
       "      <td>0.931694</td>\n",
       "      <td>0.951058</td>\n",
       "      <td>1.000000</td>\n",
       "      <td>0.836948</td>\n",
       "      <td>0.766662</td>\n",
       "    </tr>\n",
       "    <tr>\n",
       "      <th>IBDRY</th>\n",
       "      <td>0.150931</td>\n",
       "      <td>0.710292</td>\n",
       "      <td>0.589678</td>\n",
       "      <td>0.884635</td>\n",
       "      <td>0.455395</td>\n",
       "      <td>-0.365697</td>\n",
       "      <td>0.750418</td>\n",
       "      <td>0.483638</td>\n",
       "      <td>0.026002</td>\n",
       "      <td>0.337941</td>\n",
       "      <td>...</td>\n",
       "      <td>0.683584</td>\n",
       "      <td>0.722461</td>\n",
       "      <td>0.771973</td>\n",
       "      <td>0.851359</td>\n",
       "      <td>-0.452061</td>\n",
       "      <td>0.895538</td>\n",
       "      <td>0.901005</td>\n",
       "      <td>0.836948</td>\n",
       "      <td>1.000000</td>\n",
       "      <td>0.638163</td>\n",
       "    </tr>\n",
       "    <tr>\n",
       "      <th>SAR</th>\n",
       "      <td>0.148049</td>\n",
       "      <td>0.589094</td>\n",
       "      <td>0.466683</td>\n",
       "      <td>0.593013</td>\n",
       "      <td>0.347251</td>\n",
       "      <td>-0.044989</td>\n",
       "      <td>0.541469</td>\n",
       "      <td>0.438340</td>\n",
       "      <td>-0.062137</td>\n",
       "      <td>0.377505</td>\n",
       "      <td>...</td>\n",
       "      <td>0.621840</td>\n",
       "      <td>0.463271</td>\n",
       "      <td>0.686009</td>\n",
       "      <td>0.554893</td>\n",
       "      <td>-0.300178</td>\n",
       "      <td>0.852818</td>\n",
       "      <td>0.816485</td>\n",
       "      <td>0.766662</td>\n",
       "      <td>0.638163</td>\n",
       "      <td>1.000000</td>\n",
       "    </tr>\n",
       "  </tbody>\n",
       "</table>\n",
       "<p>34 rows × 34 columns</p>\n",
       "</div>"
      ],
      "text/plain": [
       "            AED=X     ARS=X     AUD=X     BRL=X     CAD=X     CHF=X     CLP=X  \\\n",
       "AED=X    1.000000  0.009005  0.087658  0.162960  0.059774  0.032941  0.106408   \n",
       "ARS=X    0.009005  1.000000  0.595236  0.683130  0.402956 -0.381245  0.740398   \n",
       "AUD=X    0.087658  0.595236  1.000000  0.780990  0.927040  0.286380  0.860941   \n",
       "BRL=X    0.162960  0.683130  0.780990  1.000000  0.674622 -0.112272  0.893008   \n",
       "CAD=X    0.059774  0.402956  0.927040  0.674622  1.000000  0.424941  0.726066   \n",
       "CHF=X    0.032941 -0.381245  0.286380 -0.112272  0.424941  1.000000  0.001628   \n",
       "CLP=X    0.106408  0.740398  0.860941  0.893008  0.726066  0.001628  1.000000   \n",
       "CNY=X    0.045261  0.578869  0.810823  0.575875  0.772539  0.285775  0.683646   \n",
       "CZK=X    0.004451  0.040082  0.635887  0.307423  0.739068  0.602505  0.468229   \n",
       "DKK=X    0.017404  0.458637  0.851934  0.589845  0.846193  0.483101  0.754855   \n",
       "EGP=X    0.011520  0.819466  0.690985  0.645040  0.610220 -0.051872  0.672422   \n",
       "EUR=X    0.016929  0.460478  0.849187  0.593436  0.844896  0.479558  0.756872   \n",
       "GBP=X    0.084089  0.547561  0.800436  0.670784  0.774951  0.350008  0.736189   \n",
       "HUF=X    0.067531  0.765322  0.821792  0.826636  0.696773  0.068125  0.932998   \n",
       "JPY=X   -0.063889  0.755679  0.642729  0.496113  0.520844  0.007073  0.698338   \n",
       "KES=X   -0.012896  0.933184  0.757528  0.773255  0.642021 -0.179092  0.827678   \n",
       "MXN=X    0.172092  0.321439  0.781479  0.804640  0.813600  0.309177  0.718891   \n",
       "NGN=X    0.103923  0.869046  0.713296  0.728218  0.596622 -0.142513  0.747260   \n",
       "NOK=X    0.049099  0.731447  0.953218  0.840217  0.882113  0.153155  0.905870   \n",
       "NZD=X    0.056628  0.646008  0.958970  0.767162  0.861797  0.275733  0.859301   \n",
       "PLN=X    0.045797  0.617763  0.848317  0.762068  0.787829  0.285259  0.877013   \n",
       "RON=X    0.079692  0.674157  0.909394  0.813500  0.831173  0.252397  0.908140   \n",
       "SAR=X    0.023940  0.078645  0.066041  0.088747  0.030248 -0.046063  0.105969   \n",
       "SEK=X    0.074719  0.723361  0.937800  0.762653  0.850657  0.239255  0.875375   \n",
       "TRY=X    0.014443  0.971288  0.614639  0.696575  0.420818 -0.307110  0.784087   \n",
       "ZAR=X    0.045746  0.758360  0.907041  0.870083  0.822245  0.032127  0.908774   \n",
       "BTC-USD  0.111093  0.591517  0.171520  0.760133 -0.146363 -0.630450  0.548456   \n",
       "GC=F     0.076672  0.779418  0.382720  0.758082  0.196982 -0.531854  0.656198   \n",
       "WTI     -0.052517 -0.253785 -0.746304 -0.620814 -0.859413 -0.358310 -0.600594   \n",
       "^DJI     0.168500  0.774827  0.651082  0.876309  0.502346 -0.211686  0.796287   \n",
       "^GSPC    0.151408  0.803899  0.629812  0.887175  0.473123 -0.281764  0.814462   \n",
       "DE       0.099085  0.854483  0.515370  0.806062  0.340328 -0.376651  0.751512   \n",
       "IBDRY    0.150931  0.710292  0.589678  0.884635  0.455395 -0.365697  0.750418   \n",
       "SAR      0.148049  0.589094  0.466683  0.593013  0.347251 -0.044989  0.541469   \n",
       "\n",
       "            CNY=X     CZK=X     DKK=X  ...     TRY=X     ZAR=X   BTC-USD  \\\n",
       "AED=X    0.045261  0.004451  0.017404  ...  0.014443  0.045746  0.111093   \n",
       "ARS=X    0.578869  0.040082  0.458637  ...  0.971288  0.758360  0.591517   \n",
       "AUD=X    0.810823  0.635887  0.851934  ...  0.614639  0.907041  0.171520   \n",
       "BRL=X    0.575875  0.307423  0.589845  ...  0.696575  0.870083  0.760133   \n",
       "CAD=X    0.772539  0.739068  0.846193  ...  0.420818  0.822245 -0.146363   \n",
       "CHF=X    0.285775  0.602505  0.483101  ... -0.307110  0.032127 -0.630450   \n",
       "CLP=X    0.683646  0.468229  0.754855  ...  0.784087  0.908774  0.548456   \n",
       "CNY=X    1.000000  0.477844  0.713106  ...  0.571575  0.792396 -0.009097   \n",
       "CZK=X    0.477844  1.000000  0.838050  ...  0.089168  0.485280 -0.501505   \n",
       "DKK=X    0.713106  0.838050  1.000000  ...  0.531845  0.755835 -0.070322   \n",
       "EGP=X    0.758838  0.128544  0.556826  ...  0.823445  0.752277  0.412462   \n",
       "EUR=X    0.710841  0.837147  0.999808  ...  0.534742  0.756835 -0.059309   \n",
       "GBP=X    0.881960  0.489711  0.783188  ...  0.599863  0.779949  0.178787   \n",
       "HUF=X    0.688453  0.509468  0.837203  ...  0.838308  0.875809  0.475976   \n",
       "JPY=X    0.483924  0.421399  0.712554  ...  0.813245  0.669958  0.225527   \n",
       "KES=X    0.682701  0.268157  0.655732  ...  0.933606  0.873970  0.561166   \n",
       "MXN=X    0.667154  0.515120  0.648245  ...  0.355670  0.743558  0.360131   \n",
       "NGN=X    0.731724  0.147508  0.536286  ...  0.854329  0.780688  0.556743   \n",
       "NOK=X    0.818407  0.575034  0.852996  ...  0.750448  0.956049  0.363579   \n",
       "NZD=X    0.811193  0.579899  0.852154  ...  0.679186  0.905084  0.166692   \n",
       "PLN=X    0.700502  0.685353  0.935403  ...  0.696965  0.853382  0.321070   \n",
       "RON=X    0.765400  0.632505  0.926011  ...  0.736580  0.885736  0.409145   \n",
       "SAR=X    0.031590  0.006780  0.050630  ...  0.096234  0.078553  0.048204   \n",
       "SEK=X    0.836822  0.582631  0.893210  ...  0.765746  0.895369  0.282776   \n",
       "TRY=X    0.571575  0.089168  0.531845  ...  1.000000  0.767424  0.584697   \n",
       "ZAR=X    0.792396  0.485280  0.755835  ...  0.767424  1.000000  0.404736   \n",
       "BTC-USD -0.009097 -0.501505 -0.070322  ...  0.584697  0.404736  1.000000   \n",
       "GC=F     0.375404 -0.161064  0.216701  ...  0.763979  0.613470  0.771852   \n",
       "WTI     -0.562439 -0.696106 -0.717922  ... -0.252778 -0.669663  0.005739   \n",
       "^DJI     0.531999  0.046418  0.464784  ...  0.793446  0.731484  0.858353   \n",
       "^GSPC    0.486287  0.058017  0.460303  ...  0.821719  0.740533  0.894397   \n",
       "DE       0.403949 -0.041828  0.401128  ...  0.882228  0.674775  0.855987   \n",
       "IBDRY    0.483638  0.026002  0.337941  ...  0.683584  0.722461  0.771973   \n",
       "SAR      0.438340 -0.062137  0.377505  ...  0.621840  0.463271  0.686009   \n",
       "\n",
       "             GC=F       WTI      ^DJI     ^GSPC        DE     IBDRY       SAR  \n",
       "AED=X    0.076672 -0.052517  0.168500  0.151408  0.099085  0.150931  0.148049  \n",
       "ARS=X    0.779418 -0.253785  0.774827  0.803899  0.854483  0.710292  0.589094  \n",
       "AUD=X    0.382720 -0.746304  0.651082  0.629812  0.515370  0.589678  0.466683  \n",
       "BRL=X    0.758082 -0.620814  0.876309  0.887175  0.806062  0.884635  0.593013  \n",
       "CAD=X    0.196982 -0.859413  0.502346  0.473123  0.340328  0.455395  0.347251  \n",
       "CHF=X   -0.531854 -0.358310 -0.211686 -0.281764 -0.376651 -0.365697 -0.044989  \n",
       "CLP=X    0.656198 -0.600594  0.796287  0.814462  0.751512  0.750418  0.541469  \n",
       "CNY=X    0.375404 -0.562439  0.531999  0.486287  0.403949  0.483638  0.438340  \n",
       "CZK=X   -0.161064 -0.696106  0.046418  0.058017 -0.041828  0.026002 -0.062137  \n",
       "DKK=X    0.216701 -0.717922  0.464784  0.460303  0.401128  0.337941  0.377505  \n",
       "EGP=X    0.596892 -0.438605  0.786994  0.750278  0.743938  0.647680  0.712220  \n",
       "EUR=X    0.221996 -0.721356  0.469666  0.465983  0.407791  0.341925  0.381401  \n",
       "GBP=X    0.453284 -0.632733  0.654095  0.608109  0.535978  0.525654  0.584185  \n",
       "HUF=X    0.634705 -0.538774  0.767291  0.780192  0.780148  0.672015  0.560787  \n",
       "JPY=X    0.349770 -0.341175  0.529190  0.555665  0.620015  0.385634  0.388082  \n",
       "KES=X    0.699724 -0.528411  0.802398  0.823537  0.827761  0.719540  0.615873  \n",
       "MXN=X    0.420277 -0.790456  0.658702  0.626093  0.462061  0.615205  0.476102  \n",
       "NGN=X    0.677728 -0.494059  0.837674  0.828496  0.780762  0.721170  0.701581  \n",
       "NOK=X    0.551548 -0.738446  0.739647  0.733969  0.659179  0.687869  0.521160  \n",
       "NZD=X    0.430118 -0.665525  0.635995  0.618519  0.545650  0.561131  0.459119  \n",
       "PLN=X    0.467262 -0.658655  0.649595  0.659853  0.633250  0.531203  0.493802  \n",
       "RON=X    0.521082 -0.695824  0.746421  0.741308  0.681260  0.628676  0.594400  \n",
       "SAR=X    0.089868  0.013070  0.079041  0.079039  0.097121  0.078850  0.027080  \n",
       "SEK=X    0.489270 -0.658674  0.729925  0.710467  0.649235  0.610963  0.587166  \n",
       "TRY=X    0.763979 -0.252778  0.793446  0.821719  0.882228  0.683584  0.621840  \n",
       "ZAR=X    0.613470 -0.669663  0.731484  0.740533  0.674775  0.722461  0.463271  \n",
       "BTC-USD  0.771852  0.005739  0.858353  0.894397  0.855987  0.771973  0.686009  \n",
       "GC=F     1.000000 -0.191971  0.796661  0.831497  0.855739  0.851359  0.554893  \n",
       "WTI     -0.191971  1.000000 -0.451237 -0.442974 -0.281221 -0.452061 -0.300178  \n",
       "^DJI     0.796661 -0.451237  1.000000  0.988518  0.931694  0.895538  0.852818  \n",
       "^GSPC    0.831497 -0.442974  0.988518  1.000000  0.951058  0.901005  0.816485  \n",
       "DE       0.855739 -0.281221  0.931694  0.951058  1.000000  0.836948  0.766662  \n",
       "IBDRY    0.851359 -0.452061  0.895538  0.901005  0.836948  1.000000  0.638163  \n",
       "SAR      0.554893 -0.300178  0.852818  0.816485  0.766662  0.638163  1.000000  \n",
       "\n",
       "[34 rows x 34 columns]"
      ]
     },
     "execution_count": 73,
     "metadata": {},
     "output_type": "execute_result"
    }
   ],
   "source": [
    "merged_df_corr = merged_df.corr()\n",
    "merged_df_corr"
   ]
  },
  {
   "cell_type": "code",
   "execution_count": 74,
   "metadata": {},
   "outputs": [
    {
     "data": {
      "text/plain": [
       "Index(['AED=X', 'ARS=X', 'AUD=X', 'BRL=X', 'CAD=X', 'CHF=X', 'CLP=X', 'CNY=X',\n",
       "       'CZK=X', 'DKK=X', 'EGP=X', 'EUR=X', 'GBP=X', 'HUF=X', 'JPY=X', 'KES=X',\n",
       "       'MXN=X', 'NGN=X', 'NOK=X', 'NZD=X', 'PLN=X', 'RON=X', 'SAR=X', 'SEK=X',\n",
       "       'TRY=X', 'ZAR=X', 'BTC-USD', 'GC=F', 'WTI', '^DJI', '^GSPC', 'DE',\n",
       "       'IBDRY', 'SAR'],\n",
       "      dtype='object')"
      ]
     },
     "execution_count": 74,
     "metadata": {},
     "output_type": "execute_result"
    }
   ],
   "source": [
    "merged_df.columns"
   ]
  },
  {
   "cell_type": "code",
   "execution_count": 75,
   "metadata": {},
   "outputs": [],
   "source": [
    "import numpy as np\n",
    "import matplotlib.pyplot as plt"
   ]
  },
  {
   "cell_type": "code",
   "execution_count": 76,
   "metadata": {},
   "outputs": [],
   "source": [
    "df_filled = merged_df.interpolate()"
   ]
  },
  {
   "cell_type": "code",
   "execution_count": 77,
   "metadata": {},
   "outputs": [
    {
     "data": {
      "text/plain": [
       "AED=X        0\n",
       "ARS=X        0\n",
       "AUD=X        0\n",
       "BRL=X        0\n",
       "CAD=X        0\n",
       "CHF=X        0\n",
       "CLP=X        0\n",
       "CNY=X        0\n",
       "CZK=X        0\n",
       "DKK=X        0\n",
       "EGP=X        0\n",
       "EUR=X        0\n",
       "GBP=X        0\n",
       "HUF=X        0\n",
       "JPY=X        0\n",
       "KES=X        0\n",
       "MXN=X        0\n",
       "NGN=X        0\n",
       "NOK=X        0\n",
       "NZD=X        0\n",
       "PLN=X        0\n",
       "RON=X        0\n",
       "SAR=X        0\n",
       "SEK=X        0\n",
       "TRY=X        0\n",
       "ZAR=X        0\n",
       "BTC-USD    430\n",
       "GC=F         0\n",
       "WTI          0\n",
       "^DJI         0\n",
       "^GSPC        0\n",
       "DE           0\n",
       "IBDRY        0\n",
       "SAR          0\n",
       "dtype: int64"
      ]
     },
     "execution_count": 77,
     "metadata": {},
     "output_type": "execute_result"
    }
   ],
   "source": [
    "df_filled.apply(pd.isnull).sum()"
   ]
  },
  {
   "cell_type": "code",
   "execution_count": 78,
   "metadata": {},
   "outputs": [
    {
     "data": {
      "text/html": [
       "<div>\n",
       "<style scoped>\n",
       "    .dataframe tbody tr th:only-of-type {\n",
       "        vertical-align: middle;\n",
       "    }\n",
       "\n",
       "    .dataframe tbody tr th {\n",
       "        vertical-align: top;\n",
       "    }\n",
       "\n",
       "    .dataframe thead th {\n",
       "        text-align: right;\n",
       "    }\n",
       "</style>\n",
       "<table border=\"1\" class=\"dataframe\">\n",
       "  <thead>\n",
       "    <tr style=\"text-align: right;\">\n",
       "      <th></th>\n",
       "      <th>AED=X</th>\n",
       "      <th>ARS=X</th>\n",
       "      <th>AUD=X</th>\n",
       "      <th>BRL=X</th>\n",
       "      <th>CAD=X</th>\n",
       "      <th>CHF=X</th>\n",
       "      <th>CLP=X</th>\n",
       "      <th>CNY=X</th>\n",
       "      <th>CZK=X</th>\n",
       "      <th>DKK=X</th>\n",
       "      <th>...</th>\n",
       "      <th>TRY=X</th>\n",
       "      <th>ZAR=X</th>\n",
       "      <th>BTC-USD</th>\n",
       "      <th>GC=F</th>\n",
       "      <th>WTI</th>\n",
       "      <th>^DJI</th>\n",
       "      <th>^GSPC</th>\n",
       "      <th>DE</th>\n",
       "      <th>IBDRY</th>\n",
       "      <th>SAR</th>\n",
       "    </tr>\n",
       "    <tr>\n",
       "      <th>Date</th>\n",
       "      <th></th>\n",
       "      <th></th>\n",
       "      <th></th>\n",
       "      <th></th>\n",
       "      <th></th>\n",
       "      <th></th>\n",
       "      <th></th>\n",
       "      <th></th>\n",
       "      <th></th>\n",
       "      <th></th>\n",
       "      <th></th>\n",
       "      <th></th>\n",
       "      <th></th>\n",
       "      <th></th>\n",
       "      <th></th>\n",
       "      <th></th>\n",
       "      <th></th>\n",
       "      <th></th>\n",
       "      <th></th>\n",
       "      <th></th>\n",
       "      <th></th>\n",
       "    </tr>\n",
       "  </thead>\n",
       "  <tbody>\n",
       "    <tr>\n",
       "      <th>2013-01-02</th>\n",
       "      <td>3.6720</td>\n",
       "      <td>4.9129</td>\n",
       "      <td>0.96231</td>\n",
       "      <td>2.0456</td>\n",
       "      <td>0.99390</td>\n",
       "      <td>0.91550</td>\n",
       "      <td>479.200012</td>\n",
       "      <td>6.2376</td>\n",
       "      <td>18.983000</td>\n",
       "      <td>5.65220</td>\n",
       "      <td>...</td>\n",
       "      <td>1.78140</td>\n",
       "      <td>8.4497</td>\n",
       "      <td>NaN</td>\n",
       "      <td>1687.900024</td>\n",
       "      <td>16.980000</td>\n",
       "      <td>13412.549805</td>\n",
       "      <td>1462.420044</td>\n",
       "      <td>87.989998</td>\n",
       "      <td>21.660000</td>\n",
       "      <td>15.50</td>\n",
       "    </tr>\n",
       "    <tr>\n",
       "      <th>2013-01-03</th>\n",
       "      <td>3.6720</td>\n",
       "      <td>4.9208</td>\n",
       "      <td>0.95302</td>\n",
       "      <td>2.0456</td>\n",
       "      <td>0.98560</td>\n",
       "      <td>0.91778</td>\n",
       "      <td>474.149994</td>\n",
       "      <td>6.2332</td>\n",
       "      <td>19.091600</td>\n",
       "      <td>5.65863</td>\n",
       "      <td>...</td>\n",
       "      <td>1.77778</td>\n",
       "      <td>8.4781</td>\n",
       "      <td>NaN</td>\n",
       "      <td>1673.699951</td>\n",
       "      <td>17.100000</td>\n",
       "      <td>13391.360352</td>\n",
       "      <td>1459.369995</td>\n",
       "      <td>87.769997</td>\n",
       "      <td>21.420000</td>\n",
       "      <td>15.45</td>\n",
       "    </tr>\n",
       "    <tr>\n",
       "      <th>2013-01-04</th>\n",
       "      <td>3.6720</td>\n",
       "      <td>4.9200</td>\n",
       "      <td>0.95666</td>\n",
       "      <td>2.0487</td>\n",
       "      <td>0.98840</td>\n",
       "      <td>0.92800</td>\n",
       "      <td>472.549988</td>\n",
       "      <td>6.2325</td>\n",
       "      <td>19.368999</td>\n",
       "      <td>5.72710</td>\n",
       "      <td>...</td>\n",
       "      <td>1.78420</td>\n",
       "      <td>8.5877</td>\n",
       "      <td>NaN</td>\n",
       "      <td>1648.099976</td>\n",
       "      <td>17.330000</td>\n",
       "      <td>13435.209961</td>\n",
       "      <td>1466.469971</td>\n",
       "      <td>88.669998</td>\n",
       "      <td>21.620001</td>\n",
       "      <td>15.30</td>\n",
       "    </tr>\n",
       "    <tr>\n",
       "      <th>2013-01-07</th>\n",
       "      <td>3.6721</td>\n",
       "      <td>4.9242</td>\n",
       "      <td>0.95280</td>\n",
       "      <td>2.0324</td>\n",
       "      <td>0.98599</td>\n",
       "      <td>0.92453</td>\n",
       "      <td>472.450012</td>\n",
       "      <td>6.2305</td>\n",
       "      <td>19.403601</td>\n",
       "      <td>5.70730</td>\n",
       "      <td>...</td>\n",
       "      <td>1.78048</td>\n",
       "      <td>8.5554</td>\n",
       "      <td>NaN</td>\n",
       "      <td>1645.500000</td>\n",
       "      <td>17.280001</td>\n",
       "      <td>13384.290039</td>\n",
       "      <td>1461.890015</td>\n",
       "      <td>88.599998</td>\n",
       "      <td>21.540001</td>\n",
       "      <td>15.20</td>\n",
       "    </tr>\n",
       "    <tr>\n",
       "      <th>2013-01-08</th>\n",
       "      <td>3.6721</td>\n",
       "      <td>4.9264</td>\n",
       "      <td>0.95132</td>\n",
       "      <td>2.0264</td>\n",
       "      <td>0.98560</td>\n",
       "      <td>0.92090</td>\n",
       "      <td>470.950012</td>\n",
       "      <td>6.2298</td>\n",
       "      <td>19.446699</td>\n",
       "      <td>5.68370</td>\n",
       "      <td>...</td>\n",
       "      <td>1.77918</td>\n",
       "      <td>8.5605</td>\n",
       "      <td>NaN</td>\n",
       "      <td>1661.500000</td>\n",
       "      <td>17.129999</td>\n",
       "      <td>13328.849609</td>\n",
       "      <td>1457.150024</td>\n",
       "      <td>87.680000</td>\n",
       "      <td>21.299999</td>\n",
       "      <td>15.39</td>\n",
       "    </tr>\n",
       "  </tbody>\n",
       "</table>\n",
       "<p>5 rows × 34 columns</p>\n",
       "</div>"
      ],
      "text/plain": [
       "             AED=X   ARS=X    AUD=X   BRL=X    CAD=X    CHF=X       CLP=X  \\\n",
       "Date                                                                        \n",
       "2013-01-02  3.6720  4.9129  0.96231  2.0456  0.99390  0.91550  479.200012   \n",
       "2013-01-03  3.6720  4.9208  0.95302  2.0456  0.98560  0.91778  474.149994   \n",
       "2013-01-04  3.6720  4.9200  0.95666  2.0487  0.98840  0.92800  472.549988   \n",
       "2013-01-07  3.6721  4.9242  0.95280  2.0324  0.98599  0.92453  472.450012   \n",
       "2013-01-08  3.6721  4.9264  0.95132  2.0264  0.98560  0.92090  470.950012   \n",
       "\n",
       "             CNY=X      CZK=X    DKK=X  ...    TRY=X   ZAR=X  BTC-USD  \\\n",
       "Date                                    ...                             \n",
       "2013-01-02  6.2376  18.983000  5.65220  ...  1.78140  8.4497      NaN   \n",
       "2013-01-03  6.2332  19.091600  5.65863  ...  1.77778  8.4781      NaN   \n",
       "2013-01-04  6.2325  19.368999  5.72710  ...  1.78420  8.5877      NaN   \n",
       "2013-01-07  6.2305  19.403601  5.70730  ...  1.78048  8.5554      NaN   \n",
       "2013-01-08  6.2298  19.446699  5.68370  ...  1.77918  8.5605      NaN   \n",
       "\n",
       "                   GC=F        WTI          ^DJI        ^GSPC         DE  \\\n",
       "Date                                                                       \n",
       "2013-01-02  1687.900024  16.980000  13412.549805  1462.420044  87.989998   \n",
       "2013-01-03  1673.699951  17.100000  13391.360352  1459.369995  87.769997   \n",
       "2013-01-04  1648.099976  17.330000  13435.209961  1466.469971  88.669998   \n",
       "2013-01-07  1645.500000  17.280001  13384.290039  1461.890015  88.599998   \n",
       "2013-01-08  1661.500000  17.129999  13328.849609  1457.150024  87.680000   \n",
       "\n",
       "                IBDRY    SAR  \n",
       "Date                          \n",
       "2013-01-02  21.660000  15.50  \n",
       "2013-01-03  21.420000  15.45  \n",
       "2013-01-04  21.620001  15.30  \n",
       "2013-01-07  21.540001  15.20  \n",
       "2013-01-08  21.299999  15.39  \n",
       "\n",
       "[5 rows x 34 columns]"
      ]
     },
     "execution_count": 78,
     "metadata": {},
     "output_type": "execute_result"
    }
   ],
   "source": [
    "df_filled.head()"
   ]
  },
  {
   "cell_type": "code",
   "execution_count": 79,
   "metadata": {},
   "outputs": [],
   "source": [
    "sust_energy = df_filled['IBDRY']"
   ]
  },
  {
   "cell_type": "code",
   "execution_count": 80,
   "metadata": {},
   "outputs": [
    {
     "data": {
      "text/plain": [
       "<Axes: xlabel='Date'>"
      ]
     },
     "execution_count": 80,
     "metadata": {},
     "output_type": "execute_result"
    },
    {
     "data": {
      "image/png": "[encoded data removed]",
      "text/plain": [
       "<Figure size 640x480 with 1 Axes>"
      ]
     },
     "metadata": {},
     "output_type": "display_data"
    }
   ],
   "source": [
    "sust_energy.plot()"
   ]
  },
  {
   "cell_type": "code",
   "execution_count": 81,
   "metadata": {},
   "outputs": [],
   "source": [
    "def df_to_X_y(df, window_size):\n",
    "    df_as_np = df.to_numpy()\n",
    "\n",
    "    X = []\n",
    "    y = []\n",
    "\n",
    "    for i in range(len(df_as_np) - window_size ):\n",
    "        row = [[a] for a in df_as_np[i:i+5]]\n",
    "\n",
    "        X.append(row)\n",
    "        label = df_as_np[i+5]\n",
    "        y.append(label)\n",
    "\n",
    "    return np.array(X), np.array(y)"
   ]
  },
  {
   "cell_type": "code",
   "execution_count": 82,
   "metadata": {},
   "outputs": [
    {
     "data": {
      "text/plain": [
       "((2728, 5, 1), (2728,))"
      ]
     },
     "execution_count": 82,
     "metadata": {},
     "output_type": "execute_result"
    }
   ],
   "source": [
    "WINDOW_SIZE = 5\n",
    "\n",
    "X, y = df_to_X_y(sust_energy, WINDOW_SIZE)\n",
    "\n",
    "X.shape, y.shape"
   ]
  },
  {
   "cell_type": "code",
   "execution_count": 83,
   "metadata": {},
   "outputs": [
    {
     "data": {
      "text/plain": [
       "2733"
      ]
     },
     "execution_count": 83,
     "metadata": {},
     "output_type": "execute_result"
    }
   ],
   "source": [
    "len(sust_energy)"
   ]
  },
  {
   "cell_type": "code",
   "execution_count": 84,
   "metadata": {},
   "outputs": [
    {
     "data": {
      "text/plain": [
       "2186"
      ]
     },
     "execution_count": 84,
     "metadata": {},
     "output_type": "execute_result"
    }
   ],
   "source": [
    "int(0.8 * 2733)"
   ]
  },
  {
   "cell_type": "code",
   "execution_count": 85,
   "metadata": {},
   "outputs": [],
   "source": [
    "X_train, y_train = X[:2186], y[:2186]\n",
    "X_val, y_val = X[2186:2500], y[2186:2500]\n",
    "X_test, y_test = X[2500:], y[2500:]"
   ]
  },
  {
   "cell_type": "code",
   "execution_count": 86,
   "metadata": {},
   "outputs": [
    {
     "data": {
      "text/plain": [
       "((2186, 5, 1), (2186,), (314, 5, 1), (314,), (228, 5, 1), (228,))"
      ]
     },
     "execution_count": 86,
     "metadata": {},
     "output_type": "execute_result"
    }
   ],
   "source": [
    "X_train.shape, y_train.shape, X_val.shape, y_val.shape, X_test.shape, y_test.shape"
   ]
  },
  {
   "cell_type": "code",
   "execution_count": 87,
   "metadata": {},
   "outputs": [],
   "source": [
    "from tensorflow.keras.models import Sequential\n",
    "from tensorflow.keras.layers import * #Dense, Dropout, Activation, Flatten\n",
    "from tensorflow.keras.callbacks import ModelCheckpoint\n",
    "from tensorflow.keras.losses import MeanSquaredError\n",
    "from tensorflow.keras.metrics import RootMeanSquaredError\n",
    "from tensorflow.keras.optimizers import Adam"
   ]
  },
  {
   "cell_type": "code",
   "execution_count": 88,
   "metadata": {},
   "outputs": [
    {
     "name": "stdout",
     "output_type": "stream",
     "text": [
      "Model: \"sequential\"\n",
      "_________________________________________________________________\n",
      " Layer (type)                Output Shape              Param #   \n",
      "=================================================================\n",
      " lstm (LSTM)                 (None, 64)                16896     \n",
      "                                                                 \n",
      " dense (Dense)               (None, 8)                 520       \n",
      "                                                                 \n",
      " dense_1 (Dense)             (None, 1)                 9         \n",
      "                                                                 \n",
      "=================================================================\n",
      "Total params: 17,425\n",
      "Trainable params: 17,425\n",
      "Non-trainable params: 0\n",
      "_________________________________________________________________\n"
     ]
    }
   ],
   "source": [
    "model1 = Sequential()\n",
    "\n",
    "model1.add(InputLayer((5,1)))\n",
    "model1.add(LSTM(64))\n",
    "model1.add(Dense(8,'relu'))\n",
    "model1.add(Dense(1,'linear'))\n",
    "\n",
    "model1.summary()"
   ]
  },
  {
   "cell_type": "code",
   "execution_count": 89,
   "metadata": {},
   "outputs": [],
   "source": [
    "cp = ModelCheckpoint('model1/', save_best_only=True)\n",
    "model1.compile(loss=MeanSquaredError(), optimizer=Adam(learning_rate=0.0001), metrics=[RootMeanSquaredError()])"
   ]
  },
  {
   "cell_type": "code",
   "execution_count": 90,
   "metadata": {},
   "outputs": [
    {
     "name": "stdout",
     "output_type": "stream",
     "text": [
      "Epoch 1/80\n",
      "67/69 [============================>.] - ETA: 0s - loss: 1149.3593 - root_mean_squared_error: 33.9022"
     ]
    },
    {
     "name": "stderr",
     "output_type": "stream",
     "text": [
      "WARNING:absl:Found untraced functions such as lstm_cell_1_layer_call_fn, lstm_cell_1_layer_call_and_return_conditional_losses while saving (showing 2 of 2). These functions will not be directly callable after loading.\n"
     ]
    },
    {
     "name": "stdout",
     "output_type": "stream",
     "text": [
      "INFO:tensorflow:Assets written to: model1\\assets\n"
     ]
    },
    {
     "name": "stderr",
     "output_type": "stream",
     "text": [
      "INFO:tensorflow:Assets written to: model1\\assets\n"
     ]
    },
    {
     "name": "stdout",
     "output_type": "stream",
     "text": [
      "69/69 [==============================] - 8s 47ms/step - loss: 1152.2617 - root_mean_squared_error: 33.9450 - val_loss: 1862.7487 - val_root_mean_squared_error: 43.1596\n",
      "Epoch 2/80\n",
      "64/69 [==========================>...] - ETA: 0s - loss: 1121.8721 - root_mean_squared_error: 33.4944"
     ]
    },
    {
     "name": "stderr",
     "output_type": "stream",
     "text": [
      "WARNING:absl:Found untraced functions such as lstm_cell_1_layer_call_fn, lstm_cell_1_layer_call_and_return_conditional_losses while saving (showing 2 of 2). These functions will not be directly callable after loading.\n"
     ]
    },
    {
     "name": "stdout",
     "output_type": "stream",
     "text": [
      "INFO:tensorflow:Assets written to: model1\\assets\n"
     ]
    },
    {
     "name": "stderr",
     "output_type": "stream",
     "text": [
      "INFO:tensorflow:Assets written to: model1\\assets\n"
     ]
    },
    {
     "name": "stdout",
     "output_type": "stream",
     "text": [
      "69/69 [==============================] - 3s 43ms/step - loss: 1119.2039 - root_mean_squared_error: 33.4545 - val_loss: 1819.1951 - val_root_mean_squared_error: 42.6520\n",
      "Epoch 3/80\n",
      "62/69 [=========================>....] - ETA: 0s - loss: 1068.4415 - root_mean_squared_error: 32.6870"
     ]
    },
    {
     "name": "stderr",
     "output_type": "stream",
     "text": [
      "WARNING:absl:Found untraced functions such as lstm_cell_1_layer_call_fn, lstm_cell_1_layer_call_and_return_conditional_losses while saving (showing 2 of 2). These functions will not be directly callable after loading.\n"
     ]
    },
    {
     "name": "stdout",
     "output_type": "stream",
     "text": [
      "INFO:tensorflow:Assets written to: model1\\assets\n"
     ]
    },
    {
     "name": "stderr",
     "output_type": "stream",
     "text": [
      "INFO:tensorflow:Assets written to: model1\\assets\n"
     ]
    },
    {
     "name": "stdout",
     "output_type": "stream",
     "text": [
      "69/69 [==============================] - 3s 39ms/step - loss: 1070.1647 - root_mean_squared_error: 32.7134 - val_loss: 1749.4031 - val_root_mean_squared_error: 41.8259\n",
      "Epoch 4/80\n",
      "59/69 [========================>.....] - ETA: 0s - loss: 1008.2551 - root_mean_squared_error: 31.7530"
     ]
    },
    {
     "name": "stderr",
     "output_type": "stream",
     "text": [
      "WARNING:absl:Found untraced functions such as lstm_cell_1_layer_call_fn, lstm_cell_1_layer_call_and_return_conditional_losses while saving (showing 2 of 2). These functions will not be directly callable after loading.\n"
     ]
    },
    {
     "name": "stdout",
     "output_type": "stream",
     "text": [
      "INFO:tensorflow:Assets written to: model1\\assets\n"
     ]
    },
    {
     "name": "stderr",
     "output_type": "stream",
     "text": [
      "INFO:tensorflow:Assets written to: model1\\assets\n"
     ]
    },
    {
     "name": "stdout",
     "output_type": "stream",
     "text": [
      "69/69 [==============================] - 3s 43ms/step - loss: 1007.8980 - root_mean_squared_error: 31.7474 - val_loss: 1669.3962 - val_root_mean_squared_error: 40.8582\n",
      "Epoch 5/80\n",
      "65/69 [===========================>..] - ETA: 0s - loss: 929.2747 - root_mean_squared_error: 30.4840"
     ]
    },
    {
     "name": "stderr",
     "output_type": "stream",
     "text": [
      "WARNING:absl:Found untraced functions such as lstm_cell_1_layer_call_fn, lstm_cell_1_layer_call_and_return_conditional_losses while saving (showing 2 of 2). These functions will not be directly callable after loading.\n"
     ]
    },
    {
     "name": "stdout",
     "output_type": "stream",
     "text": [
      "INFO:tensorflow:Assets written to: model1\\assets\n"
     ]
    },
    {
     "name": "stderr",
     "output_type": "stream",
     "text": [
      "INFO:tensorflow:Assets written to: model1\\assets\n"
     ]
    },
    {
     "name": "stdout",
     "output_type": "stream",
     "text": [
      "69/69 [==============================] - 3s 41ms/step - loss: 931.0099 - root_mean_squared_error: 30.5125 - val_loss: 1558.0245 - val_root_mean_squared_error: 39.4718\n",
      "Epoch 6/80\n",
      "66/69 [===========================>..] - ETA: 0s - loss: 842.2939 - root_mean_squared_error: 29.0223"
     ]
    },
    {
     "name": "stderr",
     "output_type": "stream",
     "text": [
      "WARNING:absl:Found untraced functions such as lstm_cell_1_layer_call_fn, lstm_cell_1_layer_call_and_return_conditional_losses while saving (showing 2 of 2). These functions will not be directly callable after loading.\n"
     ]
    },
    {
     "name": "stdout",
     "output_type": "stream",
     "text": [
      "INFO:tensorflow:Assets written to: model1\\assets\n"
     ]
    },
    {
     "name": "stderr",
     "output_type": "stream",
     "text": [
      "INFO:tensorflow:Assets written to: model1\\assets\n"
     ]
    },
    {
     "name": "stdout",
     "output_type": "stream",
     "text": [
      "69/69 [==============================] - 3s 50ms/step - loss: 841.0564 - root_mean_squared_error: 29.0010 - val_loss: 1415.8164 - val_root_mean_squared_error: 37.6273\n",
      "Epoch 7/80\n",
      "64/69 [==========================>...] - ETA: 0s - loss: 757.2467 - root_mean_squared_error: 27.5181"
     ]
    },
    {
     "name": "stderr",
     "output_type": "stream",
     "text": [
      "WARNING:absl:Found untraced functions such as lstm_cell_1_layer_call_fn, lstm_cell_1_layer_call_and_return_conditional_losses while saving (showing 2 of 2). These functions will not be directly callable after loading.\n"
     ]
    },
    {
     "name": "stdout",
     "output_type": "stream",
     "text": [
      "INFO:tensorflow:Assets written to: model1\\assets\n"
     ]
    },
    {
     "name": "stderr",
     "output_type": "stream",
     "text": [
      "INFO:tensorflow:Assets written to: model1\\assets\n"
     ]
    },
    {
     "name": "stdout",
     "output_type": "stream",
     "text": [
      "69/69 [==============================] - 3s 48ms/step - loss: 756.7050 - root_mean_squared_error: 27.5083 - val_loss: 1295.8457 - val_root_mean_squared_error: 35.9979\n",
      "Epoch 8/80\n",
      "64/69 [==========================>...] - ETA: 0s - loss: 683.9519 - root_mean_squared_error: 26.1525"
     ]
    },
    {
     "name": "stderr",
     "output_type": "stream",
     "text": [
      "WARNING:absl:Found untraced functions such as lstm_cell_1_layer_call_fn, lstm_cell_1_layer_call_and_return_conditional_losses while saving (showing 2 of 2). These functions will not be directly callable after loading.\n"
     ]
    },
    {
     "name": "stdout",
     "output_type": "stream",
     "text": [
      "INFO:tensorflow:Assets written to: model1\\assets\n"
     ]
    },
    {
     "name": "stderr",
     "output_type": "stream",
     "text": [
      "INFO:tensorflow:Assets written to: model1\\assets\n"
     ]
    },
    {
     "name": "stdout",
     "output_type": "stream",
     "text": [
      "69/69 [==============================] - 4s 57ms/step - loss: 684.0993 - root_mean_squared_error: 26.1553 - val_loss: 1193.5428 - val_root_mean_squared_error: 34.5477\n",
      "Epoch 9/80\n",
      "61/69 [=========================>....] - ETA: 0s - loss: 624.2405 - root_mean_squared_error: 24.9848"
     ]
    },
    {
     "name": "stderr",
     "output_type": "stream",
     "text": [
      "WARNING:absl:Found untraced functions such as lstm_cell_1_layer_call_fn, lstm_cell_1_layer_call_and_return_conditional_losses while saving (showing 2 of 2). These functions will not be directly callable after loading.\n"
     ]
    },
    {
     "name": "stdout",
     "output_type": "stream",
     "text": [
      "INFO:tensorflow:Assets written to: model1\\assets\n"
     ]
    },
    {
     "name": "stderr",
     "output_type": "stream",
     "text": [
      "INFO:tensorflow:Assets written to: model1\\assets\n"
     ]
    },
    {
     "name": "stdout",
     "output_type": "stream",
     "text": [
      "69/69 [==============================] - 3s 47ms/step - loss: 617.3735 - root_mean_squared_error: 24.8470 - val_loss: 1096.7330 - val_root_mean_squared_error: 33.1170\n",
      "Epoch 10/80\n",
      "65/69 [===========================>..] - ETA: 0s - loss: 560.1699 - root_mean_squared_error: 23.6679"
     ]
    },
    {
     "name": "stderr",
     "output_type": "stream",
     "text": [
      "WARNING:absl:Found untraced functions such as lstm_cell_1_layer_call_fn, lstm_cell_1_layer_call_and_return_conditional_losses while saving (showing 2 of 2). These functions will not be directly callable after loading.\n"
     ]
    },
    {
     "name": "stdout",
     "output_type": "stream",
     "text": [
      "INFO:tensorflow:Assets written to: model1\\assets\n"
     ]
    },
    {
     "name": "stderr",
     "output_type": "stream",
     "text": [
      "INFO:tensorflow:Assets written to: model1\\assets\n"
     ]
    },
    {
     "name": "stdout",
     "output_type": "stream",
     "text": [
      "69/69 [==============================] - 3s 47ms/step - loss: 559.5695 - root_mean_squared_error: 23.6552 - val_loss: 1017.7311 - val_root_mean_squared_error: 31.9019\n",
      "Epoch 11/80\n",
      "66/69 [===========================>..] - ETA: 0s - loss: 510.9828 - root_mean_squared_error: 22.6049"
     ]
    },
    {
     "name": "stderr",
     "output_type": "stream",
     "text": [
      "WARNING:absl:Found untraced functions such as lstm_cell_1_layer_call_fn, lstm_cell_1_layer_call_and_return_conditional_losses while saving (showing 2 of 2). These functions will not be directly callable after loading.\n"
     ]
    },
    {
     "name": "stdout",
     "output_type": "stream",
     "text": [
      "INFO:tensorflow:Assets written to: model1\\assets\n"
     ]
    },
    {
     "name": "stderr",
     "output_type": "stream",
     "text": [
      "INFO:tensorflow:Assets written to: model1\\assets\n"
     ]
    },
    {
     "name": "stdout",
     "output_type": "stream",
     "text": [
      "69/69 [==============================] - 3s 42ms/step - loss: 510.6555 - root_mean_squared_error: 22.5977 - val_loss: 946.6239 - val_root_mean_squared_error: 30.7673\n",
      "Epoch 12/80\n",
      "60/69 [=========================>....] - ETA: 0s - loss: 471.1418 - root_mean_squared_error: 21.7058"
     ]
    },
    {
     "name": "stderr",
     "output_type": "stream",
     "text": [
      "WARNING:absl:Found untraced functions such as lstm_cell_1_layer_call_fn, lstm_cell_1_layer_call_and_return_conditional_losses while saving (showing 2 of 2). These functions will not be directly callable after loading.\n"
     ]
    },
    {
     "name": "stdout",
     "output_type": "stream",
     "text": [
      "INFO:tensorflow:Assets written to: model1\\assets\n"
     ]
    },
    {
     "name": "stderr",
     "output_type": "stream",
     "text": [
      "INFO:tensorflow:Assets written to: model1\\assets\n"
     ]
    },
    {
     "name": "stdout",
     "output_type": "stream",
     "text": [
      "69/69 [==============================] - 3s 49ms/step - loss: 467.9822 - root_mean_squared_error: 21.6329 - val_loss: 885.7388 - val_root_mean_squared_error: 29.7614\n",
      "Epoch 13/80\n",
      "64/69 [==========================>...] - ETA: 0s - loss: 435.8047 - root_mean_squared_error: 20.8759"
     ]
    },
    {
     "name": "stderr",
     "output_type": "stream",
     "text": [
      "WARNING:absl:Found untraced functions such as lstm_cell_1_layer_call_fn, lstm_cell_1_layer_call_and_return_conditional_losses while saving (showing 2 of 2). These functions will not be directly callable after loading.\n"
     ]
    },
    {
     "name": "stdout",
     "output_type": "stream",
     "text": [
      "INFO:tensorflow:Assets written to: model1\\assets\n"
     ]
    },
    {
     "name": "stderr",
     "output_type": "stream",
     "text": [
      "INFO:tensorflow:Assets written to: model1\\assets\n"
     ]
    },
    {
     "name": "stdout",
     "output_type": "stream",
     "text": [
      "69/69 [==============================] - 3s 43ms/step - loss: 434.1310 - root_mean_squared_error: 20.8358 - val_loss: 836.7330 - val_root_mean_squared_error: 28.9263\n",
      "Epoch 14/80\n",
      "63/69 [==========================>...] - ETA: 0s - loss: 406.9622 - root_mean_squared_error: 20.1733"
     ]
    },
    {
     "name": "stderr",
     "output_type": "stream",
     "text": [
      "WARNING:absl:Found untraced functions such as lstm_cell_1_layer_call_fn, lstm_cell_1_layer_call_and_return_conditional_losses while saving (showing 2 of 2). These functions will not be directly callable after loading.\n"
     ]
    },
    {
     "name": "stdout",
     "output_type": "stream",
     "text": [
      "INFO:tensorflow:Assets written to: model1\\assets\n"
     ]
    },
    {
     "name": "stderr",
     "output_type": "stream",
     "text": [
      "INFO:tensorflow:Assets written to: model1\\assets\n"
     ]
    },
    {
     "name": "stdout",
     "output_type": "stream",
     "text": [
      "69/69 [==============================] - 3s 48ms/step - loss: 404.6608 - root_mean_squared_error: 20.1162 - val_loss: 791.8746 - val_root_mean_squared_error: 28.1403\n",
      "Epoch 15/80\n",
      "69/69 [==============================] - ETA: 0s - loss: 377.5887 - root_mean_squared_error: 19.4316"
     ]
    },
    {
     "name": "stderr",
     "output_type": "stream",
     "text": [
      "WARNING:absl:Found untraced functions such as lstm_cell_1_layer_call_fn, lstm_cell_1_layer_call_and_return_conditional_losses while saving (showing 2 of 2). These functions will not be directly callable after loading.\n"
     ]
    },
    {
     "name": "stdout",
     "output_type": "stream",
     "text": [
      "INFO:tensorflow:Assets written to: model1\\assets\n"
     ]
    },
    {
     "name": "stderr",
     "output_type": "stream",
     "text": [
      "INFO:tensorflow:Assets written to: model1\\assets\n"
     ]
    },
    {
     "name": "stdout",
     "output_type": "stream",
     "text": [
      "69/69 [==============================] - 3s 43ms/step - loss: 377.5887 - root_mean_squared_error: 19.4316 - val_loss: 749.2343 - val_root_mean_squared_error: 27.3721\n",
      "Epoch 16/80\n",
      "64/69 [==========================>...] - ETA: 0s - loss: 355.6512 - root_mean_squared_error: 18.8587"
     ]
    },
    {
     "name": "stderr",
     "output_type": "stream",
     "text": [
      "WARNING:absl:Found untraced functions such as lstm_cell_1_layer_call_fn, lstm_cell_1_layer_call_and_return_conditional_losses while saving (showing 2 of 2). These functions will not be directly callable after loading.\n"
     ]
    },
    {
     "name": "stdout",
     "output_type": "stream",
     "text": [
      "INFO:tensorflow:Assets written to: model1\\assets\n"
     ]
    },
    {
     "name": "stderr",
     "output_type": "stream",
     "text": [
      "INFO:tensorflow:Assets written to: model1\\assets\n"
     ]
    },
    {
     "name": "stdout",
     "output_type": "stream",
     "text": [
      "69/69 [==============================] - 4s 53ms/step - loss: 352.3933 - root_mean_squared_error: 18.7721 - val_loss: 708.9379 - val_root_mean_squared_error: 26.6259\n",
      "Epoch 17/80\n",
      "69/69 [==============================] - ETA: 0s - loss: 328.8104 - root_mean_squared_error: 18.1331"
     ]
    },
    {
     "name": "stderr",
     "output_type": "stream",
     "text": [
      "WARNING:absl:Found untraced functions such as lstm_cell_1_layer_call_fn, lstm_cell_1_layer_call_and_return_conditional_losses while saving (showing 2 of 2). These functions will not be directly callable after loading.\n"
     ]
    },
    {
     "name": "stdout",
     "output_type": "stream",
     "text": [
      "INFO:tensorflow:Assets written to: model1\\assets\n"
     ]
    },
    {
     "name": "stderr",
     "output_type": "stream",
     "text": [
      "INFO:tensorflow:Assets written to: model1\\assets\n"
     ]
    },
    {
     "name": "stdout",
     "output_type": "stream",
     "text": [
      "69/69 [==============================] - 4s 56ms/step - loss: 328.8104 - root_mean_squared_error: 18.1331 - val_loss: 670.3605 - val_root_mean_squared_error: 25.8913\n",
      "Epoch 18/80\n",
      "69/69 [==============================] - ETA: 0s - loss: 306.7199 - root_mean_squared_error: 17.5134"
     ]
    },
    {
     "name": "stderr",
     "output_type": "stream",
     "text": [
      "WARNING:absl:Found untraced functions such as lstm_cell_1_layer_call_fn, lstm_cell_1_layer_call_and_return_conditional_losses while saving (showing 2 of 2). These functions will not be directly callable after loading.\n"
     ]
    },
    {
     "name": "stdout",
     "output_type": "stream",
     "text": [
      "INFO:tensorflow:Assets written to: model1\\assets\n"
     ]
    },
    {
     "name": "stderr",
     "output_type": "stream",
     "text": [
      "INFO:tensorflow:Assets written to: model1\\assets\n"
     ]
    },
    {
     "name": "stdout",
     "output_type": "stream",
     "text": [
      "69/69 [==============================] - 4s 52ms/step - loss: 306.7199 - root_mean_squared_error: 17.5134 - val_loss: 633.5260 - val_root_mean_squared_error: 25.1699\n",
      "Epoch 19/80\n",
      "60/69 [=========================>....] - ETA: 0s - loss: 288.1733 - root_mean_squared_error: 16.9757"
     ]
    },
    {
     "name": "stderr",
     "output_type": "stream",
     "text": [
      "WARNING:absl:Found untraced functions such as lstm_cell_1_layer_call_fn, lstm_cell_1_layer_call_and_return_conditional_losses while saving (showing 2 of 2). These functions will not be directly callable after loading.\n"
     ]
    },
    {
     "name": "stdout",
     "output_type": "stream",
     "text": [
      "INFO:tensorflow:Assets written to: model1\\assets\n"
     ]
    },
    {
     "name": "stderr",
     "output_type": "stream",
     "text": [
      "INFO:tensorflow:Assets written to: model1\\assets\n"
     ]
    },
    {
     "name": "stdout",
     "output_type": "stream",
     "text": [
      "69/69 [==============================] - 4s 55ms/step - loss: 286.0478 - root_mean_squared_error: 16.9129 - val_loss: 598.4352 - val_root_mean_squared_error: 24.4629\n",
      "Epoch 20/80\n",
      "66/69 [===========================>..] - ETA: 0s - loss: 267.3614 - root_mean_squared_error: 16.3512"
     ]
    },
    {
     "name": "stderr",
     "output_type": "stream",
     "text": [
      "WARNING:absl:Found untraced functions such as lstm_cell_1_layer_call_fn, lstm_cell_1_layer_call_and_return_conditional_losses while saving (showing 2 of 2). These functions will not be directly callable after loading.\n"
     ]
    },
    {
     "name": "stdout",
     "output_type": "stream",
     "text": [
      "INFO:tensorflow:Assets written to: model1\\assets\n"
     ]
    },
    {
     "name": "stderr",
     "output_type": "stream",
     "text": [
      "INFO:tensorflow:Assets written to: model1\\assets\n"
     ]
    },
    {
     "name": "stdout",
     "output_type": "stream",
     "text": [
      "69/69 [==============================] - 3s 50ms/step - loss: 266.7177 - root_mean_squared_error: 16.3315 - val_loss: 564.7618 - val_root_mean_squared_error: 23.7647\n",
      "Epoch 21/80\n",
      "66/69 [===========================>..] - ETA: 0s - loss: 249.0521 - root_mean_squared_error: 15.7814"
     ]
    },
    {
     "name": "stderr",
     "output_type": "stream",
     "text": [
      "WARNING:absl:Found untraced functions such as lstm_cell_1_layer_call_fn, lstm_cell_1_layer_call_and_return_conditional_losses while saving (showing 2 of 2). These functions will not be directly callable after loading.\n"
     ]
    },
    {
     "name": "stdout",
     "output_type": "stream",
     "text": [
      "INFO:tensorflow:Assets written to: model1\\assets\n"
     ]
    },
    {
     "name": "stderr",
     "output_type": "stream",
     "text": [
      "INFO:tensorflow:Assets written to: model1\\assets\n"
     ]
    },
    {
     "name": "stdout",
     "output_type": "stream",
     "text": [
      "69/69 [==============================] - 3s 46ms/step - loss: 248.6036 - root_mean_squared_error: 15.7672 - val_loss: 532.7335 - val_root_mean_squared_error: 23.0810\n",
      "Epoch 22/80\n",
      "69/69 [==============================] - ETA: 0s - loss: 231.7750 - root_mean_squared_error: 15.2242"
     ]
    },
    {
     "name": "stderr",
     "output_type": "stream",
     "text": [
      "WARNING:absl:Found untraced functions such as lstm_cell_1_layer_call_fn, lstm_cell_1_layer_call_and_return_conditional_losses while saving (showing 2 of 2). These functions will not be directly callable after loading.\n"
     ]
    },
    {
     "name": "stdout",
     "output_type": "stream",
     "text": [
      "INFO:tensorflow:Assets written to: model1\\assets\n"
     ]
    },
    {
     "name": "stderr",
     "output_type": "stream",
     "text": [
      "INFO:tensorflow:Assets written to: model1\\assets\n"
     ]
    },
    {
     "name": "stdout",
     "output_type": "stream",
     "text": [
      "69/69 [==============================] - 3s 49ms/step - loss: 231.7750 - root_mean_squared_error: 15.2242 - val_loss: 501.7692 - val_root_mean_squared_error: 22.4002\n",
      "Epoch 23/80\n",
      "65/69 [===========================>..] - ETA: 0s - loss: 216.7701 - root_mean_squared_error: 14.7231"
     ]
    },
    {
     "name": "stderr",
     "output_type": "stream",
     "text": [
      "WARNING:absl:Found untraced functions such as lstm_cell_1_layer_call_fn, lstm_cell_1_layer_call_and_return_conditional_losses while saving (showing 2 of 2). These functions will not be directly callable after loading.\n"
     ]
    },
    {
     "name": "stdout",
     "output_type": "stream",
     "text": [
      "INFO:tensorflow:Assets written to: model1\\assets\n"
     ]
    },
    {
     "name": "stderr",
     "output_type": "stream",
     "text": [
      "INFO:tensorflow:Assets written to: model1\\assets\n"
     ]
    },
    {
     "name": "stdout",
     "output_type": "stream",
     "text": [
      "69/69 [==============================] - 3s 49ms/step - loss: 216.1382 - root_mean_squared_error: 14.7016 - val_loss: 472.9170 - val_root_mean_squared_error: 21.7467\n",
      "Epoch 24/80\n",
      "64/69 [==========================>...] - ETA: 0s - loss: 204.3283 - root_mean_squared_error: 14.2943"
     ]
    },
    {
     "name": "stderr",
     "output_type": "stream",
     "text": [
      "WARNING:absl:Found untraced functions such as lstm_cell_1_layer_call_fn, lstm_cell_1_layer_call_and_return_conditional_losses while saving (showing 2 of 2). These functions will not be directly callable after loading.\n"
     ]
    },
    {
     "name": "stdout",
     "output_type": "stream",
     "text": [
      "INFO:tensorflow:Assets written to: model1\\assets\n"
     ]
    },
    {
     "name": "stderr",
     "output_type": "stream",
     "text": [
      "INFO:tensorflow:Assets written to: model1\\assets\n"
     ]
    },
    {
     "name": "stdout",
     "output_type": "stream",
     "text": [
      "69/69 [==============================] - 3s 42ms/step - loss: 201.7727 - root_mean_squared_error: 14.2047 - val_loss: 445.0688 - val_root_mean_squared_error: 21.0967\n",
      "Epoch 25/80\n",
      "67/69 [============================>.] - ETA: 0s - loss: 188.6326 - root_mean_squared_error: 13.7344"
     ]
    },
    {
     "name": "stderr",
     "output_type": "stream",
     "text": [
      "WARNING:absl:Found untraced functions such as lstm_cell_1_layer_call_fn, lstm_cell_1_layer_call_and_return_conditional_losses while saving (showing 2 of 2). These functions will not be directly callable after loading.\n"
     ]
    },
    {
     "name": "stdout",
     "output_type": "stream",
     "text": [
      "INFO:tensorflow:Assets written to: model1\\assets\n"
     ]
    },
    {
     "name": "stderr",
     "output_type": "stream",
     "text": [
      "INFO:tensorflow:Assets written to: model1\\assets\n"
     ]
    },
    {
     "name": "stdout",
     "output_type": "stream",
     "text": [
      "69/69 [==============================] - 3s 50ms/step - loss: 188.4885 - root_mean_squared_error: 13.7291 - val_loss: 418.8184 - val_root_mean_squared_error: 20.4651\n",
      "Epoch 26/80\n",
      "66/69 [===========================>..] - ETA: 0s - loss: 179.0788 - root_mean_squared_error: 13.3820"
     ]
    },
    {
     "name": "stderr",
     "output_type": "stream",
     "text": [
      "WARNING:absl:Found untraced functions such as lstm_cell_1_layer_call_fn, lstm_cell_1_layer_call_and_return_conditional_losses while saving (showing 2 of 2). These functions will not be directly callable after loading.\n"
     ]
    },
    {
     "name": "stdout",
     "output_type": "stream",
     "text": [
      "INFO:tensorflow:Assets written to: model1\\assets\n"
     ]
    },
    {
     "name": "stderr",
     "output_type": "stream",
     "text": [
      "INFO:tensorflow:Assets written to: model1\\assets\n"
     ]
    },
    {
     "name": "stdout",
     "output_type": "stream",
     "text": [
      "69/69 [==============================] - 3s 43ms/step - loss: 176.2741 - root_mean_squared_error: 13.2768 - val_loss: 393.7011 - val_root_mean_squared_error: 19.8419\n",
      "Epoch 27/80\n",
      "64/69 [==========================>...] - ETA: 0s - loss: 167.7299 - root_mean_squared_error: 12.9511"
     ]
    },
    {
     "name": "stderr",
     "output_type": "stream",
     "text": [
      "WARNING:absl:Found untraced functions such as lstm_cell_1_layer_call_fn, lstm_cell_1_layer_call_and_return_conditional_losses while saving (showing 2 of 2). These functions will not be directly callable after loading.\n"
     ]
    },
    {
     "name": "stdout",
     "output_type": "stream",
     "text": [
      "INFO:tensorflow:Assets written to: model1\\assets\n"
     ]
    },
    {
     "name": "stderr",
     "output_type": "stream",
     "text": [
      "INFO:tensorflow:Assets written to: model1\\assets\n"
     ]
    },
    {
     "name": "stdout",
     "output_type": "stream",
     "text": [
      "69/69 [==============================] - 3s 44ms/step - loss: 165.2067 - root_mean_squared_error: 12.8533 - val_loss: 370.4160 - val_root_mean_squared_error: 19.2462\n",
      "Epoch 28/80\n",
      "68/69 [============================>.] - ETA: 0s - loss: 155.5773 - root_mean_squared_error: 12.4731"
     ]
    },
    {
     "name": "stderr",
     "output_type": "stream",
     "text": [
      "WARNING:absl:Found untraced functions such as lstm_cell_1_layer_call_fn, lstm_cell_1_layer_call_and_return_conditional_losses while saving (showing 2 of 2). These functions will not be directly callable after loading.\n"
     ]
    },
    {
     "name": "stdout",
     "output_type": "stream",
     "text": [
      "INFO:tensorflow:Assets written to: model1\\assets\n"
     ]
    },
    {
     "name": "stderr",
     "output_type": "stream",
     "text": [
      "INFO:tensorflow:Assets written to: model1\\assets\n"
     ]
    },
    {
     "name": "stdout",
     "output_type": "stream",
     "text": [
      "69/69 [==============================] - 4s 51ms/step - loss: 155.1577 - root_mean_squared_error: 12.4562 - val_loss: 348.4593 - val_root_mean_squared_error: 18.6671\n",
      "Epoch 29/80\n",
      "64/69 [==========================>...] - ETA: 0s - loss: 147.7750 - root_mean_squared_error: 12.1563"
     ]
    },
    {
     "name": "stderr",
     "output_type": "stream",
     "text": [
      "WARNING:absl:Found untraced functions such as lstm_cell_1_layer_call_fn, lstm_cell_1_layer_call_and_return_conditional_losses while saving (showing 2 of 2). These functions will not be directly callable after loading.\n"
     ]
    },
    {
     "name": "stdout",
     "output_type": "stream",
     "text": [
      "INFO:tensorflow:Assets written to: model1\\assets\n"
     ]
    },
    {
     "name": "stderr",
     "output_type": "stream",
     "text": [
      "INFO:tensorflow:Assets written to: model1\\assets\n"
     ]
    },
    {
     "name": "stdout",
     "output_type": "stream",
     "text": [
      "69/69 [==============================] - 3s 50ms/step - loss: 146.1067 - root_mean_squared_error: 12.0875 - val_loss: 327.6147 - val_root_mean_squared_error: 18.1001\n",
      "Epoch 30/80\n",
      "62/69 [=========================>....] - ETA: 0s - loss: 137.0518 - root_mean_squared_error: 11.7069"
     ]
    },
    {
     "name": "stderr",
     "output_type": "stream",
     "text": [
      "WARNING:absl:Found untraced functions such as lstm_cell_1_layer_call_fn, lstm_cell_1_layer_call_and_return_conditional_losses while saving (showing 2 of 2). These functions will not be directly callable after loading.\n"
     ]
    },
    {
     "name": "stdout",
     "output_type": "stream",
     "text": [
      "INFO:tensorflow:Assets written to: model1\\assets\n"
     ]
    },
    {
     "name": "stderr",
     "output_type": "stream",
     "text": [
      "INFO:tensorflow:Assets written to: model1\\assets\n"
     ]
    },
    {
     "name": "stdout",
     "output_type": "stream",
     "text": [
      "69/69 [==============================] - 3s 43ms/step - loss: 137.9549 - root_mean_squared_error: 11.7454 - val_loss: 308.3560 - val_root_mean_squared_error: 17.5601\n",
      "Epoch 31/80\n",
      "62/69 [=========================>....] - ETA: 0s - loss: 131.2390 - root_mean_squared_error: 11.4560"
     ]
    },
    {
     "name": "stderr",
     "output_type": "stream",
     "text": [
      "WARNING:absl:Found untraced functions such as lstm_cell_1_layer_call_fn, lstm_cell_1_layer_call_and_return_conditional_losses while saving (showing 2 of 2). These functions will not be directly callable after loading.\n"
     ]
    },
    {
     "name": "stdout",
     "output_type": "stream",
     "text": [
      "INFO:tensorflow:Assets written to: model1\\assets\n"
     ]
    },
    {
     "name": "stderr",
     "output_type": "stream",
     "text": [
      "INFO:tensorflow:Assets written to: model1\\assets\n"
     ]
    },
    {
     "name": "stdout",
     "output_type": "stream",
     "text": [
      "69/69 [==============================] - 3s 41ms/step - loss: 130.7367 - root_mean_squared_error: 11.4340 - val_loss: 290.2443 - val_root_mean_squared_error: 17.0366\n",
      "Epoch 32/80\n",
      "62/69 [=========================>....] - ETA: 0s - loss: 126.9442 - root_mean_squared_error: 11.2670"
     ]
    },
    {
     "name": "stderr",
     "output_type": "stream",
     "text": [
      "WARNING:absl:Found untraced functions such as lstm_cell_1_layer_call_fn, lstm_cell_1_layer_call_and_return_conditional_losses while saving (showing 2 of 2). These functions will not be directly callable after loading.\n"
     ]
    },
    {
     "name": "stdout",
     "output_type": "stream",
     "text": [
      "INFO:tensorflow:Assets written to: model1\\assets\n"
     ]
    },
    {
     "name": "stderr",
     "output_type": "stream",
     "text": [
      "INFO:tensorflow:Assets written to: model1\\assets\n"
     ]
    },
    {
     "name": "stdout",
     "output_type": "stream",
     "text": [
      "69/69 [==============================] - 3s 44ms/step - loss: 124.3422 - root_mean_squared_error: 11.1509 - val_loss: 273.4580 - val_root_mean_squared_error: 16.5366\n",
      "Epoch 33/80\n",
      "65/69 [===========================>..] - ETA: 0s - loss: 117.8097 - root_mean_squared_error: 10.8540"
     ]
    },
    {
     "name": "stderr",
     "output_type": "stream",
     "text": [
      "WARNING:absl:Found untraced functions such as lstm_cell_1_layer_call_fn, lstm_cell_1_layer_call_and_return_conditional_losses while saving (showing 2 of 2). These functions will not be directly callable after loading.\n"
     ]
    },
    {
     "name": "stdout",
     "output_type": "stream",
     "text": [
      "INFO:tensorflow:Assets written to: model1\\assets\n"
     ]
    },
    {
     "name": "stderr",
     "output_type": "stream",
     "text": [
      "INFO:tensorflow:Assets written to: model1\\assets\n"
     ]
    },
    {
     "name": "stdout",
     "output_type": "stream",
     "text": [
      "69/69 [==============================] - 3s 40ms/step - loss: 118.6852 - root_mean_squared_error: 10.8943 - val_loss: 258.0514 - val_root_mean_squared_error: 16.0640\n",
      "Epoch 34/80\n",
      "66/69 [===========================>..] - ETA: 0s - loss: 115.2553 - root_mean_squared_error: 10.7357"
     ]
    },
    {
     "name": "stderr",
     "output_type": "stream",
     "text": [
      "WARNING:absl:Found untraced functions such as lstm_cell_1_layer_call_fn, lstm_cell_1_layer_call_and_return_conditional_losses while saving (showing 2 of 2). These functions will not be directly callable after loading.\n"
     ]
    },
    {
     "name": "stdout",
     "output_type": "stream",
     "text": [
      "INFO:tensorflow:Assets written to: model1\\assets\n"
     ]
    },
    {
     "name": "stderr",
     "output_type": "stream",
     "text": [
      "INFO:tensorflow:Assets written to: model1\\assets\n"
     ]
    },
    {
     "name": "stdout",
     "output_type": "stream",
     "text": [
      "69/69 [==============================] - 3s 42ms/step - loss: 113.7238 - root_mean_squared_error: 10.6641 - val_loss: 243.3264 - val_root_mean_squared_error: 15.5989\n",
      "Epoch 35/80\n",
      "63/69 [==========================>...] - ETA: 0s - loss: 111.8797 - root_mean_squared_error: 10.5773"
     ]
    },
    {
     "name": "stderr",
     "output_type": "stream",
     "text": [
      "WARNING:absl:Found untraced functions such as lstm_cell_1_layer_call_fn, lstm_cell_1_layer_call_and_return_conditional_losses while saving (showing 2 of 2). These functions will not be directly callable after loading.\n"
     ]
    },
    {
     "name": "stdout",
     "output_type": "stream",
     "text": [
      "INFO:tensorflow:Assets written to: model1\\assets\n"
     ]
    },
    {
     "name": "stderr",
     "output_type": "stream",
     "text": [
      "INFO:tensorflow:Assets written to: model1\\assets\n"
     ]
    },
    {
     "name": "stdout",
     "output_type": "stream",
     "text": [
      "69/69 [==============================] - 3s 42ms/step - loss: 109.4438 - root_mean_squared_error: 10.4615 - val_loss: 230.0116 - val_root_mean_squared_error: 15.1661\n",
      "Epoch 36/80\n",
      "62/69 [=========================>....] - ETA: 0s - loss: 105.6044 - root_mean_squared_error: 10.2764"
     ]
    },
    {
     "name": "stderr",
     "output_type": "stream",
     "text": [
      "WARNING:absl:Found untraced functions such as lstm_cell_1_layer_call_fn, lstm_cell_1_layer_call_and_return_conditional_losses while saving (showing 2 of 2). These functions will not be directly callable after loading.\n"
     ]
    },
    {
     "name": "stdout",
     "output_type": "stream",
     "text": [
      "INFO:tensorflow:Assets written to: model1\\assets\n"
     ]
    },
    {
     "name": "stderr",
     "output_type": "stream",
     "text": [
      "INFO:tensorflow:Assets written to: model1\\assets\n"
     ]
    },
    {
     "name": "stdout",
     "output_type": "stream",
     "text": [
      "69/69 [==============================] - 3s 47ms/step - loss: 105.7729 - root_mean_squared_error: 10.2846 - val_loss: 217.8851 - val_root_mean_squared_error: 14.7609\n",
      "Epoch 37/80\n",
      "67/69 [============================>.] - ETA: 0s - loss: 102.3761 - root_mean_squared_error: 10.1181"
     ]
    },
    {
     "name": "stderr",
     "output_type": "stream",
     "text": [
      "WARNING:absl:Found untraced functions such as lstm_cell_1_layer_call_fn, lstm_cell_1_layer_call_and_return_conditional_losses while saving (showing 2 of 2). These functions will not be directly callable after loading.\n"
     ]
    },
    {
     "name": "stdout",
     "output_type": "stream",
     "text": [
      "INFO:tensorflow:Assets written to: model1\\assets\n"
     ]
    },
    {
     "name": "stderr",
     "output_type": "stream",
     "text": [
      "INFO:tensorflow:Assets written to: model1\\assets\n"
     ]
    },
    {
     "name": "stdout",
     "output_type": "stream",
     "text": [
      "69/69 [==============================] - 3s 42ms/step - loss: 102.6584 - root_mean_squared_error: 10.1320 - val_loss: 206.7968 - val_root_mean_squared_error: 14.3804\n",
      "Epoch 38/80\n",
      "61/69 [=========================>....] - ETA: 0s - loss: 100.0558 - root_mean_squared_error: 10.0028"
     ]
    },
    {
     "name": "stderr",
     "output_type": "stream",
     "text": [
      "WARNING:absl:Found untraced functions such as lstm_cell_1_layer_call_fn, lstm_cell_1_layer_call_and_return_conditional_losses while saving (showing 2 of 2). These functions will not be directly callable after loading.\n"
     ]
    },
    {
     "name": "stdout",
     "output_type": "stream",
     "text": [
      "INFO:tensorflow:Assets written to: model1\\assets\n"
     ]
    },
    {
     "name": "stderr",
     "output_type": "stream",
     "text": [
      "INFO:tensorflow:Assets written to: model1\\assets\n"
     ]
    },
    {
     "name": "stdout",
     "output_type": "stream",
     "text": [
      "69/69 [==============================] - 3s 44ms/step - loss: 100.0109 - root_mean_squared_error: 10.0005 - val_loss: 196.4931 - val_root_mean_squared_error: 14.0176\n",
      "Epoch 39/80\n",
      "62/69 [=========================>....] - ETA: 0s - loss: 97.3221 - root_mean_squared_error: 9.8652"
     ]
    },
    {
     "name": "stderr",
     "output_type": "stream",
     "text": [
      "WARNING:absl:Found untraced functions such as lstm_cell_1_layer_call_fn, lstm_cell_1_layer_call_and_return_conditional_losses while saving (showing 2 of 2). These functions will not be directly callable after loading.\n"
     ]
    },
    {
     "name": "stdout",
     "output_type": "stream",
     "text": [
      "INFO:tensorflow:Assets written to: model1\\assets\n"
     ]
    },
    {
     "name": "stderr",
     "output_type": "stream",
     "text": [
      "INFO:tensorflow:Assets written to: model1\\assets\n"
     ]
    },
    {
     "name": "stdout",
     "output_type": "stream",
     "text": [
      "69/69 [==============================] - 3s 39ms/step - loss: 97.7720 - root_mean_squared_error: 9.8880 - val_loss: 187.2032 - val_root_mean_squared_error: 13.6822\n",
      "Epoch 40/80\n",
      "68/69 [============================>.] - ETA: 0s - loss: 96.0378 - root_mean_squared_error: 9.7999"
     ]
    },
    {
     "name": "stderr",
     "output_type": "stream",
     "text": [
      "WARNING:absl:Found untraced functions such as lstm_cell_1_layer_call_fn, lstm_cell_1_layer_call_and_return_conditional_losses while saving (showing 2 of 2). These functions will not be directly callable after loading.\n"
     ]
    },
    {
     "name": "stdout",
     "output_type": "stream",
     "text": [
      "INFO:tensorflow:Assets written to: model1\\assets\n"
     ]
    },
    {
     "name": "stderr",
     "output_type": "stream",
     "text": [
      "INFO:tensorflow:Assets written to: model1\\assets\n"
     ]
    },
    {
     "name": "stdout",
     "output_type": "stream",
     "text": [
      "69/69 [==============================] - 4s 58ms/step - loss: 95.9231 - root_mean_squared_error: 9.7940 - val_loss: 179.0016 - val_root_mean_squared_error: 13.3791\n",
      "Epoch 41/80\n",
      "62/69 [=========================>....] - ETA: 0s - loss: 91.7030 - root_mean_squared_error: 9.5762"
     ]
    },
    {
     "name": "stderr",
     "output_type": "stream",
     "text": [
      "WARNING:absl:Found untraced functions such as lstm_cell_1_layer_call_fn, lstm_cell_1_layer_call_and_return_conditional_losses while saving (showing 2 of 2). These functions will not be directly callable after loading.\n"
     ]
    },
    {
     "name": "stdout",
     "output_type": "stream",
     "text": [
      "INFO:tensorflow:Assets written to: model1\\assets\n"
     ]
    },
    {
     "name": "stderr",
     "output_type": "stream",
     "text": [
      "INFO:tensorflow:Assets written to: model1\\assets\n"
     ]
    },
    {
     "name": "stdout",
     "output_type": "stream",
     "text": [
      "69/69 [==============================] - 3s 45ms/step - loss: 91.1819 - root_mean_squared_error: 9.5489 - val_loss: 170.0080 - val_root_mean_squared_error: 13.0387\n",
      "Epoch 42/80\n",
      "65/69 [===========================>..] - ETA: 0s - loss: 89.1894 - root_mean_squared_error: 9.4440"
     ]
    },
    {
     "name": "stderr",
     "output_type": "stream",
     "text": [
      "WARNING:absl:Found untraced functions such as lstm_cell_1_layer_call_fn, lstm_cell_1_layer_call_and_return_conditional_losses while saving (showing 2 of 2). These functions will not be directly callable after loading.\n"
     ]
    },
    {
     "name": "stdout",
     "output_type": "stream",
     "text": [
      "INFO:tensorflow:Assets written to: model1\\assets\n"
     ]
    },
    {
     "name": "stderr",
     "output_type": "stream",
     "text": [
      "INFO:tensorflow:Assets written to: model1\\assets\n"
     ]
    },
    {
     "name": "stdout",
     "output_type": "stream",
     "text": [
      "69/69 [==============================] - 3s 42ms/step - loss: 88.4240 - root_mean_squared_error: 9.4034 - val_loss: 161.3872 - val_root_mean_squared_error: 12.7038\n",
      "Epoch 43/80\n",
      "67/69 [============================>.] - ETA: 0s - loss: 84.6260 - root_mean_squared_error: 9.1992"
     ]
    },
    {
     "name": "stderr",
     "output_type": "stream",
     "text": [
      "WARNING:absl:Found untraced functions such as lstm_cell_1_layer_call_fn, lstm_cell_1_layer_call_and_return_conditional_losses while saving (showing 2 of 2). These functions will not be directly callable after loading.\n"
     ]
    },
    {
     "name": "stdout",
     "output_type": "stream",
     "text": [
      "INFO:tensorflow:Assets written to: model1\\assets\n"
     ]
    },
    {
     "name": "stderr",
     "output_type": "stream",
     "text": [
      "INFO:tensorflow:Assets written to: model1\\assets\n"
     ]
    },
    {
     "name": "stdout",
     "output_type": "stream",
     "text": [
      "69/69 [==============================] - 4s 52ms/step - loss: 84.5924 - root_mean_squared_error: 9.1974 - val_loss: 153.8822 - val_root_mean_squared_error: 12.4049\n",
      "Epoch 44/80\n",
      "66/69 [===========================>..] - ETA: 0s - loss: 79.8380 - root_mean_squared_error: 8.9352"
     ]
    },
    {
     "name": "stderr",
     "output_type": "stream",
     "text": [
      "WARNING:absl:Found untraced functions such as lstm_cell_1_layer_call_fn, lstm_cell_1_layer_call_and_return_conditional_losses while saving (showing 2 of 2). These functions will not be directly callable after loading.\n"
     ]
    },
    {
     "name": "stdout",
     "output_type": "stream",
     "text": [
      "INFO:tensorflow:Assets written to: model1\\assets\n"
     ]
    },
    {
     "name": "stderr",
     "output_type": "stream",
     "text": [
      "INFO:tensorflow:Assets written to: model1\\assets\n"
     ]
    },
    {
     "name": "stdout",
     "output_type": "stream",
     "text": [
      "69/69 [==============================] - 3s 42ms/step - loss: 80.1852 - root_mean_squared_error: 8.9546 - val_loss: 145.0229 - val_root_mean_squared_error: 12.0425\n",
      "Epoch 45/80\n",
      "63/69 [==========================>...] - ETA: 0s - loss: 78.2477 - root_mean_squared_error: 8.8458"
     ]
    },
    {
     "name": "stderr",
     "output_type": "stream",
     "text": [
      "WARNING:absl:Found untraced functions such as lstm_cell_1_layer_call_fn, lstm_cell_1_layer_call_and_return_conditional_losses while saving (showing 2 of 2). These functions will not be directly callable after loading.\n"
     ]
    },
    {
     "name": "stdout",
     "output_type": "stream",
     "text": [
      "INFO:tensorflow:Assets written to: model1\\assets\n"
     ]
    },
    {
     "name": "stderr",
     "output_type": "stream",
     "text": [
      "INFO:tensorflow:Assets written to: model1\\assets\n"
     ]
    },
    {
     "name": "stdout",
     "output_type": "stream",
     "text": [
      "69/69 [==============================] - 3s 43ms/step - loss: 77.0178 - root_mean_squared_error: 8.7760 - val_loss: 136.2372 - val_root_mean_squared_error: 11.6721\n",
      "Epoch 46/80\n",
      "67/69 [============================>.] - ETA: 0s - loss: 72.0576 - root_mean_squared_error: 8.4887"
     ]
    },
    {
     "name": "stderr",
     "output_type": "stream",
     "text": [
      "WARNING:absl:Found untraced functions such as lstm_cell_1_layer_call_fn, lstm_cell_1_layer_call_and_return_conditional_losses while saving (showing 2 of 2). These functions will not be directly callable after loading.\n"
     ]
    },
    {
     "name": "stdout",
     "output_type": "stream",
     "text": [
      "INFO:tensorflow:Assets written to: model1\\assets\n"
     ]
    },
    {
     "name": "stderr",
     "output_type": "stream",
     "text": [
      "INFO:tensorflow:Assets written to: model1\\assets\n"
     ]
    },
    {
     "name": "stdout",
     "output_type": "stream",
     "text": [
      "69/69 [==============================] - 3s 47ms/step - loss: 71.9266 - root_mean_squared_error: 8.4810 - val_loss: 126.8041 - val_root_mean_squared_error: 11.2607\n",
      "Epoch 47/80\n",
      "63/69 [==========================>...] - ETA: 0s - loss: 68.8432 - root_mean_squared_error: 8.2972"
     ]
    },
    {
     "name": "stderr",
     "output_type": "stream",
     "text": [
      "WARNING:absl:Found untraced functions such as lstm_cell_1_layer_call_fn, lstm_cell_1_layer_call_and_return_conditional_losses while saving (showing 2 of 2). These functions will not be directly callable after loading.\n"
     ]
    },
    {
     "name": "stdout",
     "output_type": "stream",
     "text": [
      "INFO:tensorflow:Assets written to: model1\\assets\n"
     ]
    },
    {
     "name": "stderr",
     "output_type": "stream",
     "text": [
      "INFO:tensorflow:Assets written to: model1\\assets\n"
     ]
    },
    {
     "name": "stdout",
     "output_type": "stream",
     "text": [
      "69/69 [==============================] - 3s 45ms/step - loss: 67.9263 - root_mean_squared_error: 8.2417 - val_loss: 118.3794 - val_root_mean_squared_error: 10.8802\n",
      "Epoch 48/80\n",
      "67/69 [============================>.] - ETA: 0s - loss: 64.3404 - root_mean_squared_error: 8.0212"
     ]
    },
    {
     "name": "stderr",
     "output_type": "stream",
     "text": [
      "WARNING:absl:Found untraced functions such as lstm_cell_1_layer_call_fn, lstm_cell_1_layer_call_and_return_conditional_losses while saving (showing 2 of 2). These functions will not be directly callable after loading.\n"
     ]
    },
    {
     "name": "stdout",
     "output_type": "stream",
     "text": [
      "INFO:tensorflow:Assets written to: model1\\assets\n"
     ]
    },
    {
     "name": "stderr",
     "output_type": "stream",
     "text": [
      "INFO:tensorflow:Assets written to: model1\\assets\n"
     ]
    },
    {
     "name": "stdout",
     "output_type": "stream",
     "text": [
      "69/69 [==============================] - 3s 51ms/step - loss: 64.1078 - root_mean_squared_error: 8.0067 - val_loss: 109.9908 - val_root_mean_squared_error: 10.4876\n",
      "Epoch 49/80\n",
      "63/69 [==========================>...] - ETA: 0s - loss: 60.5595 - root_mean_squared_error: 7.7820"
     ]
    },
    {
     "name": "stderr",
     "output_type": "stream",
     "text": [
      "WARNING:absl:Found untraced functions such as lstm_cell_1_layer_call_fn, lstm_cell_1_layer_call_and_return_conditional_losses while saving (showing 2 of 2). These functions will not be directly callable after loading.\n"
     ]
    },
    {
     "name": "stdout",
     "output_type": "stream",
     "text": [
      "INFO:tensorflow:Assets written to: model1\\assets\n"
     ]
    },
    {
     "name": "stderr",
     "output_type": "stream",
     "text": [
      "INFO:tensorflow:Assets written to: model1\\assets\n"
     ]
    },
    {
     "name": "stdout",
     "output_type": "stream",
     "text": [
      "69/69 [==============================] - 3s 41ms/step - loss: 59.7121 - root_mean_squared_error: 7.7274 - val_loss: 99.8994 - val_root_mean_squared_error: 9.9950\n",
      "Epoch 50/80\n",
      "65/69 [===========================>..] - ETA: 0s - loss: 56.3765 - root_mean_squared_error: 7.5084"
     ]
    },
    {
     "name": "stderr",
     "output_type": "stream",
     "text": [
      "WARNING:absl:Found untraced functions such as lstm_cell_1_layer_call_fn, lstm_cell_1_layer_call_and_return_conditional_losses while saving (showing 2 of 2). These functions will not be directly callable after loading.\n"
     ]
    },
    {
     "name": "stdout",
     "output_type": "stream",
     "text": [
      "INFO:tensorflow:Assets written to: model1\\assets\n"
     ]
    },
    {
     "name": "stderr",
     "output_type": "stream",
     "text": [
      "INFO:tensorflow:Assets written to: model1\\assets\n"
     ]
    },
    {
     "name": "stdout",
     "output_type": "stream",
     "text": [
      "69/69 [==============================] - 3s 46ms/step - loss: 56.0420 - root_mean_squared_error: 7.4861 - val_loss: 90.8541 - val_root_mean_squared_error: 9.5317\n",
      "Epoch 51/80\n",
      "65/69 [===========================>..] - ETA: 0s - loss: 53.2315 - root_mean_squared_error: 7.2960"
     ]
    },
    {
     "name": "stderr",
     "output_type": "stream",
     "text": [
      "WARNING:absl:Found untraced functions such as lstm_cell_1_layer_call_fn, lstm_cell_1_layer_call_and_return_conditional_losses while saving (showing 2 of 2). These functions will not be directly callable after loading.\n"
     ]
    },
    {
     "name": "stdout",
     "output_type": "stream",
     "text": [
      "INFO:tensorflow:Assets written to: model1\\assets\n"
     ]
    },
    {
     "name": "stderr",
     "output_type": "stream",
     "text": [
      "INFO:tensorflow:Assets written to: model1\\assets\n"
     ]
    },
    {
     "name": "stdout",
     "output_type": "stream",
     "text": [
      "69/69 [==============================] - 3s 41ms/step - loss: 52.5845 - root_mean_squared_error: 7.2515 - val_loss: 82.7624 - val_root_mean_squared_error: 9.0974\n",
      "Epoch 52/80\n",
      "63/69 [==========================>...] - ETA: 0s - loss: 49.9866 - root_mean_squared_error: 7.0701"
     ]
    },
    {
     "name": "stderr",
     "output_type": "stream",
     "text": [
      "WARNING:absl:Found untraced functions such as lstm_cell_1_layer_call_fn, lstm_cell_1_layer_call_and_return_conditional_losses while saving (showing 2 of 2). These functions will not be directly callable after loading.\n"
     ]
    },
    {
     "name": "stdout",
     "output_type": "stream",
     "text": [
      "INFO:tensorflow:Assets written to: model1\\assets\n"
     ]
    },
    {
     "name": "stderr",
     "output_type": "stream",
     "text": [
      "INFO:tensorflow:Assets written to: model1\\assets\n"
     ]
    },
    {
     "name": "stdout",
     "output_type": "stream",
     "text": [
      "69/69 [==============================] - 3s 38ms/step - loss: 49.2228 - root_mean_squared_error: 7.0159 - val_loss: 74.8171 - val_root_mean_squared_error: 8.6497\n",
      "Epoch 53/80\n",
      "64/69 [==========================>...] - ETA: 0s - loss: 46.8737 - root_mean_squared_error: 6.8464"
     ]
    },
    {
     "name": "stderr",
     "output_type": "stream",
     "text": [
      "WARNING:absl:Found untraced functions such as lstm_cell_1_layer_call_fn, lstm_cell_1_layer_call_and_return_conditional_losses while saving (showing 2 of 2). These functions will not be directly callable after loading.\n"
     ]
    },
    {
     "name": "stdout",
     "output_type": "stream",
     "text": [
      "INFO:tensorflow:Assets written to: model1\\assets\n"
     ]
    },
    {
     "name": "stderr",
     "output_type": "stream",
     "text": [
      "INFO:tensorflow:Assets written to: model1\\assets\n"
     ]
    },
    {
     "name": "stdout",
     "output_type": "stream",
     "text": [
      "69/69 [==============================] - 3s 44ms/step - loss: 46.0848 - root_mean_squared_error: 6.7886 - val_loss: 67.0335 - val_root_mean_squared_error: 8.1874\n",
      "Epoch 54/80\n",
      "65/69 [===========================>..] - ETA: 0s - loss: 43.4159 - root_mean_squared_error: 6.5891"
     ]
    },
    {
     "name": "stderr",
     "output_type": "stream",
     "text": [
      "WARNING:absl:Found untraced functions such as lstm_cell_1_layer_call_fn, lstm_cell_1_layer_call_and_return_conditional_losses while saving (showing 2 of 2). These functions will not be directly callable after loading.\n"
     ]
    },
    {
     "name": "stdout",
     "output_type": "stream",
     "text": [
      "INFO:tensorflow:Assets written to: model1\\assets\n"
     ]
    },
    {
     "name": "stderr",
     "output_type": "stream",
     "text": [
      "INFO:tensorflow:Assets written to: model1\\assets\n"
     ]
    },
    {
     "name": "stdout",
     "output_type": "stream",
     "text": [
      "69/69 [==============================] - 3s 44ms/step - loss: 42.5488 - root_mean_squared_error: 6.5229 - val_loss: 59.4582 - val_root_mean_squared_error: 7.7109\n",
      "Epoch 55/80\n",
      "67/69 [============================>.] - ETA: 0s - loss: 39.3758 - root_mean_squared_error: 6.2750"
     ]
    },
    {
     "name": "stderr",
     "output_type": "stream",
     "text": [
      "WARNING:absl:Found untraced functions such as lstm_cell_1_layer_call_fn, lstm_cell_1_layer_call_and_return_conditional_losses while saving (showing 2 of 2). These functions will not be directly callable after loading.\n"
     ]
    },
    {
     "name": "stdout",
     "output_type": "stream",
     "text": [
      "INFO:tensorflow:Assets written to: model1\\assets\n"
     ]
    },
    {
     "name": "stderr",
     "output_type": "stream",
     "text": [
      "INFO:tensorflow:Assets written to: model1\\assets\n"
     ]
    },
    {
     "name": "stdout",
     "output_type": "stream",
     "text": [
      "69/69 [==============================] - 3s 45ms/step - loss: 39.1071 - root_mean_squared_error: 6.2536 - val_loss: 52.0951 - val_root_mean_squared_error: 7.2177\n",
      "Epoch 56/80\n",
      "66/69 [===========================>..] - ETA: 0s - loss: 36.0568 - root_mean_squared_error: 6.0047"
     ]
    },
    {
     "name": "stderr",
     "output_type": "stream",
     "text": [
      "WARNING:absl:Found untraced functions such as lstm_cell_1_layer_call_fn, lstm_cell_1_layer_call_and_return_conditional_losses while saving (showing 2 of 2). These functions will not be directly callable after loading.\n"
     ]
    },
    {
     "name": "stdout",
     "output_type": "stream",
     "text": [
      "INFO:tensorflow:Assets written to: model1\\assets\n"
     ]
    },
    {
     "name": "stderr",
     "output_type": "stream",
     "text": [
      "INFO:tensorflow:Assets written to: model1\\assets\n"
     ]
    },
    {
     "name": "stdout",
     "output_type": "stream",
     "text": [
      "69/69 [==============================] - 3s 43ms/step - loss: 35.5905 - root_mean_squared_error: 5.9658 - val_loss: 44.5092 - val_root_mean_squared_error: 6.6715\n",
      "Epoch 57/80\n",
      "63/69 [==========================>...] - ETA: 0s - loss: 33.0332 - root_mean_squared_error: 5.7475"
     ]
    },
    {
     "name": "stderr",
     "output_type": "stream",
     "text": [
      "WARNING:absl:Found untraced functions such as lstm_cell_1_layer_call_fn, lstm_cell_1_layer_call_and_return_conditional_losses while saving (showing 2 of 2). These functions will not be directly callable after loading.\n"
     ]
    },
    {
     "name": "stdout",
     "output_type": "stream",
     "text": [
      "INFO:tensorflow:Assets written to: model1\\assets\n"
     ]
    },
    {
     "name": "stderr",
     "output_type": "stream",
     "text": [
      "INFO:tensorflow:Assets written to: model1\\assets\n"
     ]
    },
    {
     "name": "stdout",
     "output_type": "stream",
     "text": [
      "69/69 [==============================] - 3s 37ms/step - loss: 32.8118 - root_mean_squared_error: 5.7282 - val_loss: 38.3298 - val_root_mean_squared_error: 6.1911\n",
      "Epoch 58/80\n",
      "63/69 [==========================>...] - ETA: 0s - loss: 29.7434 - root_mean_squared_error: 5.4538"
     ]
    },
    {
     "name": "stderr",
     "output_type": "stream",
     "text": [
      "WARNING:absl:Found untraced functions such as lstm_cell_1_layer_call_fn, lstm_cell_1_layer_call_and_return_conditional_losses while saving (showing 2 of 2). These functions will not be directly callable after loading.\n"
     ]
    },
    {
     "name": "stdout",
     "output_type": "stream",
     "text": [
      "INFO:tensorflow:Assets written to: model1\\assets\n"
     ]
    },
    {
     "name": "stderr",
     "output_type": "stream",
     "text": [
      "INFO:tensorflow:Assets written to: model1\\assets\n"
     ]
    },
    {
     "name": "stdout",
     "output_type": "stream",
     "text": [
      "69/69 [==============================] - 3s 40ms/step - loss: 30.2735 - root_mean_squared_error: 5.5021 - val_loss: 32.8665 - val_root_mean_squared_error: 5.7329\n",
      "Epoch 59/80\n",
      "67/69 [============================>.] - ETA: 0s - loss: 27.8124 - root_mean_squared_error: 5.2737"
     ]
    },
    {
     "name": "stderr",
     "output_type": "stream",
     "text": [
      "WARNING:absl:Found untraced functions such as lstm_cell_1_layer_call_fn, lstm_cell_1_layer_call_and_return_conditional_losses while saving (showing 2 of 2). These functions will not be directly callable after loading.\n"
     ]
    },
    {
     "name": "stdout",
     "output_type": "stream",
     "text": [
      "INFO:tensorflow:Assets written to: model1\\assets\n"
     ]
    },
    {
     "name": "stderr",
     "output_type": "stream",
     "text": [
      "INFO:tensorflow:Assets written to: model1\\assets\n"
     ]
    },
    {
     "name": "stdout",
     "output_type": "stream",
     "text": [
      "69/69 [==============================] - 3s 44ms/step - loss: 27.9317 - root_mean_squared_error: 5.2850 - val_loss: 27.9624 - val_root_mean_squared_error: 5.2879\n",
      "Epoch 60/80\n",
      "65/69 [===========================>..] - ETA: 0s - loss: 26.1367 - root_mean_squared_error: 5.1124"
     ]
    },
    {
     "name": "stderr",
     "output_type": "stream",
     "text": [
      "WARNING:absl:Found untraced functions such as lstm_cell_1_layer_call_fn, lstm_cell_1_layer_call_and_return_conditional_losses while saving (showing 2 of 2). These functions will not be directly callable after loading.\n"
     ]
    },
    {
     "name": "stdout",
     "output_type": "stream",
     "text": [
      "INFO:tensorflow:Assets written to: model1\\assets\n"
     ]
    },
    {
     "name": "stderr",
     "output_type": "stream",
     "text": [
      "INFO:tensorflow:Assets written to: model1\\assets\n"
     ]
    },
    {
     "name": "stdout",
     "output_type": "stream",
     "text": [
      "69/69 [==============================] - 3s 47ms/step - loss: 25.6881 - root_mean_squared_error: 5.0683 - val_loss: 23.3789 - val_root_mean_squared_error: 4.8352\n",
      "Epoch 61/80\n",
      "62/69 [=========================>....] - ETA: 0s - loss: 23.8368 - root_mean_squared_error: 4.8823"
     ]
    },
    {
     "name": "stderr",
     "output_type": "stream",
     "text": [
      "WARNING:absl:Found untraced functions such as lstm_cell_1_layer_call_fn, lstm_cell_1_layer_call_and_return_conditional_losses while saving (showing 2 of 2). These functions will not be directly callable after loading.\n"
     ]
    },
    {
     "name": "stdout",
     "output_type": "stream",
     "text": [
      "INFO:tensorflow:Assets written to: model1\\assets\n"
     ]
    },
    {
     "name": "stderr",
     "output_type": "stream",
     "text": [
      "INFO:tensorflow:Assets written to: model1\\assets\n"
     ]
    },
    {
     "name": "stdout",
     "output_type": "stream",
     "text": [
      "69/69 [==============================] - 3s 43ms/step - loss: 23.4104 - root_mean_squared_error: 4.8384 - val_loss: 19.2906 - val_root_mean_squared_error: 4.3921\n",
      "Epoch 62/80\n",
      "68/69 [============================>.] - ETA: 0s - loss: 21.4774 - root_mean_squared_error: 4.6344"
     ]
    },
    {
     "name": "stderr",
     "output_type": "stream",
     "text": [
      "WARNING:absl:Found untraced functions such as lstm_cell_1_layer_call_fn, lstm_cell_1_layer_call_and_return_conditional_losses while saving (showing 2 of 2). These functions will not be directly callable after loading.\n"
     ]
    },
    {
     "name": "stdout",
     "output_type": "stream",
     "text": [
      "INFO:tensorflow:Assets written to: model1\\assets\n"
     ]
    },
    {
     "name": "stderr",
     "output_type": "stream",
     "text": [
      "INFO:tensorflow:Assets written to: model1\\assets\n"
     ]
    },
    {
     "name": "stdout",
     "output_type": "stream",
     "text": [
      "69/69 [==============================] - 3s 48ms/step - loss: 21.5414 - root_mean_squared_error: 4.6413 - val_loss: 15.9440 - val_root_mean_squared_error: 3.9930\n",
      "Epoch 63/80\n",
      "62/69 [=========================>....] - ETA: 0s - loss: 20.1794 - root_mean_squared_error: 4.4921"
     ]
    },
    {
     "name": "stderr",
     "output_type": "stream",
     "text": [
      "WARNING:absl:Found untraced functions such as lstm_cell_1_layer_call_fn, lstm_cell_1_layer_call_and_return_conditional_losses while saving (showing 2 of 2). These functions will not be directly callable after loading.\n"
     ]
    },
    {
     "name": "stdout",
     "output_type": "stream",
     "text": [
      "INFO:tensorflow:Assets written to: model1\\assets\n"
     ]
    },
    {
     "name": "stderr",
     "output_type": "stream",
     "text": [
      "INFO:tensorflow:Assets written to: model1\\assets\n"
     ]
    },
    {
     "name": "stdout",
     "output_type": "stream",
     "text": [
      "69/69 [==============================] - 3s 48ms/step - loss: 19.8211 - root_mean_squared_error: 4.4521 - val_loss: 12.9696 - val_root_mean_squared_error: 3.6013\n",
      "Epoch 64/80\n",
      "69/69 [==============================] - ETA: 0s - loss: 18.2245 - root_mean_squared_error: 4.2690"
     ]
    },
    {
     "name": "stderr",
     "output_type": "stream",
     "text": [
      "WARNING:absl:Found untraced functions such as lstm_cell_1_layer_call_fn, lstm_cell_1_layer_call_and_return_conditional_losses while saving (showing 2 of 2). These functions will not be directly callable after loading.\n"
     ]
    },
    {
     "name": "stdout",
     "output_type": "stream",
     "text": [
      "INFO:tensorflow:Assets written to: model1\\assets\n"
     ]
    },
    {
     "name": "stderr",
     "output_type": "stream",
     "text": [
      "INFO:tensorflow:Assets written to: model1\\assets\n"
     ]
    },
    {
     "name": "stdout",
     "output_type": "stream",
     "text": [
      "69/69 [==============================] - 3s 40ms/step - loss: 18.2245 - root_mean_squared_error: 4.2690 - val_loss: 10.5040 - val_root_mean_squared_error: 3.2410\n",
      "Epoch 65/80\n",
      "66/69 [===========================>..] - ETA: 0s - loss: 16.9645 - root_mean_squared_error: 4.1188"
     ]
    },
    {
     "name": "stderr",
     "output_type": "stream",
     "text": [
      "WARNING:absl:Found untraced functions such as lstm_cell_1_layer_call_fn, lstm_cell_1_layer_call_and_return_conditional_losses while saving (showing 2 of 2). These functions will not be directly callable after loading.\n"
     ]
    },
    {
     "name": "stdout",
     "output_type": "stream",
     "text": [
      "INFO:tensorflow:Assets written to: model1\\assets\n"
     ]
    },
    {
     "name": "stderr",
     "output_type": "stream",
     "text": [
      "INFO:tensorflow:Assets written to: model1\\assets\n"
     ]
    },
    {
     "name": "stdout",
     "output_type": "stream",
     "text": [
      "69/69 [==============================] - 3s 51ms/step - loss: 16.7466 - root_mean_squared_error: 4.0923 - val_loss: 8.4627 - val_root_mean_squared_error: 2.9091\n",
      "Epoch 66/80\n",
      "67/69 [============================>.] - ETA: 0s - loss: 15.4598 - root_mean_squared_error: 3.9319"
     ]
    },
    {
     "name": "stderr",
     "output_type": "stream",
     "text": [
      "WARNING:absl:Found untraced functions such as lstm_cell_1_layer_call_fn, lstm_cell_1_layer_call_and_return_conditional_losses while saving (showing 2 of 2). These functions will not be directly callable after loading.\n"
     ]
    },
    {
     "name": "stdout",
     "output_type": "stream",
     "text": [
      "INFO:tensorflow:Assets written to: model1\\assets\n"
     ]
    },
    {
     "name": "stderr",
     "output_type": "stream",
     "text": [
      "INFO:tensorflow:Assets written to: model1\\assets\n"
     ]
    },
    {
     "name": "stdout",
     "output_type": "stream",
     "text": [
      "69/69 [==============================] - 3s 48ms/step - loss: 15.3449 - root_mean_squared_error: 3.9173 - val_loss: 6.7461 - val_root_mean_squared_error: 2.5973\n",
      "Epoch 67/80\n",
      "65/69 [===========================>..] - ETA: 0s - loss: 14.1221 - root_mean_squared_error: 3.7579"
     ]
    },
    {
     "name": "stderr",
     "output_type": "stream",
     "text": [
      "WARNING:absl:Found untraced functions such as lstm_cell_1_layer_call_fn, lstm_cell_1_layer_call_and_return_conditional_losses while saving (showing 2 of 2). These functions will not be directly callable after loading.\n"
     ]
    },
    {
     "name": "stdout",
     "output_type": "stream",
     "text": [
      "INFO:tensorflow:Assets written to: model1\\assets\n"
     ]
    },
    {
     "name": "stderr",
     "output_type": "stream",
     "text": [
      "INFO:tensorflow:Assets written to: model1\\assets\n"
     ]
    },
    {
     "name": "stdout",
     "output_type": "stream",
     "text": [
      "69/69 [==============================] - 3s 41ms/step - loss: 14.0557 - root_mean_squared_error: 3.7491 - val_loss: 5.3023 - val_root_mean_squared_error: 2.3027\n",
      "Epoch 68/80\n",
      "67/69 [============================>.] - ETA: 0s - loss: 12.8706 - root_mean_squared_error: 3.5876"
     ]
    },
    {
     "name": "stderr",
     "output_type": "stream",
     "text": [
      "WARNING:absl:Found untraced functions such as lstm_cell_1_layer_call_fn, lstm_cell_1_layer_call_and_return_conditional_losses while saving (showing 2 of 2). These functions will not be directly callable after loading.\n"
     ]
    },
    {
     "name": "stdout",
     "output_type": "stream",
     "text": [
      "INFO:tensorflow:Assets written to: model1\\assets\n"
     ]
    },
    {
     "name": "stderr",
     "output_type": "stream",
     "text": [
      "INFO:tensorflow:Assets written to: model1\\assets\n"
     ]
    },
    {
     "name": "stdout",
     "output_type": "stream",
     "text": [
      "69/69 [==============================] - 3s 42ms/step - loss: 12.8361 - root_mean_squared_error: 3.5827 - val_loss: 4.1491 - val_root_mean_squared_error: 2.0369\n",
      "Epoch 69/80\n",
      "65/69 [===========================>..] - ETA: 0s - loss: 11.6911 - root_mean_squared_error: 3.4192"
     ]
    },
    {
     "name": "stderr",
     "output_type": "stream",
     "text": [
      "WARNING:absl:Found untraced functions such as lstm_cell_1_layer_call_fn, lstm_cell_1_layer_call_and_return_conditional_losses while saving (showing 2 of 2). These functions will not be directly callable after loading.\n"
     ]
    },
    {
     "name": "stdout",
     "output_type": "stream",
     "text": [
      "INFO:tensorflow:Assets written to: model1\\assets\n"
     ]
    },
    {
     "name": "stderr",
     "output_type": "stream",
     "text": [
      "INFO:tensorflow:Assets written to: model1\\assets\n"
     ]
    },
    {
     "name": "stdout",
     "output_type": "stream",
     "text": [
      "69/69 [==============================] - 3s 38ms/step - loss: 11.7166 - root_mean_squared_error: 3.4229 - val_loss: 3.2397 - val_root_mean_squared_error: 1.7999\n",
      "Epoch 70/80\n",
      "63/69 [==========================>...] - ETA: 0s - loss: 10.8579 - root_mean_squared_error: 3.2951"
     ]
    },
    {
     "name": "stderr",
     "output_type": "stream",
     "text": [
      "WARNING:absl:Found untraced functions such as lstm_cell_1_layer_call_fn, lstm_cell_1_layer_call_and_return_conditional_losses while saving (showing 2 of 2). These functions will not be directly callable after loading.\n"
     ]
    },
    {
     "name": "stdout",
     "output_type": "stream",
     "text": [
      "INFO:tensorflow:Assets written to: model1\\assets\n"
     ]
    },
    {
     "name": "stderr",
     "output_type": "stream",
     "text": [
      "INFO:tensorflow:Assets written to: model1\\assets\n"
     ]
    },
    {
     "name": "stdout",
     "output_type": "stream",
     "text": [
      "69/69 [==============================] - 3s 39ms/step - loss: 10.6758 - root_mean_squared_error: 3.2674 - val_loss: 2.5644 - val_root_mean_squared_error: 1.6014\n",
      "Epoch 71/80\n",
      "67/69 [============================>.] - ETA: 0s - loss: 9.6304 - root_mean_squared_error: 3.1033"
     ]
    },
    {
     "name": "stderr",
     "output_type": "stream",
     "text": [
      "WARNING:absl:Found untraced functions such as lstm_cell_1_layer_call_fn, lstm_cell_1_layer_call_and_return_conditional_losses while saving (showing 2 of 2). These functions will not be directly callable after loading.\n"
     ]
    },
    {
     "name": "stdout",
     "output_type": "stream",
     "text": [
      "INFO:tensorflow:Assets written to: model1\\assets\n"
     ]
    },
    {
     "name": "stderr",
     "output_type": "stream",
     "text": [
      "INFO:tensorflow:Assets written to: model1\\assets\n"
     ]
    },
    {
     "name": "stdout",
     "output_type": "stream",
     "text": [
      "69/69 [==============================] - 3s 39ms/step - loss: 9.7316 - root_mean_squared_error: 3.1195 - val_loss: 2.0429 - val_root_mean_squared_error: 1.4293\n",
      "Epoch 72/80\n",
      "68/69 [============================>.] - ETA: 0s - loss: 8.8377 - root_mean_squared_error: 2.9728"
     ]
    },
    {
     "name": "stderr",
     "output_type": "stream",
     "text": [
      "WARNING:absl:Found untraced functions such as lstm_cell_1_layer_call_fn, lstm_cell_1_layer_call_and_return_conditional_losses while saving (showing 2 of 2). These functions will not be directly callable after loading.\n"
     ]
    },
    {
     "name": "stdout",
     "output_type": "stream",
     "text": [
      "INFO:tensorflow:Assets written to: model1\\assets\n"
     ]
    },
    {
     "name": "stderr",
     "output_type": "stream",
     "text": [
      "INFO:tensorflow:Assets written to: model1\\assets\n"
     ]
    },
    {
     "name": "stdout",
     "output_type": "stream",
     "text": [
      "69/69 [==============================] - 3s 41ms/step - loss: 8.8383 - root_mean_squared_error: 2.9729 - val_loss: 1.6681 - val_root_mean_squared_error: 1.2915\n",
      "Epoch 73/80\n",
      "65/69 [===========================>..] - ETA: 0s - loss: 7.7661 - root_mean_squared_error: 2.7868"
     ]
    },
    {
     "name": "stderr",
     "output_type": "stream",
     "text": [
      "WARNING:absl:Found untraced functions such as lstm_cell_1_layer_call_fn, lstm_cell_1_layer_call_and_return_conditional_losses while saving (showing 2 of 2). These functions will not be directly callable after loading.\n"
     ]
    },
    {
     "name": "stdout",
     "output_type": "stream",
     "text": [
      "INFO:tensorflow:Assets written to: model1\\assets\n"
     ]
    },
    {
     "name": "stderr",
     "output_type": "stream",
     "text": [
      "INFO:tensorflow:Assets written to: model1\\assets\n"
     ]
    },
    {
     "name": "stdout",
     "output_type": "stream",
     "text": [
      "69/69 [==============================] - 4s 52ms/step - loss: 8.0307 - root_mean_squared_error: 2.8339 - val_loss: 1.4091 - val_root_mean_squared_error: 1.1870\n",
      "Epoch 74/80\n",
      "66/69 [===========================>..] - ETA: 0s - loss: 7.3648 - root_mean_squared_error: 2.7138"
     ]
    },
    {
     "name": "stderr",
     "output_type": "stream",
     "text": [
      "WARNING:absl:Found untraced functions such as lstm_cell_1_layer_call_fn, lstm_cell_1_layer_call_and_return_conditional_losses while saving (showing 2 of 2). These functions will not be directly callable after loading.\n"
     ]
    },
    {
     "name": "stdout",
     "output_type": "stream",
     "text": [
      "INFO:tensorflow:Assets written to: model1\\assets\n"
     ]
    },
    {
     "name": "stderr",
     "output_type": "stream",
     "text": [
      "INFO:tensorflow:Assets written to: model1\\assets\n"
     ]
    },
    {
     "name": "stdout",
     "output_type": "stream",
     "text": [
      "69/69 [==============================] - 4s 55ms/step - loss: 7.2976 - root_mean_squared_error: 2.7014 - val_loss: 1.2459 - val_root_mean_squared_error: 1.1162\n",
      "Epoch 75/80\n",
      "69/69 [==============================] - 1s 10ms/step - loss: 6.6303 - root_mean_squared_error: 2.5749 - val_loss: 1.2690 - val_root_mean_squared_error: 1.1265\n",
      "Epoch 76/80\n",
      "68/69 [============================>.] - ETA: 0s - loss: 6.0273 - root_mean_squared_error: 2.4551"
     ]
    },
    {
     "name": "stderr",
     "output_type": "stream",
     "text": [
      "WARNING:absl:Found untraced functions such as lstm_cell_1_layer_call_fn, lstm_cell_1_layer_call_and_return_conditional_losses while saving (showing 2 of 2). These functions will not be directly callable after loading.\n"
     ]
    },
    {
     "name": "stdout",
     "output_type": "stream",
     "text": [
      "INFO:tensorflow:Assets written to: model1\\assets\n"
     ]
    },
    {
     "name": "stderr",
     "output_type": "stream",
     "text": [
      "INFO:tensorflow:Assets written to: model1\\assets\n"
     ]
    },
    {
     "name": "stdout",
     "output_type": "stream",
     "text": [
      "69/69 [==============================] - 4s 57ms/step - loss: 6.0190 - root_mean_squared_error: 2.4534 - val_loss: 1.1522 - val_root_mean_squared_error: 1.0734\n",
      "Epoch 77/80\n",
      "69/69 [==============================] - 1s 7ms/step - loss: 5.4769 - root_mean_squared_error: 2.3403 - val_loss: 1.2019 - val_root_mean_squared_error: 1.0963\n",
      "Epoch 78/80\n",
      "69/69 [==============================] - 1s 7ms/step - loss: 4.9776 - root_mean_squared_error: 2.2311 - val_loss: 1.1742 - val_root_mean_squared_error: 1.0836\n",
      "Epoch 79/80\n",
      "69/69 [==============================] - 1s 8ms/step - loss: 4.5213 - root_mean_squared_error: 2.1263 - val_loss: 1.2771 - val_root_mean_squared_error: 1.1301\n",
      "Epoch 80/80\n",
      "69/69 [==============================] - 1s 8ms/step - loss: 4.1137 - root_mean_squared_error: 2.0282 - val_loss: 1.3681 - val_root_mean_squared_error: 1.1697\n"
     ]
    },
    {
     "data": {
      "text/plain": [
       "<keras.callbacks.History at 0x1e3dc5c0ca0>"
      ]
     },
     "execution_count": 90,
     "metadata": {},
     "output_type": "execute_result"
    }
   ],
   "source": [
    "model1.fit(X_train, y_train, validation_data=(X_val,y_val), epochs=80, callbacks=[cp])"
   ]
  },
  {
   "cell_type": "code",
   "execution_count": 91,
   "metadata": {},
   "outputs": [],
   "source": [
    "# from tensorflow.keras.models import load_model\n",
    "# model1 = load_model('model1/')"
   ]
  },
  {
   "cell_type": "code",
   "execution_count": 92,
   "metadata": {},
   "outputs": [
    {
     "data": {
      "image/png": "[encoded data removed]",
      "text/plain": [
       "<Figure size 640x480 with 1 Axes>"
      ]
     },
     "metadata": {},
     "output_type": "display_data"
    }
   ],
   "source": [
    "history = model1.history\n",
    "\n",
    "# Plot training and validation loss\n",
    "plt.plot(history.history['loss'], label='Training Loss')\n",
    "plt.plot(history.history['val_loss'], label='Validation Loss')\n",
    "plt.title('Training and Validation Loss')\n",
    "plt.xlabel('Epoch')\n",
    "plt.ylabel('Loss')\n",
    "plt.legend()\n",
    "plt.show()"
   ]
  },
  {
   "cell_type": "code",
   "execution_count": 101,
   "metadata": {},
   "outputs": [
    {
     "name": "stdout",
     "output_type": "stream",
     "text": [
      "69/69 [==============================] - 1s 4ms/step\n",
      "2186\n",
      "2186\n"
     ]
    }
   ],
   "source": [
    "train_predictions = model1.predict(X_train).flatten()\n",
    "print(len(train_predictions))\n",
    "print(len(y_train))"
   ]
  },
  {
   "cell_type": "code",
   "execution_count": 93,
   "metadata": {},
   "outputs": [
    {
     "name": "stdout",
     "output_type": "stream",
     "text": [
      "69/69 [==============================] - 1s 3ms/step\n"
     ]
    },
    {
     "data": {
      "text/html": [
       "<div>\n",
       "<style scoped>\n",
       "    .dataframe tbody tr th:only-of-type {\n",
       "        vertical-align: middle;\n",
       "    }\n",
       "\n",
       "    .dataframe tbody tr th {\n",
       "        vertical-align: top;\n",
       "    }\n",
       "\n",
       "    .dataframe thead th {\n",
       "        text-align: right;\n",
       "    }\n",
       "</style>\n",
       "<table border=\"1\" class=\"dataframe\">\n",
       "  <thead>\n",
       "    <tr style=\"text-align: right;\">\n",
       "      <th></th>\n",
       "      <th>Train predictions</th>\n",
       "      <th>actual</th>\n",
       "    </tr>\n",
       "  </thead>\n",
       "  <tbody>\n",
       "    <tr>\n",
       "      <th>0</th>\n",
       "      <td>21.728788</td>\n",
       "      <td>21.570000</td>\n",
       "    </tr>\n",
       "    <tr>\n",
       "      <th>1</th>\n",
       "      <td>21.808599</td>\n",
       "      <td>21.809999</td>\n",
       "    </tr>\n",
       "    <tr>\n",
       "      <th>2</th>\n",
       "      <td>21.895853</td>\n",
       "      <td>21.879999</td>\n",
       "    </tr>\n",
       "    <tr>\n",
       "      <th>3</th>\n",
       "      <td>21.967470</td>\n",
       "      <td>22.120001</td>\n",
       "    </tr>\n",
       "    <tr>\n",
       "      <th>4</th>\n",
       "      <td>22.122824</td>\n",
       "      <td>21.830000</td>\n",
       "    </tr>\n",
       "    <tr>\n",
       "      <th>...</th>\n",
       "      <td>...</td>\n",
       "      <td>...</td>\n",
       "    </tr>\n",
       "    <tr>\n",
       "      <th>2181</th>\n",
       "      <td>47.775028</td>\n",
       "      <td>48.740002</td>\n",
       "    </tr>\n",
       "    <tr>\n",
       "      <th>2182</th>\n",
       "      <td>47.735058</td>\n",
       "      <td>47.639999</td>\n",
       "    </tr>\n",
       "    <tr>\n",
       "      <th>2183</th>\n",
       "      <td>47.634964</td>\n",
       "      <td>48.570000</td>\n",
       "    </tr>\n",
       "    <tr>\n",
       "      <th>2184</th>\n",
       "      <td>47.634087</td>\n",
       "      <td>47.509998</td>\n",
       "    </tr>\n",
       "    <tr>\n",
       "      <th>2185</th>\n",
       "      <td>47.548489</td>\n",
       "      <td>45.099998</td>\n",
       "    </tr>\n",
       "  </tbody>\n",
       "</table>\n",
       "<p>2186 rows × 2 columns</p>\n",
       "</div>"
      ],
      "text/plain": [
       "      Train predictions     actual\n",
       "0             21.728788  21.570000\n",
       "1             21.808599  21.809999\n",
       "2             21.895853  21.879999\n",
       "3             21.967470  22.120001\n",
       "4             22.122824  21.830000\n",
       "...                 ...        ...\n",
       "2181          47.775028  48.740002\n",
       "2182          47.735058  47.639999\n",
       "2183          47.634964  48.570000\n",
       "2184          47.634087  47.509998\n",
       "2185          47.548489  45.099998\n",
       "\n",
       "[2186 rows x 2 columns]"
      ]
     },
     "execution_count": 93,
     "metadata": {},
     "output_type": "execute_result"
    }
   ],
   "source": [
    "train_predictions = model1.predict(X_train).flatten()\n",
    "train_results = pd.DataFrame(data={'Train predictions': train_predictions, 'actual':y_train})\n",
    "train_results"
   ]
  },
  {
   "cell_type": "code",
   "execution_count": 94,
   "metadata": {},
   "outputs": [
    {
     "data": {
      "text/plain": [
       "[<matplotlib.lines.Line2D at 0x1e31c84b850>]"
      ]
     },
     "execution_count": 94,
     "metadata": {},
     "output_type": "execute_result"
    },
    {
     "data": {
      "image/png": "[encoded data removed]",
      "text/plain": [
       "<Figure size 640x480 with 1 Axes>"
      ]
     },
     "metadata": {},
     "output_type": "display_data"
    }
   ],
   "source": [
    "import matplotlib.pyplot as plt\n",
    "\n",
    "plt.plot(train_results['Train predictions'][250:300])\n",
    "plt.plot(train_results['actual'][250:300])"
   ]
  },
  {
   "cell_type": "code",
   "execution_count": 95,
   "metadata": {},
   "outputs": [
    {
     "name": "stdout",
     "output_type": "stream",
     "text": [
      "10/10 [==============================] - 0s 3ms/step\n"
     ]
    },
    {
     "data": {
      "text/html": [
       "<div>\n",
       "<style scoped>\n",
       "    .dataframe tbody tr th:only-of-type {\n",
       "        vertical-align: middle;\n",
       "    }\n",
       "\n",
       "    .dataframe tbody tr th {\n",
       "        vertical-align: top;\n",
       "    }\n",
       "\n",
       "    .dataframe thead th {\n",
       "        text-align: right;\n",
       "    }\n",
       "</style>\n",
       "<table border=\"1\" class=\"dataframe\">\n",
       "  <thead>\n",
       "    <tr style=\"text-align: right;\">\n",
       "      <th></th>\n",
       "      <th>Val predictions</th>\n",
       "      <th>actual</th>\n",
       "    </tr>\n",
       "  </thead>\n",
       "  <tbody>\n",
       "    <tr>\n",
       "      <th>0</th>\n",
       "      <td>47.153042</td>\n",
       "      <td>44.279999</td>\n",
       "    </tr>\n",
       "    <tr>\n",
       "      <th>1</th>\n",
       "      <td>46.310955</td>\n",
       "      <td>43.970001</td>\n",
       "    </tr>\n",
       "    <tr>\n",
       "      <th>2</th>\n",
       "      <td>45.312748</td>\n",
       "      <td>43.459999</td>\n",
       "    </tr>\n",
       "    <tr>\n",
       "      <th>3</th>\n",
       "      <td>44.689724</td>\n",
       "      <td>43.799999</td>\n",
       "    </tr>\n",
       "    <tr>\n",
       "      <th>4</th>\n",
       "      <td>44.526588</td>\n",
       "      <td>43.279999</td>\n",
       "    </tr>\n",
       "    <tr>\n",
       "      <th>...</th>\n",
       "      <td>...</td>\n",
       "      <td>...</td>\n",
       "    </tr>\n",
       "    <tr>\n",
       "      <th>309</th>\n",
       "      <td>46.515541</td>\n",
       "      <td>45.790001</td>\n",
       "    </tr>\n",
       "    <tr>\n",
       "      <th>310</th>\n",
       "      <td>46.540043</td>\n",
       "      <td>46.139999</td>\n",
       "    </tr>\n",
       "    <tr>\n",
       "      <th>311</th>\n",
       "      <td>46.676022</td>\n",
       "      <td>46.099998</td>\n",
       "    </tr>\n",
       "    <tr>\n",
       "      <th>312</th>\n",
       "      <td>46.776905</td>\n",
       "      <td>46.580002</td>\n",
       "    </tr>\n",
       "    <tr>\n",
       "      <th>313</th>\n",
       "      <td>46.950542</td>\n",
       "      <td>46.580002</td>\n",
       "    </tr>\n",
       "  </tbody>\n",
       "</table>\n",
       "<p>314 rows × 2 columns</p>\n",
       "</div>"
      ],
      "text/plain": [
       "     Val predictions     actual\n",
       "0          47.153042  44.279999\n",
       "1          46.310955  43.970001\n",
       "2          45.312748  43.459999\n",
       "3          44.689724  43.799999\n",
       "4          44.526588  43.279999\n",
       "..               ...        ...\n",
       "309        46.515541  45.790001\n",
       "310        46.540043  46.139999\n",
       "311        46.676022  46.099998\n",
       "312        46.776905  46.580002\n",
       "313        46.950542  46.580002\n",
       "\n",
       "[314 rows x 2 columns]"
      ]
     },
     "execution_count": 95,
     "metadata": {},
     "output_type": "execute_result"
    }
   ],
   "source": [
    "val_predictions = model1.predict(X_val).flatten()\n",
    "val_results = pd.DataFrame(data={'Val predictions': val_predictions, 'actual':y_val})\n",
    "val_results"
   ]
  },
  {
   "cell_type": "code",
   "execution_count": 96,
   "metadata": {},
   "outputs": [
    {
     "data": {
      "text/plain": [
       "[<matplotlib.lines.Line2D at 0x1e425b68400>]"
      ]
     },
     "execution_count": 96,
     "metadata": {},
     "output_type": "execute_result"
    },
    {
     "data": {
      "image/png": "[encoded data removed]",
      "text/plain": [
       "<Figure size 640x480 with 1 Axes>"
      ]
     },
     "metadata": {},
     "output_type": "display_data"
    }
   ],
   "source": [
    "plt.plot(val_results['Val predictions'])\n",
    "plt.plot(val_results['actual'])"
   ]
  },
  {
   "cell_type": "code",
   "execution_count": 97,
   "metadata": {},
   "outputs": [
    {
     "name": "stdout",
     "output_type": "stream",
     "text": [
      "8/8 [==============================] - 0s 3ms/step\n"
     ]
    },
    {
     "data": {
      "text/html": [
       "<div>\n",
       "<style scoped>\n",
       "    .dataframe tbody tr th:only-of-type {\n",
       "        vertical-align: middle;\n",
       "    }\n",
       "\n",
       "    .dataframe tbody tr th {\n",
       "        vertical-align: top;\n",
       "    }\n",
       "\n",
       "    .dataframe thead th {\n",
       "        text-align: right;\n",
       "    }\n",
       "</style>\n",
       "<table border=\"1\" class=\"dataframe\">\n",
       "  <thead>\n",
       "    <tr style=\"text-align: right;\">\n",
       "      <th></th>\n",
       "      <th>Test predictions</th>\n",
       "      <th>actual</th>\n",
       "    </tr>\n",
       "  </thead>\n",
       "  <tbody>\n",
       "    <tr>\n",
       "      <th>0</th>\n",
       "      <td>47.038769</td>\n",
       "      <td>46.990002</td>\n",
       "    </tr>\n",
       "    <tr>\n",
       "      <th>1</th>\n",
       "      <td>47.181553</td>\n",
       "      <td>46.270000</td>\n",
       "    </tr>\n",
       "    <tr>\n",
       "      <th>2</th>\n",
       "      <td>47.107006</td>\n",
       "      <td>45.529999</td>\n",
       "    </tr>\n",
       "    <tr>\n",
       "      <th>3</th>\n",
       "      <td>46.862259</td>\n",
       "      <td>45.610001</td>\n",
       "    </tr>\n",
       "    <tr>\n",
       "      <th>4</th>\n",
       "      <td>46.600922</td>\n",
       "      <td>46.020000</td>\n",
       "    </tr>\n",
       "    <tr>\n",
       "      <th>...</th>\n",
       "      <td>...</td>\n",
       "      <td>...</td>\n",
       "    </tr>\n",
       "    <tr>\n",
       "      <th>223</th>\n",
       "      <td>45.949894</td>\n",
       "      <td>45.680000</td>\n",
       "    </tr>\n",
       "    <tr>\n",
       "      <th>224</th>\n",
       "      <td>46.330608</td>\n",
       "      <td>45.299999</td>\n",
       "    </tr>\n",
       "    <tr>\n",
       "      <th>225</th>\n",
       "      <td>46.430134</td>\n",
       "      <td>44.770000</td>\n",
       "    </tr>\n",
       "    <tr>\n",
       "      <th>226</th>\n",
       "      <td>46.151150</td>\n",
       "      <td>44.980000</td>\n",
       "    </tr>\n",
       "    <tr>\n",
       "      <th>227</th>\n",
       "      <td>45.949528</td>\n",
       "      <td>45.250000</td>\n",
       "    </tr>\n",
       "  </tbody>\n",
       "</table>\n",
       "<p>228 rows × 2 columns</p>\n",
       "</div>"
      ],
      "text/plain": [
       "     Test predictions     actual\n",
       "0           47.038769  46.990002\n",
       "1           47.181553  46.270000\n",
       "2           47.107006  45.529999\n",
       "3           46.862259  45.610001\n",
       "4           46.600922  46.020000\n",
       "..                ...        ...\n",
       "223         45.949894  45.680000\n",
       "224         46.330608  45.299999\n",
       "225         46.430134  44.770000\n",
       "226         46.151150  44.980000\n",
       "227         45.949528  45.250000\n",
       "\n",
       "[228 rows x 2 columns]"
      ]
     },
     "execution_count": 97,
     "metadata": {},
     "output_type": "execute_result"
    }
   ],
   "source": [
    "test_predictions = model1.predict(X_test).flatten()\n",
    "test_results = pd.DataFrame(data={'Test predictions': test_predictions, 'actual':y_test})\n",
    "test_results"
   ]
  },
  {
   "cell_type": "code",
   "execution_count": 98,
   "metadata": {},
   "outputs": [
    {
     "data": {
      "text/plain": [
       "[<matplotlib.lines.Line2D at 0x1e3132abac0>]"
      ]
     },
     "execution_count": 98,
     "metadata": {},
     "output_type": "execute_result"
    },
    {
     "data": {
      "image/png": "[encoded data removed]",
      "text/plain": [
       "<Figure size 640x480 with 1 Axes>"
      ]
     },
     "metadata": {},
     "output_type": "display_data"
    }
   ],
   "source": [
    "plt.plot(test_results['Test predictions'])\n",
    "plt.plot(test_results['actual'])"
   ]
  },
  {
   "cell_type": "code",
   "execution_count": 99,
   "metadata": {},
   "outputs": [],
   "source": [
    "import numpy as np\n",
    "from sklearn.metrics import mean_absolute_error, mean_squared_error"
   ]
  },
  {
   "cell_type": "code",
   "execution_count": 100,
   "metadata": {},
   "outputs": [
    {
     "name": "stdout",
     "output_type": "stream",
     "text": [
      "Mean Absolute Error (MAE): 1.5188375439560204\n",
      "Mean Squared Error (MSE): 4.018803537382618\n",
      "Root Mean Squared Error (RMSE): 2.0046953727144228\n"
     ]
    }
   ],
   "source": [
    "predictions = test_results['Test predictions']\n",
    "actual = test_results['actual']\n",
    "\n",
    "# Calculate Mean Absolute Error (MAE)\n",
    "mae = mean_absolute_error(actual, predictions)\n",
    "print(f\"Mean Absolute Error (MAE): {mae}\")\n",
    "\n",
    "# Calculate Mean Squared Error (MSE)\n",
    "mse = mean_squared_error(actual, predictions)\n",
    "print(f\"Mean Squared Error (MSE): {mse}\")\n",
    "\n",
    "# Calculate Root Mean Squared Error (RMSE)\n",
    "rmse = np.sqrt(mse)\n",
    "print(f\"Root Mean Squared Error (RMSE): {rmse}\")"
   ]
  },
  {
   "cell_type": "markdown",
   "metadata": {},
   "source": [
    "# Multi variate"
   ]
  },
  {
   "cell_type": "code",
   "execution_count": null,
   "metadata": {},
   "outputs": [],
   "source": []
  }
 ],
 "metadata": {
  "kernelspec": {
   "display_name": ".venv",
   "language": "python",
   "name": "python3"
  },
  "language_info": {
   "codemirror_mode": {
    "name": "ipython",
    "version": 3
   },
   "file_extension": ".py",
   "mimetype": "text/x-python",
   "name": "python",
   "nbconvert_exporter": "python",
   "pygments_lexer": "ipython3",
   "version": "3.9.0"
  }
 },
 "nbformat": 4,
 "nbformat_minor": 2
}
