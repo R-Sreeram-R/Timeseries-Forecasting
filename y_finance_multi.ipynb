{
 "cells": [
  {
   "cell_type": "code",
   "execution_count": 19,
   "metadata": {},
   "outputs": [],
   "source": [
    "import yfinance as yf\n",
    "import pandas as pd\n",
    "import numpy as np\n",
    "import matplotlib.pyplot as plt"
   ]
  },
  {
   "cell_type": "code",
   "execution_count": 2,
   "metadata": {},
   "outputs": [],
   "source": [
    "currency_codes = [\n",
    "    'USD', 'EUR', 'JPY', 'GBP', 'AUD', 'CAD', 'CHF', 'CNY', 'SEK', 'NZD',\n",
    "    'NOK',  # Norwegian Krone (Norway)\n",
    "    'DKK',  # Danish Krone (Denmark)\n",
    "    'PLN',  # Polish Zloty (Poland)\n",
    "    'HUF',  # Hungarian Forint (Hungary)\n",
    "    'CZK',  # Czech Koruna (Czech Republic)\n",
    "    'RON',  # Romanian Leu (Romania)\n",
    "    'TRY',  # Turkish Lira (Turkey)\n",
    "    'AED',  # United Arab Emirates Dirham (UAE)\n",
    "    'SAR',  # Saudi Riyal (Saudi Arabia)\n",
    "    'ZAR',  # South African Rand (South Africa)\n",
    "    'NGN',  # Nigerian Naira (Nigeria)\n",
    "    'KES',  # Kenyan Shilling (Kenya)\n",
    "    'EGP',  # Egyptian Pound (Egypt)\n",
    "    'MXN',  # Mexican Peso (Mexico)\n",
    "    'BRL',  # Brazilian Real (Brazil)\n",
    "    'ARS',  # Argentine Peso (Argentina)\n",
    "    'CLP'   # Chilean Peso (Chile)\n",
    "]"
   ]
  },
  {
   "cell_type": "code",
   "execution_count": 3,
   "metadata": {},
   "outputs": [
    {
     "data": {
      "text/plain": [
       "['EUR=X',\n",
       " 'JPY=X',\n",
       " 'GBP=X',\n",
       " 'AUD=X',\n",
       " 'CAD=X',\n",
       " 'CHF=X',\n",
       " 'CNY=X',\n",
       " 'SEK=X',\n",
       " 'NZD=X',\n",
       " 'NOK=X',\n",
       " 'DKK=X',\n",
       " 'PLN=X',\n",
       " 'HUF=X',\n",
       " 'CZK=X',\n",
       " 'RON=X',\n",
       " 'TRY=X',\n",
       " 'AED=X',\n",
       " 'SAR=X',\n",
       " 'ZAR=X',\n",
       " 'NGN=X',\n",
       " 'KES=X',\n",
       " 'EGP=X',\n",
       " 'MXN=X',\n",
       " 'BRL=X',\n",
       " 'ARS=X',\n",
       " 'CLP=X']"
      ]
     },
     "execution_count": 3,
     "metadata": {},
     "output_type": "execute_result"
    }
   ],
   "source": [
    "exch = []\n",
    "for x in currency_codes:\n",
    "    if not x == \"USD\":\n",
    "        var = x + '=X'\n",
    "        exch.append(var)\n",
    "\n",
    "exch"
   ]
  },
  {
   "cell_type": "code",
   "execution_count": 4,
   "metadata": {},
   "outputs": [
    {
     "name": "stdout",
     "output_type": "stream",
     "text": [
      "[*********************100%%**********************]  26 of 26 completed\n"
     ]
    }
   ],
   "source": [
    "historical_data = yf.download(exch, start=\"2013-01-01\", end=\"2023-11-10\")"
   ]
  },
  {
   "cell_type": "code",
   "execution_count": 5,
   "metadata": {},
   "outputs": [],
   "source": [
    "closing_prices = historical_data['Close']"
   ]
  },
  {
   "cell_type": "code",
   "execution_count": 6,
   "metadata": {},
   "outputs": [],
   "source": [
    "sust_targets = ['SAR', 'DE', 'IBDRY' ]"
   ]
  },
  {
   "cell_type": "code",
   "execution_count": 7,
   "metadata": {},
   "outputs": [
    {
     "name": "stdout",
     "output_type": "stream",
     "text": [
      "[*********************100%%**********************]  3 of 3 completed\n"
     ]
    }
   ],
   "source": [
    "sust_data = yf.download(sust_targets, start=\"2013-01-01\", end=\"2023-11-10\")"
   ]
  },
  {
   "cell_type": "code",
   "execution_count": 8,
   "metadata": {},
   "outputs": [],
   "source": [
    "sust_data = sust_data['Close']"
   ]
  },
  {
   "cell_type": "code",
   "execution_count": 9,
   "metadata": {},
   "outputs": [],
   "source": [
    "data_prov =['^GSPC', '^DJI', 'GC=F', 'WTI', 'BTC-USD']"
   ]
  },
  {
   "cell_type": "code",
   "execution_count": 10,
   "metadata": {},
   "outputs": [
    {
     "name": "stdout",
     "output_type": "stream",
     "text": [
      "[*********************100%%**********************]  5 of 5 completed\n"
     ]
    }
   ],
   "source": [
    "more_data = yf.download(data_prov, start=\"2013-01-01\", end=\"2023-11-10\")"
   ]
  },
  {
   "cell_type": "code",
   "execution_count": 11,
   "metadata": {},
   "outputs": [],
   "source": [
    "more_data = more_data['Close']"
   ]
  },
  {
   "cell_type": "code",
   "execution_count": 12,
   "metadata": {},
   "outputs": [],
   "source": [
    "merged_df = pd.merge(closing_prices, more_data, left_index=True, right_index=True)\n",
    "merged_df = pd.merge(merged_df, sust_data, left_index=True, right_index=True)"
   ]
  },
  {
   "cell_type": "code",
   "execution_count": 14,
   "metadata": {},
   "outputs": [
    {
     "data": {
      "text/html": [
       "<div>\n",
       "<style scoped>\n",
       "    .dataframe tbody tr th:only-of-type {\n",
       "        vertical-align: middle;\n",
       "    }\n",
       "\n",
       "    .dataframe tbody tr th {\n",
       "        vertical-align: top;\n",
       "    }\n",
       "\n",
       "    .dataframe thead th {\n",
       "        text-align: right;\n",
       "    }\n",
       "</style>\n",
       "<table border=\"1\" class=\"dataframe\">\n",
       "  <thead>\n",
       "    <tr style=\"text-align: right;\">\n",
       "      <th></th>\n",
       "      <th>AED=X</th>\n",
       "      <th>ARS=X</th>\n",
       "      <th>AUD=X</th>\n",
       "      <th>BRL=X</th>\n",
       "      <th>CAD=X</th>\n",
       "      <th>CHF=X</th>\n",
       "      <th>CLP=X</th>\n",
       "      <th>CNY=X</th>\n",
       "      <th>CZK=X</th>\n",
       "      <th>DKK=X</th>\n",
       "      <th>...</th>\n",
       "      <th>TRY=X</th>\n",
       "      <th>ZAR=X</th>\n",
       "      <th>BTC-USD</th>\n",
       "      <th>GC=F</th>\n",
       "      <th>WTI</th>\n",
       "      <th>^DJI</th>\n",
       "      <th>^GSPC</th>\n",
       "      <th>DE</th>\n",
       "      <th>IBDRY</th>\n",
       "      <th>SAR</th>\n",
       "    </tr>\n",
       "    <tr>\n",
       "      <th>Date</th>\n",
       "      <th></th>\n",
       "      <th></th>\n",
       "      <th></th>\n",
       "      <th></th>\n",
       "      <th></th>\n",
       "      <th></th>\n",
       "      <th></th>\n",
       "      <th></th>\n",
       "      <th></th>\n",
       "      <th></th>\n",
       "      <th></th>\n",
       "      <th></th>\n",
       "      <th></th>\n",
       "      <th></th>\n",
       "      <th></th>\n",
       "      <th></th>\n",
       "      <th></th>\n",
       "      <th></th>\n",
       "      <th></th>\n",
       "      <th></th>\n",
       "      <th></th>\n",
       "    </tr>\n",
       "  </thead>\n",
       "  <tbody>\n",
       "    <tr>\n",
       "      <th>2013-01-02</th>\n",
       "      <td>3.67200</td>\n",
       "      <td>4.912900</td>\n",
       "      <td>0.962310</td>\n",
       "      <td>2.0456</td>\n",
       "      <td>0.99390</td>\n",
       "      <td>0.91550</td>\n",
       "      <td>479.200012</td>\n",
       "      <td>6.2376</td>\n",
       "      <td>18.983000</td>\n",
       "      <td>5.65220</td>\n",
       "      <td>...</td>\n",
       "      <td>1.781400</td>\n",
       "      <td>8.449700</td>\n",
       "      <td>NaN</td>\n",
       "      <td>1687.900024</td>\n",
       "      <td>16.980000</td>\n",
       "      <td>13412.549805</td>\n",
       "      <td>1462.420044</td>\n",
       "      <td>87.989998</td>\n",
       "      <td>21.660000</td>\n",
       "      <td>15.500000</td>\n",
       "    </tr>\n",
       "    <tr>\n",
       "      <th>2013-01-03</th>\n",
       "      <td>3.67200</td>\n",
       "      <td>4.920800</td>\n",
       "      <td>0.953020</td>\n",
       "      <td>2.0456</td>\n",
       "      <td>0.98560</td>\n",
       "      <td>0.91778</td>\n",
       "      <td>474.149994</td>\n",
       "      <td>6.2332</td>\n",
       "      <td>19.091600</td>\n",
       "      <td>5.65863</td>\n",
       "      <td>...</td>\n",
       "      <td>1.777780</td>\n",
       "      <td>8.478100</td>\n",
       "      <td>NaN</td>\n",
       "      <td>1673.699951</td>\n",
       "      <td>17.100000</td>\n",
       "      <td>13391.360352</td>\n",
       "      <td>1459.369995</td>\n",
       "      <td>87.769997</td>\n",
       "      <td>21.420000</td>\n",
       "      <td>15.450000</td>\n",
       "    </tr>\n",
       "    <tr>\n",
       "      <th>2013-01-04</th>\n",
       "      <td>3.67200</td>\n",
       "      <td>4.920000</td>\n",
       "      <td>0.956660</td>\n",
       "      <td>2.0487</td>\n",
       "      <td>0.98840</td>\n",
       "      <td>0.92800</td>\n",
       "      <td>472.549988</td>\n",
       "      <td>6.2325</td>\n",
       "      <td>19.368999</td>\n",
       "      <td>5.72710</td>\n",
       "      <td>...</td>\n",
       "      <td>1.784200</td>\n",
       "      <td>8.587700</td>\n",
       "      <td>NaN</td>\n",
       "      <td>1648.099976</td>\n",
       "      <td>17.330000</td>\n",
       "      <td>13435.209961</td>\n",
       "      <td>1466.469971</td>\n",
       "      <td>88.669998</td>\n",
       "      <td>21.620001</td>\n",
       "      <td>15.300000</td>\n",
       "    </tr>\n",
       "    <tr>\n",
       "      <th>2013-01-07</th>\n",
       "      <td>3.67210</td>\n",
       "      <td>4.924200</td>\n",
       "      <td>0.952800</td>\n",
       "      <td>2.0324</td>\n",
       "      <td>0.98599</td>\n",
       "      <td>0.92453</td>\n",
       "      <td>472.450012</td>\n",
       "      <td>6.2305</td>\n",
       "      <td>19.403601</td>\n",
       "      <td>5.70730</td>\n",
       "      <td>...</td>\n",
       "      <td>1.780480</td>\n",
       "      <td>8.555400</td>\n",
       "      <td>NaN</td>\n",
       "      <td>1645.500000</td>\n",
       "      <td>17.280001</td>\n",
       "      <td>13384.290039</td>\n",
       "      <td>1461.890015</td>\n",
       "      <td>88.599998</td>\n",
       "      <td>21.540001</td>\n",
       "      <td>15.200000</td>\n",
       "    </tr>\n",
       "    <tr>\n",
       "      <th>2013-01-08</th>\n",
       "      <td>3.67210</td>\n",
       "      <td>4.926400</td>\n",
       "      <td>0.951320</td>\n",
       "      <td>2.0264</td>\n",
       "      <td>0.98560</td>\n",
       "      <td>0.92090</td>\n",
       "      <td>470.950012</td>\n",
       "      <td>6.2298</td>\n",
       "      <td>19.446699</td>\n",
       "      <td>5.68370</td>\n",
       "      <td>...</td>\n",
       "      <td>1.779180</td>\n",
       "      <td>8.560500</td>\n",
       "      <td>NaN</td>\n",
       "      <td>1661.500000</td>\n",
       "      <td>17.129999</td>\n",
       "      <td>13328.849609</td>\n",
       "      <td>1457.150024</td>\n",
       "      <td>87.680000</td>\n",
       "      <td>21.299999</td>\n",
       "      <td>15.390000</td>\n",
       "    </tr>\n",
       "    <tr>\n",
       "      <th>...</th>\n",
       "      <td>...</td>\n",
       "      <td>...</td>\n",
       "      <td>...</td>\n",
       "      <td>...</td>\n",
       "      <td>...</td>\n",
       "      <td>...</td>\n",
       "      <td>...</td>\n",
       "      <td>...</td>\n",
       "      <td>...</td>\n",
       "      <td>...</td>\n",
       "      <td>...</td>\n",
       "      <td>...</td>\n",
       "      <td>...</td>\n",
       "      <td>...</td>\n",
       "      <td>...</td>\n",
       "      <td>...</td>\n",
       "      <td>...</td>\n",
       "      <td>...</td>\n",
       "      <td>...</td>\n",
       "      <td>...</td>\n",
       "      <td>...</td>\n",
       "    </tr>\n",
       "    <tr>\n",
       "      <th>2023-11-03</th>\n",
       "      <td>3.67200</td>\n",
       "      <td>350.043396</td>\n",
       "      <td>1.555718</td>\n",
       "      <td>4.9529</td>\n",
       "      <td>1.37470</td>\n",
       "      <td>0.90610</td>\n",
       "      <td>886.659973</td>\n",
       "      <td>7.3141</td>\n",
       "      <td>23.019899</td>\n",
       "      <td>7.03012</td>\n",
       "      <td>...</td>\n",
       "      <td>28.358900</td>\n",
       "      <td>18.402100</td>\n",
       "      <td>34732.324219</td>\n",
       "      <td>1991.500000</td>\n",
       "      <td>4.220000</td>\n",
       "      <td>34061.320312</td>\n",
       "      <td>4358.339844</td>\n",
       "      <td>382.200012</td>\n",
       "      <td>45.680000</td>\n",
       "      <td>24.840000</td>\n",
       "    </tr>\n",
       "    <tr>\n",
       "      <th>2023-11-06</th>\n",
       "      <td>3.67257</td>\n",
       "      <td>347.234161</td>\n",
       "      <td>1.534480</td>\n",
       "      <td>4.8992</td>\n",
       "      <td>1.36606</td>\n",
       "      <td>0.89921</td>\n",
       "      <td>869.613403</td>\n",
       "      <td>7.2985</td>\n",
       "      <td>22.673201</td>\n",
       "      <td>6.95236</td>\n",
       "      <td>...</td>\n",
       "      <td>28.383150</td>\n",
       "      <td>18.262899</td>\n",
       "      <td>35037.371094</td>\n",
       "      <td>1981.599976</td>\n",
       "      <td>4.010000</td>\n",
       "      <td>34095.859375</td>\n",
       "      <td>4365.979980</td>\n",
       "      <td>378.250000</td>\n",
       "      <td>45.299999</td>\n",
       "      <td>24.770000</td>\n",
       "    </tr>\n",
       "    <tr>\n",
       "      <th>2023-11-07</th>\n",
       "      <td>3.67200</td>\n",
       "      <td>350.019135</td>\n",
       "      <td>1.540970</td>\n",
       "      <td>4.8841</td>\n",
       "      <td>1.36973</td>\n",
       "      <td>0.89920</td>\n",
       "      <td>881.299988</td>\n",
       "      <td>7.2686</td>\n",
       "      <td>22.877899</td>\n",
       "      <td>6.95824</td>\n",
       "      <td>...</td>\n",
       "      <td>28.447599</td>\n",
       "      <td>18.290100</td>\n",
       "      <td>35443.562500</td>\n",
       "      <td>1966.800049</td>\n",
       "      <td>3.810000</td>\n",
       "      <td>34152.601562</td>\n",
       "      <td>4378.379883</td>\n",
       "      <td>369.239990</td>\n",
       "      <td>44.770000</td>\n",
       "      <td>24.430000</td>\n",
       "    </tr>\n",
       "    <tr>\n",
       "      <th>2023-11-08</th>\n",
       "      <td>3.67290</td>\n",
       "      <td>349.890411</td>\n",
       "      <td>1.555186</td>\n",
       "      <td>4.8715</td>\n",
       "      <td>1.37685</td>\n",
       "      <td>0.89997</td>\n",
       "      <td>885.820007</td>\n",
       "      <td>7.2781</td>\n",
       "      <td>22.997700</td>\n",
       "      <td>6.97288</td>\n",
       "      <td>...</td>\n",
       "      <td>28.495199</td>\n",
       "      <td>18.333500</td>\n",
       "      <td>35655.277344</td>\n",
       "      <td>1951.500000</td>\n",
       "      <td>3.750000</td>\n",
       "      <td>34112.269531</td>\n",
       "      <td>4382.779785</td>\n",
       "      <td>369.369995</td>\n",
       "      <td>44.980000</td>\n",
       "      <td>24.530001</td>\n",
       "    </tr>\n",
       "    <tr>\n",
       "      <th>2023-11-09</th>\n",
       "      <td>3.67200</td>\n",
       "      <td>349.970001</td>\n",
       "      <td>1.561110</td>\n",
       "      <td>4.9093</td>\n",
       "      <td>1.37932</td>\n",
       "      <td>0.89908</td>\n",
       "      <td>898.369995</td>\n",
       "      <td>7.2793</td>\n",
       "      <td>22.966700</td>\n",
       "      <td>6.96350</td>\n",
       "      <td>...</td>\n",
       "      <td>28.517309</td>\n",
       "      <td>18.481899</td>\n",
       "      <td>36693.125000</td>\n",
       "      <td>1964.199951</td>\n",
       "      <td>3.730000</td>\n",
       "      <td>33891.941406</td>\n",
       "      <td>4347.350098</td>\n",
       "      <td>369.619995</td>\n",
       "      <td>45.250000</td>\n",
       "      <td>24.340000</td>\n",
       "    </tr>\n",
       "  </tbody>\n",
       "</table>\n",
       "<p>2733 rows × 34 columns</p>\n",
       "</div>"
      ],
      "text/plain": [
       "              AED=X       ARS=X     AUD=X   BRL=X    CAD=X    CHF=X  \\\n",
       "Date                                                                  \n",
       "2013-01-02  3.67200    4.912900  0.962310  2.0456  0.99390  0.91550   \n",
       "2013-01-03  3.67200    4.920800  0.953020  2.0456  0.98560  0.91778   \n",
       "2013-01-04  3.67200    4.920000  0.956660  2.0487  0.98840  0.92800   \n",
       "2013-01-07  3.67210    4.924200  0.952800  2.0324  0.98599  0.92453   \n",
       "2013-01-08  3.67210    4.926400  0.951320  2.0264  0.98560  0.92090   \n",
       "...             ...         ...       ...     ...      ...      ...   \n",
       "2023-11-03  3.67200  350.043396  1.555718  4.9529  1.37470  0.90610   \n",
       "2023-11-06  3.67257  347.234161  1.534480  4.8992  1.36606  0.89921   \n",
       "2023-11-07  3.67200  350.019135  1.540970  4.8841  1.36973  0.89920   \n",
       "2023-11-08  3.67290  349.890411  1.555186  4.8715  1.37685  0.89997   \n",
       "2023-11-09  3.67200  349.970001  1.561110  4.9093  1.37932  0.89908   \n",
       "\n",
       "                 CLP=X   CNY=X      CZK=X    DKK=X  ...      TRY=X      ZAR=X  \\\n",
       "Date                                                ...                         \n",
       "2013-01-02  479.200012  6.2376  18.983000  5.65220  ...   1.781400   8.449700   \n",
       "2013-01-03  474.149994  6.2332  19.091600  5.65863  ...   1.777780   8.478100   \n",
       "2013-01-04  472.549988  6.2325  19.368999  5.72710  ...   1.784200   8.587700   \n",
       "2013-01-07  472.450012  6.2305  19.403601  5.70730  ...   1.780480   8.555400   \n",
       "2013-01-08  470.950012  6.2298  19.446699  5.68370  ...   1.779180   8.560500   \n",
       "...                ...     ...        ...      ...  ...        ...        ...   \n",
       "2023-11-03  886.659973  7.3141  23.019899  7.03012  ...  28.358900  18.402100   \n",
       "2023-11-06  869.613403  7.2985  22.673201  6.95236  ...  28.383150  18.262899   \n",
       "2023-11-07  881.299988  7.2686  22.877899  6.95824  ...  28.447599  18.290100   \n",
       "2023-11-08  885.820007  7.2781  22.997700  6.97288  ...  28.495199  18.333500   \n",
       "2023-11-09  898.369995  7.2793  22.966700  6.96350  ...  28.517309  18.481899   \n",
       "\n",
       "                 BTC-USD         GC=F        WTI          ^DJI        ^GSPC  \\\n",
       "Date                                                                          \n",
       "2013-01-02           NaN  1687.900024  16.980000  13412.549805  1462.420044   \n",
       "2013-01-03           NaN  1673.699951  17.100000  13391.360352  1459.369995   \n",
       "2013-01-04           NaN  1648.099976  17.330000  13435.209961  1466.469971   \n",
       "2013-01-07           NaN  1645.500000  17.280001  13384.290039  1461.890015   \n",
       "2013-01-08           NaN  1661.500000  17.129999  13328.849609  1457.150024   \n",
       "...                  ...          ...        ...           ...          ...   \n",
       "2023-11-03  34732.324219  1991.500000   4.220000  34061.320312  4358.339844   \n",
       "2023-11-06  35037.371094  1981.599976   4.010000  34095.859375  4365.979980   \n",
       "2023-11-07  35443.562500  1966.800049   3.810000  34152.601562  4378.379883   \n",
       "2023-11-08  35655.277344  1951.500000   3.750000  34112.269531  4382.779785   \n",
       "2023-11-09  36693.125000  1964.199951   3.730000  33891.941406  4347.350098   \n",
       "\n",
       "                    DE      IBDRY        SAR  \n",
       "Date                                          \n",
       "2013-01-02   87.989998  21.660000  15.500000  \n",
       "2013-01-03   87.769997  21.420000  15.450000  \n",
       "2013-01-04   88.669998  21.620001  15.300000  \n",
       "2013-01-07   88.599998  21.540001  15.200000  \n",
       "2013-01-08   87.680000  21.299999  15.390000  \n",
       "...                ...        ...        ...  \n",
       "2023-11-03  382.200012  45.680000  24.840000  \n",
       "2023-11-06  378.250000  45.299999  24.770000  \n",
       "2023-11-07  369.239990  44.770000  24.430000  \n",
       "2023-11-08  369.369995  44.980000  24.530001  \n",
       "2023-11-09  369.619995  45.250000  24.340000  \n",
       "\n",
       "[2733 rows x 34 columns]"
      ]
     },
     "execution_count": 14,
     "metadata": {},
     "output_type": "execute_result"
    }
   ],
   "source": [
    "merged_df"
   ]
  },
  {
   "cell_type": "code",
   "execution_count": 16,
   "metadata": {},
   "outputs": [
    {
     "data": {
      "text/plain": [
       "Index(['AED=X', 'ARS=X', 'AUD=X', 'BRL=X', 'CAD=X', 'CHF=X', 'CLP=X', 'CNY=X',\n",
       "       'CZK=X', 'DKK=X', 'EGP=X', 'EUR=X', 'GBP=X', 'HUF=X', 'JPY=X', 'KES=X',\n",
       "       'MXN=X', 'NGN=X', 'NOK=X', 'NZD=X', 'PLN=X', 'RON=X', 'SAR=X', 'SEK=X',\n",
       "       'TRY=X', 'ZAR=X', 'BTC-USD', 'GC=F', 'WTI', '^DJI', '^GSPC', 'DE',\n",
       "       'IBDRY', 'SAR'],\n",
       "      dtype='object')"
      ]
     },
     "execution_count": 16,
     "metadata": {},
     "output_type": "execute_result"
    }
   ],
   "source": [
    "merged_df_corr = merged_df.corr()\n",
    "merged_df.columns\n"
   ]
  },
  {
   "cell_type": "code",
   "execution_count": 17,
   "metadata": {},
   "outputs": [
    {
     "data": {
      "text/plain": [
       "AED=X        0\n",
       "ARS=X        0\n",
       "AUD=X        0\n",
       "BRL=X        0\n",
       "CAD=X        0\n",
       "CHF=X        0\n",
       "CLP=X        0\n",
       "CNY=X        0\n",
       "CZK=X        0\n",
       "DKK=X        0\n",
       "EGP=X        0\n",
       "EUR=X        0\n",
       "GBP=X        0\n",
       "HUF=X        0\n",
       "JPY=X        0\n",
       "KES=X        0\n",
       "MXN=X        0\n",
       "NGN=X        0\n",
       "NOK=X        0\n",
       "NZD=X        0\n",
       "PLN=X        0\n",
       "RON=X        0\n",
       "SAR=X        0\n",
       "SEK=X        0\n",
       "TRY=X        0\n",
       "ZAR=X        0\n",
       "BTC-USD    430\n",
       "GC=F         0\n",
       "WTI          0\n",
       "^DJI         0\n",
       "^GSPC        0\n",
       "DE           0\n",
       "IBDRY        0\n",
       "SAR          0\n",
       "dtype: int64"
      ]
     },
     "execution_count": 17,
     "metadata": {},
     "output_type": "execute_result"
    }
   ],
   "source": [
    "df_filled = merged_df.interpolate()\n",
    "df_filled.apply(pd.isnull).sum()"
   ]
  },
  {
   "cell_type": "code",
   "execution_count": 18,
   "metadata": {},
   "outputs": [],
   "source": [
    "sust_energy = df_filled['IBDRY']"
   ]
  },
  {
   "cell_type": "code",
   "execution_count": 22,
   "metadata": {},
   "outputs": [],
   "source": [
    "def df_to_X_y(df, window_size):\n",
    "    df_as_np = df.to_numpy()\n",
    "\n",
    "    X = []\n",
    "    y = []\n",
    "\n",
    "    for i in range(len(df_as_np) - window_size ):\n",
    "        row = [[a] for a in df_as_np[i:i+5]]\n",
    "\n",
    "        X.append(row)\n",
    "        label = df_as_np[i+5]\n",
    "        y.append(label)\n",
    "\n",
    "    return np.array(X), np.array(y)"
   ]
  },
  {
   "cell_type": "code",
   "execution_count": 23,
   "metadata": {},
   "outputs": [
    {
     "data": {
      "text/plain": [
       "((2728, 5, 1), (2728,))"
      ]
     },
     "execution_count": 23,
     "metadata": {},
     "output_type": "execute_result"
    }
   ],
   "source": [
    "WINDOW_SIZE = 5\n",
    "\n",
    "X, y = df_to_X_y(sust_energy, WINDOW_SIZE)\n",
    "\n",
    "X.shape, y.shape"
   ]
  },
  {
   "cell_type": "code",
   "execution_count": 24,
   "metadata": {},
   "outputs": [
    {
     "data": {
      "text/plain": [
       "2733"
      ]
     },
     "execution_count": 24,
     "metadata": {},
     "output_type": "execute_result"
    }
   ],
   "source": [
    "len(sust_energy)"
   ]
  },
  {
   "cell_type": "code",
   "execution_count": 25,
   "metadata": {},
   "outputs": [],
   "source": [
    "X_train, y_train = X[:2186], y[:2186]\n",
    "X_val, y_val = X[2186:2500], y[2186:2500]\n",
    "X_test, y_test = X[2500:], y[2500:]"
   ]
  },
  {
   "cell_type": "code",
   "execution_count": 21,
   "metadata": {},
   "outputs": [],
   "source": [
    "from sklearn.metrics import mean_squared_error as mse \n",
    "\n",
    "def plot_preedicitons1(model, X, y, start=0, end=100):\n",
    "    predictions = model.predict(X).flatten()\n",
    "\n",
    "    df = pd.DataFrame(data={'Predictions': predictions, 'Actual':y})\n",
    "    plt.plot(df['Predictions'][start:end])\n",
    "    plt.plot(df['Actual'][start:end])\n",
    "\n",
    "    return df, mse(y, predictions)\n"
   ]
  },
  {
   "cell_type": "code",
   "execution_count": 26,
   "metadata": {},
   "outputs": [],
   "source": [
    "from tensorflow.keras.models import load_model\n",
    "model1 = load_model('model1/')"
   ]
  },
  {
   "cell_type": "code",
   "execution_count": 27,
   "metadata": {},
   "outputs": [
    {
     "name": "stdout",
     "output_type": "stream",
     "text": [
      "8/8 [==============================] - 4s 2ms/step\n"
     ]
    },
    {
     "data": {
      "text/plain": [
       "(     Predictions     Actual\n",
       " 0      46.375206  46.990002\n",
       " 1      46.629337  46.270000\n",
       " 2      46.471649  45.529999\n",
       " 3      46.041733  45.610001\n",
       " 4      45.823151  46.020000\n",
       " ..           ...        ...\n",
       " 223    45.060513  45.680000\n",
       " 224    45.346184  45.299999\n",
       " 225    45.376030  44.770000\n",
       " 226    45.148392  44.980000\n",
       " 227    45.029510  45.250000\n",
       " \n",
       " [228 rows x 2 columns],\n",
       " 0.48596421585311317)"
      ]
     },
     "execution_count": 27,
     "metadata": {},
     "output_type": "execute_result"
    },
    {
     "data": {
      "image/png": "[encoded data removed]",
      "text/plain": [
       "<Figure size 640x480 with 1 Axes>"
      ]
     },
     "metadata": {},
     "output_type": "display_data"
    }
   ],
   "source": [
    "plot_preedicitons1(model1, X_test, y_test)"
   ]
  },
  {
   "cell_type": "code",
   "execution_count": 28,
   "metadata": {},
   "outputs": [],
   "source": [
    "from tensorflow.keras.models import Sequential\n",
    "from tensorflow.keras.layers import * #Dense, Dropout, Activation, Flatten\n",
    "from tensorflow.keras.callbacks import ModelCheckpoint\n",
    "from tensorflow.keras.losses import MeanSquaredError\n",
    "from tensorflow.keras.metrics import RootMeanSquaredError\n",
    "from tensorflow.keras.optimizers import Adam"
   ]
  },
  {
   "cell_type": "code",
   "execution_count": 29,
   "metadata": {},
   "outputs": [
    {
     "name": "stdout",
     "output_type": "stream",
     "text": [
      "Model: \"sequential\"\n",
      "_________________________________________________________________\n",
      " Layer (type)                Output Shape              Param #   \n",
      "=================================================================\n",
      " conv1d (Conv1D)             (None, 4, 64)             192       \n",
      "                                                                 \n",
      " flatten (Flatten)           (None, 256)               0         \n",
      "                                                                 \n",
      " dense (Dense)               (None, 8)                 2056      \n",
      "                                                                 \n",
      " dense_1 (Dense)             (None, 1)                 9         \n",
      "                                                                 \n",
      "=================================================================\n",
      "Total params: 2,257\n",
      "Trainable params: 2,257\n",
      "Non-trainable params: 0\n",
      "_________________________________________________________________\n"
     ]
    }
   ],
   "source": [
    "model2 = Sequential()\n",
    "\n",
    "model2.add(InputLayer((5,1)))\n",
    "model2.add(Conv1D(64, kernel_size=2))\n",
    "model2.add(Flatten())\n",
    "model2.add(Dense(8,'relu'))\n",
    "model2.add(Dense(1,'linear'))\n",
    "\n",
    "model2.summary()"
   ]
  },
  {
   "cell_type": "code",
   "execution_count": 30,
   "metadata": {},
   "outputs": [],
   "source": [
    "cp2 = ModelCheckpoint('model2/', save_best_only=True)\n",
    "model2.compile(loss=MeanSquaredError(), optimizer=Adam(learning_rate=0.0001), metrics=[RootMeanSquaredError()])"
   ]
  },
  {
   "cell_type": "code",
   "execution_count": 32,
   "metadata": {},
   "outputs": [
    {
     "name": "stdout",
     "output_type": "stream",
     "text": [
      "Epoch 1/20\n",
      "58/69 [========================>.....] - ETA: 0s - loss: 0.4149 - root_mean_squared_error: 0.6442"
     ]
    },
    {
     "name": "stderr",
     "output_type": "stream",
     "text": [
      "WARNING:absl:Found untraced functions such as _jit_compiled_convolution_op while saving (showing 1 of 1). These functions will not be directly callable after loading.\n"
     ]
    },
    {
     "name": "stdout",
     "output_type": "stream",
     "text": [
      "INFO:tensorflow:Assets written to: model2\\assets\n"
     ]
    },
    {
     "name": "stderr",
     "output_type": "stream",
     "text": [
      "INFO:tensorflow:Assets written to: model2\\assets\n"
     ]
    },
    {
     "name": "stdout",
     "output_type": "stream",
     "text": [
      "69/69 [==============================] - 1s 13ms/step - loss: 0.4395 - root_mean_squared_error: 0.6630 - val_loss: 1.1600 - val_root_mean_squared_error: 1.0770\n",
      "Epoch 2/20\n",
      "66/69 [===========================>..] - ETA: 0s - loss: 0.4430 - root_mean_squared_error: 0.6656"
     ]
    },
    {
     "name": "stderr",
     "output_type": "stream",
     "text": [
      "WARNING:absl:Found untraced functions such as _jit_compiled_convolution_op while saving (showing 1 of 1). These functions will not be directly callable after loading.\n"
     ]
    },
    {
     "name": "stdout",
     "output_type": "stream",
     "text": [
      "INFO:tensorflow:Assets written to: model2\\assets\n"
     ]
    },
    {
     "name": "stderr",
     "output_type": "stream",
     "text": [
      "INFO:tensorflow:Assets written to: model2\\assets\n"
     ]
    },
    {
     "name": "stdout",
     "output_type": "stream",
     "text": [
      "69/69 [==============================] - 1s 10ms/step - loss: 0.4395 - root_mean_squared_error: 0.6629 - val_loss: 1.1595 - val_root_mean_squared_error: 1.0768\n",
      "Epoch 3/20\n",
      "68/69 [============================>.] - ETA: 0s - loss: 0.4323 - root_mean_squared_error: 0.6575"
     ]
    },
    {
     "name": "stderr",
     "output_type": "stream",
     "text": [
      "WARNING:absl:Found untraced functions such as _jit_compiled_convolution_op while saving (showing 1 of 1). These functions will not be directly callable after loading.\n"
     ]
    },
    {
     "name": "stdout",
     "output_type": "stream",
     "text": [
      "INFO:tensorflow:Assets written to: model2\\assets\n"
     ]
    },
    {
     "name": "stderr",
     "output_type": "stream",
     "text": [
      "INFO:tensorflow:Assets written to: model2\\assets\n"
     ]
    },
    {
     "name": "stdout",
     "output_type": "stream",
     "text": [
      "69/69 [==============================] - 1s 12ms/step - loss: 0.4389 - root_mean_squared_error: 0.6625 - val_loss: 1.1588 - val_root_mean_squared_error: 1.0765\n",
      "Epoch 4/20\n",
      "57/69 [=======================>......] - ETA: 0s - loss: 0.3938 - root_mean_squared_error: 0.6275"
     ]
    },
    {
     "name": "stderr",
     "output_type": "stream",
     "text": [
      "WARNING:absl:Found untraced functions such as _jit_compiled_convolution_op while saving (showing 1 of 1). These functions will not be directly callable after loading.\n"
     ]
    },
    {
     "name": "stdout",
     "output_type": "stream",
     "text": [
      "INFO:tensorflow:Assets written to: model2\\assets\n"
     ]
    },
    {
     "name": "stderr",
     "output_type": "stream",
     "text": [
      "INFO:tensorflow:Assets written to: model2\\assets\n"
     ]
    },
    {
     "name": "stdout",
     "output_type": "stream",
     "text": [
      "69/69 [==============================] - 1s 12ms/step - loss: 0.4388 - root_mean_squared_error: 0.6624 - val_loss: 1.1588 - val_root_mean_squared_error: 1.0765\n",
      "Epoch 5/20\n",
      "64/69 [==========================>...] - ETA: 0s - loss: 0.4395 - root_mean_squared_error: 0.6629"
     ]
    },
    {
     "name": "stderr",
     "output_type": "stream",
     "text": [
      "WARNING:absl:Found untraced functions such as _jit_compiled_convolution_op while saving (showing 1 of 1). These functions will not be directly callable after loading.\n"
     ]
    },
    {
     "name": "stdout",
     "output_type": "stream",
     "text": [
      "INFO:tensorflow:Assets written to: model2\\assets\n"
     ]
    },
    {
     "name": "stderr",
     "output_type": "stream",
     "text": [
      "INFO:tensorflow:Assets written to: model2\\assets\n"
     ]
    },
    {
     "name": "stdout",
     "output_type": "stream",
     "text": [
      "69/69 [==============================] - 1s 11ms/step - loss: 0.4389 - root_mean_squared_error: 0.6625 - val_loss: 1.1584 - val_root_mean_squared_error: 1.0763\n",
      "Epoch 6/20\n",
      "52/69 [=====================>........] - ETA: 0s - loss: 0.4345 - root_mean_squared_error: 0.6592"
     ]
    },
    {
     "name": "stderr",
     "output_type": "stream",
     "text": [
      "WARNING:absl:Found untraced functions such as _jit_compiled_convolution_op while saving (showing 1 of 1). These functions will not be directly callable after loading.\n"
     ]
    },
    {
     "name": "stdout",
     "output_type": "stream",
     "text": [
      "INFO:tensorflow:Assets written to: model2\\assets\n"
     ]
    },
    {
     "name": "stderr",
     "output_type": "stream",
     "text": [
      "INFO:tensorflow:Assets written to: model2\\assets\n"
     ]
    },
    {
     "name": "stdout",
     "output_type": "stream",
     "text": [
      "69/69 [==============================] - 1s 10ms/step - loss: 0.4387 - root_mean_squared_error: 0.6623 - val_loss: 1.1577 - val_root_mean_squared_error: 1.0760\n",
      "Epoch 7/20\n",
      "65/69 [===========================>..] - ETA: 0s - loss: 0.4310 - root_mean_squared_error: 0.6565"
     ]
    },
    {
     "name": "stderr",
     "output_type": "stream",
     "text": [
      "WARNING:absl:Found untraced functions such as _jit_compiled_convolution_op while saving (showing 1 of 1). These functions will not be directly callable after loading.\n"
     ]
    },
    {
     "name": "stdout",
     "output_type": "stream",
     "text": [
      "INFO:tensorflow:Assets written to: model2\\assets\n"
     ]
    },
    {
     "name": "stderr",
     "output_type": "stream",
     "text": [
      "INFO:tensorflow:Assets written to: model2\\assets\n"
     ]
    },
    {
     "name": "stdout",
     "output_type": "stream",
     "text": [
      "69/69 [==============================] - 1s 12ms/step - loss: 0.4392 - root_mean_squared_error: 0.6627 - val_loss: 1.1569 - val_root_mean_squared_error: 1.0756\n",
      "Epoch 8/20\n",
      "69/69 [==============================] - 0s 4ms/step - loss: 0.4387 - root_mean_squared_error: 0.6624 - val_loss: 1.1573 - val_root_mean_squared_error: 1.0758\n",
      "Epoch 9/20\n",
      "69/69 [==============================] - 0s 4ms/step - loss: 0.4385 - root_mean_squared_error: 0.6622 - val_loss: 1.1573 - val_root_mean_squared_error: 1.0758\n",
      "Epoch 10/20\n",
      "55/69 [======================>.......] - ETA: 0s - loss: 0.4585 - root_mean_squared_error: 0.6771"
     ]
    },
    {
     "name": "stderr",
     "output_type": "stream",
     "text": [
      "WARNING:absl:Found untraced functions such as _jit_compiled_convolution_op while saving (showing 1 of 1). These functions will not be directly callable after loading.\n"
     ]
    },
    {
     "name": "stdout",
     "output_type": "stream",
     "text": [
      "INFO:tensorflow:Assets written to: model2\\assets\n"
     ]
    },
    {
     "name": "stderr",
     "output_type": "stream",
     "text": [
      "INFO:tensorflow:Assets written to: model2\\assets\n"
     ]
    },
    {
     "name": "stdout",
     "output_type": "stream",
     "text": [
      "69/69 [==============================] - 1s 11ms/step - loss: 0.4392 - root_mean_squared_error: 0.6627 - val_loss: 1.1563 - val_root_mean_squared_error: 1.0753\n",
      "Epoch 11/20\n",
      "69/69 [==============================] - 0s 3ms/step - loss: 0.4377 - root_mean_squared_error: 0.6616 - val_loss: 1.1575 - val_root_mean_squared_error: 1.0759\n",
      "Epoch 12/20\n",
      "56/69 [=======================>......] - ETA: 0s - loss: 0.4490 - root_mean_squared_error: 0.6701"
     ]
    },
    {
     "name": "stderr",
     "output_type": "stream",
     "text": [
      "WARNING:absl:Found untraced functions such as _jit_compiled_convolution_op while saving (showing 1 of 1). These functions will not be directly callable after loading.\n"
     ]
    },
    {
     "name": "stdout",
     "output_type": "stream",
     "text": [
      "INFO:tensorflow:Assets written to: model2\\assets\n"
     ]
    },
    {
     "name": "stderr",
     "output_type": "stream",
     "text": [
      "INFO:tensorflow:Assets written to: model2\\assets\n"
     ]
    },
    {
     "name": "stdout",
     "output_type": "stream",
     "text": [
      "69/69 [==============================] - 1s 10ms/step - loss: 0.4385 - root_mean_squared_error: 0.6622 - val_loss: 1.1559 - val_root_mean_squared_error: 1.0752\n",
      "Epoch 13/20\n",
      "63/69 [==========================>...] - ETA: 0s - loss: 0.4374 - root_mean_squared_error: 0.6614"
     ]
    },
    {
     "name": "stderr",
     "output_type": "stream",
     "text": [
      "WARNING:absl:Found untraced functions such as _jit_compiled_convolution_op while saving (showing 1 of 1). These functions will not be directly callable after loading.\n"
     ]
    },
    {
     "name": "stdout",
     "output_type": "stream",
     "text": [
      "INFO:tensorflow:Assets written to: model2\\assets\n"
     ]
    },
    {
     "name": "stderr",
     "output_type": "stream",
     "text": [
      "INFO:tensorflow:Assets written to: model2\\assets\n"
     ]
    },
    {
     "name": "stdout",
     "output_type": "stream",
     "text": [
      "69/69 [==============================] - 1s 13ms/step - loss: 0.4377 - root_mean_squared_error: 0.6616 - val_loss: 1.1542 - val_root_mean_squared_error: 1.0743\n",
      "Epoch 14/20\n",
      "56/69 [=======================>......] - ETA: 0s - loss: 0.4486 - root_mean_squared_error: 0.6698"
     ]
    },
    {
     "name": "stderr",
     "output_type": "stream",
     "text": [
      "WARNING:absl:Found untraced functions such as _jit_compiled_convolution_op while saving (showing 1 of 1). These functions will not be directly callable after loading.\n"
     ]
    },
    {
     "name": "stdout",
     "output_type": "stream",
     "text": [
      "INFO:tensorflow:Assets written to: model2\\assets\n"
     ]
    },
    {
     "name": "stderr",
     "output_type": "stream",
     "text": [
      "INFO:tensorflow:Assets written to: model2\\assets\n"
     ]
    },
    {
     "name": "stdout",
     "output_type": "stream",
     "text": [
      "69/69 [==============================] - 1s 12ms/step - loss: 0.4378 - root_mean_squared_error: 0.6617 - val_loss: 1.1539 - val_root_mean_squared_error: 1.0742\n",
      "Epoch 15/20\n",
      "66/69 [===========================>..] - ETA: 0s - loss: 0.4395 - root_mean_squared_error: 0.6629"
     ]
    },
    {
     "name": "stderr",
     "output_type": "stream",
     "text": [
      "WARNING:absl:Found untraced functions such as _jit_compiled_convolution_op while saving (showing 1 of 1). These functions will not be directly callable after loading.\n"
     ]
    },
    {
     "name": "stdout",
     "output_type": "stream",
     "text": [
      "INFO:tensorflow:Assets written to: model2\\assets\n"
     ]
    },
    {
     "name": "stderr",
     "output_type": "stream",
     "text": [
      "INFO:tensorflow:Assets written to: model2\\assets\n"
     ]
    },
    {
     "name": "stdout",
     "output_type": "stream",
     "text": [
      "69/69 [==============================] - 1s 11ms/step - loss: 0.4378 - root_mean_squared_error: 0.6617 - val_loss: 1.1529 - val_root_mean_squared_error: 1.0737\n",
      "Epoch 16/20\n",
      "69/69 [==============================] - 0s 4ms/step - loss: 0.4383 - root_mean_squared_error: 0.6621 - val_loss: 1.1555 - val_root_mean_squared_error: 1.0749\n",
      "Epoch 17/20\n",
      "69/69 [==============================] - 0s 3ms/step - loss: 0.4379 - root_mean_squared_error: 0.6617 - val_loss: 1.1564 - val_root_mean_squared_error: 1.0754\n",
      "Epoch 18/20\n",
      "54/69 [======================>.......] - ETA: 0s - loss: 0.4380 - root_mean_squared_error: 0.6618"
     ]
    },
    {
     "name": "stderr",
     "output_type": "stream",
     "text": [
      "WARNING:absl:Found untraced functions such as _jit_compiled_convolution_op while saving (showing 1 of 1). These functions will not be directly callable after loading.\n"
     ]
    },
    {
     "name": "stdout",
     "output_type": "stream",
     "text": [
      "INFO:tensorflow:Assets written to: model2\\assets\n"
     ]
    },
    {
     "name": "stderr",
     "output_type": "stream",
     "text": [
      "INFO:tensorflow:Assets written to: model2\\assets\n"
     ]
    },
    {
     "name": "stdout",
     "output_type": "stream",
     "text": [
      "69/69 [==============================] - 1s 10ms/step - loss: 0.4387 - root_mean_squared_error: 0.6623 - val_loss: 1.1498 - val_root_mean_squared_error: 1.0723\n",
      "Epoch 19/20\n",
      "69/69 [==============================] - 0s 4ms/step - loss: 0.4370 - root_mean_squared_error: 0.6611 - val_loss: 1.1512 - val_root_mean_squared_error: 1.0729\n",
      "Epoch 20/20\n",
      "62/69 [=========================>....] - ETA: 0s - loss: 0.4303 - root_mean_squared_error: 0.6560"
     ]
    },
    {
     "name": "stderr",
     "output_type": "stream",
     "text": [
      "WARNING:absl:Found untraced functions such as _jit_compiled_convolution_op while saving (showing 1 of 1). These functions will not be directly callable after loading.\n"
     ]
    },
    {
     "name": "stdout",
     "output_type": "stream",
     "text": [
      "INFO:tensorflow:Assets written to: model2\\assets\n"
     ]
    },
    {
     "name": "stderr",
     "output_type": "stream",
     "text": [
      "INFO:tensorflow:Assets written to: model2\\assets\n"
     ]
    },
    {
     "name": "stdout",
     "output_type": "stream",
     "text": [
      "69/69 [==============================] - 1s 11ms/step - loss: 0.4361 - root_mean_squared_error: 0.6604 - val_loss: 1.1491 - val_root_mean_squared_error: 1.0720\n"
     ]
    },
    {
     "data": {
      "text/plain": [
       "<keras.callbacks.History at 0x19aee066040>"
      ]
     },
     "execution_count": 32,
     "metadata": {},
     "output_type": "execute_result"
    }
   ],
   "source": [
    "model2.fit(X_train, y_train, validation_data=(X_val,y_val), epochs=20, callbacks=[cp2])"
   ]
  },
  {
   "cell_type": "code",
   "execution_count": 33,
   "metadata": {},
   "outputs": [
    {
     "name": "stdout",
     "output_type": "stream",
     "text": [
      "Model: \"sequential_1\"\n",
      "_________________________________________________________________\n",
      " Layer (type)                Output Shape              Param #   \n",
      "=================================================================\n",
      " gru (GRU)                   (None, 64)                12864     \n",
      "                                                                 \n",
      " dense_2 (Dense)             (None, 8)                 520       \n",
      "                                                                 \n",
      " dense_3 (Dense)             (None, 1)                 9         \n",
      "                                                                 \n",
      "=================================================================\n",
      "Total params: 13,393\n",
      "Trainable params: 13,393\n",
      "Non-trainable params: 0\n",
      "_________________________________________________________________\n"
     ]
    }
   ],
   "source": [
    "model3 = Sequential()\n",
    "model3.add(InputLayer((5,1)))\n",
    "model3.add(GRU(64))\n",
    "model3.add(Dense(8,'relu'))\n",
    "model3.add(Dense(1,'linear'))\n",
    "model3.summary() # encounters the overfitting issue "
   ]
  },
  {
   "cell_type": "code",
   "execution_count": 36,
   "metadata": {},
   "outputs": [],
   "source": [
    "cp3 = ModelCheckpoint('model3/', save_best_only=True)\n",
    "model3.compile(loss=MeanSquaredError(), optimizer=Adam(learning_rate=0.0001), metrics=[RootMeanSquaredError()])"
   ]
  },
  {
   "cell_type": "code",
   "execution_count": 38,
   "metadata": {},
   "outputs": [
    {
     "name": "stdout",
     "output_type": "stream",
     "text": [
      "Epoch 1/10\n",
      "69/69 [==============================] - ETA: 0s - loss: 387.5983 - root_mean_squared_error: 19.6875"
     ]
    },
    {
     "name": "stderr",
     "output_type": "stream",
     "text": [
      "WARNING:absl:Found untraced functions such as gru_cell_layer_call_fn, gru_cell_layer_call_and_return_conditional_losses while saving (showing 2 of 2). These functions will not be directly callable after loading.\n"
     ]
    },
    {
     "name": "stdout",
     "output_type": "stream",
     "text": [
      "INFO:tensorflow:Assets written to: model3\\assets\n"
     ]
    },
    {
     "name": "stderr",
     "output_type": "stream",
     "text": [
      "INFO:tensorflow:Assets written to: model3\\assets\n"
     ]
    },
    {
     "name": "stdout",
     "output_type": "stream",
     "text": [
      "69/69 [==============================] - 3s 47ms/step - loss: 387.5983 - root_mean_squared_error: 19.6875 - val_loss: 749.1035 - val_root_mean_squared_error: 27.3698\n",
      "Epoch 2/10\n",
      "64/69 [==========================>...] - ETA: 0s - loss: 329.8901 - root_mean_squared_error: 18.1629"
     ]
    },
    {
     "name": "stderr",
     "output_type": "stream",
     "text": [
      "WARNING:absl:Found untraced functions such as gru_cell_layer_call_fn, gru_cell_layer_call_and_return_conditional_losses while saving (showing 2 of 2). These functions will not be directly callable after loading.\n"
     ]
    },
    {
     "name": "stdout",
     "output_type": "stream",
     "text": [
      "INFO:tensorflow:Assets written to: model3\\assets\n"
     ]
    },
    {
     "name": "stderr",
     "output_type": "stream",
     "text": [
      "INFO:tensorflow:Assets written to: model3\\assets\n"
     ]
    },
    {
     "name": "stdout",
     "output_type": "stream",
     "text": [
      "69/69 [==============================] - 3s 49ms/step - loss: 331.8041 - root_mean_squared_error: 18.2155 - val_loss: 653.5995 - val_root_mean_squared_error: 25.5656\n",
      "Epoch 3/10\n",
      "65/69 [===========================>..] - ETA: 0s - loss: 283.9716 - root_mean_squared_error: 16.8515"
     ]
    },
    {
     "name": "stderr",
     "output_type": "stream",
     "text": [
      "WARNING:absl:Found untraced functions such as gru_cell_layer_call_fn, gru_cell_layer_call_and_return_conditional_losses while saving (showing 2 of 2). These functions will not be directly callable after loading.\n"
     ]
    },
    {
     "name": "stdout",
     "output_type": "stream",
     "text": [
      "INFO:tensorflow:Assets written to: model3\\assets\n"
     ]
    },
    {
     "name": "stderr",
     "output_type": "stream",
     "text": [
      "INFO:tensorflow:Assets written to: model3\\assets\n"
     ]
    },
    {
     "name": "stdout",
     "output_type": "stream",
     "text": [
      "69/69 [==============================] - 3s 47ms/step - loss: 282.5728 - root_mean_squared_error: 16.8099 - val_loss: 571.8546 - val_root_mean_squared_error: 23.9135\n",
      "Epoch 4/10\n",
      "69/69 [==============================] - ETA: 0s - loss: 245.6289 - root_mean_squared_error: 15.6726"
     ]
    },
    {
     "name": "stderr",
     "output_type": "stream",
     "text": [
      "WARNING:absl:Found untraced functions such as gru_cell_layer_call_fn, gru_cell_layer_call_and_return_conditional_losses while saving (showing 2 of 2). These functions will not be directly callable after loading.\n"
     ]
    },
    {
     "name": "stdout",
     "output_type": "stream",
     "text": [
      "INFO:tensorflow:Assets written to: model3\\assets\n"
     ]
    },
    {
     "name": "stderr",
     "output_type": "stream",
     "text": [
      "INFO:tensorflow:Assets written to: model3\\assets\n"
     ]
    },
    {
     "name": "stdout",
     "output_type": "stream",
     "text": [
      "69/69 [==============================] - 4s 54ms/step - loss: 245.6289 - root_mean_squared_error: 15.6726 - val_loss: 512.9573 - val_root_mean_squared_error: 22.6486\n",
      "Epoch 5/10\n",
      "61/69 [=========================>....] - ETA: 0s - loss: 216.7176 - root_mean_squared_error: 14.7213"
     ]
    },
    {
     "name": "stderr",
     "output_type": "stream",
     "text": [
      "WARNING:absl:Found untraced functions such as gru_cell_layer_call_fn, gru_cell_layer_call_and_return_conditional_losses while saving (showing 2 of 2). These functions will not be directly callable after loading.\n"
     ]
    },
    {
     "name": "stdout",
     "output_type": "stream",
     "text": [
      "INFO:tensorflow:Assets written to: model3\\assets\n"
     ]
    },
    {
     "name": "stderr",
     "output_type": "stream",
     "text": [
      "INFO:tensorflow:Assets written to: model3\\assets\n"
     ]
    },
    {
     "name": "stdout",
     "output_type": "stream",
     "text": [
      "69/69 [==============================] - 3s 49ms/step - loss: 217.5944 - root_mean_squared_error: 14.7511 - val_loss: 465.2194 - val_root_mean_squared_error: 21.5689\n",
      "Epoch 6/10\n",
      "63/69 [==========================>...] - ETA: 0s - loss: 195.7902 - root_mean_squared_error: 13.9925"
     ]
    },
    {
     "name": "stderr",
     "output_type": "stream",
     "text": [
      "WARNING:absl:Found untraced functions such as gru_cell_layer_call_fn, gru_cell_layer_call_and_return_conditional_losses while saving (showing 2 of 2). These functions will not be directly callable after loading.\n"
     ]
    },
    {
     "name": "stdout",
     "output_type": "stream",
     "text": [
      "INFO:tensorflow:Assets written to: model3\\assets\n"
     ]
    },
    {
     "name": "stderr",
     "output_type": "stream",
     "text": [
      "INFO:tensorflow:Assets written to: model3\\assets\n"
     ]
    },
    {
     "name": "stdout",
     "output_type": "stream",
     "text": [
      "69/69 [==============================] - 3s 45ms/step - loss: 194.8641 - root_mean_squared_error: 13.9594 - val_loss: 423.0321 - val_root_mean_squared_error: 20.5677\n",
      "Epoch 7/10\n",
      "67/69 [============================>.] - ETA: 0s - loss: 176.1196 - root_mean_squared_error: 13.2710"
     ]
    },
    {
     "name": "stderr",
     "output_type": "stream",
     "text": [
      "WARNING:absl:Found untraced functions such as gru_cell_layer_call_fn, gru_cell_layer_call_and_return_conditional_losses while saving (showing 2 of 2). These functions will not be directly callable after loading.\n"
     ]
    },
    {
     "name": "stdout",
     "output_type": "stream",
     "text": [
      "INFO:tensorflow:Assets written to: model3\\assets\n"
     ]
    },
    {
     "name": "stderr",
     "output_type": "stream",
     "text": [
      "INFO:tensorflow:Assets written to: model3\\assets\n"
     ]
    },
    {
     "name": "stdout",
     "output_type": "stream",
     "text": [
      "69/69 [==============================] - 4s 52ms/step - loss: 175.6254 - root_mean_squared_error: 13.2524 - val_loss: 385.1922 - val_root_mean_squared_error: 19.6263\n",
      "Epoch 8/10\n",
      "63/69 [==========================>...] - ETA: 0s - loss: 159.1901 - root_mean_squared_error: 12.6171"
     ]
    },
    {
     "name": "stderr",
     "output_type": "stream",
     "text": [
      "WARNING:absl:Found untraced functions such as gru_cell_layer_call_fn, gru_cell_layer_call_and_return_conditional_losses while saving (showing 2 of 2). These functions will not be directly callable after loading.\n"
     ]
    },
    {
     "name": "stdout",
     "output_type": "stream",
     "text": [
      "INFO:tensorflow:Assets written to: model3\\assets\n"
     ]
    },
    {
     "name": "stderr",
     "output_type": "stream",
     "text": [
      "INFO:tensorflow:Assets written to: model3\\assets\n"
     ]
    },
    {
     "name": "stdout",
     "output_type": "stream",
     "text": [
      "69/69 [==============================] - 3s 45ms/step - loss: 159.2645 - root_mean_squared_error: 12.6200 - val_loss: 351.4826 - val_root_mean_squared_error: 18.7479\n",
      "Epoch 9/10\n",
      "63/69 [==========================>...] - ETA: 0s - loss: 143.6919 - root_mean_squared_error: 11.9872"
     ]
    },
    {
     "name": "stderr",
     "output_type": "stream",
     "text": [
      "WARNING:absl:Found untraced functions such as gru_cell_layer_call_fn, gru_cell_layer_call_and_return_conditional_losses while saving (showing 2 of 2). These functions will not be directly callable after loading.\n"
     ]
    },
    {
     "name": "stdout",
     "output_type": "stream",
     "text": [
      "INFO:tensorflow:Assets written to: model3\\assets\n"
     ]
    },
    {
     "name": "stderr",
     "output_type": "stream",
     "text": [
      "INFO:tensorflow:Assets written to: model3\\assets\n"
     ]
    },
    {
     "name": "stdout",
     "output_type": "stream",
     "text": [
      "69/69 [==============================] - 3s 49ms/step - loss: 145.2695 - root_mean_squared_error: 12.0528 - val_loss: 320.4717 - val_root_mean_squared_error: 17.9017\n",
      "Epoch 10/10\n",
      "61/69 [=========================>....] - ETA: 0s - loss: 131.6534 - root_mean_squared_error: 11.4740"
     ]
    },
    {
     "name": "stderr",
     "output_type": "stream",
     "text": [
      "WARNING:absl:Found untraced functions such as gru_cell_layer_call_fn, gru_cell_layer_call_and_return_conditional_losses while saving (showing 2 of 2). These functions will not be directly callable after loading.\n"
     ]
    },
    {
     "name": "stdout",
     "output_type": "stream",
     "text": [
      "INFO:tensorflow:Assets written to: model3\\assets\n"
     ]
    },
    {
     "name": "stderr",
     "output_type": "stream",
     "text": [
      "INFO:tensorflow:Assets written to: model3\\assets\n"
     ]
    },
    {
     "name": "stdout",
     "output_type": "stream",
     "text": [
      "69/69 [==============================] - 3s 47ms/step - loss: 133.5990 - root_mean_squared_error: 11.5585 - val_loss: 293.0819 - val_root_mean_squared_error: 17.1196\n"
     ]
    },
    {
     "data": {
      "text/plain": [
       "<keras.callbacks.History at 0x19a676429d0>"
      ]
     },
     "execution_count": 38,
     "metadata": {},
     "output_type": "execute_result"
    }
   ],
   "source": [
    "model3.fit(X_train, y_train, validation_data=(X_val,y_val), epochs=10, callbacks=[cp3])"
   ]
  },
  {
   "cell_type": "code",
   "execution_count": 39,
   "metadata": {},
   "outputs": [
    {
     "data": {
      "text/plain": [
       "Date\n",
       "2013-01-02    21.660000\n",
       "2013-01-03    21.420000\n",
       "2013-01-04    21.620001\n",
       "2013-01-07    21.540001\n",
       "2013-01-08    21.299999\n",
       "                ...    \n",
       "2023-11-03    45.680000\n",
       "2023-11-06    45.299999\n",
       "2023-11-07    44.770000\n",
       "2023-11-08    44.980000\n",
       "2023-11-09    45.250000\n",
       "Name: IBDRY, Length: 2733, dtype: float64"
      ]
     },
     "execution_count": 39,
     "metadata": {},
     "output_type": "execute_result"
    }
   ],
   "source": [
    "sust_energy"
   ]
  },
  {
   "cell_type": "code",
   "execution_count": 41,
   "metadata": {},
   "outputs": [
    {
     "data": {
      "text/html": [
       "<div>\n",
       "<style scoped>\n",
       "    .dataframe tbody tr th:only-of-type {\n",
       "        vertical-align: middle;\n",
       "    }\n",
       "\n",
       "    .dataframe tbody tr th {\n",
       "        vertical-align: top;\n",
       "    }\n",
       "\n",
       "    .dataframe thead th {\n",
       "        text-align: right;\n",
       "    }\n",
       "</style>\n",
       "<table border=\"1\" class=\"dataframe\">\n",
       "  <thead>\n",
       "    <tr style=\"text-align: right;\">\n",
       "      <th></th>\n",
       "      <th>Sust energy</th>\n",
       "      <th>Seconds</th>\n",
       "    </tr>\n",
       "    <tr>\n",
       "      <th>Date</th>\n",
       "      <th></th>\n",
       "      <th></th>\n",
       "    </tr>\n",
       "  </thead>\n",
       "  <tbody>\n",
       "    <tr>\n",
       "      <th>2013-01-02</th>\n",
       "      <td>21.660000</td>\n",
       "      <td>1.357085e+09</td>\n",
       "    </tr>\n",
       "    <tr>\n",
       "      <th>2013-01-03</th>\n",
       "      <td>21.420000</td>\n",
       "      <td>1.357171e+09</td>\n",
       "    </tr>\n",
       "    <tr>\n",
       "      <th>2013-01-04</th>\n",
       "      <td>21.620001</td>\n",
       "      <td>1.357258e+09</td>\n",
       "    </tr>\n",
       "    <tr>\n",
       "      <th>2013-01-07</th>\n",
       "      <td>21.540001</td>\n",
       "      <td>1.357517e+09</td>\n",
       "    </tr>\n",
       "    <tr>\n",
       "      <th>2013-01-08</th>\n",
       "      <td>21.299999</td>\n",
       "      <td>1.357603e+09</td>\n",
       "    </tr>\n",
       "    <tr>\n",
       "      <th>...</th>\n",
       "      <td>...</td>\n",
       "      <td>...</td>\n",
       "    </tr>\n",
       "    <tr>\n",
       "      <th>2023-11-03</th>\n",
       "      <td>45.680000</td>\n",
       "      <td>1.698970e+09</td>\n",
       "    </tr>\n",
       "    <tr>\n",
       "      <th>2023-11-06</th>\n",
       "      <td>45.299999</td>\n",
       "      <td>1.699229e+09</td>\n",
       "    </tr>\n",
       "    <tr>\n",
       "      <th>2023-11-07</th>\n",
       "      <td>44.770000</td>\n",
       "      <td>1.699315e+09</td>\n",
       "    </tr>\n",
       "    <tr>\n",
       "      <th>2023-11-08</th>\n",
       "      <td>44.980000</td>\n",
       "      <td>1.699402e+09</td>\n",
       "    </tr>\n",
       "    <tr>\n",
       "      <th>2023-11-09</th>\n",
       "      <td>45.250000</td>\n",
       "      <td>1.699488e+09</td>\n",
       "    </tr>\n",
       "  </tbody>\n",
       "</table>\n",
       "<p>2733 rows × 2 columns</p>\n",
       "</div>"
      ],
      "text/plain": [
       "            Sust energy       Seconds\n",
       "Date                                 \n",
       "2013-01-02    21.660000  1.357085e+09\n",
       "2013-01-03    21.420000  1.357171e+09\n",
       "2013-01-04    21.620001  1.357258e+09\n",
       "2013-01-07    21.540001  1.357517e+09\n",
       "2013-01-08    21.299999  1.357603e+09\n",
       "...                 ...           ...\n",
       "2023-11-03    45.680000  1.698970e+09\n",
       "2023-11-06    45.299999  1.699229e+09\n",
       "2023-11-07    44.770000  1.699315e+09\n",
       "2023-11-08    44.980000  1.699402e+09\n",
       "2023-11-09    45.250000  1.699488e+09\n",
       "\n",
       "[2733 rows x 2 columns]"
      ]
     },
     "execution_count": 41,
     "metadata": {},
     "output_type": "execute_result"
    }
   ],
   "source": [
    "temp_df = pd.DataFrame({'Sust energy':sust_energy})\n",
    "temp_df['Seconds'] = temp_df.index.map(pd.Timestamp.timestamp)\n",
    "temp_df\n"
   ]
  },
  {
   "cell_type": "code",
   "execution_count": 44,
   "metadata": {},
   "outputs": [
    {
     "data": {
      "text/html": [
       "<div>\n",
       "<style scoped>\n",
       "    .dataframe tbody tr th:only-of-type {\n",
       "        vertical-align: middle;\n",
       "    }\n",
       "\n",
       "    .dataframe tbody tr th {\n",
       "        vertical-align: top;\n",
       "    }\n",
       "\n",
       "    .dataframe thead th {\n",
       "        text-align: right;\n",
       "    }\n",
       "</style>\n",
       "<table border=\"1\" class=\"dataframe\">\n",
       "  <thead>\n",
       "    <tr style=\"text-align: right;\">\n",
       "      <th></th>\n",
       "      <th>Sust energy</th>\n",
       "      <th>Seconds</th>\n",
       "      <th>Day sin</th>\n",
       "      <th>Day cos</th>\n",
       "      <th>Year sin</th>\n",
       "      <th>Year cos</th>\n",
       "    </tr>\n",
       "    <tr>\n",
       "      <th>Date</th>\n",
       "      <th></th>\n",
       "      <th></th>\n",
       "      <th></th>\n",
       "      <th></th>\n",
       "      <th></th>\n",
       "      <th></th>\n",
       "    </tr>\n",
       "  </thead>\n",
       "  <tbody>\n",
       "    <tr>\n",
       "      <th>2013-01-02</th>\n",
       "      <td>21.660000</td>\n",
       "      <td>1.357085e+09</td>\n",
       "      <td>-3.740524e-12</td>\n",
       "      <td>1.0</td>\n",
       "      <td>0.027048</td>\n",
       "      <td>0.999634</td>\n",
       "    </tr>\n",
       "    <tr>\n",
       "      <th>2013-01-03</th>\n",
       "      <td>21.420000</td>\n",
       "      <td>1.357171e+09</td>\n",
       "      <td>5.580146e-13</td>\n",
       "      <td>1.0</td>\n",
       "      <td>0.044240</td>\n",
       "      <td>0.999021</td>\n",
       "    </tr>\n",
       "    <tr>\n",
       "      <th>2013-01-04</th>\n",
       "      <td>21.620001</td>\n",
       "      <td>1.357258e+09</td>\n",
       "      <td>-9.695362e-12</td>\n",
       "      <td>1.0</td>\n",
       "      <td>0.061418</td>\n",
       "      <td>0.998112</td>\n",
       "    </tr>\n",
       "    <tr>\n",
       "      <th>2013-01-07</th>\n",
       "      <td>21.540001</td>\n",
       "      <td>1.357517e+09</td>\n",
       "      <td>-1.135166e-11</td>\n",
       "      <td>1.0</td>\n",
       "      <td>0.112825</td>\n",
       "      <td>0.993615</td>\n",
       "    </tr>\n",
       "    <tr>\n",
       "      <th>2013-01-08</th>\n",
       "      <td>21.299999</td>\n",
       "      <td>1.357603e+09</td>\n",
       "      <td>-7.053123e-12</td>\n",
       "      <td>1.0</td>\n",
       "      <td>0.129900</td>\n",
       "      <td>0.991527</td>\n",
       "    </tr>\n",
       "  </tbody>\n",
       "</table>\n",
       "</div>"
      ],
      "text/plain": [
       "            Sust energy       Seconds       Day sin  Day cos  Year sin  \\\n",
       "Date                                                                     \n",
       "2013-01-02    21.660000  1.357085e+09 -3.740524e-12      1.0  0.027048   \n",
       "2013-01-03    21.420000  1.357171e+09  5.580146e-13      1.0  0.044240   \n",
       "2013-01-04    21.620001  1.357258e+09 -9.695362e-12      1.0  0.061418   \n",
       "2013-01-07    21.540001  1.357517e+09 -1.135166e-11      1.0  0.112825   \n",
       "2013-01-08    21.299999  1.357603e+09 -7.053123e-12      1.0  0.129900   \n",
       "\n",
       "            Year cos  \n",
       "Date                  \n",
       "2013-01-02  0.999634  \n",
       "2013-01-03  0.999021  \n",
       "2013-01-04  0.998112  \n",
       "2013-01-07  0.993615  \n",
       "2013-01-08  0.991527  "
      ]
     },
     "execution_count": 44,
     "metadata": {},
     "output_type": "execute_result"
    }
   ],
   "source": [
    "day = 60 * 60 * 24\n",
    "year = 365.2425 * day\n",
    "\n",
    "temp_df['Day sin'] = np.sin(temp_df['Seconds'] * (2* np.pi / day))\n",
    "temp_df['Day cos'] = np.cos(temp_df['Seconds'] * (2 * np.pi / day))\n",
    "temp_df['Year sin'] = np.sin(temp_df['Seconds'] * (2 * np.pi / year))\n",
    "temp_df['Year cos'] = np.cos(temp_df['Seconds'] * (2 * np.pi / year))\n",
    "temp_df.head()"
   ]
  },
  {
   "cell_type": "code",
   "execution_count": 45,
   "metadata": {},
   "outputs": [
    {
     "data": {
      "text/html": [
       "<div>\n",
       "<style scoped>\n",
       "    .dataframe tbody tr th:only-of-type {\n",
       "        vertical-align: middle;\n",
       "    }\n",
       "\n",
       "    .dataframe tbody tr th {\n",
       "        vertical-align: top;\n",
       "    }\n",
       "\n",
       "    .dataframe thead th {\n",
       "        text-align: right;\n",
       "    }\n",
       "</style>\n",
       "<table border=\"1\" class=\"dataframe\">\n",
       "  <thead>\n",
       "    <tr style=\"text-align: right;\">\n",
       "      <th></th>\n",
       "      <th>Sust energy</th>\n",
       "      <th>Day sin</th>\n",
       "      <th>Day cos</th>\n",
       "      <th>Year sin</th>\n",
       "      <th>Year cos</th>\n",
       "    </tr>\n",
       "    <tr>\n",
       "      <th>Date</th>\n",
       "      <th></th>\n",
       "      <th></th>\n",
       "      <th></th>\n",
       "      <th></th>\n",
       "      <th></th>\n",
       "    </tr>\n",
       "  </thead>\n",
       "  <tbody>\n",
       "    <tr>\n",
       "      <th>2013-01-02</th>\n",
       "      <td>21.660000</td>\n",
       "      <td>-3.740524e-12</td>\n",
       "      <td>1.0</td>\n",
       "      <td>0.027048</td>\n",
       "      <td>0.999634</td>\n",
       "    </tr>\n",
       "    <tr>\n",
       "      <th>2013-01-03</th>\n",
       "      <td>21.420000</td>\n",
       "      <td>5.580146e-13</td>\n",
       "      <td>1.0</td>\n",
       "      <td>0.044240</td>\n",
       "      <td>0.999021</td>\n",
       "    </tr>\n",
       "    <tr>\n",
       "      <th>2013-01-04</th>\n",
       "      <td>21.620001</td>\n",
       "      <td>-9.695362e-12</td>\n",
       "      <td>1.0</td>\n",
       "      <td>0.061418</td>\n",
       "      <td>0.998112</td>\n",
       "    </tr>\n",
       "    <tr>\n",
       "      <th>2013-01-07</th>\n",
       "      <td>21.540001</td>\n",
       "      <td>-1.135166e-11</td>\n",
       "      <td>1.0</td>\n",
       "      <td>0.112825</td>\n",
       "      <td>0.993615</td>\n",
       "    </tr>\n",
       "    <tr>\n",
       "      <th>2013-01-08</th>\n",
       "      <td>21.299999</td>\n",
       "      <td>-7.053123e-12</td>\n",
       "      <td>1.0</td>\n",
       "      <td>0.129900</td>\n",
       "      <td>0.991527</td>\n",
       "    </tr>\n",
       "  </tbody>\n",
       "</table>\n",
       "</div>"
      ],
      "text/plain": [
       "            Sust energy       Day sin  Day cos  Year sin  Year cos\n",
       "Date                                                              \n",
       "2013-01-02    21.660000 -3.740524e-12      1.0  0.027048  0.999634\n",
       "2013-01-03    21.420000  5.580146e-13      1.0  0.044240  0.999021\n",
       "2013-01-04    21.620001 -9.695362e-12      1.0  0.061418  0.998112\n",
       "2013-01-07    21.540001 -1.135166e-11      1.0  0.112825  0.993615\n",
       "2013-01-08    21.299999 -7.053123e-12      1.0  0.129900  0.991527"
      ]
     },
     "execution_count": 45,
     "metadata": {},
     "output_type": "execute_result"
    }
   ],
   "source": [
    "temp_df = temp_df.drop('Seconds', axis=1)\n",
    "temp_df.head()"
   ]
  },
  {
   "cell_type": "code",
   "execution_count": null,
   "metadata": {},
   "outputs": [],
   "source": [
    "# i thinbk it works best for a periodic data. \n",
    "# where the data has clear pattern at a perticular time of the yeart\n",
    "# no high expectations for this to add any value, could be wrong tho"
   ]
  },
  {
   "cell_type": "code",
   "execution_count": 46,
   "metadata": {},
   "outputs": [],
   "source": [
    "def df_to_X_y2(df, window_size=6):\n",
    "  df_as_np = df.to_numpy()\n",
    "  X = []\n",
    "  y = []\n",
    "  for i in range(len(df_as_np)-window_size):\n",
    "    row = [r for r in df_as_np[i:i+window_size]]\n",
    "    X.append(row)\n",
    "    label = df_as_np[i+window_size][0]\n",
    "    y.append(label)\n",
    "  return np.array(X), np.array(y)"
   ]
  },
  {
   "cell_type": "code",
   "execution_count": null,
   "metadata": {},
   "outputs": [],
   "source": [
    "# switing the variables here since we switched the mapings from 5 to 6"
   ]
  },
  {
   "cell_type": "code",
   "execution_count": 47,
   "metadata": {},
   "outputs": [
    {
     "data": {
      "text/plain": [
       "((2727, 6, 5), (2727,))"
      ]
     },
     "execution_count": 47,
     "metadata": {},
     "output_type": "execute_result"
    }
   ],
   "source": [
    "X2, y2 = df_to_X_y2(temp_df)\n",
    "X2.shape, y2.shape"
   ]
  },
  {
   "cell_type": "code",
   "execution_count": 48,
   "metadata": {},
   "outputs": [
    {
     "data": {
      "text/plain": [
       "2727"
      ]
     },
     "execution_count": 48,
     "metadata": {},
     "output_type": "execute_result"
    }
   ],
   "source": [
    "len(X2)"
   ]
  },
  {
   "cell_type": "code",
   "execution_count": 49,
   "metadata": {},
   "outputs": [
    {
     "data": {
      "text/plain": [
       "((2186, 6, 5), (2186,), (314, 6, 5), (314,), (227, 6, 5), (227,))"
      ]
     },
     "execution_count": 49,
     "metadata": {},
     "output_type": "execute_result"
    }
   ],
   "source": [
    "X2_train, y2_train = X2[:2186], y2[:2186]\n",
    "X2_val, y2_val = X2[2186:2500], y2[2186:2500]\n",
    "X2_test, y2_test = X2[2500:], y2[2500:]\n",
    "X2_train.shape, y2_train.shape, X2_val.shape, y2_val.shape, X2_test.shape, y2_test.shape"
   ]
  },
  {
   "cell_type": "code",
   "execution_count": 50,
   "metadata": {},
   "outputs": [],
   "source": [
    "nrg_training_mean = np.mean(X2_train[:, :, 0])\n",
    "nrg_training_std = np.std(X2_train[:, :, 0])\n",
    "                           \n",
    "def preprocess(X):\n",
    "  X[:, :, 0] = (X[:, :, 0] - nrg_training_mean) / nrg_training_std\n",
    "  return X"
   ]
  },
  {
   "cell_type": "code",
   "execution_count": 51,
   "metadata": {},
   "outputs": [
    {
     "data": {
      "text/plain": [
       "array([[[ 1.37292667e+00, -2.34069029e-12,  1.00000000e+00,\n",
       "         -4.14626223e-01,  9.09991810e-01],\n",
       "        [ 1.40999154e+00, -1.25940669e-11,  1.00000000e+00,\n",
       "         -3.98911259e-01,  9.16989535e-01],\n",
       "        [ 1.40575544e+00, -8.29552828e-12,  1.00000000e+00,\n",
       "         -3.83078246e-01,  9.23715896e-01],\n",
       "        [ 1.45658784e+00, -9.95182764e-12,  1.00000000e+00,\n",
       "         -3.34917933e-01,  9.42247302e-01],\n",
       "        [ 1.45658784e+00, -5.65328902e-12,  1.00000000e+00,\n",
       "         -3.18659907e-01,  9.47869118e-01],\n",
       "        [ 1.50000686e+00, -1.35475040e-12,  1.00000000e+00,\n",
       "         -3.02307580e-01,  9.53210432e-01]],\n",
       "\n",
       "       [[ 1.40999154e+00, -1.25940669e-11,  1.00000000e+00,\n",
       "         -3.98911259e-01,  9.16989535e-01],\n",
       "        [ 1.40575544e+00, -8.29552828e-12,  1.00000000e+00,\n",
       "         -3.83078246e-01,  9.23715896e-01],\n",
       "        [ 1.45658784e+00, -9.95182764e-12,  1.00000000e+00,\n",
       "         -3.34917933e-01,  9.42247302e-01],\n",
       "        [ 1.45658784e+00, -5.65328902e-12,  1.00000000e+00,\n",
       "         -3.18659907e-01,  9.47869118e-01],\n",
       "        [ 1.50000686e+00, -1.35475040e-12,  1.00000000e+00,\n",
       "         -3.02307580e-01,  9.53210432e-01],\n",
       "        [ 1.42375866e+00, -1.16081270e-11,  1.00000000e+00,\n",
       "         -2.85865791e-01,  9.58269664e-01]],\n",
       "\n",
       "       [[ 1.40575544e+00, -8.29552828e-12,  1.00000000e+00,\n",
       "         -3.83078246e-01,  9.23715896e-01],\n",
       "        [ 1.45658784e+00, -9.95182764e-12,  1.00000000e+00,\n",
       "         -3.34917933e-01,  9.42247302e-01],\n",
       "        [ 1.45658784e+00, -5.65328902e-12,  1.00000000e+00,\n",
       "         -3.18659907e-01,  9.47869118e-01],\n",
       "        [ 1.50000686e+00, -1.35475040e-12,  1.00000000e+00,\n",
       "         -3.02307580e-01,  9.53210432e-01],\n",
       "        [ 1.42375866e+00, -1.16081270e-11,  1.00000000e+00,\n",
       "         -2.85865791e-01,  9.58269664e-01],\n",
       "        [ 1.34539242e+00, -7.30958838e-12,  1.00000000e+00,\n",
       "         -2.69339407e-01,  9.63045318e-01]],\n",
       "\n",
       "       ...,\n",
       "\n",
       "       [[ 1.21513536e+00, -8.25433806e-12,  1.00000000e+00,\n",
       "         -8.84494410e-01,  4.66550788e-01],\n",
       "        [ 1.22678444e+00, -3.95579943e-12,  1.00000000e+00,\n",
       "         -8.76337964e-01,  4.81696765e-01],\n",
       "        [ 1.26173166e+00,  3.42739189e-13,  1.00000000e+00,\n",
       "         -8.67922184e-01,  4.96700195e-01],\n",
       "        [ 1.36339565e+00, -9.91063742e-12,  1.00000000e+00,\n",
       "         -8.59249561e-01,  5.11556636e-01],\n",
       "        [ 1.36127759e+00, -5.61209880e-12,  1.00000000e+00,\n",
       "         -8.50322662e-01,  5.26261694e-01],\n",
       "        [ 1.32103545e+00, -7.26839816e-12,  1.00000000e+00,\n",
       "         -8.22043097e-01,  5.69425277e-01]],\n",
       "\n",
       "       [[ 1.22678444e+00, -3.95579943e-12,  1.00000000e+00,\n",
       "         -8.76337964e-01,  4.81696765e-01],\n",
       "        [ 1.26173166e+00,  3.42739189e-13,  1.00000000e+00,\n",
       "         -8.67922184e-01,  4.96700195e-01],\n",
       "        [ 1.36339565e+00, -9.91063742e-12,  1.00000000e+00,\n",
       "         -8.59249561e-01,  5.11556636e-01],\n",
       "        [ 1.36127759e+00, -5.61209880e-12,  1.00000000e+00,\n",
       "         -8.50322662e-01,  5.26261694e-01],\n",
       "        [ 1.32103545e+00, -7.26839816e-12,  1.00000000e+00,\n",
       "         -8.22043097e-01,  5.69425277e-01],\n",
       "        [ 1.26490853e+00, -2.96985954e-12,  1.00000000e+00,\n",
       "         -8.12126251e-01,  5.83481750e-01]],\n",
       "\n",
       "       [[ 1.26173166e+00,  3.42739189e-13,  1.00000000e+00,\n",
       "         -8.67922184e-01,  4.96700195e-01],\n",
       "        [ 1.36339565e+00, -9.91063742e-12,  1.00000000e+00,\n",
       "         -8.59249561e-01,  5.11556636e-01],\n",
       "        [ 1.36127759e+00, -5.61209880e-12,  1.00000000e+00,\n",
       "         -8.50322662e-01,  5.26261694e-01],\n",
       "        [ 1.32103545e+00, -7.26839816e-12,  1.00000000e+00,\n",
       "         -8.22043097e-01,  5.69425277e-01],\n",
       "        [ 1.26490853e+00, -2.96985954e-12,  1.00000000e+00,\n",
       "         -8.12126251e-01,  5.83481750e-01],\n",
       "        [ 1.28714745e+00, -1.32232361e-11,  1.00000000e+00,\n",
       "         -8.01969074e-01,  5.97365553e-01]]])"
      ]
     },
     "execution_count": 51,
     "metadata": {},
     "output_type": "execute_result"
    }
   ],
   "source": [
    "preprocess(X2_train)\n",
    "preprocess(X2_val)\n",
    "preprocess(X2_test)"
   ]
  },
  {
   "cell_type": "code",
   "execution_count": 52,
   "metadata": {},
   "outputs": [
    {
     "name": "stdout",
     "output_type": "stream",
     "text": [
      "Model: \"sequential_2\"\n",
      "_________________________________________________________________\n",
      " Layer (type)                Output Shape              Param #   \n",
      "=================================================================\n",
      " lstm (LSTM)                 (None, 64)                17920     \n",
      "                                                                 \n",
      " dense_4 (Dense)             (None, 8)                 520       \n",
      "                                                                 \n",
      " dense_5 (Dense)             (None, 1)                 9         \n",
      "                                                                 \n",
      "=================================================================\n",
      "Total params: 18,449\n",
      "Trainable params: 18,449\n",
      "Non-trainable params: 0\n",
      "_________________________________________________________________\n"
     ]
    }
   ],
   "source": [
    "model4 = Sequential()\n",
    "model4.add(InputLayer((6, 5)))\n",
    "model4.add(LSTM(64))\n",
    "model4.add(Dense(8, 'relu'))\n",
    "model4.add(Dense(1, 'linear'))\n",
    "\n",
    "model4.summary()"
   ]
  },
  {
   "cell_type": "code",
   "execution_count": 53,
   "metadata": {},
   "outputs": [],
   "source": [
    "cp4 = ModelCheckpoint('model4/', save_best_only=True)\n",
    "model4.compile(loss=MeanSquaredError(), optimizer=Adam(learning_rate=0.0001), metrics=[RootMeanSquaredError()])"
   ]
  },
  {
   "cell_type": "code",
   "execution_count": 56,
   "metadata": {},
   "outputs": [
    {
     "name": "stdout",
     "output_type": "stream",
     "text": [
      "Epoch 1/50\n",
      "62/69 [=========================>....] - ETA: 0s - loss: 141.8523 - root_mean_squared_error: 11.9102"
     ]
    },
    {
     "name": "stderr",
     "output_type": "stream",
     "text": [
      "WARNING:absl:Found untraced functions such as lstm_cell_1_layer_call_fn, lstm_cell_1_layer_call_and_return_conditional_losses while saving (showing 2 of 2). These functions will not be directly callable after loading.\n"
     ]
    },
    {
     "name": "stdout",
     "output_type": "stream",
     "text": [
      "INFO:tensorflow:Assets written to: model4\\assets\n"
     ]
    },
    {
     "name": "stderr",
     "output_type": "stream",
     "text": [
      "INFO:tensorflow:Assets written to: model4\\assets\n"
     ]
    },
    {
     "name": "stdout",
     "output_type": "stream",
     "text": [
      "69/69 [==============================] - 3s 49ms/step - loss: 137.9338 - root_mean_squared_error: 11.7445 - val_loss: 303.7064 - val_root_mean_squared_error: 17.4272\n",
      "Epoch 2/50\n",
      "61/69 [=========================>....] - ETA: 0s - loss: 128.5695 - root_mean_squared_error: 11.3388"
     ]
    },
    {
     "name": "stderr",
     "output_type": "stream",
     "text": [
      "WARNING:absl:Found untraced functions such as lstm_cell_1_layer_call_fn, lstm_cell_1_layer_call_and_return_conditional_losses while saving (showing 2 of 2). These functions will not be directly callable after loading.\n"
     ]
    },
    {
     "name": "stdout",
     "output_type": "stream",
     "text": [
      "INFO:tensorflow:Assets written to: model4\\assets\n"
     ]
    },
    {
     "name": "stderr",
     "output_type": "stream",
     "text": [
      "INFO:tensorflow:Assets written to: model4\\assets\n"
     ]
    },
    {
     "name": "stdout",
     "output_type": "stream",
     "text": [
      "69/69 [==============================] - 3s 45ms/step - loss: 127.6277 - root_mean_squared_error: 11.2972 - val_loss: 278.7465 - val_root_mean_squared_error: 16.6957\n",
      "Epoch 3/50\n",
      "69/69 [==============================] - ETA: 0s - loss: 119.1274 - root_mean_squared_error: 10.9145"
     ]
    },
    {
     "name": "stderr",
     "output_type": "stream",
     "text": [
      "WARNING:absl:Found untraced functions such as lstm_cell_1_layer_call_fn, lstm_cell_1_layer_call_and_return_conditional_losses while saving (showing 2 of 2). These functions will not be directly callable after loading.\n"
     ]
    },
    {
     "name": "stdout",
     "output_type": "stream",
     "text": [
      "INFO:tensorflow:Assets written to: model4\\assets\n"
     ]
    },
    {
     "name": "stderr",
     "output_type": "stream",
     "text": [
      "INFO:tensorflow:Assets written to: model4\\assets\n"
     ]
    },
    {
     "name": "stdout",
     "output_type": "stream",
     "text": [
      "69/69 [==============================] - 3s 50ms/step - loss: 119.1274 - root_mean_squared_error: 10.9145 - val_loss: 256.3640 - val_root_mean_squared_error: 16.0114\n",
      "Epoch 4/50\n",
      "66/69 [===========================>..] - ETA: 0s - loss: 113.8969 - root_mean_squared_error: 10.6722"
     ]
    },
    {
     "name": "stderr",
     "output_type": "stream",
     "text": [
      "WARNING:absl:Found untraced functions such as lstm_cell_1_layer_call_fn, lstm_cell_1_layer_call_and_return_conditional_losses while saving (showing 2 of 2). These functions will not be directly callable after loading.\n"
     ]
    },
    {
     "name": "stdout",
     "output_type": "stream",
     "text": [
      "INFO:tensorflow:Assets written to: model4\\assets\n"
     ]
    },
    {
     "name": "stderr",
     "output_type": "stream",
     "text": [
      "INFO:tensorflow:Assets written to: model4\\assets\n"
     ]
    },
    {
     "name": "stdout",
     "output_type": "stream",
     "text": [
      "69/69 [==============================] - 3s 45ms/step - loss: 112.1673 - root_mean_squared_error: 10.5909 - val_loss: 236.2657 - val_root_mean_squared_error: 15.3709\n",
      "Epoch 5/50\n",
      "65/69 [===========================>..] - ETA: 0s - loss: 105.9082 - root_mean_squared_error: 10.2912"
     ]
    },
    {
     "name": "stderr",
     "output_type": "stream",
     "text": [
      "WARNING:absl:Found untraced functions such as lstm_cell_1_layer_call_fn, lstm_cell_1_layer_call_and_return_conditional_losses while saving (showing 2 of 2). These functions will not be directly callable after loading.\n"
     ]
    },
    {
     "name": "stdout",
     "output_type": "stream",
     "text": [
      "INFO:tensorflow:Assets written to: model4\\assets\n"
     ]
    },
    {
     "name": "stderr",
     "output_type": "stream",
     "text": [
      "INFO:tensorflow:Assets written to: model4\\assets\n"
     ]
    },
    {
     "name": "stdout",
     "output_type": "stream",
     "text": [
      "69/69 [==============================] - 3s 45ms/step - loss: 106.2946 - root_mean_squared_error: 10.3099 - val_loss: 217.7132 - val_root_mean_squared_error: 14.7551\n",
      "Epoch 6/50\n",
      "69/69 [==============================] - ETA: 0s - loss: 101.3883 - root_mean_squared_error: 10.0692"
     ]
    },
    {
     "name": "stderr",
     "output_type": "stream",
     "text": [
      "WARNING:absl:Found untraced functions such as lstm_cell_1_layer_call_fn, lstm_cell_1_layer_call_and_return_conditional_losses while saving (showing 2 of 2). These functions will not be directly callable after loading.\n"
     ]
    },
    {
     "name": "stdout",
     "output_type": "stream",
     "text": [
      "INFO:tensorflow:Assets written to: model4\\assets\n"
     ]
    },
    {
     "name": "stderr",
     "output_type": "stream",
     "text": [
      "INFO:tensorflow:Assets written to: model4\\assets\n"
     ]
    },
    {
     "name": "stdout",
     "output_type": "stream",
     "text": [
      "69/69 [==============================] - 3s 50ms/step - loss: 101.3883 - root_mean_squared_error: 10.0692 - val_loss: 200.9657 - val_root_mean_squared_error: 14.1762\n",
      "Epoch 7/50\n",
      "64/69 [==========================>...] - ETA: 0s - loss: 97.4414 - root_mean_squared_error: 9.8712"
     ]
    },
    {
     "name": "stderr",
     "output_type": "stream",
     "text": [
      "WARNING:absl:Found untraced functions such as lstm_cell_1_layer_call_fn, lstm_cell_1_layer_call_and_return_conditional_losses while saving (showing 2 of 2). These functions will not be directly callable after loading.\n"
     ]
    },
    {
     "name": "stdout",
     "output_type": "stream",
     "text": [
      "INFO:tensorflow:Assets written to: model4\\assets\n"
     ]
    },
    {
     "name": "stderr",
     "output_type": "stream",
     "text": [
      "INFO:tensorflow:Assets written to: model4\\assets\n"
     ]
    },
    {
     "name": "stdout",
     "output_type": "stream",
     "text": [
      "69/69 [==============================] - 3s 45ms/step - loss: 97.6536 - root_mean_squared_error: 9.8820 - val_loss: 186.8160 - val_root_mean_squared_error: 13.6681\n",
      "Epoch 8/50\n",
      "63/69 [==========================>...] - ETA: 0s - loss: 95.5537 - root_mean_squared_error: 9.7752"
     ]
    },
    {
     "name": "stderr",
     "output_type": "stream",
     "text": [
      "WARNING:absl:Found untraced functions such as lstm_cell_1_layer_call_fn, lstm_cell_1_layer_call_and_return_conditional_losses while saving (showing 2 of 2). These functions will not be directly callable after loading.\n"
     ]
    },
    {
     "name": "stdout",
     "output_type": "stream",
     "text": [
      "INFO:tensorflow:Assets written to: model4\\assets\n"
     ]
    },
    {
     "name": "stderr",
     "output_type": "stream",
     "text": [
      "INFO:tensorflow:Assets written to: model4\\assets\n"
     ]
    },
    {
     "name": "stdout",
     "output_type": "stream",
     "text": [
      "69/69 [==============================] - 4s 56ms/step - loss: 94.8111 - root_mean_squared_error: 9.7371 - val_loss: 174.7589 - val_root_mean_squared_error: 13.2196\n",
      "Epoch 9/50\n",
      "66/69 [===========================>..] - ETA: 0s - loss: 92.2493 - root_mean_squared_error: 9.6047"
     ]
    },
    {
     "name": "stderr",
     "output_type": "stream",
     "text": [
      "WARNING:absl:Found untraced functions such as lstm_cell_1_layer_call_fn, lstm_cell_1_layer_call_and_return_conditional_losses while saving (showing 2 of 2). These functions will not be directly callable after loading.\n"
     ]
    },
    {
     "name": "stdout",
     "output_type": "stream",
     "text": [
      "INFO:tensorflow:Assets written to: model4\\assets\n"
     ]
    },
    {
     "name": "stderr",
     "output_type": "stream",
     "text": [
      "INFO:tensorflow:Assets written to: model4\\assets\n"
     ]
    },
    {
     "name": "stdout",
     "output_type": "stream",
     "text": [
      "69/69 [==============================] - 3s 49ms/step - loss: 92.6536 - root_mean_squared_error: 9.6257 - val_loss: 164.9095 - val_root_mean_squared_error: 12.8417\n",
      "Epoch 10/50\n",
      "65/69 [===========================>..] - ETA: 0s - loss: 91.3634 - root_mean_squared_error: 9.5584"
     ]
    },
    {
     "name": "stderr",
     "output_type": "stream",
     "text": [
      "WARNING:absl:Found untraced functions such as lstm_cell_1_layer_call_fn, lstm_cell_1_layer_call_and_return_conditional_losses while saving (showing 2 of 2). These functions will not be directly callable after loading.\n"
     ]
    },
    {
     "name": "stdout",
     "output_type": "stream",
     "text": [
      "INFO:tensorflow:Assets written to: model4\\assets\n"
     ]
    },
    {
     "name": "stderr",
     "output_type": "stream",
     "text": [
      "INFO:tensorflow:Assets written to: model4\\assets\n"
     ]
    },
    {
     "name": "stdout",
     "output_type": "stream",
     "text": [
      "69/69 [==============================] - 4s 53ms/step - loss: 90.7838 - root_mean_squared_error: 9.5281 - val_loss: 156.5755 - val_root_mean_squared_error: 12.5130\n",
      "Epoch 11/50\n",
      "62/69 [=========================>....] - ETA: 0s - loss: 87.6808 - root_mean_squared_error: 9.3638"
     ]
    },
    {
     "name": "stderr",
     "output_type": "stream",
     "text": [
      "WARNING:absl:Found untraced functions such as lstm_cell_1_layer_call_fn, lstm_cell_1_layer_call_and_return_conditional_losses while saving (showing 2 of 2). These functions will not be directly callable after loading.\n"
     ]
    },
    {
     "name": "stdout",
     "output_type": "stream",
     "text": [
      "INFO:tensorflow:Assets written to: model4\\assets\n"
     ]
    },
    {
     "name": "stderr",
     "output_type": "stream",
     "text": [
      "INFO:tensorflow:Assets written to: model4\\assets\n"
     ]
    },
    {
     "name": "stdout",
     "output_type": "stream",
     "text": [
      "69/69 [==============================] - 3s 45ms/step - loss: 88.0719 - root_mean_squared_error: 9.3847 - val_loss: 149.0876 - val_root_mean_squared_error: 12.2101\n",
      "Epoch 12/50\n",
      "66/69 [===========================>..] - ETA: 0s - loss: 82.9399 - root_mean_squared_error: 9.1071"
     ]
    },
    {
     "name": "stderr",
     "output_type": "stream",
     "text": [
      "WARNING:absl:Found untraced functions such as lstm_cell_1_layer_call_fn, lstm_cell_1_layer_call_and_return_conditional_losses while saving (showing 2 of 2). These functions will not be directly callable after loading.\n"
     ]
    },
    {
     "name": "stdout",
     "output_type": "stream",
     "text": [
      "INFO:tensorflow:Assets written to: model4\\assets\n"
     ]
    },
    {
     "name": "stderr",
     "output_type": "stream",
     "text": [
      "INFO:tensorflow:Assets written to: model4\\assets\n"
     ]
    },
    {
     "name": "stdout",
     "output_type": "stream",
     "text": [
      "69/69 [==============================] - 4s 58ms/step - loss: 82.9942 - root_mean_squared_error: 9.1101 - val_loss: 140.2792 - val_root_mean_squared_error: 11.8440\n",
      "Epoch 13/50\n",
      "64/69 [==========================>...] - ETA: 0s - loss: 75.1803 - root_mean_squared_error: 8.6707"
     ]
    },
    {
     "name": "stderr",
     "output_type": "stream",
     "text": [
      "WARNING:absl:Found untraced functions such as lstm_cell_1_layer_call_fn, lstm_cell_1_layer_call_and_return_conditional_losses while saving (showing 2 of 2). These functions will not be directly callable after loading.\n"
     ]
    },
    {
     "name": "stdout",
     "output_type": "stream",
     "text": [
      "INFO:tensorflow:Assets written to: model4\\assets\n"
     ]
    },
    {
     "name": "stderr",
     "output_type": "stream",
     "text": [
      "INFO:tensorflow:Assets written to: model4\\assets\n"
     ]
    },
    {
     "name": "stdout",
     "output_type": "stream",
     "text": [
      "69/69 [==============================] - 4s 54ms/step - loss: 75.8872 - root_mean_squared_error: 8.7113 - val_loss: 130.1130 - val_root_mean_squared_error: 11.4067\n",
      "Epoch 14/50\n",
      "67/69 [============================>.] - ETA: 0s - loss: 66.9282 - root_mean_squared_error: 8.1810"
     ]
    },
    {
     "name": "stderr",
     "output_type": "stream",
     "text": [
      "WARNING:absl:Found untraced functions such as lstm_cell_1_layer_call_fn, lstm_cell_1_layer_call_and_return_conditional_losses while saving (showing 2 of 2). These functions will not be directly callable after loading.\n"
     ]
    },
    {
     "name": "stdout",
     "output_type": "stream",
     "text": [
      "INFO:tensorflow:Assets written to: model4\\assets\n"
     ]
    },
    {
     "name": "stderr",
     "output_type": "stream",
     "text": [
      "INFO:tensorflow:Assets written to: model4\\assets\n"
     ]
    },
    {
     "name": "stdout",
     "output_type": "stream",
     "text": [
      "69/69 [==============================] - 4s 56ms/step - loss: 67.0418 - root_mean_squared_error: 8.1879 - val_loss: 118.0186 - val_root_mean_squared_error: 10.8636\n",
      "Epoch 15/50\n",
      "63/69 [==========================>...] - ETA: 0s - loss: 58.6764 - root_mean_squared_error: 7.6601"
     ]
    },
    {
     "name": "stderr",
     "output_type": "stream",
     "text": [
      "WARNING:absl:Found untraced functions such as lstm_cell_1_layer_call_fn, lstm_cell_1_layer_call_and_return_conditional_losses while saving (showing 2 of 2). These functions will not be directly callable after loading.\n"
     ]
    },
    {
     "name": "stdout",
     "output_type": "stream",
     "text": [
      "INFO:tensorflow:Assets written to: model4\\assets\n"
     ]
    },
    {
     "name": "stderr",
     "output_type": "stream",
     "text": [
      "INFO:tensorflow:Assets written to: model4\\assets\n"
     ]
    },
    {
     "name": "stdout",
     "output_type": "stream",
     "text": [
      "69/69 [==============================] - 5s 66ms/step - loss: 59.2824 - root_mean_squared_error: 7.6995 - val_loss: 102.7586 - val_root_mean_squared_error: 10.1370\n",
      "Epoch 16/50\n",
      "67/69 [============================>.] - ETA: 0s - loss: 53.8740 - root_mean_squared_error: 7.3399"
     ]
    },
    {
     "name": "stderr",
     "output_type": "stream",
     "text": [
      "WARNING:absl:Found untraced functions such as lstm_cell_1_layer_call_fn, lstm_cell_1_layer_call_and_return_conditional_losses while saving (showing 2 of 2). These functions will not be directly callable after loading.\n"
     ]
    },
    {
     "name": "stdout",
     "output_type": "stream",
     "text": [
      "INFO:tensorflow:Assets written to: model4\\assets\n"
     ]
    },
    {
     "name": "stderr",
     "output_type": "stream",
     "text": [
      "INFO:tensorflow:Assets written to: model4\\assets\n"
     ]
    },
    {
     "name": "stdout",
     "output_type": "stream",
     "text": [
      "69/69 [==============================] - 4s 57ms/step - loss: 53.7289 - root_mean_squared_error: 7.3300 - val_loss: 88.8334 - val_root_mean_squared_error: 9.4251\n",
      "Epoch 17/50\n",
      "59/69 [========================>.....] - ETA: 0s - loss: 49.8293 - root_mean_squared_error: 7.0590"
     ]
    },
    {
     "name": "stderr",
     "output_type": "stream",
     "text": [
      "WARNING:absl:Found untraced functions such as lstm_cell_1_layer_call_fn, lstm_cell_1_layer_call_and_return_conditional_losses while saving (showing 2 of 2). These functions will not be directly callable after loading.\n"
     ]
    },
    {
     "name": "stdout",
     "output_type": "stream",
     "text": [
      "INFO:tensorflow:Assets written to: model4\\assets\n"
     ]
    },
    {
     "name": "stderr",
     "output_type": "stream",
     "text": [
      "INFO:tensorflow:Assets written to: model4\\assets\n"
     ]
    },
    {
     "name": "stdout",
     "output_type": "stream",
     "text": [
      "69/69 [==============================] - 5s 67ms/step - loss: 48.6274 - root_mean_squared_error: 6.9733 - val_loss: 75.8643 - val_root_mean_squared_error: 8.7100\n",
      "Epoch 18/50\n",
      "69/69 [==============================] - ETA: 0s - loss: 43.7815 - root_mean_squared_error: 6.6168"
     ]
    },
    {
     "name": "stderr",
     "output_type": "stream",
     "text": [
      "WARNING:absl:Found untraced functions such as lstm_cell_1_layer_call_fn, lstm_cell_1_layer_call_and_return_conditional_losses while saving (showing 2 of 2). These functions will not be directly callable after loading.\n"
     ]
    },
    {
     "name": "stdout",
     "output_type": "stream",
     "text": [
      "INFO:tensorflow:Assets written to: model4\\assets\n"
     ]
    },
    {
     "name": "stderr",
     "output_type": "stream",
     "text": [
      "INFO:tensorflow:Assets written to: model4\\assets\n"
     ]
    },
    {
     "name": "stdout",
     "output_type": "stream",
     "text": [
      "69/69 [==============================] - 3s 46ms/step - loss: 43.7815 - root_mean_squared_error: 6.6168 - val_loss: 64.1920 - val_root_mean_squared_error: 8.0120\n",
      "Epoch 19/50\n",
      "67/69 [============================>.] - ETA: 0s - loss: 40.0635 - root_mean_squared_error: 6.3296"
     ]
    },
    {
     "name": "stderr",
     "output_type": "stream",
     "text": [
      "WARNING:absl:Found untraced functions such as lstm_cell_1_layer_call_fn, lstm_cell_1_layer_call_and_return_conditional_losses while saving (showing 2 of 2). These functions will not be directly callable after loading.\n"
     ]
    },
    {
     "name": "stdout",
     "output_type": "stream",
     "text": [
      "INFO:tensorflow:Assets written to: model4\\assets\n"
     ]
    },
    {
     "name": "stderr",
     "output_type": "stream",
     "text": [
      "INFO:tensorflow:Assets written to: model4\\assets\n"
     ]
    },
    {
     "name": "stdout",
     "output_type": "stream",
     "text": [
      "69/69 [==============================] - 3s 49ms/step - loss: 39.4342 - root_mean_squared_error: 6.2797 - val_loss: 53.3798 - val_root_mean_squared_error: 7.3061\n",
      "Epoch 20/50\n",
      "67/69 [============================>.] - ETA: 0s - loss: 35.9663 - root_mean_squared_error: 5.9972"
     ]
    },
    {
     "name": "stderr",
     "output_type": "stream",
     "text": [
      "WARNING:absl:Found untraced functions such as lstm_cell_1_layer_call_fn, lstm_cell_1_layer_call_and_return_conditional_losses while saving (showing 2 of 2). These functions will not be directly callable after loading.\n"
     ]
    },
    {
     "name": "stdout",
     "output_type": "stream",
     "text": [
      "INFO:tensorflow:Assets written to: model4\\assets\n"
     ]
    },
    {
     "name": "stderr",
     "output_type": "stream",
     "text": [
      "INFO:tensorflow:Assets written to: model4\\assets\n"
     ]
    },
    {
     "name": "stdout",
     "output_type": "stream",
     "text": [
      "69/69 [==============================] - 3s 46ms/step - loss: 35.5020 - root_mean_squared_error: 5.9584 - val_loss: 44.3393 - val_root_mean_squared_error: 6.6588\n",
      "Epoch 21/50\n",
      "69/69 [==============================] - ETA: 0s - loss: 31.9934 - root_mean_squared_error: 5.6563"
     ]
    },
    {
     "name": "stderr",
     "output_type": "stream",
     "text": [
      "WARNING:absl:Found untraced functions such as lstm_cell_1_layer_call_fn, lstm_cell_1_layer_call_and_return_conditional_losses while saving (showing 2 of 2). These functions will not be directly callable after loading.\n"
     ]
    },
    {
     "name": "stdout",
     "output_type": "stream",
     "text": [
      "INFO:tensorflow:Assets written to: model4\\assets\n"
     ]
    },
    {
     "name": "stderr",
     "output_type": "stream",
     "text": [
      "INFO:tensorflow:Assets written to: model4\\assets\n"
     ]
    },
    {
     "name": "stdout",
     "output_type": "stream",
     "text": [
      "69/69 [==============================] - 4s 62ms/step - loss: 31.9934 - root_mean_squared_error: 5.6563 - val_loss: 36.3694 - val_root_mean_squared_error: 6.0307\n",
      "Epoch 22/50\n",
      "65/69 [===========================>..] - ETA: 0s - loss: 29.2273 - root_mean_squared_error: 5.4062"
     ]
    },
    {
     "name": "stderr",
     "output_type": "stream",
     "text": [
      "WARNING:absl:Found untraced functions such as lstm_cell_1_layer_call_fn, lstm_cell_1_layer_call_and_return_conditional_losses while saving (showing 2 of 2). These functions will not be directly callable after loading.\n"
     ]
    },
    {
     "name": "stdout",
     "output_type": "stream",
     "text": [
      "INFO:tensorflow:Assets written to: model4\\assets\n"
     ]
    },
    {
     "name": "stderr",
     "output_type": "stream",
     "text": [
      "INFO:tensorflow:Assets written to: model4\\assets\n"
     ]
    },
    {
     "name": "stdout",
     "output_type": "stream",
     "text": [
      "69/69 [==============================] - 3s 45ms/step - loss: 28.8594 - root_mean_squared_error: 5.3721 - val_loss: 29.5096 - val_root_mean_squared_error: 5.4323\n",
      "Epoch 23/50\n",
      "68/69 [============================>.] - ETA: 0s - loss: 26.1152 - root_mean_squared_error: 5.1103"
     ]
    },
    {
     "name": "stderr",
     "output_type": "stream",
     "text": [
      "WARNING:absl:Found untraced functions such as lstm_cell_1_layer_call_fn, lstm_cell_1_layer_call_and_return_conditional_losses while saving (showing 2 of 2). These functions will not be directly callable after loading.\n"
     ]
    },
    {
     "name": "stdout",
     "output_type": "stream",
     "text": [
      "INFO:tensorflow:Assets written to: model4\\assets\n"
     ]
    },
    {
     "name": "stderr",
     "output_type": "stream",
     "text": [
      "INFO:tensorflow:Assets written to: model4\\assets\n"
     ]
    },
    {
     "name": "stdout",
     "output_type": "stream",
     "text": [
      "69/69 [==============================] - 3s 47ms/step - loss: 26.0509 - root_mean_squared_error: 5.1040 - val_loss: 23.7602 - val_root_mean_squared_error: 4.8744\n",
      "Epoch 24/50\n",
      "67/69 [============================>.] - ETA: 0s - loss: 23.4021 - root_mean_squared_error: 4.8376"
     ]
    },
    {
     "name": "stderr",
     "output_type": "stream",
     "text": [
      "WARNING:absl:Found untraced functions such as lstm_cell_1_layer_call_fn, lstm_cell_1_layer_call_and_return_conditional_losses while saving (showing 2 of 2). These functions will not be directly callable after loading.\n"
     ]
    },
    {
     "name": "stdout",
     "output_type": "stream",
     "text": [
      "INFO:tensorflow:Assets written to: model4\\assets\n"
     ]
    },
    {
     "name": "stderr",
     "output_type": "stream",
     "text": [
      "INFO:tensorflow:Assets written to: model4\\assets\n"
     ]
    },
    {
     "name": "stdout",
     "output_type": "stream",
     "text": [
      "69/69 [==============================] - 3s 50ms/step - loss: 23.5334 - root_mean_squared_error: 4.8511 - val_loss: 19.0100 - val_root_mean_squared_error: 4.3600\n",
      "Epoch 25/50\n",
      "61/69 [=========================>....] - ETA: 0s - loss: 20.5361 - root_mean_squared_error: 4.5317"
     ]
    },
    {
     "name": "stderr",
     "output_type": "stream",
     "text": [
      "WARNING:absl:Found untraced functions such as lstm_cell_1_layer_call_fn, lstm_cell_1_layer_call_and_return_conditional_losses while saving (showing 2 of 2). These functions will not be directly callable after loading.\n"
     ]
    },
    {
     "name": "stdout",
     "output_type": "stream",
     "text": [
      "INFO:tensorflow:Assets written to: model4\\assets\n"
     ]
    },
    {
     "name": "stderr",
     "output_type": "stream",
     "text": [
      "INFO:tensorflow:Assets written to: model4\\assets\n"
     ]
    },
    {
     "name": "stdout",
     "output_type": "stream",
     "text": [
      "69/69 [==============================] - 3s 44ms/step - loss: 21.2550 - root_mean_squared_error: 4.6103 - val_loss: 15.0779 - val_root_mean_squared_error: 3.8830\n",
      "Epoch 26/50\n",
      "61/69 [=========================>....] - ETA: 0s - loss: 19.9839 - root_mean_squared_error: 4.4703"
     ]
    },
    {
     "name": "stderr",
     "output_type": "stream",
     "text": [
      "WARNING:absl:Found untraced functions such as lstm_cell_1_layer_call_fn, lstm_cell_1_layer_call_and_return_conditional_losses while saving (showing 2 of 2). These functions will not be directly callable after loading.\n"
     ]
    },
    {
     "name": "stdout",
     "output_type": "stream",
     "text": [
      "INFO:tensorflow:Assets written to: model4\\assets\n"
     ]
    },
    {
     "name": "stderr",
     "output_type": "stream",
     "text": [
      "INFO:tensorflow:Assets written to: model4\\assets\n"
     ]
    },
    {
     "name": "stdout",
     "output_type": "stream",
     "text": [
      "69/69 [==============================] - 3s 48ms/step - loss: 19.2500 - root_mean_squared_error: 4.3875 - val_loss: 11.8258 - val_root_mean_squared_error: 3.4389\n",
      "Epoch 27/50\n",
      "63/69 [==========================>...] - ETA: 0s - loss: 17.5359 - root_mean_squared_error: 4.1876"
     ]
    },
    {
     "name": "stderr",
     "output_type": "stream",
     "text": [
      "WARNING:absl:Found untraced functions such as lstm_cell_1_layer_call_fn, lstm_cell_1_layer_call_and_return_conditional_losses while saving (showing 2 of 2). These functions will not be directly callable after loading.\n"
     ]
    },
    {
     "name": "stdout",
     "output_type": "stream",
     "text": [
      "INFO:tensorflow:Assets written to: model4\\assets\n"
     ]
    },
    {
     "name": "stderr",
     "output_type": "stream",
     "text": [
      "INFO:tensorflow:Assets written to: model4\\assets\n"
     ]
    },
    {
     "name": "stdout",
     "output_type": "stream",
     "text": [
      "69/69 [==============================] - 3s 45ms/step - loss: 17.3937 - root_mean_squared_error: 4.1706 - val_loss: 9.3391 - val_root_mean_squared_error: 3.0560\n",
      "Epoch 28/50\n",
      "62/69 [=========================>....] - ETA: 0s - loss: 15.7336 - root_mean_squared_error: 3.9666"
     ]
    },
    {
     "name": "stderr",
     "output_type": "stream",
     "text": [
      "WARNING:absl:Found untraced functions such as lstm_cell_1_layer_call_fn, lstm_cell_1_layer_call_and_return_conditional_losses while saving (showing 2 of 2). These functions will not be directly callable after loading.\n"
     ]
    },
    {
     "name": "stdout",
     "output_type": "stream",
     "text": [
      "INFO:tensorflow:Assets written to: model4\\assets\n"
     ]
    },
    {
     "name": "stderr",
     "output_type": "stream",
     "text": [
      "INFO:tensorflow:Assets written to: model4\\assets\n"
     ]
    },
    {
     "name": "stdout",
     "output_type": "stream",
     "text": [
      "69/69 [==============================] - 4s 62ms/step - loss: 15.6775 - root_mean_squared_error: 3.9595 - val_loss: 7.3280 - val_root_mean_squared_error: 2.7070\n",
      "Epoch 29/50\n",
      "61/69 [=========================>....] - ETA: 0s - loss: 14.3530 - root_mean_squared_error: 3.7885"
     ]
    },
    {
     "name": "stderr",
     "output_type": "stream",
     "text": [
      "WARNING:absl:Found untraced functions such as lstm_cell_1_layer_call_fn, lstm_cell_1_layer_call_and_return_conditional_losses while saving (showing 2 of 2). These functions will not be directly callable after loading.\n"
     ]
    },
    {
     "name": "stdout",
     "output_type": "stream",
     "text": [
      "INFO:tensorflow:Assets written to: model4\\assets\n"
     ]
    },
    {
     "name": "stderr",
     "output_type": "stream",
     "text": [
      "INFO:tensorflow:Assets written to: model4\\assets\n"
     ]
    },
    {
     "name": "stdout",
     "output_type": "stream",
     "text": [
      "69/69 [==============================] - 3s 44ms/step - loss: 14.0976 - root_mean_squared_error: 3.7547 - val_loss: 5.7130 - val_root_mean_squared_error: 2.3902\n",
      "Epoch 30/50\n",
      "60/69 [=========================>....] - ETA: 0s - loss: 12.2905 - root_mean_squared_error: 3.5058"
     ]
    },
    {
     "name": "stderr",
     "output_type": "stream",
     "text": [
      "WARNING:absl:Found untraced functions such as lstm_cell_1_layer_call_fn, lstm_cell_1_layer_call_and_return_conditional_losses while saving (showing 2 of 2). These functions will not be directly callable after loading.\n"
     ]
    },
    {
     "name": "stdout",
     "output_type": "stream",
     "text": [
      "INFO:tensorflow:Assets written to: model4\\assets\n"
     ]
    },
    {
     "name": "stderr",
     "output_type": "stream",
     "text": [
      "INFO:tensorflow:Assets written to: model4\\assets\n"
     ]
    },
    {
     "name": "stdout",
     "output_type": "stream",
     "text": [
      "69/69 [==============================] - 3s 45ms/step - loss: 12.6582 - root_mean_squared_error: 3.5578 - val_loss: 4.5255 - val_root_mean_squared_error: 2.1273\n",
      "Epoch 31/50\n",
      "69/69 [==============================] - ETA: 0s - loss: 11.3437 - root_mean_squared_error: 3.3680"
     ]
    },
    {
     "name": "stderr",
     "output_type": "stream",
     "text": [
      "WARNING:absl:Found untraced functions such as lstm_cell_1_layer_call_fn, lstm_cell_1_layer_call_and_return_conditional_losses while saving (showing 2 of 2). These functions will not be directly callable after loading.\n"
     ]
    },
    {
     "name": "stdout",
     "output_type": "stream",
     "text": [
      "INFO:tensorflow:Assets written to: model4\\assets\n"
     ]
    },
    {
     "name": "stderr",
     "output_type": "stream",
     "text": [
      "INFO:tensorflow:Assets written to: model4\\assets\n"
     ]
    },
    {
     "name": "stdout",
     "output_type": "stream",
     "text": [
      "69/69 [==============================] - 3s 42ms/step - loss: 11.3437 - root_mean_squared_error: 3.3680 - val_loss: 3.6222 - val_root_mean_squared_error: 1.9032\n",
      "Epoch 32/50\n",
      "66/69 [===========================>..] - ETA: 0s - loss: 10.0182 - root_mean_squared_error: 3.1652"
     ]
    },
    {
     "name": "stderr",
     "output_type": "stream",
     "text": [
      "WARNING:absl:Found untraced functions such as lstm_cell_1_layer_call_fn, lstm_cell_1_layer_call_and_return_conditional_losses while saving (showing 2 of 2). These functions will not be directly callable after loading.\n"
     ]
    },
    {
     "name": "stdout",
     "output_type": "stream",
     "text": [
      "INFO:tensorflow:Assets written to: model4\\assets\n"
     ]
    },
    {
     "name": "stderr",
     "output_type": "stream",
     "text": [
      "INFO:tensorflow:Assets written to: model4\\assets\n"
     ]
    },
    {
     "name": "stdout",
     "output_type": "stream",
     "text": [
      "69/69 [==============================] - 3s 44ms/step - loss: 10.1750 - root_mean_squared_error: 3.1898 - val_loss: 2.9870 - val_root_mean_squared_error: 1.7283\n",
      "Epoch 33/50\n",
      "67/69 [============================>.] - ETA: 0s - loss: 9.0853 - root_mean_squared_error: 3.0142"
     ]
    },
    {
     "name": "stderr",
     "output_type": "stream",
     "text": [
      "WARNING:absl:Found untraced functions such as lstm_cell_1_layer_call_fn, lstm_cell_1_layer_call_and_return_conditional_losses while saving (showing 2 of 2). These functions will not be directly callable after loading.\n"
     ]
    },
    {
     "name": "stdout",
     "output_type": "stream",
     "text": [
      "INFO:tensorflow:Assets written to: model4\\assets\n"
     ]
    },
    {
     "name": "stderr",
     "output_type": "stream",
     "text": [
      "INFO:tensorflow:Assets written to: model4\\assets\n"
     ]
    },
    {
     "name": "stdout",
     "output_type": "stream",
     "text": [
      "69/69 [==============================] - 3s 42ms/step - loss: 9.0800 - root_mean_squared_error: 3.0133 - val_loss: 2.5985 - val_root_mean_squared_error: 1.6120\n",
      "Epoch 34/50\n",
      "66/69 [===========================>..] - ETA: 0s - loss: 7.9718 - root_mean_squared_error: 2.8234"
     ]
    },
    {
     "name": "stderr",
     "output_type": "stream",
     "text": [
      "WARNING:absl:Found untraced functions such as lstm_cell_1_layer_call_fn, lstm_cell_1_layer_call_and_return_conditional_losses while saving (showing 2 of 2). These functions will not be directly callable after loading.\n"
     ]
    },
    {
     "name": "stdout",
     "output_type": "stream",
     "text": [
      "INFO:tensorflow:Assets written to: model4\\assets\n"
     ]
    },
    {
     "name": "stderr",
     "output_type": "stream",
     "text": [
      "INFO:tensorflow:Assets written to: model4\\assets\n"
     ]
    },
    {
     "name": "stdout",
     "output_type": "stream",
     "text": [
      "69/69 [==============================] - 3s 40ms/step - loss: 8.1189 - root_mean_squared_error: 2.8494 - val_loss: 2.3314 - val_root_mean_squared_error: 1.5269\n",
      "Epoch 35/50\n",
      "69/69 [==============================] - 0s 6ms/step - loss: 7.2617 - root_mean_squared_error: 2.6948 - val_loss: 2.3984 - val_root_mean_squared_error: 1.5487\n",
      "Epoch 36/50\n",
      "69/69 [==============================] - 0s 5ms/step - loss: 6.5021 - root_mean_squared_error: 2.5499 - val_loss: 2.5403 - val_root_mean_squared_error: 1.5938\n",
      "Epoch 37/50\n",
      "69/69 [==============================] - 0s 5ms/step - loss: 5.8254 - root_mean_squared_error: 2.4136 - val_loss: 2.6359 - val_root_mean_squared_error: 1.6236\n",
      "Epoch 38/50\n",
      "69/69 [==============================] - 0s 5ms/step - loss: 5.2383 - root_mean_squared_error: 2.2887 - val_loss: 3.0084 - val_root_mean_squared_error: 1.7345\n",
      "Epoch 39/50\n",
      "69/69 [==============================] - 0s 5ms/step - loss: 4.7285 - root_mean_squared_error: 2.1745 - val_loss: 3.0409 - val_root_mean_squared_error: 1.7438\n",
      "Epoch 40/50\n",
      "69/69 [==============================] - 0s 5ms/step - loss: 4.2791 - root_mean_squared_error: 2.0686 - val_loss: 3.1584 - val_root_mean_squared_error: 1.7772\n",
      "Epoch 41/50\n",
      "69/69 [==============================] - 0s 5ms/step - loss: 3.8765 - root_mean_squared_error: 1.9689 - val_loss: 2.7191 - val_root_mean_squared_error: 1.6490\n",
      "Epoch 42/50\n",
      "69/69 [==============================] - 0s 5ms/step - loss: 3.5355 - root_mean_squared_error: 1.8803 - val_loss: 2.7023 - val_root_mean_squared_error: 1.6439\n",
      "Epoch 43/50\n",
      "69/69 [==============================] - 0s 6ms/step - loss: 3.2367 - root_mean_squared_error: 1.7991 - val_loss: 2.7607 - val_root_mean_squared_error: 1.6615\n",
      "Epoch 44/50\n",
      "69/69 [==============================] - 0s 5ms/step - loss: 2.9741 - root_mean_squared_error: 1.7246 - val_loss: 2.7502 - val_root_mean_squared_error: 1.6584\n",
      "Epoch 45/50\n",
      "69/69 [==============================] - 0s 5ms/step - loss: 2.7459 - root_mean_squared_error: 1.6571 - val_loss: 2.6479 - val_root_mean_squared_error: 1.6272\n",
      "Epoch 46/50\n",
      "69/69 [==============================] - 0s 5ms/step - loss: 2.5482 - root_mean_squared_error: 1.5963 - val_loss: 2.9658 - val_root_mean_squared_error: 1.7222\n",
      "Epoch 47/50\n",
      "69/69 [==============================] - 0s 4ms/step - loss: 2.3778 - root_mean_squared_error: 1.5420 - val_loss: 2.8460 - val_root_mean_squared_error: 1.6870\n",
      "Epoch 48/50\n",
      "69/69 [==============================] - 0s 5ms/step - loss: 2.2270 - root_mean_squared_error: 1.4923 - val_loss: 3.1674 - val_root_mean_squared_error: 1.7797\n",
      "Epoch 49/50\n",
      "69/69 [==============================] - 0s 6ms/step - loss: 2.1044 - root_mean_squared_error: 1.4507 - val_loss: 2.5860 - val_root_mean_squared_error: 1.6081\n",
      "Epoch 50/50\n",
      "69/69 [==============================] - 0s 6ms/step - loss: 1.9786 - root_mean_squared_error: 1.4066 - val_loss: 2.3373 - val_root_mean_squared_error: 1.5288\n"
     ]
    },
    {
     "data": {
      "text/plain": [
       "<keras.callbacks.History at 0x19ba8adf4f0>"
      ]
     },
     "execution_count": 56,
     "metadata": {},
     "output_type": "execute_result"
    }
   ],
   "source": [
    "model4.fit(X2_train, y2_train, validation_data=(X2_val, y2_val), epochs=50, callbacks=[cp4])"
   ]
  },
  {
   "cell_type": "code",
   "execution_count": null,
   "metadata": {},
   "outputs": [],
   "source": []
  }
 ],
 "metadata": {
  "kernelspec": {
   "display_name": ".venv",
   "language": "python",
   "name": "python3"
  },
  "language_info": {
   "codemirror_mode": {
    "name": "ipython",
    "version": 3
   },
   "file_extension": ".py",
   "mimetype": "text/x-python",
   "name": "python",
   "nbconvert_exporter": "python",
   "pygments_lexer": "ipython3",
   "version": "3.9.0"
  }
 },
 "nbformat": 4,
 "nbformat_minor": 2
}
