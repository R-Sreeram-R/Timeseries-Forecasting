{
 "cells": [
  {
   "cell_type": "code",
   "execution_count": 1,
   "metadata": {},
   "outputs": [],
   "source": [
    "import pandas as pd\n",
    "import matplotlib.pyplot as plt\n",
    "import numpy as np"
   ]
  },
  {
   "cell_type": "code",
   "execution_count": 32,
   "metadata": {},
   "outputs": [],
   "source": [
    "df = pd.read_csv('Global_Data.csv')\n",
    "corr_matrix = df.corr()"
   ]
  },
  {
   "cell_type": "code",
   "execution_count": 33,
   "metadata": {},
   "outputs": [],
   "source": [
    "start_date = '02-01-2018'\n",
    "end_date = '29-07-2022'\n",
    "\n",
    "start_date = pd.to_datetime(start_date, format='%d-%m-%Y')\n",
    "end_date = pd.to_datetime(end_date, format='%d-%m-%Y')"
   ]
  },
  {
   "cell_type": "code",
   "execution_count": 34,
   "metadata": {},
   "outputs": [],
   "source": [
    "date_range = pd.date_range(start=start_date,periods=len(df),  freq='D')"
   ]
  },
  {
   "cell_type": "code",
   "execution_count": 35,
   "metadata": {},
   "outputs": [],
   "source": [
    "df.insert(0, 'Date', date_range)\n"
   ]
  },
  {
   "cell_type": "code",
   "execution_count": 7,
   "metadata": {},
   "outputs": [
    {
     "data": {
      "text/plain": [
       "Date            0\n",
       "BTC           245\n",
       "ETH           245\n",
       "USDT            3\n",
       "XRP           245\n",
       "USA           462\n",
       "CAN           462\n",
       "UK            461\n",
       "FRANCE        461\n",
       "SWISS         461\n",
       "GERM          461\n",
       "BRAZIL        462\n",
       "MEX           462\n",
       "CHILE         462\n",
       "PERU          462\n",
       "COLOMBIA      462\n",
       "SAUDI         461\n",
       "SAFRICA       462\n",
       "UAE           231\n",
       "QATAR         231\n",
       "KUWAIT        231\n",
       "JAPAN         460\n",
       "CHINA         460\n",
       "AUSTRALIA     461\n",
       "TAIWAN        460\n",
       "KOREA         460\n",
       "REIT          460\n",
       "DXY           462\n",
       "ENERGY        500\n",
       "AGRI          500\n",
       "PRECIOUS      500\n",
       "INDUSTRIAL    500\n",
       "SUKUK         467\n",
       "SUSTAIN       461\n",
       "GREENB        463\n",
       "dtype: int64"
      ]
     },
     "execution_count": 7,
     "metadata": {},
     "output_type": "execute_result"
    }
   ],
   "source": [
    "df.apply(pd.isnull).sum()"
   ]
  },
  {
   "cell_type": "code",
   "execution_count": 36,
   "metadata": {},
   "outputs": [],
   "source": [
    "df_filled = df.interpolate()"
   ]
  },
  {
   "cell_type": "code",
   "execution_count": 37,
   "metadata": {},
   "outputs": [],
   "source": [
    "column_names = df_filled.columns\n",
    "df= df_filled"
   ]
  },
  {
   "cell_type": "code",
   "execution_count": 38,
   "metadata": {},
   "outputs": [
    {
     "data": {
      "text/html": [
       "<div>\n",
       "<style scoped>\n",
       "    .dataframe tbody tr th:only-of-type {\n",
       "        vertical-align: middle;\n",
       "    }\n",
       "\n",
       "    .dataframe tbody tr th {\n",
       "        vertical-align: top;\n",
       "    }\n",
       "\n",
       "    .dataframe thead th {\n",
       "        text-align: right;\n",
       "    }\n",
       "</style>\n",
       "<table border=\"1\" class=\"dataframe\">\n",
       "  <thead>\n",
       "    <tr style=\"text-align: right;\">\n",
       "      <th></th>\n",
       "      <th>Date</th>\n",
       "      <th>BTC</th>\n",
       "      <th>ETH</th>\n",
       "      <th>USDT</th>\n",
       "      <th>XRP</th>\n",
       "      <th>USA</th>\n",
       "      <th>CAN</th>\n",
       "      <th>UK</th>\n",
       "      <th>FRANCE</th>\n",
       "      <th>SWISS</th>\n",
       "      <th>...</th>\n",
       "      <th>KOREA</th>\n",
       "      <th>REIT</th>\n",
       "      <th>DXY</th>\n",
       "      <th>ENERGY</th>\n",
       "      <th>AGRI</th>\n",
       "      <th>PRECIOUS</th>\n",
       "      <th>INDUSTRIAL</th>\n",
       "      <th>SUKUK</th>\n",
       "      <th>SUSTAIN</th>\n",
       "      <th>GREENB</th>\n",
       "    </tr>\n",
       "  </thead>\n",
       "  <tbody>\n",
       "    <tr>\n",
       "      <th>0</th>\n",
       "      <td>2018-01-02</td>\n",
       "      <td>13444.900000</td>\n",
       "      <td>752.46</td>\n",
       "      <td>1.010000</td>\n",
       "      <td>2.050000</td>\n",
       "      <td>2544.580</td>\n",
       "      <td>1791.593</td>\n",
       "      <td>1255.807</td>\n",
       "      <td>1939.395</td>\n",
       "      <td>5503.285</td>\n",
       "      <td>...</td>\n",
       "      <td>554.164</td>\n",
       "      <td>1588.421373</td>\n",
       "      <td>NaN</td>\n",
       "      <td>NaN</td>\n",
       "      <td>NaN</td>\n",
       "      <td>NaN</td>\n",
       "      <td>NaN</td>\n",
       "      <td>NaN</td>\n",
       "      <td>NaN</td>\n",
       "      <td>NaN</td>\n",
       "    </tr>\n",
       "    <tr>\n",
       "      <th>1</th>\n",
       "      <td>2018-01-03</td>\n",
       "      <td>14754.100000</td>\n",
       "      <td>858.78</td>\n",
       "      <td>1.020000</td>\n",
       "      <td>2.190000</td>\n",
       "      <td>2565.608</td>\n",
       "      <td>1807.276</td>\n",
       "      <td>1254.183</td>\n",
       "      <td>1938.353</td>\n",
       "      <td>5516.304</td>\n",
       "      <td>...</td>\n",
       "      <td>561.255</td>\n",
       "      <td>1581.589857</td>\n",
       "      <td>91.872</td>\n",
       "      <td>210.06</td>\n",
       "      <td>284.50</td>\n",
       "      <td>1725.27</td>\n",
       "      <td>393.92</td>\n",
       "      <td>127.32</td>\n",
       "      <td>1526.41</td>\n",
       "      <td>138.02</td>\n",
       "    </tr>\n",
       "    <tr>\n",
       "      <th>2</th>\n",
       "      <td>2018-01-04</td>\n",
       "      <td>15156.600000</td>\n",
       "      <td>942.01</td>\n",
       "      <td>1.010000</td>\n",
       "      <td>2.730000</td>\n",
       "      <td>2582.160</td>\n",
       "      <td>1811.935</td>\n",
       "      <td>1251.570</td>\n",
       "      <td>1949.120</td>\n",
       "      <td>5538.526</td>\n",
       "      <td>...</td>\n",
       "      <td>562.856</td>\n",
       "      <td>1582.679676</td>\n",
       "      <td>92.162</td>\n",
       "      <td>213.70</td>\n",
       "      <td>285.10</td>\n",
       "      <td>1728.73</td>\n",
       "      <td>389.68</td>\n",
       "      <td>127.44</td>\n",
       "      <td>1533.04</td>\n",
       "      <td>138.09</td>\n",
       "    </tr>\n",
       "    <tr>\n",
       "      <th>3</th>\n",
       "      <td>2018-01-05</td>\n",
       "      <td>15180.100000</td>\n",
       "      <td>940.00</td>\n",
       "      <td>1.020000</td>\n",
       "      <td>2.730000</td>\n",
       "      <td>2592.489</td>\n",
       "      <td>1820.338</td>\n",
       "      <td>1259.210</td>\n",
       "      <td>1985.510</td>\n",
       "      <td>5569.269</td>\n",
       "      <td>...</td>\n",
       "      <td>559.932</td>\n",
       "      <td>1561.484702</td>\n",
       "      <td>91.853</td>\n",
       "      <td>214.02</td>\n",
       "      <td>284.69</td>\n",
       "      <td>1732.38</td>\n",
       "      <td>392.93</td>\n",
       "      <td>127.78</td>\n",
       "      <td>1549.34</td>\n",
       "      <td>138.44</td>\n",
       "    </tr>\n",
       "    <tr>\n",
       "      <th>4</th>\n",
       "      <td>2018-01-06</td>\n",
       "      <td>15529.466667</td>\n",
       "      <td>998.60</td>\n",
       "      <td>1.012333</td>\n",
       "      <td>2.746667</td>\n",
       "      <td>2610.524</td>\n",
       "      <td>1833.096</td>\n",
       "      <td>1264.804</td>\n",
       "      <td>1999.127</td>\n",
       "      <td>5597.080</td>\n",
       "      <td>...</td>\n",
       "      <td>568.514</td>\n",
       "      <td>1564.553810</td>\n",
       "      <td>91.949</td>\n",
       "      <td>212.03</td>\n",
       "      <td>283.47</td>\n",
       "      <td>1733.37</td>\n",
       "      <td>387.82</td>\n",
       "      <td>127.74</td>\n",
       "      <td>1561.40</td>\n",
       "      <td>138.24</td>\n",
       "    </tr>\n",
       "  </tbody>\n",
       "</table>\n",
       "<p>5 rows × 35 columns</p>\n",
       "</div>"
      ],
      "text/plain": [
       "        Date           BTC     ETH      USDT       XRP       USA       CAN  \\\n",
       "0 2018-01-02  13444.900000  752.46  1.010000  2.050000  2544.580  1791.593   \n",
       "1 2018-01-03  14754.100000  858.78  1.020000  2.190000  2565.608  1807.276   \n",
       "2 2018-01-04  15156.600000  942.01  1.010000  2.730000  2582.160  1811.935   \n",
       "3 2018-01-05  15180.100000  940.00  1.020000  2.730000  2592.489  1820.338   \n",
       "4 2018-01-06  15529.466667  998.60  1.012333  2.746667  2610.524  1833.096   \n",
       "\n",
       "         UK    FRANCE     SWISS  ...    KOREA         REIT     DXY  ENERGY  \\\n",
       "0  1255.807  1939.395  5503.285  ...  554.164  1588.421373     NaN     NaN   \n",
       "1  1254.183  1938.353  5516.304  ...  561.255  1581.589857  91.872  210.06   \n",
       "2  1251.570  1949.120  5538.526  ...  562.856  1582.679676  92.162  213.70   \n",
       "3  1259.210  1985.510  5569.269  ...  559.932  1561.484702  91.853  214.02   \n",
       "4  1264.804  1999.127  5597.080  ...  568.514  1564.553810  91.949  212.03   \n",
       "\n",
       "     AGRI  PRECIOUS  INDUSTRIAL   SUKUK  SUSTAIN  GREENB  \n",
       "0     NaN       NaN         NaN     NaN      NaN     NaN  \n",
       "1  284.50   1725.27      393.92  127.32  1526.41  138.02  \n",
       "2  285.10   1728.73      389.68  127.44  1533.04  138.09  \n",
       "3  284.69   1732.38      392.93  127.78  1549.34  138.44  \n",
       "4  283.47   1733.37      387.82  127.74  1561.40  138.24  \n",
       "\n",
       "[5 rows x 35 columns]"
      ]
     },
     "execution_count": 38,
     "metadata": {},
     "output_type": "execute_result"
    }
   ],
   "source": [
    "df.head()"
   ]
  },
  {
   "cell_type": "code",
   "execution_count": 39,
   "metadata": {},
   "outputs": [],
   "source": [
    "energy = df['ENERGY']"
   ]
  },
  {
   "cell_type": "code",
   "execution_count": 12,
   "metadata": {},
   "outputs": [],
   "source": []
  },
  {
   "cell_type": "code",
   "execution_count": 40,
   "metadata": {},
   "outputs": [
    {
     "data": {
      "text/plain": [
       "<Axes: >"
      ]
     },
     "execution_count": 40,
     "metadata": {},
     "output_type": "execute_result"
    },
    {
     "data": {
      "image/png": "[encoded data removed]",
      "text/plain": [
       "<Figure size 640x480 with 1 Axes>"
      ]
     },
     "metadata": {},
     "output_type": "display_data"
    }
   ],
   "source": [
    "energy.plot()"
   ]
  },
  {
   "cell_type": "code",
   "execution_count": 18,
   "metadata": {},
   "outputs": [
    {
     "data": {
      "text/plain": [
       "Index(['BTC', 'ETH', 'USDT', 'XRP', 'USA', 'CAN', 'UK', 'FRANCE', 'SWISS',\n",
       "       'GERM', 'BRAZIL', 'MEX', 'CHILE', 'PERU', 'COLOMBIA', 'SAUDI',\n",
       "       'SAFRICA', 'UAE', 'QATAR', 'KUWAIT', 'JAPAN', 'CHINA', 'AUSTRALIA',\n",
       "       'TAIWAN', 'KOREA', 'REIT', 'DXY', 'ENERGY', 'AGRI', 'PRECIOUS',\n",
       "       'INDUSTRIAL', 'SUKUK', 'SUSTAIN', 'GREENB'],\n",
       "      dtype='object')"
      ]
     },
     "execution_count": 18,
     "metadata": {},
     "output_type": "execute_result"
    }
   ],
   "source": [
    "df.columns"
   ]
  },
  {
   "cell_type": "code",
   "execution_count": 41,
   "metadata": {},
   "outputs": [],
   "source": [
    "df_selected = df[['Date','ENERGY']]\n",
    "\n"
   ]
  },
  {
   "cell_type": "code",
   "execution_count": 42,
   "metadata": {},
   "outputs": [
    {
     "data": {
      "text/html": [
       "<div>\n",
       "<style scoped>\n",
       "    .dataframe tbody tr th:only-of-type {\n",
       "        vertical-align: middle;\n",
       "    }\n",
       "\n",
       "    .dataframe tbody tr th {\n",
       "        vertical-align: top;\n",
       "    }\n",
       "\n",
       "    .dataframe thead th {\n",
       "        text-align: right;\n",
       "    }\n",
       "</style>\n",
       "<table border=\"1\" class=\"dataframe\">\n",
       "  <thead>\n",
       "    <tr style=\"text-align: right;\">\n",
       "      <th></th>\n",
       "      <th>Date</th>\n",
       "      <th>ENERGY</th>\n",
       "    </tr>\n",
       "  </thead>\n",
       "  <tbody>\n",
       "    <tr>\n",
       "      <th>0</th>\n",
       "      <td>2018-01-02</td>\n",
       "      <td>NaN</td>\n",
       "    </tr>\n",
       "    <tr>\n",
       "      <th>1</th>\n",
       "      <td>2018-01-03</td>\n",
       "      <td>210.060</td>\n",
       "    </tr>\n",
       "    <tr>\n",
       "      <th>2</th>\n",
       "      <td>2018-01-04</td>\n",
       "      <td>213.700</td>\n",
       "    </tr>\n",
       "    <tr>\n",
       "      <th>3</th>\n",
       "      <td>2018-01-05</td>\n",
       "      <td>214.020</td>\n",
       "    </tr>\n",
       "    <tr>\n",
       "      <th>4</th>\n",
       "      <td>2018-01-06</td>\n",
       "      <td>212.030</td>\n",
       "    </tr>\n",
       "    <tr>\n",
       "      <th>...</th>\n",
       "      <td>...</td>\n",
       "      <td>...</td>\n",
       "    </tr>\n",
       "    <tr>\n",
       "      <th>1607</th>\n",
       "      <td>2022-05-28</td>\n",
       "      <td>405.330</td>\n",
       "    </tr>\n",
       "    <tr>\n",
       "      <th>1608</th>\n",
       "      <td>2022-05-29</td>\n",
       "      <td>405.325</td>\n",
       "    </tr>\n",
       "    <tr>\n",
       "      <th>1609</th>\n",
       "      <td>2022-05-30</td>\n",
       "      <td>405.320</td>\n",
       "    </tr>\n",
       "    <tr>\n",
       "      <th>1610</th>\n",
       "      <td>2022-05-31</td>\n",
       "      <td>405.315</td>\n",
       "    </tr>\n",
       "    <tr>\n",
       "      <th>1611</th>\n",
       "      <td>2022-06-01</td>\n",
       "      <td>405.310</td>\n",
       "    </tr>\n",
       "  </tbody>\n",
       "</table>\n",
       "<p>1612 rows × 2 columns</p>\n",
       "</div>"
      ],
      "text/plain": [
       "           Date   ENERGY\n",
       "0    2018-01-02      NaN\n",
       "1    2018-01-03  210.060\n",
       "2    2018-01-04  213.700\n",
       "3    2018-01-05  214.020\n",
       "4    2018-01-06  212.030\n",
       "...         ...      ...\n",
       "1607 2022-05-28  405.330\n",
       "1608 2022-05-29  405.325\n",
       "1609 2022-05-30  405.320\n",
       "1610 2022-05-31  405.315\n",
       "1611 2022-06-01  405.310\n",
       "\n",
       "[1612 rows x 2 columns]"
      ]
     },
     "execution_count": 42,
     "metadata": {},
     "output_type": "execute_result"
    }
   ],
   "source": [
    "df_selected"
   ]
  },
  {
   "cell_type": "code",
   "execution_count": 43,
   "metadata": {},
   "outputs": [
    {
     "data": {
      "text/plain": [
       "0      2018-01-02\n",
       "1      2018-01-03\n",
       "2      2018-01-04\n",
       "3      2018-01-05\n",
       "4      2018-01-06\n",
       "          ...    \n",
       "1607   2022-05-28\n",
       "1608   2022-05-29\n",
       "1609   2022-05-30\n",
       "1610   2022-05-31\n",
       "1611   2022-06-01\n",
       "Name: Date, Length: 1612, dtype: datetime64[ns]"
      ]
     },
     "execution_count": 43,
     "metadata": {},
     "output_type": "execute_result"
    }
   ],
   "source": [
    "df_selected['Date']"
   ]
  },
  {
   "cell_type": "code",
   "execution_count": 48,
   "metadata": {},
   "outputs": [],
   "source": [
    "import datetime\n",
    "\n",
    "def str_to_datetime(s):\n",
    "    if isinstance(s, pd.Timestamp):\n",
    "        return s\n",
    "    \n",
    "    split = s.split('-')\n",
    "    year, month, day = int(split[0]),int(split[1]),int(split[2])\n",
    "    \n",
    "    return datetime.datetime(year=year, month=month, day=day)\n"
   ]
  },
  {
   "cell_type": "code",
   "execution_count": 45,
   "metadata": {},
   "outputs": [
    {
     "data": {
      "text/plain": [
       "datetime.datetime(2022, 5, 28, 0, 0)"
      ]
     },
     "execution_count": 45,
     "metadata": {},
     "output_type": "execute_result"
    }
   ],
   "source": [
    "datetime_obj = str_to_datetime(\"2022-05-28\")\n",
    "datetime_obj"
   ]
  },
  {
   "cell_type": "code",
   "execution_count": 49,
   "metadata": {},
   "outputs": [],
   "source": [
    "df = df_selected"
   ]
  },
  {
   "cell_type": "code",
   "execution_count": 50,
   "metadata": {},
   "outputs": [
    {
     "name": "stderr",
     "output_type": "stream",
     "text": [
      "C:\\Users\\Sreeram Raghammudi\\AppData\\Local\\Temp\\ipykernel_116648\\3172778012.py:1: SettingWithCopyWarning: \n",
      "A value is trying to be set on a copy of a slice from a DataFrame.\n",
      "Try using .loc[row_indexer,col_indexer] = value instead\n",
      "\n",
      "See the caveats in the documentation: https://pandas.pydata.org/pandas-docs/stable/user_guide/indexing.html#returning-a-view-versus-a-copy\n",
      "  df['Date'] = df['Date'].apply(str_to_datetime)\n"
     ]
    }
   ],
   "source": [
    "df['Date'] = df['Date'].apply(str_to_datetime)"
   ]
  },
  {
   "cell_type": "code",
   "execution_count": 52,
   "metadata": {},
   "outputs": [
    {
     "data": {
      "text/html": [
       "<div>\n",
       "<style scoped>\n",
       "    .dataframe tbody tr th:only-of-type {\n",
       "        vertical-align: middle;\n",
       "    }\n",
       "\n",
       "    .dataframe tbody tr th {\n",
       "        vertical-align: top;\n",
       "    }\n",
       "\n",
       "    .dataframe thead th {\n",
       "        text-align: right;\n",
       "    }\n",
       "</style>\n",
       "<table border=\"1\" class=\"dataframe\">\n",
       "  <thead>\n",
       "    <tr style=\"text-align: right;\">\n",
       "      <th></th>\n",
       "      <th>Date</th>\n",
       "      <th>ENERGY</th>\n",
       "    </tr>\n",
       "  </thead>\n",
       "  <tbody>\n",
       "    <tr>\n",
       "      <th>0</th>\n",
       "      <td>2018-01-02</td>\n",
       "      <td>NaN</td>\n",
       "    </tr>\n",
       "    <tr>\n",
       "      <th>1</th>\n",
       "      <td>2018-01-03</td>\n",
       "      <td>210.060</td>\n",
       "    </tr>\n",
       "    <tr>\n",
       "      <th>2</th>\n",
       "      <td>2018-01-04</td>\n",
       "      <td>213.700</td>\n",
       "    </tr>\n",
       "    <tr>\n",
       "      <th>3</th>\n",
       "      <td>2018-01-05</td>\n",
       "      <td>214.020</td>\n",
       "    </tr>\n",
       "    <tr>\n",
       "      <th>4</th>\n",
       "      <td>2018-01-06</td>\n",
       "      <td>212.030</td>\n",
       "    </tr>\n",
       "    <tr>\n",
       "      <th>...</th>\n",
       "      <td>...</td>\n",
       "      <td>...</td>\n",
       "    </tr>\n",
       "    <tr>\n",
       "      <th>1607</th>\n",
       "      <td>2022-05-28</td>\n",
       "      <td>405.330</td>\n",
       "    </tr>\n",
       "    <tr>\n",
       "      <th>1608</th>\n",
       "      <td>2022-05-29</td>\n",
       "      <td>405.325</td>\n",
       "    </tr>\n",
       "    <tr>\n",
       "      <th>1609</th>\n",
       "      <td>2022-05-30</td>\n",
       "      <td>405.320</td>\n",
       "    </tr>\n",
       "    <tr>\n",
       "      <th>1610</th>\n",
       "      <td>2022-05-31</td>\n",
       "      <td>405.315</td>\n",
       "    </tr>\n",
       "    <tr>\n",
       "      <th>1611</th>\n",
       "      <td>2022-06-01</td>\n",
       "      <td>405.310</td>\n",
       "    </tr>\n",
       "  </tbody>\n",
       "</table>\n",
       "<p>1612 rows × 2 columns</p>\n",
       "</div>"
      ],
      "text/plain": [
       "           Date   ENERGY\n",
       "0    2018-01-02      NaN\n",
       "1    2018-01-03  210.060\n",
       "2    2018-01-04  213.700\n",
       "3    2018-01-05  214.020\n",
       "4    2018-01-06  212.030\n",
       "...         ...      ...\n",
       "1607 2022-05-28  405.330\n",
       "1608 2022-05-29  405.325\n",
       "1609 2022-05-30  405.320\n",
       "1610 2022-05-31  405.315\n",
       "1611 2022-06-01  405.310\n",
       "\n",
       "[1612 rows x 2 columns]"
      ]
     },
     "execution_count": 52,
     "metadata": {},
     "output_type": "execute_result"
    }
   ],
   "source": [
    "df"
   ]
  },
  {
   "cell_type": "code",
   "execution_count": null,
   "metadata": {},
   "outputs": [],
   "source": [
    "df.index = df.pop('Date')"
   ]
  },
  {
   "cell_type": "code",
   "execution_count": 55,
   "metadata": {},
   "outputs": [
    {
     "data": {
      "text/html": [
       "<div>\n",
       "<style scoped>\n",
       "    .dataframe tbody tr th:only-of-type {\n",
       "        vertical-align: middle;\n",
       "    }\n",
       "\n",
       "    .dataframe tbody tr th {\n",
       "        vertical-align: top;\n",
       "    }\n",
       "\n",
       "    .dataframe thead th {\n",
       "        text-align: right;\n",
       "    }\n",
       "</style>\n",
       "<table border=\"1\" class=\"dataframe\">\n",
       "  <thead>\n",
       "    <tr style=\"text-align: right;\">\n",
       "      <th></th>\n",
       "      <th>ENERGY</th>\n",
       "    </tr>\n",
       "    <tr>\n",
       "      <th>Date</th>\n",
       "      <th></th>\n",
       "    </tr>\n",
       "  </thead>\n",
       "  <tbody>\n",
       "    <tr>\n",
       "      <th>2018-01-02</th>\n",
       "      <td>NaN</td>\n",
       "    </tr>\n",
       "    <tr>\n",
       "      <th>2018-01-03</th>\n",
       "      <td>210.060</td>\n",
       "    </tr>\n",
       "    <tr>\n",
       "      <th>2018-01-04</th>\n",
       "      <td>213.700</td>\n",
       "    </tr>\n",
       "    <tr>\n",
       "      <th>2018-01-05</th>\n",
       "      <td>214.020</td>\n",
       "    </tr>\n",
       "    <tr>\n",
       "      <th>2018-01-06</th>\n",
       "      <td>212.030</td>\n",
       "    </tr>\n",
       "    <tr>\n",
       "      <th>...</th>\n",
       "      <td>...</td>\n",
       "    </tr>\n",
       "    <tr>\n",
       "      <th>2022-05-28</th>\n",
       "      <td>405.330</td>\n",
       "    </tr>\n",
       "    <tr>\n",
       "      <th>2022-05-29</th>\n",
       "      <td>405.325</td>\n",
       "    </tr>\n",
       "    <tr>\n",
       "      <th>2022-05-30</th>\n",
       "      <td>405.320</td>\n",
       "    </tr>\n",
       "    <tr>\n",
       "      <th>2022-05-31</th>\n",
       "      <td>405.315</td>\n",
       "    </tr>\n",
       "    <tr>\n",
       "      <th>2022-06-01</th>\n",
       "      <td>405.310</td>\n",
       "    </tr>\n",
       "  </tbody>\n",
       "</table>\n",
       "<p>1612 rows × 1 columns</p>\n",
       "</div>"
      ],
      "text/plain": [
       "             ENERGY\n",
       "Date               \n",
       "2018-01-02      NaN\n",
       "2018-01-03  210.060\n",
       "2018-01-04  213.700\n",
       "2018-01-05  214.020\n",
       "2018-01-06  212.030\n",
       "...             ...\n",
       "2022-05-28  405.330\n",
       "2022-05-29  405.325\n",
       "2022-05-30  405.320\n",
       "2022-05-31  405.315\n",
       "2022-06-01  405.310\n",
       "\n",
       "[1612 rows x 1 columns]"
      ]
     },
     "execution_count": 55,
     "metadata": {},
     "output_type": "execute_result"
    }
   ],
   "source": [
    "df"
   ]
  },
  {
   "cell_type": "code",
   "execution_count": 56,
   "metadata": {},
   "outputs": [
    {
     "data": {
      "text/plain": [
       "[<matplotlib.lines.Line2D at 0x20df82d2490>]"
      ]
     },
     "execution_count": 56,
     "metadata": {},
     "output_type": "execute_result"
    },
    {
     "data": {
      "image/png": "[encoded data removed]",
      "text/plain": [
       "<Figure size 640x480 with 1 Axes>"
      ]
     },
     "metadata": {},
     "output_type": "display_data"
    }
   ],
   "source": [
    "plt.plot(df.index, df['ENERGY'])"
   ]
  },
  {
   "cell_type": "code",
   "execution_count": 58,
   "metadata": {},
   "outputs": [
    {
     "data": {
      "text/html": [
       "<div>\n",
       "<style scoped>\n",
       "    .dataframe tbody tr th:only-of-type {\n",
       "        vertical-align: middle;\n",
       "    }\n",
       "\n",
       "    .dataframe tbody tr th {\n",
       "        vertical-align: top;\n",
       "    }\n",
       "\n",
       "    .dataframe thead th {\n",
       "        text-align: right;\n",
       "    }\n",
       "</style>\n",
       "<table border=\"1\" class=\"dataframe\">\n",
       "  <thead>\n",
       "    <tr style=\"text-align: right;\">\n",
       "      <th></th>\n",
       "      <th>Target Date</th>\n",
       "      <th>Target-3</th>\n",
       "      <th>Target-2</th>\n",
       "      <th>Target-1</th>\n",
       "      <th>Target</th>\n",
       "    </tr>\n",
       "  </thead>\n",
       "  <tbody>\n",
       "    <tr>\n",
       "      <th>0</th>\n",
       "      <td>2021-03-25</td>\n",
       "      <td>204.903333</td>\n",
       "      <td>205.180000</td>\n",
       "      <td>194.460000</td>\n",
       "      <td>204.190000</td>\n",
       "    </tr>\n",
       "    <tr>\n",
       "      <th>1</th>\n",
       "      <td>2021-03-26</td>\n",
       "      <td>205.180000</td>\n",
       "      <td>194.460000</td>\n",
       "      <td>204.190000</td>\n",
       "      <td>196.550000</td>\n",
       "    </tr>\n",
       "    <tr>\n",
       "      <th>2</th>\n",
       "      <td>2021-03-27</td>\n",
       "      <td>194.460000</td>\n",
       "      <td>204.190000</td>\n",
       "      <td>196.550000</td>\n",
       "      <td>204.100000</td>\n",
       "    </tr>\n",
       "    <tr>\n",
       "      <th>3</th>\n",
       "      <td>2021-03-28</td>\n",
       "      <td>204.190000</td>\n",
       "      <td>196.550000</td>\n",
       "      <td>204.100000</td>\n",
       "      <td>204.586667</td>\n",
       "    </tr>\n",
       "    <tr>\n",
       "      <th>4</th>\n",
       "      <td>2021-03-29</td>\n",
       "      <td>196.550000</td>\n",
       "      <td>204.100000</td>\n",
       "      <td>204.586667</td>\n",
       "      <td>205.073333</td>\n",
       "    </tr>\n",
       "    <tr>\n",
       "      <th>...</th>\n",
       "      <td>...</td>\n",
       "      <td>...</td>\n",
       "      <td>...</td>\n",
       "      <td>...</td>\n",
       "      <td>...</td>\n",
       "    </tr>\n",
       "    <tr>\n",
       "      <th>359</th>\n",
       "      <td>2022-03-19</td>\n",
       "      <td>320.310000</td>\n",
       "      <td>317.720000</td>\n",
       "      <td>345.430000</td>\n",
       "      <td>349.300000</td>\n",
       "    </tr>\n",
       "    <tr>\n",
       "      <th>360</th>\n",
       "      <td>2022-03-20</td>\n",
       "      <td>317.720000</td>\n",
       "      <td>345.430000</td>\n",
       "      <td>349.300000</td>\n",
       "      <td>356.313333</td>\n",
       "    </tr>\n",
       "    <tr>\n",
       "      <th>361</th>\n",
       "      <td>2022-03-21</td>\n",
       "      <td>345.430000</td>\n",
       "      <td>349.300000</td>\n",
       "      <td>356.313333</td>\n",
       "      <td>363.326667</td>\n",
       "    </tr>\n",
       "    <tr>\n",
       "      <th>362</th>\n",
       "      <td>2022-03-22</td>\n",
       "      <td>349.300000</td>\n",
       "      <td>356.313333</td>\n",
       "      <td>363.326667</td>\n",
       "      <td>370.340000</td>\n",
       "    </tr>\n",
       "    <tr>\n",
       "      <th>363</th>\n",
       "      <td>2022-03-23</td>\n",
       "      <td>356.313333</td>\n",
       "      <td>363.326667</td>\n",
       "      <td>370.340000</td>\n",
       "      <td>370.800000</td>\n",
       "    </tr>\n",
       "  </tbody>\n",
       "</table>\n",
       "<p>364 rows × 5 columns</p>\n",
       "</div>"
      ],
      "text/plain": [
       "    Target Date    Target-3    Target-2    Target-1      Target\n",
       "0    2021-03-25  204.903333  205.180000  194.460000  204.190000\n",
       "1    2021-03-26  205.180000  194.460000  204.190000  196.550000\n",
       "2    2021-03-27  194.460000  204.190000  196.550000  204.100000\n",
       "3    2021-03-28  204.190000  196.550000  204.100000  204.586667\n",
       "4    2021-03-29  196.550000  204.100000  204.586667  205.073333\n",
       "..          ...         ...         ...         ...         ...\n",
       "359  2022-03-19  320.310000  317.720000  345.430000  349.300000\n",
       "360  2022-03-20  317.720000  345.430000  349.300000  356.313333\n",
       "361  2022-03-21  345.430000  349.300000  356.313333  363.326667\n",
       "362  2022-03-22  349.300000  356.313333  363.326667  370.340000\n",
       "363  2022-03-23  356.313333  363.326667  370.340000  370.800000\n",
       "\n",
       "[364 rows x 5 columns]"
      ]
     },
     "execution_count": 58,
     "metadata": {},
     "output_type": "execute_result"
    }
   ],
   "source": [
    "def df_to_windowed_df(dataframe, first_date_str, last_date_str, n=3):\n",
    "  first_date = str_to_datetime(first_date_str)\n",
    "  last_date  = str_to_datetime(last_date_str)\n",
    "\n",
    "  target_date = first_date\n",
    "  \n",
    "  dates = []\n",
    "  X, Y = [], []\n",
    "\n",
    "  last_time = False\n",
    "  while True:\n",
    "    df_subset = dataframe.loc[:target_date].tail(n+1)\n",
    "    \n",
    "    if len(df_subset) != n+1:\n",
    "      print(f'Error: Window of size {n} is too large for date {target_date}')\n",
    "      return\n",
    "\n",
    "    values = df_subset['ENERGY'].to_numpy()\n",
    "    x, y = values[:-1], values[-1]\n",
    "\n",
    "    dates.append(target_date)\n",
    "    X.append(x)\n",
    "    Y.append(y)\n",
    "\n",
    "    next_week = dataframe.loc[target_date:target_date+datetime.timedelta(days=7)]\n",
    "    next_datetime_str = str(next_week.head(2).tail(1).index.values[0])\n",
    "    next_date_str = next_datetime_str.split('T')[0]\n",
    "    year_month_day = next_date_str.split('-')\n",
    "    year, month, day = year_month_day\n",
    "    next_date = datetime.datetime(day=int(day), month=int(month), year=int(year))\n",
    "    \n",
    "    if last_time:\n",
    "      break\n",
    "    \n",
    "    target_date = next_date\n",
    "\n",
    "    if target_date == last_date:\n",
    "      last_time = True\n",
    "    \n",
    "  ret_df = pd.DataFrame({})\n",
    "  ret_df['Target Date'] = dates\n",
    "  \n",
    "  X = np.array(X)\n",
    "  for i in range(0, n):\n",
    "    X[:, i]\n",
    "    ret_df[f'Target-{n-i}'] = X[:, i]\n",
    "  \n",
    "  ret_df['Target'] = Y\n",
    "\n",
    "  return ret_df\n",
    "\n",
    "# Start day second time around: '2021-03-25'\n",
    "windowed_df = df_to_windowed_df(df, \n",
    "                                '2021-03-25', \n",
    "                                '2022-03-23', \n",
    "                                n=3)\n",
    "windowed_df"
   ]
  },
  {
   "cell_type": "code",
   "execution_count": 59,
   "metadata": {},
   "outputs": [
    {
     "data": {
      "text/plain": [
       "((364,), (364, 3, 1), (364,))"
      ]
     },
     "execution_count": 59,
     "metadata": {},
     "output_type": "execute_result"
    },
    {
     "ename": "",
     "evalue": "",
     "output_type": "error",
     "traceback": [
      "\u001b[1;31mThe Kernel crashed while executing code in the the current cell or a previous cell. Please review the code in the cell(s) to identify a possible cause of the failure. Click <a href='https://aka.ms/vscodeJupyterKernelCrash'>here</a> for more info. View Jupyter <a href='command:jupyter.viewOutput'>log</a> for further details."
     ]
    }
   ],
   "source": [
    "def windowed_df_to_date_X_y(windowed_dataframe):\n",
    "  df_as_np = windowed_dataframe.to_numpy()\n",
    "\n",
    "  dates = df_as_np[:, 0]\n",
    "\n",
    "  middle_matrix = df_as_np[:, 1:-1]\n",
    "  X = middle_matrix.reshape((len(dates), middle_matrix.shape[1], 1))\n",
    "\n",
    "  Y = df_as_np[:, -1]\n",
    "\n",
    "  return dates, X.astype(np.float32), Y.astype(np.float32)\n",
    "\n",
    "dates, X, y = windowed_df_to_date_X_y(windowed_df)\n",
    "\n",
    "dates.shape, X.shape, y.shape"
   ]
  },
  {
   "cell_type": "code",
   "execution_count": null,
   "metadata": {},
   "outputs": [],
   "source": []
  }
 ],
 "metadata": {
  "kernelspec": {
   "display_name": ".venv",
   "language": "python",
   "name": "python3"
  },
  "language_info": {
   "codemirror_mode": {
    "name": "ipython",
    "version": 3
   },
   "file_extension": ".py",
   "mimetype": "text/x-python",
   "name": "python",
   "nbconvert_exporter": "python",
   "pygments_lexer": "ipython3",
   "version": "3.9.0"
  }
 },
 "nbformat": 4,
 "nbformat_minor": 2
}
