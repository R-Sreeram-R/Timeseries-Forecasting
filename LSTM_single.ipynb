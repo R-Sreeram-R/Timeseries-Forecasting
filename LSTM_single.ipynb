{
 "cells": [
  {
   "cell_type": "markdown",
   "metadata": {},
   "source": [
    "# Predicting Energy based on some parameter"
   ]
  },
  {
   "cell_type": "code",
   "execution_count": 36,
   "metadata": {},
   "outputs": [],
   "source": [
    "import pandas as pd\n",
    "import matplotlib.pyplot as plt\n",
    "import numpy as np"
   ]
  },
  {
   "cell_type": "code",
   "execution_count": 2,
   "metadata": {},
   "outputs": [],
   "source": [
    "df = pd.read_csv('Global_Data.csv')"
   ]
  },
  {
   "cell_type": "code",
   "execution_count": 3,
   "metadata": {},
   "outputs": [],
   "source": [
    "corr_matrix = df.corr()"
   ]
  },
  {
   "cell_type": "code",
   "execution_count": 4,
   "metadata": {},
   "outputs": [],
   "source": [
    "start_date = '02-01-2018'\n",
    "end_date = '29-07-2022'\n",
    "\n",
    "start_date = pd.to_datetime(start_date, format='%d-%m-%Y')\n",
    "end_date = pd.to_datetime(end_date, format='%d-%m-%Y')"
   ]
  },
  {
   "cell_type": "code",
   "execution_count": 5,
   "metadata": {},
   "outputs": [
    {
     "data": {
      "text/plain": [
       "1612"
      ]
     },
     "execution_count": 5,
     "metadata": {},
     "output_type": "execute_result"
    }
   ],
   "source": [
    "len(df)"
   ]
  },
  {
   "cell_type": "code",
   "execution_count": 9,
   "metadata": {},
   "outputs": [],
   "source": [
    "date_range = pd.date_range(start=start_date,periods=len(df),  freq='D')"
   ]
  },
  {
   "cell_type": "code",
   "execution_count": 10,
   "metadata": {},
   "outputs": [],
   "source": [
    "df.insert(0, 'Date', date_range)"
   ]
  },
  {
   "cell_type": "code",
   "execution_count": 11,
   "metadata": {},
   "outputs": [],
   "source": [
    "df_filled = df.interpolate()"
   ]
  },
  {
   "cell_type": "code",
   "execution_count": 51,
   "metadata": {},
   "outputs": [
    {
     "data": {
      "text/plain": [
       "BTC           0\n",
       "ETH           0\n",
       "USDT          0\n",
       "XRP           0\n",
       "USA           0\n",
       "CAN           0\n",
       "UK            0\n",
       "FRANCE        0\n",
       "SWISS         0\n",
       "GERM          0\n",
       "BRAZIL        0\n",
       "MEX           0\n",
       "CHILE         0\n",
       "PERU          0\n",
       "COLOMBIA      0\n",
       "SAUDI         0\n",
       "SAFRICA       0\n",
       "UAE           0\n",
       "QATAR         0\n",
       "KUWAIT        0\n",
       "JAPAN         0\n",
       "CHINA         0\n",
       "AUSTRALIA     0\n",
       "TAIWAN        0\n",
       "KOREA         0\n",
       "REIT          0\n",
       "DXY           1\n",
       "ENERGY        1\n",
       "AGRI          1\n",
       "PRECIOUS      1\n",
       "INDUSTRIAL    1\n",
       "SUKUK         1\n",
       "SUSTAIN       1\n",
       "GREENB        1\n",
       "dtype: int64"
      ]
     },
     "execution_count": 51,
     "metadata": {},
     "output_type": "execute_result"
    }
   ],
   "source": [
    "df_filled.apply(pd.isnull).sum()"
   ]
  },
  {
   "cell_type": "code",
   "execution_count": 13,
   "metadata": {},
   "outputs": [
    {
     "data": {
      "text/html": [
       "<div>\n",
       "<style scoped>\n",
       "    .dataframe tbody tr th:only-of-type {\n",
       "        vertical-align: middle;\n",
       "    }\n",
       "\n",
       "    .dataframe tbody tr th {\n",
       "        vertical-align: top;\n",
       "    }\n",
       "\n",
       "    .dataframe thead th {\n",
       "        text-align: right;\n",
       "    }\n",
       "</style>\n",
       "<table border=\"1\" class=\"dataframe\">\n",
       "  <thead>\n",
       "    <tr style=\"text-align: right;\">\n",
       "      <th></th>\n",
       "      <th>Date</th>\n",
       "      <th>BTC</th>\n",
       "      <th>ETH</th>\n",
       "      <th>USDT</th>\n",
       "      <th>XRP</th>\n",
       "      <th>USA</th>\n",
       "      <th>CAN</th>\n",
       "      <th>UK</th>\n",
       "      <th>FRANCE</th>\n",
       "      <th>SWISS</th>\n",
       "      <th>...</th>\n",
       "      <th>KOREA</th>\n",
       "      <th>REIT</th>\n",
       "      <th>DXY</th>\n",
       "      <th>ENERGY</th>\n",
       "      <th>AGRI</th>\n",
       "      <th>PRECIOUS</th>\n",
       "      <th>INDUSTRIAL</th>\n",
       "      <th>SUKUK</th>\n",
       "      <th>SUSTAIN</th>\n",
       "      <th>GREENB</th>\n",
       "    </tr>\n",
       "  </thead>\n",
       "  <tbody>\n",
       "    <tr>\n",
       "      <th>0</th>\n",
       "      <td>2018-01-02</td>\n",
       "      <td>13444.900000</td>\n",
       "      <td>752.46</td>\n",
       "      <td>1.010000</td>\n",
       "      <td>2.050000</td>\n",
       "      <td>2544.580</td>\n",
       "      <td>1791.593</td>\n",
       "      <td>1255.807</td>\n",
       "      <td>1939.395</td>\n",
       "      <td>5503.285</td>\n",
       "      <td>...</td>\n",
       "      <td>554.164</td>\n",
       "      <td>1588.421373</td>\n",
       "      <td>NaN</td>\n",
       "      <td>NaN</td>\n",
       "      <td>NaN</td>\n",
       "      <td>NaN</td>\n",
       "      <td>NaN</td>\n",
       "      <td>NaN</td>\n",
       "      <td>NaN</td>\n",
       "      <td>NaN</td>\n",
       "    </tr>\n",
       "    <tr>\n",
       "      <th>1</th>\n",
       "      <td>2018-01-03</td>\n",
       "      <td>14754.100000</td>\n",
       "      <td>858.78</td>\n",
       "      <td>1.020000</td>\n",
       "      <td>2.190000</td>\n",
       "      <td>2565.608</td>\n",
       "      <td>1807.276</td>\n",
       "      <td>1254.183</td>\n",
       "      <td>1938.353</td>\n",
       "      <td>5516.304</td>\n",
       "      <td>...</td>\n",
       "      <td>561.255</td>\n",
       "      <td>1581.589857</td>\n",
       "      <td>91.872</td>\n",
       "      <td>210.06</td>\n",
       "      <td>284.50</td>\n",
       "      <td>1725.27</td>\n",
       "      <td>393.92</td>\n",
       "      <td>127.32</td>\n",
       "      <td>1526.41</td>\n",
       "      <td>138.02</td>\n",
       "    </tr>\n",
       "    <tr>\n",
       "      <th>2</th>\n",
       "      <td>2018-01-04</td>\n",
       "      <td>15156.600000</td>\n",
       "      <td>942.01</td>\n",
       "      <td>1.010000</td>\n",
       "      <td>2.730000</td>\n",
       "      <td>2582.160</td>\n",
       "      <td>1811.935</td>\n",
       "      <td>1251.570</td>\n",
       "      <td>1949.120</td>\n",
       "      <td>5538.526</td>\n",
       "      <td>...</td>\n",
       "      <td>562.856</td>\n",
       "      <td>1582.679676</td>\n",
       "      <td>92.162</td>\n",
       "      <td>213.70</td>\n",
       "      <td>285.10</td>\n",
       "      <td>1728.73</td>\n",
       "      <td>389.68</td>\n",
       "      <td>127.44</td>\n",
       "      <td>1533.04</td>\n",
       "      <td>138.09</td>\n",
       "    </tr>\n",
       "    <tr>\n",
       "      <th>3</th>\n",
       "      <td>2018-01-05</td>\n",
       "      <td>15180.100000</td>\n",
       "      <td>940.00</td>\n",
       "      <td>1.020000</td>\n",
       "      <td>2.730000</td>\n",
       "      <td>2592.489</td>\n",
       "      <td>1820.338</td>\n",
       "      <td>1259.210</td>\n",
       "      <td>1985.510</td>\n",
       "      <td>5569.269</td>\n",
       "      <td>...</td>\n",
       "      <td>559.932</td>\n",
       "      <td>1561.484702</td>\n",
       "      <td>91.853</td>\n",
       "      <td>214.02</td>\n",
       "      <td>284.69</td>\n",
       "      <td>1732.38</td>\n",
       "      <td>392.93</td>\n",
       "      <td>127.78</td>\n",
       "      <td>1549.34</td>\n",
       "      <td>138.44</td>\n",
       "    </tr>\n",
       "    <tr>\n",
       "      <th>4</th>\n",
       "      <td>2018-01-06</td>\n",
       "      <td>15529.466667</td>\n",
       "      <td>998.60</td>\n",
       "      <td>1.012333</td>\n",
       "      <td>2.746667</td>\n",
       "      <td>2610.524</td>\n",
       "      <td>1833.096</td>\n",
       "      <td>1264.804</td>\n",
       "      <td>1999.127</td>\n",
       "      <td>5597.080</td>\n",
       "      <td>...</td>\n",
       "      <td>568.514</td>\n",
       "      <td>1564.553810</td>\n",
       "      <td>91.949</td>\n",
       "      <td>212.03</td>\n",
       "      <td>283.47</td>\n",
       "      <td>1733.37</td>\n",
       "      <td>387.82</td>\n",
       "      <td>127.74</td>\n",
       "      <td>1561.40</td>\n",
       "      <td>138.24</td>\n",
       "    </tr>\n",
       "  </tbody>\n",
       "</table>\n",
       "<p>5 rows × 35 columns</p>\n",
       "</div>"
      ],
      "text/plain": [
       "        Date           BTC     ETH      USDT       XRP       USA       CAN  \\\n",
       "0 2018-01-02  13444.900000  752.46  1.010000  2.050000  2544.580  1791.593   \n",
       "1 2018-01-03  14754.100000  858.78  1.020000  2.190000  2565.608  1807.276   \n",
       "2 2018-01-04  15156.600000  942.01  1.010000  2.730000  2582.160  1811.935   \n",
       "3 2018-01-05  15180.100000  940.00  1.020000  2.730000  2592.489  1820.338   \n",
       "4 2018-01-06  15529.466667  998.60  1.012333  2.746667  2610.524  1833.096   \n",
       "\n",
       "         UK    FRANCE     SWISS  ...    KOREA         REIT     DXY  ENERGY  \\\n",
       "0  1255.807  1939.395  5503.285  ...  554.164  1588.421373     NaN     NaN   \n",
       "1  1254.183  1938.353  5516.304  ...  561.255  1581.589857  91.872  210.06   \n",
       "2  1251.570  1949.120  5538.526  ...  562.856  1582.679676  92.162  213.70   \n",
       "3  1259.210  1985.510  5569.269  ...  559.932  1561.484702  91.853  214.02   \n",
       "4  1264.804  1999.127  5597.080  ...  568.514  1564.553810  91.949  212.03   \n",
       "\n",
       "     AGRI  PRECIOUS  INDUSTRIAL   SUKUK  SUSTAIN  GREENB  \n",
       "0     NaN       NaN         NaN     NaN      NaN     NaN  \n",
       "1  284.50   1725.27      393.92  127.32  1526.41  138.02  \n",
       "2  285.10   1728.73      389.68  127.44  1533.04  138.09  \n",
       "3  284.69   1732.38      392.93  127.78  1549.34  138.44  \n",
       "4  283.47   1733.37      387.82  127.74  1561.40  138.24  \n",
       "\n",
       "[5 rows x 35 columns]"
      ]
     },
     "execution_count": 13,
     "metadata": {},
     "output_type": "execute_result"
    }
   ],
   "source": [
    "df_filled.head()"
   ]
  },
  {
   "cell_type": "code",
   "execution_count": 15,
   "metadata": {},
   "outputs": [],
   "source": [
    "column_names = df_filled.columns"
   ]
  },
  {
   "cell_type": "code",
   "execution_count": 16,
   "metadata": {},
   "outputs": [
    {
     "data": {
      "text/plain": [
       "Index(['Date', 'BTC', 'ETH', 'USDT', 'XRP', 'USA', 'CAN', 'UK', 'FRANCE',\n",
       "       'SWISS', 'GERM', 'BRAZIL', 'MEX', 'CHILE', 'PERU', 'COLOMBIA', 'SAUDI',\n",
       "       'SAFRICA', 'UAE', 'QATAR', 'KUWAIT', 'JAPAN', 'CHINA', 'AUSTRALIA',\n",
       "       'TAIWAN', 'KOREA', 'REIT', 'DXY', 'ENERGY', 'AGRI', 'PRECIOUS',\n",
       "       'INDUSTRIAL', 'SUKUK', 'SUSTAIN', 'GREENB'],\n",
       "      dtype='object')"
      ]
     },
     "execution_count": 16,
     "metadata": {},
     "output_type": "execute_result"
    }
   ],
   "source": [
    "column_names"
   ]
  },
  {
   "cell_type": "code",
   "execution_count": 30,
   "metadata": {},
   "outputs": [],
   "source": [
    "df= df_filled"
   ]
  },
  {
   "cell_type": "code",
   "execution_count": 21,
   "metadata": {},
   "outputs": [],
   "source": []
  },
  {
   "cell_type": "code",
   "execution_count": 34,
   "metadata": {},
   "outputs": [],
   "source": [
    "energy = df['ENERGY']\n"
   ]
  },
  {
   "cell_type": "code",
   "execution_count": 53,
   "metadata": {},
   "outputs": [
    {
     "data": {
      "text/plain": [
       "Date\n",
       "2018-01-03    210.060000\n",
       "2018-01-04    213.700000\n",
       "2018-01-05    214.020000\n",
       "2018-01-06    212.030000\n",
       "2018-01-07    212.183333\n",
       "                 ...    \n",
       "2022-05-28    405.330000\n",
       "2022-05-29    405.325000\n",
       "2022-05-30    405.320000\n",
       "2022-05-31    405.315000\n",
       "2022-06-01    405.310000\n",
       "Name: ENERGY, Length: 1611, dtype: float64"
      ]
     },
     "execution_count": 53,
     "metadata": {},
     "output_type": "execute_result"
    }
   ],
   "source": [
    "energy.dropna()"
   ]
  },
  {
   "cell_type": "code",
   "execution_count": 54,
   "metadata": {},
   "outputs": [
    {
     "data": {
      "text/plain": [
       "<Axes: xlabel='Date'>"
      ]
     },
     "execution_count": 54,
     "metadata": {},
     "output_type": "execute_result"
    },
    {
     "data": {
      "image/png": "[encoded data removed]",
      "text/plain": [
       "<Figure size 640x480 with 1 Axes>"
      ]
     },
     "metadata": {},
     "output_type": "display_data"
    }
   ],
   "source": [
    "energy.plot()"
   ]
  },
  {
   "cell_type": "code",
   "execution_count": 55,
   "metadata": {},
   "outputs": [],
   "source": [
    "def df_to_X_y(df, window_size):\n",
    "    df_as_np = df.to_numpy()\n",
    "\n",
    "    X = []\n",
    "    y = []\n",
    "\n",
    "    for i in range(len(df_as_np) - window_size ):\n",
    "        row = [[a] for a in df_as_np[i:i+5]]\n",
    "\n",
    "        X.append(row)\n",
    "        label = df_as_np[i+5]\n",
    "        y.append(label)\n",
    "\n",
    "    return np.array(X), np.array(y)"
   ]
  },
  {
   "cell_type": "code",
   "execution_count": 56,
   "metadata": {},
   "outputs": [
    {
     "data": {
      "text/plain": [
       "((1607, 5, 1), (1607,))"
      ]
     },
     "execution_count": 56,
     "metadata": {},
     "output_type": "execute_result"
    }
   ],
   "source": [
    "WINDOW_SIZE = 5\n",
    "\n",
    "X, y = df_to_X_y(energy, WINDOW_SIZE)\n",
    "\n",
    "X.shape, y.shape"
   ]
  },
  {
   "cell_type": "code",
   "execution_count": 57,
   "metadata": {},
   "outputs": [],
   "source": [
    "X_train, y_train = X[:1200], y[:1200]\n",
    "X_val, y_val = X[1200:1400], y[1200:1400]\n",
    "X_test, y_test = X[1400:], y[1400:]"
   ]
  },
  {
   "cell_type": "code",
   "execution_count": 58,
   "metadata": {},
   "outputs": [
    {
     "data": {
      "text/plain": [
       "((1200, 5, 1), (1200,), (200, 5, 1), (200,), (207, 5, 1), (207,))"
      ]
     },
     "execution_count": 58,
     "metadata": {},
     "output_type": "execute_result"
    }
   ],
   "source": [
    "X_train.shape, y_train.shape, X_val.shape, y_val.shape, X_test.shape, y_test.shape"
   ]
  },
  {
   "cell_type": "code",
   "execution_count": 45,
   "metadata": {},
   "outputs": [],
   "source": [
    "from tensorflow.keras.models import Sequential\n",
    "from tensorflow.keras.layers import * #Dense, Dropout, Activation, Flatten\n",
    "from tensorflow.keras.callbacks import ModelCheckpoint\n",
    "from tensorflow.keras.losses import MeanSquaredError\n",
    "from tensorflow.keras.metrics import RootMeanSquaredError\n",
    "from tensorflow.keras.optimizers import Adam\n"
   ]
  },
  {
   "cell_type": "code",
   "execution_count": 59,
   "metadata": {},
   "outputs": [
    {
     "name": "stdout",
     "output_type": "stream",
     "text": [
      "Model: \"sequential_2\"\n",
      "_________________________________________________________________\n",
      " Layer (type)                Output Shape              Param #   \n",
      "=================================================================\n",
      " lstm_2 (LSTM)               (None, 64)                16896     \n",
      "                                                                 \n",
      " dense_4 (Dense)             (None, 8)                 520       \n",
      "                                                                 \n",
      " dense_5 (Dense)             (None, 1)                 9         \n",
      "                                                                 \n",
      "=================================================================\n",
      "Total params: 17,425\n",
      "Trainable params: 17,425\n",
      "Non-trainable params: 0\n",
      "_________________________________________________________________\n"
     ]
    }
   ],
   "source": [
    "model1 = Sequential()\n",
    "\n",
    "model1.add(InputLayer((5,1)))\n",
    "model1.add(LSTM(64))\n",
    "model1.add(Dense(8,'relu'))\n",
    "model1.add(Dense(1,'linear'))\n",
    "\n",
    "model1.summary()\n"
   ]
  },
  {
   "cell_type": "code",
   "execution_count": 60,
   "metadata": {},
   "outputs": [],
   "source": [
    "cp = ModelCheckpoint('model1/', save_best_only=True)\n",
    "model1.compile(loss=MeanSquaredError(), optimizer=Adam(learning_rate=0.0001), metrics=[RootMeanSquaredError()])"
   ]
  },
  {
   "cell_type": "code",
   "execution_count": 61,
   "metadata": {},
   "outputs": [
    {
     "name": "stdout",
     "output_type": "stream",
     "text": [
      "Epoch 1/10\n",
      "38/38 [==============================] - 2s 14ms/step - loss: nan - root_mean_squared_error: nan - val_loss: nan - val_root_mean_squared_error: nan\n",
      "Epoch 2/10\n",
      "38/38 [==============================] - 0s 6ms/step - loss: nan - root_mean_squared_error: nan - val_loss: nan - val_root_mean_squared_error: nan\n",
      "Epoch 3/10\n",
      "38/38 [==============================] - 0s 7ms/step - loss: nan - root_mean_squared_error: nan - val_loss: nan - val_root_mean_squared_error: nan\n",
      "Epoch 4/10\n",
      "38/38 [==============================] - 0s 7ms/step - loss: nan - root_mean_squared_error: nan - val_loss: nan - val_root_mean_squared_error: nan\n",
      "Epoch 5/10\n",
      "38/38 [==============================] - 0s 6ms/step - loss: nan - root_mean_squared_error: nan - val_loss: nan - val_root_mean_squared_error: nan\n",
      "Epoch 6/10\n",
      "38/38 [==============================] - 0s 6ms/step - loss: nan - root_mean_squared_error: nan - val_loss: nan - val_root_mean_squared_error: nan\n",
      "Epoch 7/10\n",
      "38/38 [==============================] - 0s 6ms/step - loss: nan - root_mean_squared_error: nan - val_loss: nan - val_root_mean_squared_error: nan\n",
      "Epoch 8/10\n",
      "38/38 [==============================] - 0s 5ms/step - loss: nan - root_mean_squared_error: nan - val_loss: nan - val_root_mean_squared_error: nan\n",
      "Epoch 9/10\n",
      "38/38 [==============================] - 0s 6ms/step - loss: nan - root_mean_squared_error: nan - val_loss: nan - val_root_mean_squared_error: nan\n",
      "Epoch 10/10\n",
      "38/38 [==============================] - 0s 6ms/step - loss: nan - root_mean_squared_error: nan - val_loss: nan - val_root_mean_squared_error: nan\n"
     ]
    },
    {
     "data": {
      "text/plain": [
       "<keras.callbacks.History at 0x253810c1730>"
      ]
     },
     "execution_count": 61,
     "metadata": {},
     "output_type": "execute_result"
    }
   ],
   "source": [
    "model1.fit(X_train, y_train, validation_data=(X_val,y_val), epochs=10, callbacks=[cp])"
   ]
  },
  {
   "cell_type": "code",
   "execution_count": null,
   "metadata": {},
   "outputs": [],
   "source": []
  }
 ],
 "metadata": {
  "kernelspec": {
   "display_name": ".venv",
   "language": "python",
   "name": "python3"
  },
  "language_info": {
   "codemirror_mode": {
    "name": "ipython",
    "version": 3
   },
   "file_extension": ".py",
   "mimetype": "text/x-python",
   "name": "python",
   "nbconvert_exporter": "python",
   "pygments_lexer": "ipython3",
   "version": "3.9.0"
  }
 },
 "nbformat": 4,
 "nbformat_minor": 2
}
